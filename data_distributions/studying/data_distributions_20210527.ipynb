{
 "cells": [
  {
   "cell_type": "markdown",
   "id": "strange-musical",
   "metadata": {},
   "source": [
    "**D1DAE: Análise Estatística para Ciência de Dados (2021.1)** <br/>\n",
    "IFSP Campinas\n",
    "\n",
    "Profs: Ricardo Sovat, Samuel Martins <br/><br/>\n",
    "\n",
    "<a rel=\"license\" href=\"http://creativecommons.org/licenses/by-nc-sa/4.0/\"><img alt=\"Creative Commons License\" style=\"border-width:0\" src=\"https://i.creativecommons.org/l/by-nc-sa/4.0/88x31.png\" /></a><br />This work is licensed under a <a rel=\"license\" href=\"http://creativecommons.org/licenses/by-nc-sa/4.0/\">Creative Commons Attribution-NonCommercial-ShareAlike 4.0 International License</a>."
   ]
  },
  {
   "cell_type": "code",
   "execution_count": 34,
   "id": "small-reviewer",
   "metadata": {},
   "outputs": [],
   "source": [
    "import pandas as pd\n",
    "import seaborn as sns\n",
    "import matplotlib.pyplot as plt\n",
    "import numpy as np"
   ]
  },
  {
   "cell_type": "markdown",
   "id": "5ada2457-787e-4fa5-9be2-ed84f6aa4230",
   "metadata": {},
   "source": [
    "# 1. Probability Distributions"
   ]
  },
  {
   "cell_type": "markdown",
   "id": "sudden-aircraft",
   "metadata": {},
   "source": [
    "## 1.2. Binomial Distribution"
   ]
  },
  {
   "cell_type": "markdown",
   "id": "proved-demand",
   "metadata": {},
   "source": [
    "<img src=\"../imgs/binomial_distribution_ex.png\" width=500/>"
   ]
  },
  {
   "cell_type": "markdown",
   "id": "realistic-watts",
   "metadata": {},
   "source": [
    "### Exercise 1"
   ]
  },
  {
   "cell_type": "markdown",
   "id": "formal-fifteen",
   "metadata": {},
   "source": [
    "In an admission test for the Data Science specialization, **10 questions** with  **3 possible choices** in each question.<br/>\n",
    "**Each question scores equally**. Suppose that a candidate have not been prepared for the test. She decided to guess all answers.<br/>\n",
    "Let the test has the **maximum score of 10** and **cut-off score of 5** for being approved for the next stage.<br/>\n",
    "\n",
    "Provide the _probability_ that this candidate will **get 5 questions right**, and the _probability_ that she will **advance to the next stage of the test**.<br/><br/>\n"
   ]
  },
  {
   "cell_type": "markdown",
   "id": "willing-convenience",
   "metadata": {},
   "source": [
    "#### Is this a Binomial experiment?"
   ]
  },
  {
   "cell_type": "markdown",
   "id": "impressed-hepatitis",
   "metadata": {},
   "source": [
    "#### 1. How many trials (n)? (Fixed number of identical trials)"
   ]
  },
  {
   "cell_type": "code",
   "execution_count": 35,
   "id": "tracked-alliance",
   "metadata": {},
   "outputs": [
    {
     "data": {
      "text/plain": [
       "10"
      ]
     },
     "execution_count": 35,
     "metadata": {},
     "output_type": "execute_result"
    }
   ],
   "source": [
    "n = 10\n",
    "n"
   ]
  },
  {
   "cell_type": "markdown",
   "id": "suffering-locking",
   "metadata": {},
   "source": [
    "#### 2. Are the trials independent?"
   ]
  },
  {
   "cell_type": "markdown",
   "id": "modular-night",
   "metadata": {},
   "source": [
    "Yes. One option chosen for a given question does not influence the chosen answer for the other questions."
   ]
  },
  {
   "cell_type": "markdown",
   "id": "fifty-radius",
   "metadata": {},
   "source": [
    "#### 3. Are only two outcomes possible per trial?"
   ]
  },
  {
   "cell_type": "markdown",
   "id": "early-strand",
   "metadata": {},
   "source": [
    "Yes. The candidate has two possibilities: **hit** or **miss** the question."
   ]
  },
  {
   "cell_type": "markdown",
   "id": "compressed-chile",
   "metadata": {},
   "source": [
    "#### 4. What is the probability of success (p) and failure (q)?"
   ]
  },
  {
   "cell_type": "code",
   "execution_count": 36,
   "id": "intermediate-lodge",
   "metadata": {},
   "outputs": [],
   "source": [
    "# question == 'trial'\n",
    "n_choices_per_question = 3"
   ]
  },
  {
   "cell_type": "code",
   "execution_count": 37,
   "id": "vocal-moral",
   "metadata": {},
   "outputs": [
    {
     "data": {
      "text/plain": [
       "0.3333333333333333"
      ]
     },
     "execution_count": 37,
     "metadata": {},
     "output_type": "execute_result"
    }
   ],
   "source": [
    "# Probabilidade de acertar uma questão\n",
    "p = 1 / n_choices_per_question\n",
    "p"
   ]
  },
  {
   "cell_type": "code",
   "execution_count": 38,
   "id": "early-dispute",
   "metadata": {},
   "outputs": [
    {
     "data": {
      "text/plain": [
       "0.6666666666666667"
      ]
     },
     "execution_count": 38,
     "metadata": {},
     "output_type": "execute_result"
    }
   ],
   "source": [
    "# Probabilidade de errar uma questão\n",
    "q = 1 -p\n",
    "q"
   ]
  },
  {
   "cell_type": "markdown",
   "id": "threatened-sunglasses",
   "metadata": {},
   "source": [
    "Therefore, it is a **Binomial experiment**."
   ]
  },
  {
   "cell_type": "markdown",
   "id": "aerial-corner",
   "metadata": {},
   "source": [
    "#### What is the total number of events that you want to get successes (x)? "
   ]
  },
  {
   "cell_type": "code",
   "execution_count": 39,
   "id": "equipped-spice",
   "metadata": {},
   "outputs": [
    {
     "data": {
      "text/plain": [
       "5"
      ]
     },
     "execution_count": 39,
     "metadata": {},
     "output_type": "execute_result"
    }
   ],
   "source": [
    "# Queremos 5 questões corretas entre as 10 respondidas\n",
    "x = 5\n",
    "x"
   ]
  },
  {
   "cell_type": "markdown",
   "id": "streaming-steel",
   "metadata": {},
   "source": [
    "<br/>\n",
    "\n",
    "#### Q1. What is the _probability_ that the candidate will get 5 questions right?"
   ]
  },
  {
   "cell_type": "markdown",
   "id": "recreational-jerusalem",
   "metadata": {},
   "source": [
    "##### Solution 1"
   ]
  },
  {
   "cell_type": "code",
   "execution_count": 40,
   "id": "final-boards",
   "metadata": {},
   "outputs": [],
   "source": [
    "from scipy.special import comb"
   ]
  },
  {
   "cell_type": "code",
   "execution_count": 41,
   "id": "reflected-prospect",
   "metadata": {},
   "outputs": [
    {
     "data": {
      "text/plain": [
       "0.13656454808718185"
      ]
     },
     "execution_count": 41,
     "metadata": {},
     "output_type": "execute_result"
    }
   ],
   "source": [
    "probability = comb(n, x) * (p ** x) * (q ** (n - x))\n",
    "probability"
   ]
  },
  {
   "cell_type": "markdown",
   "id": "great-daughter",
   "metadata": {},
   "source": [
    "##### Solution 2"
   ]
  },
  {
   "cell_type": "code",
   "execution_count": 42,
   "id": "purple-animal",
   "metadata": {},
   "outputs": [],
   "source": [
    "from scipy.stats import binom"
   ]
  },
  {
   "cell_type": "code",
   "execution_count": 43,
   "id": "deadly-container",
   "metadata": {},
   "outputs": [
    {
     "data": {
      "text/plain": [
       "0.13656454808718183"
      ]
     },
     "execution_count": 43,
     "metadata": {},
     "output_type": "execute_result"
    }
   ],
   "source": [
    "probability = binom.pmf(x, n, p)\n",
    "probability"
   ]
  },
  {
   "cell_type": "markdown",
   "id": "mobile-profile",
   "metadata": {},
   "source": [
    "<br/>\n",
    "\n",
    "#### Q2. How likely is the candidate to pass the test? (What is the _probability_ for that?)\n",
    "<center><img src=\"../imgs/binomial_distribution_ex_Q2.png\" width=500/></center>"
   ]
  },
  {
   "cell_type": "markdown",
   "id": "clear-behavior",
   "metadata": {},
   "source": [
    "##### Solution 1"
   ]
  },
  {
   "cell_type": "markdown",
   "id": "d89bd58d-57bf-4070-80b6-68b376dbd22d",
   "metadata": {},
   "source": [
    "*Somando todas as probabilidades (PMF)*"
   ]
  },
  {
   "cell_type": "code",
   "execution_count": 44,
   "id": "natural-outreach",
   "metadata": {},
   "outputs": [
    {
     "data": {
      "text/plain": [
       "0.2131280800690952"
      ]
     },
     "execution_count": 44,
     "metadata": {},
     "output_type": "execute_result"
    }
   ],
   "source": [
    "probability = 0.0\n",
    "\n",
    "# Para cada número de questões acertadas possivel desejado\n",
    "for x in range(5, 11):\n",
    "    probability += binom.pmf(x, n, p)\n",
    "\n",
    "probability"
   ]
  },
  {
   "cell_type": "markdown",
   "id": "decimal-picking",
   "metadata": {},
   "source": [
    "##### Solution 2"
   ]
  },
  {
   "cell_type": "markdown",
   "id": "01a2ee3c-8d28-45c9-bb7a-8a0ec0151e84",
   "metadata": {},
   "source": [
    "*Usando a probabilidade acumulada (CDF)*"
   ]
  },
  {
   "cell_type": "markdown",
   "id": "aef8c8dd-fb68-49bb-bec4-69cd1bdebc86",
   "metadata": {},
   "source": [
    "$P(x \\geq 5) = 1 - P(x \\leq 4)$"
   ]
  },
  {
   "cell_type": "code",
   "execution_count": 45,
   "id": "fitting-mobility",
   "metadata": {},
   "outputs": [
    {
     "data": {
      "text/plain": [
       "0.21312808006909512"
      ]
     },
     "execution_count": 45,
     "metadata": {},
     "output_type": "execute_result"
    }
   ],
   "source": [
    "1 - binom.cdf(4, n, p)"
   ]
  },
  {
   "cell_type": "markdown",
   "id": "opposed-military",
   "metadata": {},
   "source": [
    "##### Solution 3\n",
    "https://docs.scipy.org/doc/scipy/reference/generated/scipy.stats.binom.html"
   ]
  },
  {
   "cell_type": "code",
   "execution_count": 46,
   "id": "early-latest",
   "metadata": {},
   "outputs": [
    {
     "data": {
      "text/plain": [
       "0.21312808006909517"
      ]
     },
     "execution_count": 46,
     "metadata": {},
     "output_type": "execute_result"
    }
   ],
   "source": [
    "# A função abaixo é exatamente igual a:\n",
    "# 1 - binom.cdf(4, n, p)\n",
    "binom.sf(4, n, p)"
   ]
  },
  {
   "cell_type": "markdown",
   "id": "outside-parameter",
   "metadata": {},
   "source": [
    "<br/>\n",
    "\n",
    "### Exercise 2"
   ]
  },
  {
   "cell_type": "markdown",
   "id": "scenic-provision",
   "metadata": {},
   "source": [
    "In the last World Chess Championship, **the proportion of female participants was 60%.** <br/>\n",
    "**The total of teams, with 12 members, in this year's championship is 30.** <br/>\n",
    "According to these information, **how many teams should be formed by 8 women?** <br/><br/>\n",
    "\n"
   ]
  },
  {
   "cell_type": "markdown",
   "id": "considerable-hypothesis",
   "metadata": {},
   "source": [
    "Let's first calculate the probability of a team has 8 women."
   ]
  },
  {
   "cell_type": "markdown",
   "id": "ceramic-dominant",
   "metadata": {},
   "source": [
    "#### 1. How many trials (n)? (Fixed number of identical trials)"
   ]
  },
  {
   "cell_type": "code",
   "execution_count": null,
   "id": "alert-efficiency",
   "metadata": {},
   "outputs": [],
   "source": []
  },
  {
   "cell_type": "markdown",
   "id": "differential-bryan",
   "metadata": {},
   "source": [
    "#### 2. Are the trials independent?"
   ]
  },
  {
   "cell_type": "markdown",
   "id": "dated-affiliate",
   "metadata": {},
   "source": [
    "Yes. The gender of each member is independent."
   ]
  },
  {
   "cell_type": "markdown",
   "id": "right-leave",
   "metadata": {},
   "source": [
    "#### 3. Are only two outcomes possible per trial?"
   ]
  },
  {
   "cell_type": "markdown",
   "id": "mysterious-craft",
   "metadata": {},
   "source": [
    "Yes: woman (success) and others (failure)."
   ]
  },
  {
   "cell_type": "markdown",
   "id": "monetary-split",
   "metadata": {},
   "source": [
    "#### 4. What is the probability of success (p) and failure (q)?"
   ]
  },
  {
   "cell_type": "code",
   "execution_count": null,
   "id": "extraordinary-boundary",
   "metadata": {},
   "outputs": [],
   "source": []
  },
  {
   "cell_type": "markdown",
   "id": "interpreted-assist",
   "metadata": {},
   "source": [
    "#### What is the total number of events that you want to get successes (x)? "
   ]
  },
  {
   "cell_type": "code",
   "execution_count": null,
   "id": "interracial-monthly",
   "metadata": {},
   "outputs": [],
   "source": []
  },
  {
   "cell_type": "markdown",
   "id": "deluxe-worst",
   "metadata": {},
   "source": [
    "#### Q: How many teams (out of 30) should be formed by 8 women?"
   ]
  },
  {
   "cell_type": "code",
   "execution_count": null,
   "id": "comprehensive-juvenile",
   "metadata": {},
   "outputs": [],
   "source": []
  },
  {
   "cell_type": "markdown",
   "id": "adjusted-scottish",
   "metadata": {},
   "source": [
    "##### Solution"
   ]
  },
  {
   "cell_type": "markdown",
   "id": "associate-viking",
   "metadata": {},
   "source": [
    "#### mean = n * p"
   ]
  },
  {
   "cell_type": "code",
   "execution_count": null,
   "id": "moved-clarity",
   "metadata": {},
   "outputs": [],
   "source": []
  },
  {
   "cell_type": "code",
   "execution_count": null,
   "id": "systematic-station",
   "metadata": {},
   "outputs": [],
   "source": []
  },
  {
   "cell_type": "code",
   "execution_count": null,
   "id": "similar-chest",
   "metadata": {},
   "outputs": [],
   "source": []
  },
  {
   "cell_type": "markdown",
   "id": "respected-pound",
   "metadata": {},
   "source": [
    "<br/>\n",
    "\n",
    "## 1.3. Poisson Distribution"
   ]
  },
  {
   "cell_type": "markdown",
   "id": "falling-cherry",
   "metadata": {},
   "source": [
    "<img src=\"../imgs/poisson_distribution_formula.png\" width=600/>"
   ]
  },
  {
   "cell_type": "markdown",
   "id": "drawn-latino",
   "metadata": {},
   "source": [
    "### Exercise 1"
   ]
  },
  {
   "cell_type": "markdown",
   "id": "needed-leone",
   "metadata": {},
   "source": [
    "A restaurant receives **20 orders per hour**. What is the chance that, at a given hour chosen at random, the restaurant will receive **15 orders**?"
   ]
  },
  {
   "cell_type": "markdown",
   "id": "threatened-daisy",
   "metadata": {},
   "source": [
    "#### What is the mean number of occurrences per hour? (𝜆)"
   ]
  },
  {
   "cell_type": "code",
   "execution_count": 47,
   "id": "respiratory-movie",
   "metadata": {},
   "outputs": [
    {
     "data": {
      "text/plain": [
       "20"
      ]
     },
     "execution_count": 47,
     "metadata": {},
     "output_type": "execute_result"
    }
   ],
   "source": [
    "lambda_ = 20\n",
    "lambda_"
   ]
  },
  {
   "cell_type": "markdown",
   "id": "personal-waste",
   "metadata": {},
   "source": [
    "#### What is the desired number of occurrences within the period of time? (x)"
   ]
  },
  {
   "cell_type": "code",
   "execution_count": 48,
   "id": "laden-stone",
   "metadata": {},
   "outputs": [
    {
     "data": {
      "text/plain": [
       "15"
      ]
     },
     "execution_count": 48,
     "metadata": {},
     "output_type": "execute_result"
    }
   ],
   "source": [
    "x = 15\n",
    "x"
   ]
  },
  {
   "cell_type": "markdown",
   "id": "italian-pennsylvania",
   "metadata": {},
   "source": [
    "##### Solution 1"
   ]
  },
  {
   "cell_type": "code",
   "execution_count": 49,
   "id": "2855de4b-7ef5-495c-af33-e03056942814",
   "metadata": {},
   "outputs": [
    {
     "data": {
      "text/plain": [
       "0.0516488535317584"
      ]
     },
     "execution_count": 49,
     "metadata": {},
     "output_type": "execute_result"
    }
   ],
   "source": [
    "probability = ((np.e ** (-lambda_)) * (lambda_ ** x)) / np.math.factorial(x)\n",
    "probability"
   ]
  },
  {
   "cell_type": "markdown",
   "id": "sustainable-groove",
   "metadata": {},
   "source": [
    "##### Solution 2\n",
    "https://docs.scipy.org/doc/scipy/reference/generated/scipy.stats.poisson.html"
   ]
  },
  {
   "cell_type": "code",
   "execution_count": 50,
   "id": "literary-invitation",
   "metadata": {},
   "outputs": [],
   "source": [
    "from scipy.stats import poisson"
   ]
  },
  {
   "cell_type": "code",
   "execution_count": 51,
   "id": "imposed-waterproof",
   "metadata": {},
   "outputs": [
    {
     "data": {
      "text/plain": [
       "0.05164885353175814"
      ]
     },
     "execution_count": 51,
     "metadata": {},
     "output_type": "execute_result"
    }
   ],
   "source": [
    "probability = poisson.pmf(x, lambda_)\n",
    "probability"
   ]
  },
  {
   "cell_type": "markdown",
   "id": "seasonal-approval",
   "metadata": {},
   "source": [
    "### Exercise 2"
   ]
  },
  {
   "cell_type": "markdown",
   "id": "corrected-fitting",
   "metadata": {},
   "source": [
    "Vehicles pass through a junction on a busy road at an average rate of 300 per hour. <br/>"
   ]
  },
  {
   "cell_type": "markdown",
   "id": "nuclear-entry",
   "metadata": {},
   "source": [
    "#### **Q1**: Find the probability that none passes in a given minute."
   ]
  },
  {
   "cell_type": "markdown",
   "id": "friendly-millennium",
   "metadata": {},
   "source": [
    "##### The average number of cars per minute (𝜆)"
   ]
  },
  {
   "cell_type": "code",
   "execution_count": null,
   "id": "through-nicaragua",
   "metadata": {},
   "outputs": [],
   "source": []
  },
  {
   "cell_type": "markdown",
   "id": "verified-complex",
   "metadata": {},
   "source": [
    "##### What is the desired number of occurrences within the period of time? (x)"
   ]
  },
  {
   "cell_type": "code",
   "execution_count": null,
   "id": "instant-referral",
   "metadata": {},
   "outputs": [],
   "source": []
  },
  {
   "cell_type": "code",
   "execution_count": null,
   "id": "central-workplace",
   "metadata": {},
   "outputs": [],
   "source": []
  },
  {
   "cell_type": "markdown",
   "id": "recognized-wrapping",
   "metadata": {},
   "source": [
    "#### **Q2**: What is the expected number (average number) passing in two minutes?"
   ]
  },
  {
   "cell_type": "code",
   "execution_count": null,
   "id": "several-creator",
   "metadata": {},
   "outputs": [],
   "source": []
  },
  {
   "cell_type": "markdown",
   "id": "sunset-behavior",
   "metadata": {},
   "source": [
    "#### **Q3**: Find the probability that this expected number actually pass through in a given two-minute period.\n",
    "Given that the average rate of vehicles that pass through in a busy road in **two minutes** is **10**, which is the probability of passing through **exactly 10 vehicles** in a given two-minute period?"
   ]
  },
  {
   "cell_type": "markdown",
   "id": "junior-twist",
   "metadata": {},
   "source": [
    "##### The average number of cars per two minutes (𝜆)"
   ]
  },
  {
   "cell_type": "code",
   "execution_count": null,
   "id": "representative-nickel",
   "metadata": {},
   "outputs": [],
   "source": []
  },
  {
   "cell_type": "markdown",
   "id": "patient-fraction",
   "metadata": {},
   "source": [
    "##### What is the desired number of occurrences within the period of time? (x)"
   ]
  },
  {
   "cell_type": "code",
   "execution_count": null,
   "id": "delayed-cigarette",
   "metadata": {},
   "outputs": [],
   "source": []
  },
  {
   "cell_type": "code",
   "execution_count": null,
   "id": "emotional-control",
   "metadata": {},
   "outputs": [],
   "source": []
  },
  {
   "cell_type": "markdown",
   "id": "activated-poker",
   "metadata": {},
   "source": [
    "### Exercise 3"
   ]
  },
  {
   "cell_type": "markdown",
   "id": "collected-honey",
   "metadata": {},
   "source": [
    "Suppose the **average number of lions** seen on a **1-day safari** is **5**. What is the probability that tourists will see **fewer than four lions** on the next 1-day safari?"
   ]
  },
  {
   "cell_type": "markdown",
   "id": "secret-genome",
   "metadata": {},
   "source": [
    "#### What is the mean number of lions seen on a 1-day safari? (𝜆)"
   ]
  },
  {
   "cell_type": "code",
   "execution_count": null,
   "id": "dietary-diana",
   "metadata": {},
   "outputs": [],
   "source": []
  },
  {
   "cell_type": "markdown",
   "id": "alternate-advocacy",
   "metadata": {},
   "source": [
    "#### What is the desired number of occurrences within the period of time? (x)\n",
    "x = 0, 1, 2, or 3"
   ]
  },
  {
   "cell_type": "markdown",
   "id": "precise-helping",
   "metadata": {},
   "source": [
    "<img src=\"../imgs/poisson_distribution_ex3.png\" width=400/>"
   ]
  },
  {
   "cell_type": "markdown",
   "id": "indonesian-concept",
   "metadata": {},
   "source": [
    "##### Solution 1"
   ]
  },
  {
   "cell_type": "code",
   "execution_count": null,
   "id": "conscious-grass",
   "metadata": {},
   "outputs": [],
   "source": []
  },
  {
   "cell_type": "markdown",
   "id": "speaking-wireless",
   "metadata": {},
   "source": [
    "##### Solution 2"
   ]
  },
  {
   "cell_type": "code",
   "execution_count": null,
   "id": "psychological-madrid",
   "metadata": {},
   "outputs": [],
   "source": []
  },
  {
   "cell_type": "markdown",
   "id": "009dee51-3751-4605-9825-eb5bfbc504f0",
   "metadata": {},
   "source": [
    "<br/>\n",
    "\n",
    "## 1.4. Normal Distribution"
   ]
  },
  {
   "cell_type": "markdown",
   "id": "140b1bc6-e928-4e60-b7d0-f6ab428570bd",
   "metadata": {},
   "source": [
    "<img src=\"../imgs/standard_normal_distribution_formula.png\" width=700/>"
   ]
  },
  {
   "cell_type": "markdown",
   "id": "0b451301-31bc-4aa7-9388-4f11a8ac655d",
   "metadata": {},
   "source": [
    "### Exercise 1"
   ]
  },
  {
   "cell_type": "markdown",
   "id": "c28478a3-027c-4a80-9c2e-a916b105f1dc",
   "metadata": {},
   "source": [
    "When studying the height of the inhabitants of Pompeia, it was found that its **distribution is approximately normal**, with **mean** of 1.70 m and **standard deviation** of 0.1m."
   ]
  },
  {
   "cell_type": "code",
   "execution_count": 52,
   "id": "f967510d-6a80-433a-b9aa-daa46c458884",
   "metadata": {},
   "outputs": [],
   "source": [
    "mean = 1.7\n",
    "std = 0.1"
   ]
  },
  {
   "cell_type": "markdown",
   "id": "d0233454-578b-4ee2-8070-5b3a4260d6e4",
   "metadata": {},
   "source": [
    "#### Q1: Probability of a person, selected by chance, is less than 1.8m tall? P(X < 1.8)"
   ]
  },
  {
   "cell_type": "code",
   "execution_count": 53,
   "id": "9dd9a071-d442-4007-a3ae-61f5125c34ff",
   "metadata": {},
   "outputs": [
    {
     "data": {
      "text/plain": [
       "1.8"
      ]
     },
     "execution_count": 53,
     "metadata": {},
     "output_type": "execute_result"
    }
   ],
   "source": [
    "x = 1.8\n",
    "x"
   ]
  },
  {
   "cell_type": "code",
   "execution_count": 54,
   "id": "408cbf9a-97e2-450f-b086-91f7ebc5d5da",
   "metadata": {},
   "outputs": [
    {
     "data": {
      "text/plain": [
       "1.0000000000000009"
      ]
     },
     "execution_count": 54,
     "metadata": {},
     "output_type": "execute_result"
    }
   ],
   "source": [
    "z = (x - mean) / std\n",
    "z"
   ]
  },
  {
   "cell_type": "markdown",
   "id": "55208d18-7daf-4ccc-9df4-7b6ea8303cc7",
   "metadata": {},
   "source": [
    "##### **P(X < 1.8) = P(Z < 1.000)**"
   ]
  },
  {
   "cell_type": "markdown",
   "id": "1bf3f7d8-a000-4404-a022-b1c6bf836520",
   "metadata": {},
   "source": [
    "##### Solution 1 - Using the z-score table\n",
    "https://www.math.arizona.edu/~rsims/ma464/standardnormaltable.pdf"
   ]
  },
  {
   "cell_type": "markdown",
   "id": "85eee009-b52e-45ae-a35b-7bbc310466d4",
   "metadata": {},
   "source": [
    "Checking the z-score table, **P(Z < 1.000)=0.84134**"
   ]
  },
  {
   "cell_type": "markdown",
   "id": "2ea8ce8b-2791-40f4-ade1-8655620cfd42",
   "metadata": {},
   "source": [
    "##### Solution 2 - Using scipy"
   ]
  },
  {
   "cell_type": "code",
   "execution_count": 55,
   "id": "ca22916e-a0b9-4081-a64e-6d7fb29f54ef",
   "metadata": {},
   "outputs": [],
   "source": [
    "from scipy.stats import norm"
   ]
  },
  {
   "cell_type": "code",
   "execution_count": 56,
   "id": "70f11a17-6342-4e89-8907-a06542e50dd7",
   "metadata": {},
   "outputs": [
    {
     "data": {
      "text/plain": [
       "0.8413447460685429"
      ]
     },
     "execution_count": 56,
     "metadata": {},
     "output_type": "execute_result"
    }
   ],
   "source": [
    "probability = norm.cdf(1.000)\n",
    "probability"
   ]
  },
  {
   "cell_type": "markdown",
   "id": "a205a655-ba7b-4152-9163-fd460120c1a7",
   "metadata": {},
   "source": [
    "#### Q2: Probability of a person, selected by chance, is between 1.6m and 1.8m tall? P(1.6 <= X <= 1.8)\n",
    "P(1.6 <= X <= 1.8) = P(X < 1.8) - P(X < 1.6)"
   ]
  },
  {
   "cell_type": "code",
   "execution_count": 57,
   "id": "0f5a3205-4b63-46f8-b073-e3890eb5dec1",
   "metadata": {},
   "outputs": [],
   "source": [
    "a = 1.6\n",
    "b = 1.8"
   ]
  },
  {
   "cell_type": "code",
   "execution_count": 58,
   "id": "6f45e003-e7a3-450b-abfe-2d7dbea28977",
   "metadata": {},
   "outputs": [
    {
     "data": {
      "text/plain": [
       "(-0.9999999999999987, 1.0000000000000009)"
      ]
     },
     "execution_count": 58,
     "metadata": {},
     "output_type": "execute_result"
    }
   ],
   "source": [
    "z_a = (a - mean) /std\n",
    "z_b = (b - mean) /std\n",
    "\n",
    "z_a, z_b"
   ]
  },
  {
   "cell_type": "markdown",
   "id": "e13815fc-b765-463d-9afa-33ae6c0dd4e1",
   "metadata": {},
   "source": [
    "**P(1.6 <= X <= 1.8) = P(Z < -0.9999) - P(Z < 1.00000)**"
   ]
  },
  {
   "cell_type": "markdown",
   "id": "d1aace87-3b4e-46e9-ba5b-679287fa560f",
   "metadata": {},
   "source": [
    "##### Solution 1 - Using the z-score table\n",
    "https://www.math.arizona.edu/~rsims/ma464/standardnormaltable.pdf"
   ]
  },
  {
   "cell_type": "code",
   "execution_count": 59,
   "id": "b54f3466-6361-433f-997b-ced1c00fddc5",
   "metadata": {},
   "outputs": [],
   "source": [
    "prob_a = 0.16109\n",
    "prob_b = 0.84134"
   ]
  },
  {
   "cell_type": "code",
   "execution_count": 60,
   "id": "6f66b00c-03f2-4b72-adc2-f4c6cbfb2d35",
   "metadata": {},
   "outputs": [
    {
     "data": {
      "text/plain": [
       "0.68025"
      ]
     },
     "execution_count": 60,
     "metadata": {},
     "output_type": "execute_result"
    }
   ],
   "source": [
    "probability = prob_b - prob_a\n",
    "probability"
   ]
  },
  {
   "cell_type": "markdown",
   "id": "b6620f78-287d-410f-ab08-8f9ecdaeb10d",
   "metadata": {},
   "source": [
    "##### Solution 2 - Using scipy"
   ]
  },
  {
   "cell_type": "code",
   "execution_count": 61,
   "id": "c5238273-f70c-4ad9-9c6f-24d90c0e0364",
   "metadata": {},
   "outputs": [
    {
     "data": {
      "text/plain": [
       "0.6826894921370857"
      ]
     },
     "execution_count": 61,
     "metadata": {},
     "output_type": "execute_result"
    }
   ],
   "source": [
    "probability = norm.cdf(z_b) - norm.cdf(z_a)\n",
    "probability"
   ]
  },
  {
   "cell_type": "markdown",
   "id": "cc552a7e-bdf9-4916-b042-0925e8b803ee",
   "metadata": {},
   "source": [
    "#### Q3: Probability of a person, selected by chance, is over 1.9m tall? P (X >= 1.9)\n",
    "P(X >= 1.9) = 1 - P(X < 1.9)"
   ]
  },
  {
   "cell_type": "code",
   "execution_count": 62,
   "id": "373a7502-e637-492d-9f05-707eec122274",
   "metadata": {},
   "outputs": [
    {
     "data": {
      "text/plain": [
       "1.9"
      ]
     },
     "execution_count": 62,
     "metadata": {},
     "output_type": "execute_result"
    }
   ],
   "source": [
    "x = 1.9\n",
    "x"
   ]
  },
  {
   "cell_type": "code",
   "execution_count": 63,
   "id": "7e54b4c2-8661-413e-96d7-63d3a5379d64",
   "metadata": {},
   "outputs": [
    {
     "data": {
      "text/plain": [
       "1.9999999999999996"
      ]
     },
     "execution_count": 63,
     "metadata": {},
     "output_type": "execute_result"
    }
   ],
   "source": [
    "z = (x - mean) / std\n",
    "z"
   ]
  },
  {
   "cell_type": "markdown",
   "id": "9cc047fe-34e4-4d83-82d6-010fcd985757",
   "metadata": {},
   "source": [
    "**P(X >= 1.9) = P(Z >= 1.99999) = 1 - P(Z < 1.99999)**"
   ]
  },
  {
   "cell_type": "markdown",
   "id": "36e560f8-1ace-498f-af21-35ecb024fa19",
   "metadata": {},
   "source": [
    "##### Solution 1 - Using the z-score table\n",
    "https://www.math.arizona.edu/~rsims/ma464/standardnormaltable.pdf"
   ]
  },
  {
   "cell_type": "code",
   "execution_count": 64,
   "id": "c6c25786-3d25-4cef-b33a-11e1491c84cf",
   "metadata": {},
   "outputs": [
    {
     "data": {
      "text/plain": [
       "0.022750000000000048"
      ]
     },
     "execution_count": 64,
     "metadata": {},
     "output_type": "execute_result"
    }
   ],
   "source": [
    "cdf_z = 0.97725 # considera x = 2\n",
    "probability = 1 - cdf_z\n",
    "probability"
   ]
  },
  {
   "cell_type": "markdown",
   "id": "39a1fd8b-b8e5-4329-a57d-83902c6c2b88",
   "metadata": {},
   "source": [
    "##### Solution 2 - Using scipy"
   ]
  },
  {
   "cell_type": "code",
   "execution_count": 65,
   "id": "9b0b359a-3f24-4fe2-a2c9-94bace3b6094",
   "metadata": {},
   "outputs": [
    {
     "data": {
      "text/plain": [
       "0.02275013194817921"
      ]
     },
     "execution_count": 65,
     "metadata": {},
     "output_type": "execute_result"
    }
   ],
   "source": [
    "probability = 1 - norm.cdf(z)\n",
    "probability"
   ]
  },
  {
   "cell_type": "markdown",
   "id": "e77511cc-f91e-40b5-acc0-9c748aa7aae0",
   "metadata": {},
   "source": [
    "<br/>\n",
    "\n",
    "# 2. Central Limit Theorem"
   ]
  },
  {
   "cell_type": "markdown",
   "id": "ce70691d-cd58-4cb3-84d4-09ef74729975",
   "metadata": {},
   "source": [
    "**Dataset:** https://www.kaggle.com/fedesoriano/stroke-prediction-dataset"
   ]
  },
  {
   "cell_type": "code",
   "execution_count": 66,
   "id": "58b945ba-e634-4881-bf46-6b4340cb9ef7",
   "metadata": {},
   "outputs": [],
   "source": [
    "# dataset with data about stroke patients\n",
    "df = pd.read_csv('../datasets/healthcare-dataset-stroke-data.csv')"
   ]
  },
  {
   "cell_type": "code",
   "execution_count": 67,
   "id": "12f2405a-dc16-48f1-b9dc-9b5ff41abe8c",
   "metadata": {},
   "outputs": [
    {
     "data": {
      "text/html": [
       "<div>\n",
       "<style scoped>\n",
       "    .dataframe tbody tr th:only-of-type {\n",
       "        vertical-align: middle;\n",
       "    }\n",
       "\n",
       "    .dataframe tbody tr th {\n",
       "        vertical-align: top;\n",
       "    }\n",
       "\n",
       "    .dataframe thead th {\n",
       "        text-align: right;\n",
       "    }\n",
       "</style>\n",
       "<table border=\"1\" class=\"dataframe\">\n",
       "  <thead>\n",
       "    <tr style=\"text-align: right;\">\n",
       "      <th></th>\n",
       "      <th>id</th>\n",
       "      <th>gender</th>\n",
       "      <th>age</th>\n",
       "      <th>hypertension</th>\n",
       "      <th>heart_disease</th>\n",
       "      <th>ever_married</th>\n",
       "      <th>work_type</th>\n",
       "      <th>Residence_type</th>\n",
       "      <th>avg_glucose_level</th>\n",
       "      <th>bmi</th>\n",
       "      <th>smoking_status</th>\n",
       "      <th>stroke</th>\n",
       "    </tr>\n",
       "  </thead>\n",
       "  <tbody>\n",
       "    <tr>\n",
       "      <th>0</th>\n",
       "      <td>9046</td>\n",
       "      <td>Male</td>\n",
       "      <td>67.0</td>\n",
       "      <td>0</td>\n",
       "      <td>1</td>\n",
       "      <td>Yes</td>\n",
       "      <td>Private</td>\n",
       "      <td>Urban</td>\n",
       "      <td>228.69</td>\n",
       "      <td>36.6</td>\n",
       "      <td>formerly smoked</td>\n",
       "      <td>1</td>\n",
       "    </tr>\n",
       "    <tr>\n",
       "      <th>1</th>\n",
       "      <td>51676</td>\n",
       "      <td>Female</td>\n",
       "      <td>61.0</td>\n",
       "      <td>0</td>\n",
       "      <td>0</td>\n",
       "      <td>Yes</td>\n",
       "      <td>Self-employed</td>\n",
       "      <td>Rural</td>\n",
       "      <td>202.21</td>\n",
       "      <td>NaN</td>\n",
       "      <td>never smoked</td>\n",
       "      <td>1</td>\n",
       "    </tr>\n",
       "    <tr>\n",
       "      <th>2</th>\n",
       "      <td>31112</td>\n",
       "      <td>Male</td>\n",
       "      <td>80.0</td>\n",
       "      <td>0</td>\n",
       "      <td>1</td>\n",
       "      <td>Yes</td>\n",
       "      <td>Private</td>\n",
       "      <td>Rural</td>\n",
       "      <td>105.92</td>\n",
       "      <td>32.5</td>\n",
       "      <td>never smoked</td>\n",
       "      <td>1</td>\n",
       "    </tr>\n",
       "    <tr>\n",
       "      <th>3</th>\n",
       "      <td>60182</td>\n",
       "      <td>Female</td>\n",
       "      <td>49.0</td>\n",
       "      <td>0</td>\n",
       "      <td>0</td>\n",
       "      <td>Yes</td>\n",
       "      <td>Private</td>\n",
       "      <td>Urban</td>\n",
       "      <td>171.23</td>\n",
       "      <td>34.4</td>\n",
       "      <td>smokes</td>\n",
       "      <td>1</td>\n",
       "    </tr>\n",
       "    <tr>\n",
       "      <th>4</th>\n",
       "      <td>1665</td>\n",
       "      <td>Female</td>\n",
       "      <td>79.0</td>\n",
       "      <td>1</td>\n",
       "      <td>0</td>\n",
       "      <td>Yes</td>\n",
       "      <td>Self-employed</td>\n",
       "      <td>Rural</td>\n",
       "      <td>174.12</td>\n",
       "      <td>24.0</td>\n",
       "      <td>never smoked</td>\n",
       "      <td>1</td>\n",
       "    </tr>\n",
       "  </tbody>\n",
       "</table>\n",
       "</div>"
      ],
      "text/plain": [
       "      id  gender   age  hypertension  heart_disease ever_married  \\\n",
       "0   9046    Male  67.0             0              1          Yes   \n",
       "1  51676  Female  61.0             0              0          Yes   \n",
       "2  31112    Male  80.0             0              1          Yes   \n",
       "3  60182  Female  49.0             0              0          Yes   \n",
       "4   1665  Female  79.0             1              0          Yes   \n",
       "\n",
       "       work_type Residence_type  avg_glucose_level   bmi   smoking_status  \\\n",
       "0        Private          Urban             228.69  36.6  formerly smoked   \n",
       "1  Self-employed          Rural             202.21   NaN     never smoked   \n",
       "2        Private          Rural             105.92  32.5     never smoked   \n",
       "3        Private          Urban             171.23  34.4           smokes   \n",
       "4  Self-employed          Rural             174.12  24.0     never smoked   \n",
       "\n",
       "   stroke  \n",
       "0       1  \n",
       "1       1  \n",
       "2       1  \n",
       "3       1  \n",
       "4       1  "
      ]
     },
     "execution_count": 67,
     "metadata": {},
     "output_type": "execute_result"
    }
   ],
   "source": [
    "df.head()"
   ]
  },
  {
   "cell_type": "code",
   "execution_count": 68,
   "id": "471e3ad0-d63f-44f4-857f-39cfb2894363",
   "metadata": {},
   "outputs": [
    {
     "data": {
      "text/plain": [
       "0    228.69\n",
       "1    202.21\n",
       "2    105.92\n",
       "3    171.23\n",
       "4    174.12\n",
       "Name: avg_glucose_level, dtype: float64"
      ]
     },
     "execution_count": 68,
     "metadata": {},
     "output_type": "execute_result"
    }
   ],
   "source": [
    "population = df['avg_glucose_level']\n",
    "population.head()"
   ]
  },
  {
   "cell_type": "code",
   "execution_count": 70,
   "id": "bc239058-f5af-4708-bd2c-7af133f1751a",
   "metadata": {},
   "outputs": [
    {
     "data": {
      "text/plain": [
       "(5110,)"
      ]
     },
     "execution_count": 70,
     "metadata": {},
     "output_type": "execute_result"
    }
   ],
   "source": [
    "population.shape"
   ]
  },
  {
   "cell_type": "code",
   "execution_count": 72,
   "id": "3e165a13-e3a5-4e64-b698-c4363ed88b7a",
   "metadata": {},
   "outputs": [
    {
     "data": {
      "text/plain": [
       "106.14767710371804"
      ]
     },
     "execution_count": 72,
     "metadata": {},
     "output_type": "execute_result"
    }
   ],
   "source": [
    "population_mean = population.mean()\n",
    "population_mean"
   ]
  },
  {
   "cell_type": "code",
   "execution_count": 73,
   "id": "dd0edad3-05cd-4aa0-9d48-1971eb317360",
   "metadata": {},
   "outputs": [
    {
     "data": {
      "text/plain": [
       "45.28356015058203"
      ]
     },
     "execution_count": 73,
     "metadata": {},
     "output_type": "execute_result"
    }
   ],
   "source": [
    "population_std = population.std()\n",
    "population_std"
   ]
  },
  {
   "cell_type": "code",
   "execution_count": 77,
   "id": "fa1d5518-2a1d-42ed-b542-18a129422be4",
   "metadata": {},
   "outputs": [
    {
     "data": {
      "text/plain": [
       "Text(111.14767710371804, 350, 'Population Mean\\n106.15')"
      ]
     },
     "execution_count": 77,
     "metadata": {},
     "output_type": "execute_result"
    },
    {
     "data": {
      "image/png": "[encoded data removed]",
      "text/plain": [
       "<Figure size 720x432 with 1 Axes>"
      ]
     },
     "metadata": {
      "needs_background": "light"
     },
     "output_type": "display_data"
    }
   ],
   "source": [
    "plt.figure(figsize=(10,6))\n",
    "ax = sns.histplot(population, kde=True)  # the distribution is not normal\n",
    "ax.axvline(x=population_mean, color='red')\n",
    "ax.annotate(f'Population Mean\\n{population_mean:.2f}', xy=(population_mean + 5, 350))"
   ]
  },
  {
   "cell_type": "markdown",
   "id": "dd9c6f0b-f776-4bc7-b062-be75c31d6d2f",
   "metadata": {},
   "source": [
    "<br/>\n",
    "\n",
    "#### The data distribution of a sample does not necessarily follow the **normal distribution**"
   ]
  },
  {
   "cell_type": "code",
   "execution_count": 75,
   "id": "c1e3cd77-1569-4e6f-89dd-afbdbb2bea5d",
   "metadata": {},
   "outputs": [],
   "source": [
    "sample_100 = population.sample(100, random_state=999)"
   ]
  },
  {
   "cell_type": "code",
   "execution_count": 78,
   "id": "694b2378-b2d2-4e0e-bd2a-3e5a48be57b0",
   "metadata": {},
   "outputs": [
    {
     "data": {
      "text/plain": [
       "<AxesSubplot:xlabel='avg_glucose_level', ylabel='Count'>"
      ]
     },
     "execution_count": 78,
     "metadata": {},
     "output_type": "execute_result"
    },
    {
     "data": {
      "image/png": "[encoded data removed]",
      "text/plain": [
       "<Figure size 720x432 with 1 Axes>"
      ]
     },
     "metadata": {
      "needs_background": "light"
     },
     "output_type": "display_data"
    }
   ],
   "source": [
    "plt.figure(figsize=(10,6))\n",
    "sns.histplot(sample_100, kde=True)"
   ]
  },
  {
   "cell_type": "markdown",
   "id": "98d079fc-dd8d-4917-ba08-5199dd8353b5",
   "metadata": {},
   "source": [
    "#### As the sample size increases, the **sampling distribution of the mean** approaches a **normal distribution** with the **sampling distribution’s mean** equals **the population mean**"
   ]
  },
  {
   "cell_type": "code",
   "execution_count": 93,
   "id": "f6b1a34e-1ec6-4e18-b134-201a81dbeb80",
   "metadata": {},
   "outputs": [],
   "source": [
    "# Dictionary where each key correspond to a sample size\n",
    "# For each sample size, there is a dataframe with 1000 samples associated to\n",
    "samples = {}\n",
    "\n",
    "for n in [5, 10, 30, 100, 1000]:\n",
    "    df_sample_size = pd.DataFrame()\n",
    "    \n",
    "    for i in range(1000):\n",
    "        sample = population.sample(n)\n",
    "        sample.reset_index(drop=True, inplace=True)  # requires this \"trick\" to work\n",
    "        df_sample_size[f'Sample #{i}'] = sample\n",
    "    \n",
    "    samples[n] = df_sample_size"
   ]
  },
  {
   "cell_type": "code",
   "execution_count": 94,
   "id": "b392f6e2-d685-4b62-bc00-e20ff4d870ad",
   "metadata": {},
   "outputs": [
    {
     "data": {
      "text/plain": [
       "dict_keys([5, 10, 30, 100, 1000])"
      ]
     },
     "execution_count": 94,
     "metadata": {},
     "output_type": "execute_result"
    }
   ],
   "source": [
    "samples.keys()"
   ]
  },
  {
   "cell_type": "code",
   "execution_count": 95,
   "id": "79139864-f246-4fc2-8877-a14e6a4d1a61",
   "metadata": {},
   "outputs": [
    {
     "data": {
      "text/html": [
       "<div>\n",
       "<style scoped>\n",
       "    .dataframe tbody tr th:only-of-type {\n",
       "        vertical-align: middle;\n",
       "    }\n",
       "\n",
       "    .dataframe tbody tr th {\n",
       "        vertical-align: top;\n",
       "    }\n",
       "\n",
       "    .dataframe thead th {\n",
       "        text-align: right;\n",
       "    }\n",
       "</style>\n",
       "<table border=\"1\" class=\"dataframe\">\n",
       "  <thead>\n",
       "    <tr style=\"text-align: right;\">\n",
       "      <th></th>\n",
       "      <th>Sample #0</th>\n",
       "      <th>Sample #1</th>\n",
       "      <th>Sample #2</th>\n",
       "      <th>Sample #3</th>\n",
       "      <th>Sample #4</th>\n",
       "      <th>Sample #5</th>\n",
       "      <th>Sample #6</th>\n",
       "      <th>Sample #7</th>\n",
       "      <th>Sample #8</th>\n",
       "      <th>Sample #9</th>\n",
       "      <th>...</th>\n",
       "      <th>Sample #990</th>\n",
       "      <th>Sample #991</th>\n",
       "      <th>Sample #992</th>\n",
       "      <th>Sample #993</th>\n",
       "      <th>Sample #994</th>\n",
       "      <th>Sample #995</th>\n",
       "      <th>Sample #996</th>\n",
       "      <th>Sample #997</th>\n",
       "      <th>Sample #998</th>\n",
       "      <th>Sample #999</th>\n",
       "    </tr>\n",
       "  </thead>\n",
       "  <tbody>\n",
       "    <tr>\n",
       "      <th>0</th>\n",
       "      <td>128.17</td>\n",
       "      <td>56.34</td>\n",
       "      <td>75.22</td>\n",
       "      <td>92.70</td>\n",
       "      <td>91.63</td>\n",
       "      <td>136.10</td>\n",
       "      <td>74.09</td>\n",
       "      <td>86.07</td>\n",
       "      <td>61.57</td>\n",
       "      <td>95.75</td>\n",
       "      <td>...</td>\n",
       "      <td>111.33</td>\n",
       "      <td>69.40</td>\n",
       "      <td>90.42</td>\n",
       "      <td>201.07</td>\n",
       "      <td>225.47</td>\n",
       "      <td>100.52</td>\n",
       "      <td>83.56</td>\n",
       "      <td>98.09</td>\n",
       "      <td>176.71</td>\n",
       "      <td>93.99</td>\n",
       "    </tr>\n",
       "    <tr>\n",
       "      <th>1</th>\n",
       "      <td>162.30</td>\n",
       "      <td>91.09</td>\n",
       "      <td>109.85</td>\n",
       "      <td>55.84</td>\n",
       "      <td>116.93</td>\n",
       "      <td>82.21</td>\n",
       "      <td>97.32</td>\n",
       "      <td>80.63</td>\n",
       "      <td>145.18</td>\n",
       "      <td>65.96</td>\n",
       "      <td>...</td>\n",
       "      <td>113.10</td>\n",
       "      <td>79.82</td>\n",
       "      <td>93.29</td>\n",
       "      <td>91.65</td>\n",
       "      <td>83.27</td>\n",
       "      <td>60.96</td>\n",
       "      <td>106.18</td>\n",
       "      <td>83.42</td>\n",
       "      <td>119.52</td>\n",
       "      <td>96.29</td>\n",
       "    </tr>\n",
       "    <tr>\n",
       "      <th>2</th>\n",
       "      <td>96.02</td>\n",
       "      <td>78.11</td>\n",
       "      <td>59.31</td>\n",
       "      <td>85.64</td>\n",
       "      <td>77.45</td>\n",
       "      <td>120.27</td>\n",
       "      <td>221.80</td>\n",
       "      <td>72.76</td>\n",
       "      <td>77.29</td>\n",
       "      <td>111.22</td>\n",
       "      <td>...</td>\n",
       "      <td>149.95</td>\n",
       "      <td>81.31</td>\n",
       "      <td>66.69</td>\n",
       "      <td>203.27</td>\n",
       "      <td>58.48</td>\n",
       "      <td>244.30</td>\n",
       "      <td>189.57</td>\n",
       "      <td>56.85</td>\n",
       "      <td>62.60</td>\n",
       "      <td>71.79</td>\n",
       "    </tr>\n",
       "    <tr>\n",
       "      <th>3</th>\n",
       "      <td>60.70</td>\n",
       "      <td>91.54</td>\n",
       "      <td>63.18</td>\n",
       "      <td>79.26</td>\n",
       "      <td>187.88</td>\n",
       "      <td>101.50</td>\n",
       "      <td>145.46</td>\n",
       "      <td>62.44</td>\n",
       "      <td>207.64</td>\n",
       "      <td>95.81</td>\n",
       "      <td>...</td>\n",
       "      <td>110.99</td>\n",
       "      <td>120.58</td>\n",
       "      <td>68.66</td>\n",
       "      <td>72.29</td>\n",
       "      <td>142.82</td>\n",
       "      <td>101.37</td>\n",
       "      <td>62.12</td>\n",
       "      <td>173.97</td>\n",
       "      <td>112.55</td>\n",
       "      <td>82.94</td>\n",
       "    </tr>\n",
       "    <tr>\n",
       "      <th>4</th>\n",
       "      <td>97.58</td>\n",
       "      <td>158.89</td>\n",
       "      <td>132.41</td>\n",
       "      <td>84.85</td>\n",
       "      <td>93.24</td>\n",
       "      <td>91.34</td>\n",
       "      <td>196.36</td>\n",
       "      <td>131.19</td>\n",
       "      <td>78.24</td>\n",
       "      <td>240.59</td>\n",
       "      <td>...</td>\n",
       "      <td>82.20</td>\n",
       "      <td>121.14</td>\n",
       "      <td>92.02</td>\n",
       "      <td>201.45</td>\n",
       "      <td>62.66</td>\n",
       "      <td>198.30</td>\n",
       "      <td>78.85</td>\n",
       "      <td>91.89</td>\n",
       "      <td>99.76</td>\n",
       "      <td>97.31</td>\n",
       "    </tr>\n",
       "  </tbody>\n",
       "</table>\n",
       "<p>5 rows × 1000 columns</p>\n",
       "</div>"
      ],
      "text/plain": [
       "   Sample #0  Sample #1  Sample #2  Sample #3  Sample #4  Sample #5  \\\n",
       "0     128.17      56.34      75.22      92.70      91.63     136.10   \n",
       "1     162.30      91.09     109.85      55.84     116.93      82.21   \n",
       "2      96.02      78.11      59.31      85.64      77.45     120.27   \n",
       "3      60.70      91.54      63.18      79.26     187.88     101.50   \n",
       "4      97.58     158.89     132.41      84.85      93.24      91.34   \n",
       "\n",
       "   Sample #6  Sample #7  Sample #8  Sample #9  ...  Sample #990  Sample #991  \\\n",
       "0      74.09      86.07      61.57      95.75  ...       111.33        69.40   \n",
       "1      97.32      80.63     145.18      65.96  ...       113.10        79.82   \n",
       "2     221.80      72.76      77.29     111.22  ...       149.95        81.31   \n",
       "3     145.46      62.44     207.64      95.81  ...       110.99       120.58   \n",
       "4     196.36     131.19      78.24     240.59  ...        82.20       121.14   \n",
       "\n",
       "   Sample #992  Sample #993  Sample #994  Sample #995  Sample #996  \\\n",
       "0        90.42       201.07       225.47       100.52        83.56   \n",
       "1        93.29        91.65        83.27        60.96       106.18   \n",
       "2        66.69       203.27        58.48       244.30       189.57   \n",
       "3        68.66        72.29       142.82       101.37        62.12   \n",
       "4        92.02       201.45        62.66       198.30        78.85   \n",
       "\n",
       "   Sample #997  Sample #998  Sample #999  \n",
       "0        98.09       176.71        93.99  \n",
       "1        83.42       119.52        96.29  \n",
       "2        56.85        62.60        71.79  \n",
       "3       173.97       112.55        82.94  \n",
       "4        91.89        99.76        97.31  \n",
       "\n",
       "[5 rows x 1000 columns]"
      ]
     },
     "execution_count": 95,
     "metadata": {},
     "output_type": "execute_result"
    }
   ],
   "source": [
    "samples[5]"
   ]
  },
  {
   "cell_type": "code",
   "execution_count": 96,
   "id": "1b13d731-d549-4a4f-9d15-24babfe7655e",
   "metadata": {},
   "outputs": [
    {
     "data": {
      "text/html": [
       "<div>\n",
       "<style scoped>\n",
       "    .dataframe tbody tr th:only-of-type {\n",
       "        vertical-align: middle;\n",
       "    }\n",
       "\n",
       "    .dataframe tbody tr th {\n",
       "        vertical-align: top;\n",
       "    }\n",
       "\n",
       "    .dataframe thead th {\n",
       "        text-align: right;\n",
       "    }\n",
       "</style>\n",
       "<table border=\"1\" class=\"dataframe\">\n",
       "  <thead>\n",
       "    <tr style=\"text-align: right;\">\n",
       "      <th></th>\n",
       "      <th>Sample #0</th>\n",
       "      <th>Sample #1</th>\n",
       "      <th>Sample #2</th>\n",
       "      <th>Sample #3</th>\n",
       "      <th>Sample #4</th>\n",
       "      <th>Sample #5</th>\n",
       "      <th>Sample #6</th>\n",
       "      <th>Sample #7</th>\n",
       "      <th>Sample #8</th>\n",
       "      <th>Sample #9</th>\n",
       "      <th>...</th>\n",
       "      <th>Sample #990</th>\n",
       "      <th>Sample #991</th>\n",
       "      <th>Sample #992</th>\n",
       "      <th>Sample #993</th>\n",
       "      <th>Sample #994</th>\n",
       "      <th>Sample #995</th>\n",
       "      <th>Sample #996</th>\n",
       "      <th>Sample #997</th>\n",
       "      <th>Sample #998</th>\n",
       "      <th>Sample #999</th>\n",
       "    </tr>\n",
       "  </thead>\n",
       "  <tbody>\n",
       "    <tr>\n",
       "      <th>0</th>\n",
       "      <td>95.81</td>\n",
       "      <td>56.12</td>\n",
       "      <td>81.10</td>\n",
       "      <td>205.26</td>\n",
       "      <td>227.23</td>\n",
       "      <td>82.86</td>\n",
       "      <td>83.37</td>\n",
       "      <td>78.18</td>\n",
       "      <td>85.33</td>\n",
       "      <td>196.91</td>\n",
       "      <td>...</td>\n",
       "      <td>145.22</td>\n",
       "      <td>77.66</td>\n",
       "      <td>82.43</td>\n",
       "      <td>93.28</td>\n",
       "      <td>92.11</td>\n",
       "      <td>109.56</td>\n",
       "      <td>202.66</td>\n",
       "      <td>198.32</td>\n",
       "      <td>124.08</td>\n",
       "      <td>81.77</td>\n",
       "    </tr>\n",
       "    <tr>\n",
       "      <th>1</th>\n",
       "      <td>107.18</td>\n",
       "      <td>104.12</td>\n",
       "      <td>111.48</td>\n",
       "      <td>70.96</td>\n",
       "      <td>100.29</td>\n",
       "      <td>73.00</td>\n",
       "      <td>62.02</td>\n",
       "      <td>112.95</td>\n",
       "      <td>115.91</td>\n",
       "      <td>88.68</td>\n",
       "      <td>...</td>\n",
       "      <td>108.96</td>\n",
       "      <td>112.98</td>\n",
       "      <td>69.42</td>\n",
       "      <td>77.86</td>\n",
       "      <td>79.66</td>\n",
       "      <td>80.72</td>\n",
       "      <td>86.33</td>\n",
       "      <td>86.09</td>\n",
       "      <td>86.99</td>\n",
       "      <td>109.02</td>\n",
       "    </tr>\n",
       "    <tr>\n",
       "      <th>2</th>\n",
       "      <td>66.22</td>\n",
       "      <td>176.78</td>\n",
       "      <td>80.96</td>\n",
       "      <td>66.32</td>\n",
       "      <td>242.30</td>\n",
       "      <td>89.44</td>\n",
       "      <td>99.23</td>\n",
       "      <td>102.89</td>\n",
       "      <td>95.31</td>\n",
       "      <td>77.52</td>\n",
       "      <td>...</td>\n",
       "      <td>55.34</td>\n",
       "      <td>81.59</td>\n",
       "      <td>111.38</td>\n",
       "      <td>77.67</td>\n",
       "      <td>98.14</td>\n",
       "      <td>65.41</td>\n",
       "      <td>88.66</td>\n",
       "      <td>92.49</td>\n",
       "      <td>75.09</td>\n",
       "      <td>112.98</td>\n",
       "    </tr>\n",
       "    <tr>\n",
       "      <th>3</th>\n",
       "      <td>119.30</td>\n",
       "      <td>82.90</td>\n",
       "      <td>110.18</td>\n",
       "      <td>213.22</td>\n",
       "      <td>90.11</td>\n",
       "      <td>107.59</td>\n",
       "      <td>93.60</td>\n",
       "      <td>92.21</td>\n",
       "      <td>70.56</td>\n",
       "      <td>123.21</td>\n",
       "      <td>...</td>\n",
       "      <td>76.57</td>\n",
       "      <td>227.28</td>\n",
       "      <td>102.51</td>\n",
       "      <td>61.54</td>\n",
       "      <td>111.99</td>\n",
       "      <td>142.68</td>\n",
       "      <td>73.27</td>\n",
       "      <td>95.16</td>\n",
       "      <td>57.95</td>\n",
       "      <td>76.10</td>\n",
       "    </tr>\n",
       "    <tr>\n",
       "      <th>4</th>\n",
       "      <td>58.65</td>\n",
       "      <td>153.34</td>\n",
       "      <td>85.33</td>\n",
       "      <td>231.95</td>\n",
       "      <td>73.76</td>\n",
       "      <td>180.80</td>\n",
       "      <td>94.07</td>\n",
       "      <td>79.13</td>\n",
       "      <td>68.49</td>\n",
       "      <td>153.34</td>\n",
       "      <td>...</td>\n",
       "      <td>62.62</td>\n",
       "      <td>109.56</td>\n",
       "      <td>85.84</td>\n",
       "      <td>78.78</td>\n",
       "      <td>166.38</td>\n",
       "      <td>60.01</td>\n",
       "      <td>74.91</td>\n",
       "      <td>86.24</td>\n",
       "      <td>89.75</td>\n",
       "      <td>124.38</td>\n",
       "    </tr>\n",
       "    <tr>\n",
       "      <th>...</th>\n",
       "      <td>...</td>\n",
       "      <td>...</td>\n",
       "      <td>...</td>\n",
       "      <td>...</td>\n",
       "      <td>...</td>\n",
       "      <td>...</td>\n",
       "      <td>...</td>\n",
       "      <td>...</td>\n",
       "      <td>...</td>\n",
       "      <td>...</td>\n",
       "      <td>...</td>\n",
       "      <td>...</td>\n",
       "      <td>...</td>\n",
       "      <td>...</td>\n",
       "      <td>...</td>\n",
       "      <td>...</td>\n",
       "      <td>...</td>\n",
       "      <td>...</td>\n",
       "      <td>...</td>\n",
       "      <td>...</td>\n",
       "      <td>...</td>\n",
       "    </tr>\n",
       "    <tr>\n",
       "      <th>95</th>\n",
       "      <td>59.48</td>\n",
       "      <td>169.43</td>\n",
       "      <td>93.81</td>\n",
       "      <td>77.99</td>\n",
       "      <td>68.66</td>\n",
       "      <td>108.61</td>\n",
       "      <td>96.84</td>\n",
       "      <td>196.58</td>\n",
       "      <td>126.18</td>\n",
       "      <td>104.77</td>\n",
       "      <td>...</td>\n",
       "      <td>89.14</td>\n",
       "      <td>90.40</td>\n",
       "      <td>149.15</td>\n",
       "      <td>108.82</td>\n",
       "      <td>96.73</td>\n",
       "      <td>145.23</td>\n",
       "      <td>70.16</td>\n",
       "      <td>77.53</td>\n",
       "      <td>65.25</td>\n",
       "      <td>94.47</td>\n",
       "    </tr>\n",
       "    <tr>\n",
       "      <th>96</th>\n",
       "      <td>60.98</td>\n",
       "      <td>219.73</td>\n",
       "      <td>68.94</td>\n",
       "      <td>69.61</td>\n",
       "      <td>91.34</td>\n",
       "      <td>67.03</td>\n",
       "      <td>83.85</td>\n",
       "      <td>104.86</td>\n",
       "      <td>82.64</td>\n",
       "      <td>111.68</td>\n",
       "      <td>...</td>\n",
       "      <td>82.63</td>\n",
       "      <td>118.66</td>\n",
       "      <td>94.89</td>\n",
       "      <td>79.57</td>\n",
       "      <td>254.95</td>\n",
       "      <td>84.58</td>\n",
       "      <td>112.69</td>\n",
       "      <td>250.80</td>\n",
       "      <td>118.61</td>\n",
       "      <td>102.15</td>\n",
       "    </tr>\n",
       "    <tr>\n",
       "      <th>97</th>\n",
       "      <td>138.02</td>\n",
       "      <td>98.65</td>\n",
       "      <td>112.38</td>\n",
       "      <td>56.96</td>\n",
       "      <td>68.88</td>\n",
       "      <td>96.52</td>\n",
       "      <td>100.81</td>\n",
       "      <td>67.26</td>\n",
       "      <td>69.37</td>\n",
       "      <td>77.65</td>\n",
       "      <td>...</td>\n",
       "      <td>63.33</td>\n",
       "      <td>75.78</td>\n",
       "      <td>127.20</td>\n",
       "      <td>112.44</td>\n",
       "      <td>81.28</td>\n",
       "      <td>82.28</td>\n",
       "      <td>199.83</td>\n",
       "      <td>103.06</td>\n",
       "      <td>228.05</td>\n",
       "      <td>208.17</td>\n",
       "    </tr>\n",
       "    <tr>\n",
       "      <th>98</th>\n",
       "      <td>86.19</td>\n",
       "      <td>73.00</td>\n",
       "      <td>92.44</td>\n",
       "      <td>78.18</td>\n",
       "      <td>169.97</td>\n",
       "      <td>107.98</td>\n",
       "      <td>85.60</td>\n",
       "      <td>103.15</td>\n",
       "      <td>231.19</td>\n",
       "      <td>74.16</td>\n",
       "      <td>...</td>\n",
       "      <td>108.51</td>\n",
       "      <td>84.59</td>\n",
       "      <td>67.92</td>\n",
       "      <td>68.52</td>\n",
       "      <td>112.69</td>\n",
       "      <td>163.02</td>\n",
       "      <td>145.15</td>\n",
       "      <td>81.78</td>\n",
       "      <td>86.84</td>\n",
       "      <td>97.34</td>\n",
       "    </tr>\n",
       "    <tr>\n",
       "      <th>99</th>\n",
       "      <td>95.31</td>\n",
       "      <td>74.96</td>\n",
       "      <td>107.11</td>\n",
       "      <td>101.89</td>\n",
       "      <td>73.44</td>\n",
       "      <td>78.43</td>\n",
       "      <td>102.15</td>\n",
       "      <td>121.80</td>\n",
       "      <td>89.81</td>\n",
       "      <td>106.84</td>\n",
       "      <td>...</td>\n",
       "      <td>56.21</td>\n",
       "      <td>58.95</td>\n",
       "      <td>84.84</td>\n",
       "      <td>79.89</td>\n",
       "      <td>70.58</td>\n",
       "      <td>87.24</td>\n",
       "      <td>60.64</td>\n",
       "      <td>102.36</td>\n",
       "      <td>75.06</td>\n",
       "      <td>100.08</td>\n",
       "    </tr>\n",
       "  </tbody>\n",
       "</table>\n",
       "<p>100 rows × 1000 columns</p>\n",
       "</div>"
      ],
      "text/plain": [
       "    Sample #0  Sample #1  Sample #2  Sample #3  Sample #4  Sample #5  \\\n",
       "0       95.81      56.12      81.10     205.26     227.23      82.86   \n",
       "1      107.18     104.12     111.48      70.96     100.29      73.00   \n",
       "2       66.22     176.78      80.96      66.32     242.30      89.44   \n",
       "3      119.30      82.90     110.18     213.22      90.11     107.59   \n",
       "4       58.65     153.34      85.33     231.95      73.76     180.80   \n",
       "..        ...        ...        ...        ...        ...        ...   \n",
       "95      59.48     169.43      93.81      77.99      68.66     108.61   \n",
       "96      60.98     219.73      68.94      69.61      91.34      67.03   \n",
       "97     138.02      98.65     112.38      56.96      68.88      96.52   \n",
       "98      86.19      73.00      92.44      78.18     169.97     107.98   \n",
       "99      95.31      74.96     107.11     101.89      73.44      78.43   \n",
       "\n",
       "    Sample #6  Sample #7  Sample #8  Sample #9  ...  Sample #990  Sample #991  \\\n",
       "0       83.37      78.18      85.33     196.91  ...       145.22        77.66   \n",
       "1       62.02     112.95     115.91      88.68  ...       108.96       112.98   \n",
       "2       99.23     102.89      95.31      77.52  ...        55.34        81.59   \n",
       "3       93.60      92.21      70.56     123.21  ...        76.57       227.28   \n",
       "4       94.07      79.13      68.49     153.34  ...        62.62       109.56   \n",
       "..        ...        ...        ...        ...  ...          ...          ...   \n",
       "95      96.84     196.58     126.18     104.77  ...        89.14        90.40   \n",
       "96      83.85     104.86      82.64     111.68  ...        82.63       118.66   \n",
       "97     100.81      67.26      69.37      77.65  ...        63.33        75.78   \n",
       "98      85.60     103.15     231.19      74.16  ...       108.51        84.59   \n",
       "99     102.15     121.80      89.81     106.84  ...        56.21        58.95   \n",
       "\n",
       "    Sample #992  Sample #993  Sample #994  Sample #995  Sample #996  \\\n",
       "0         82.43        93.28        92.11       109.56       202.66   \n",
       "1         69.42        77.86        79.66        80.72        86.33   \n",
       "2        111.38        77.67        98.14        65.41        88.66   \n",
       "3        102.51        61.54       111.99       142.68        73.27   \n",
       "4         85.84        78.78       166.38        60.01        74.91   \n",
       "..          ...          ...          ...          ...          ...   \n",
       "95       149.15       108.82        96.73       145.23        70.16   \n",
       "96        94.89        79.57       254.95        84.58       112.69   \n",
       "97       127.20       112.44        81.28        82.28       199.83   \n",
       "98        67.92        68.52       112.69       163.02       145.15   \n",
       "99        84.84        79.89        70.58        87.24        60.64   \n",
       "\n",
       "    Sample #997  Sample #998  Sample #999  \n",
       "0        198.32       124.08        81.77  \n",
       "1         86.09        86.99       109.02  \n",
       "2         92.49        75.09       112.98  \n",
       "3         95.16        57.95        76.10  \n",
       "4         86.24        89.75       124.38  \n",
       "..          ...          ...          ...  \n",
       "95        77.53        65.25        94.47  \n",
       "96       250.80       118.61       102.15  \n",
       "97       103.06       228.05       208.17  \n",
       "98        81.78        86.84        97.34  \n",
       "99       102.36        75.06       100.08  \n",
       "\n",
       "[100 rows x 1000 columns]"
      ]
     },
     "execution_count": 96,
     "metadata": {},
     "output_type": "execute_result"
    }
   ],
   "source": [
    "samples[100]"
   ]
  },
  {
   "cell_type": "code",
   "execution_count": 97,
   "id": "3ced7323-508c-4d07-bdb5-a31f2768b980",
   "metadata": {},
   "outputs": [
    {
     "data": {
      "text/plain": [
       "Sample #0      112.4485\n",
       "Sample #1      106.3785\n",
       "Sample #2      102.0105\n",
       "Sample #3      108.1286\n",
       "Sample #4      110.2235\n",
       "                 ...   \n",
       "Sample #995    106.8816\n",
       "Sample #996    105.2355\n",
       "Sample #997    111.0853\n",
       "Sample #998    109.2296\n",
       "Sample #999    107.4298\n",
       "Length: 1000, dtype: float64"
      ]
     },
     "execution_count": 97,
     "metadata": {},
     "output_type": "execute_result"
    }
   ],
   "source": [
    "# mean of each one of the 1000 samples with sample size of 100\n",
    "samples[100].mean()"
   ]
  },
  {
   "cell_type": "code",
   "execution_count": 98,
   "id": "bde8707d-c265-4f57-8542-a511664de713",
   "metadata": {},
   "outputs": [
    {
     "data": {
      "image/png": "[encoded data removed]",
      "text/plain": [
       "<Figure size 1728x216 with 5 Axes>"
      ]
     },
     "metadata": {
      "needs_background": "light"
     },
     "output_type": "display_data"
    }
   ],
   "source": [
    "sample_sizes = sorted(samples.keys())\n",
    "\n",
    "fig, axs = plt.subplots(1, 5, figsize=(24, 3))\n",
    "\n",
    "for i, n in enumerate(sample_sizes):\n",
    "    sampling_distribution = samples[n].mean()\n",
    "    mean_of_sampling_distribution = sampling_distribution.mean()\n",
    "    \n",
    "    ax = sns.histplot(sampling_distribution, ax=axs[i])\n",
    "    axs[i].axvline(x=mean_of_sampling_distribution, color='red')\n",
    "    ax.annotate(f'Mean\\n{mean_of_sampling_distribution:.2f}', xy=(mean_of_sampling_distribution + 1, 120))\n",
    "    ax.spines['top'].set_visible(False)\n",
    "    ax.set_ylim([0, 130])"
   ]
  },
  {
   "cell_type": "markdown",
   "id": "a226f526-149e-409e-b80d-e1fd2f395445",
   "metadata": {},
   "source": [
    "#### Standard error"
   ]
  },
  {
   "cell_type": "markdown",
   "id": "79601f88-5dfd-4520-b1c0-7e92914754a3",
   "metadata": {},
   "source": [
    "<img src='../imgs/standard_error.png' width=150 />"
   ]
  },
  {
   "cell_type": "code",
   "execution_count": 99,
   "id": "bc5a4955-a716-4c6d-ac06-0b9e0bc64d90",
   "metadata": {},
   "outputs": [
    {
     "data": {
      "text/plain": [
       "45.28356015058203"
      ]
     },
     "execution_count": 99,
     "metadata": {},
     "output_type": "execute_result"
    }
   ],
   "source": [
    "population_std"
   ]
  },
  {
   "cell_type": "code",
   "execution_count": 100,
   "id": "20162a2c-9c29-4d1b-ba1d-d20e9243cc03",
   "metadata": {},
   "outputs": [
    {
     "data": {
      "text/plain": [
       "[5, 10, 30, 100, 1000]"
      ]
     },
     "execution_count": 100,
     "metadata": {},
     "output_type": "execute_result"
    }
   ],
   "source": [
    "sample_sizes"
   ]
  },
  {
   "cell_type": "code",
   "execution_count": 101,
   "id": "47b4f697-0fd2-4106-958f-9b0e32b760db",
   "metadata": {},
   "outputs": [
    {
     "name": "stdout",
     "output_type": "stream",
     "text": [
      "Population standard deviation = 45.28\n",
      "\n",
      "Standard Error for n=5: 20.25\n",
      "Standard Error for n=10: 14.32\n",
      "Standard Error for n=30: 8.27\n",
      "Standard Error for n=100: 4.53\n",
      "Standard Error for n=1000: 1.43\n"
     ]
    }
   ],
   "source": [
    "print(f'Population standard deviation = {population_std:.2f}\\n')\n",
    "\n",
    "for n in sample_sizes:\n",
    "    standard_error = population_std / np.sqrt(n)\n",
    "    print(f'Standard Error for n={n}: {standard_error:.2f}')"
   ]
  },
  {
   "cell_type": "markdown",
   "id": "beb09e9b-f0a8-4a84-af90-37972d5cc3cc",
   "metadata": {},
   "source": [
    "**The larger the sample size, the smaller the standard error.**"
   ]
  },
  {
   "cell_type": "markdown",
   "id": "4abad47c-3d69-4968-b90b-517c28f1b8ec",
   "metadata": {},
   "source": [
    "<br/>\n",
    "\n",
    "# 3. Confidence Interval"
   ]
  },
  {
   "cell_type": "markdown",
   "id": "eefa6d1d-4e27-497e-8b87-5246244b0dd7",
   "metadata": {},
   "source": [
    "<img src='../imgs/confidence_interval.png' width=700 />"
   ]
  },
  {
   "cell_type": "markdown",
   "id": "526e9cf8-0374-4cb1-bb66-9b7910cb7c88",
   "metadata": {},
   "source": [
    "- A **90% level of confidence** has 𝜶 = 0.10 and **critical value** of 𝑧𝛼/2 = 1.64.\n",
    "- A **95% level of confidence** has 𝜶 = 0.05 and **critical value** of 𝑧𝛼/2 = 1.96.\n",
    "- A **99% level of confidence** has 𝜶 = 0.01 and **critical value** of 𝑧𝛼/2 = 2.58."
   ]
  },
  {
   "cell_type": "code",
   "execution_count": 125,
   "id": "7ed64420-b0f5-42f9-9bfc-d97c36f1b999",
   "metadata": {},
   "outputs": [
    {
     "name": "stdout",
     "output_type": "stream",
     "text": [
      "Valor critico para alpha = 0.1: -1.64\n",
      "Valor critico para alpha = 0.05: -1.96\n",
      "Valor critico para alpha = 0.01: -2.58\n"
     ]
    }
   ],
   "source": [
    "from scipy.stats import norm\n",
    "\n",
    "print(f'Valor critico para alpha = 0.1: {norm.ppf(0.05):.2f}')\n",
    "print(f'Valor critico para alpha = 0.05: {norm.ppf(0.025):.2f}')\n",
    "print(f'Valor critico para alpha = 0.01: {norm.ppf(0.005):.2f}')"
   ]
  },
  {
   "cell_type": "markdown",
   "id": "8797b54e-01cb-4fcc-b758-e2b20104dd2d",
   "metadata": {},
   "source": [
    "## Exercise 1\n",
    "Suppose the heights of the inhabitants of a city are **normally distributed** with **population standard deviation** of 20 cm.\n",
    "We measure the heights of **40** randomly chosen people, and get a **mean height** of 1.75 m.\n",
    "Construct a **confidence interval** for the population mean with a **confidence level of 5%**."
   ]
  },
  {
   "cell_type": "markdown",
   "id": "8597af5a-4da6-448e-bcfb-1e60d40962c4",
   "metadata": {},
   "source": [
    "### Sample size"
   ]
  },
  {
   "cell_type": "code",
   "execution_count": 104,
   "id": "aeecae4a-0dd5-47e8-80e2-4a6d3aaf0387",
   "metadata": {},
   "outputs": [
    {
     "data": {
      "text/plain": [
       "40"
      ]
     },
     "execution_count": 104,
     "metadata": {},
     "output_type": "execute_result"
    }
   ],
   "source": [
    "# Sample size\n",
    "n = 40\n",
    "n"
   ]
  },
  {
   "cell_type": "markdown",
   "id": "39c09955-f776-4bf8-86b9-013f129b1995",
   "metadata": {},
   "source": [
    "### Population standard deviation and sample mean"
   ]
  },
  {
   "cell_type": "code",
   "execution_count": 105,
   "id": "7cbd54de-3595-4da2-9127-bc956a0beabc",
   "metadata": {},
   "outputs": [
    {
     "data": {
      "text/plain": [
       "20"
      ]
     },
     "execution_count": 105,
     "metadata": {},
     "output_type": "execute_result"
    }
   ],
   "source": [
    "population_std = 20\n",
    "population_std"
   ]
  },
  {
   "cell_type": "code",
   "execution_count": 106,
   "id": "9f55c3f7-b082-4292-b9b9-09c5145e539f",
   "metadata": {},
   "outputs": [
    {
     "data": {
      "text/plain": [
       "175"
      ]
     },
     "execution_count": 106,
     "metadata": {},
     "output_type": "execute_result"
    }
   ],
   "source": [
    "sample_mean = 175\n",
    "sample_mean"
   ]
  },
  {
   "cell_type": "markdown",
   "id": "2443f4bd-d8ba-4b3a-b327-95cd55aa92fc",
   "metadata": {},
   "source": [
    "### Significance level (α)"
   ]
  },
  {
   "cell_type": "code",
   "execution_count": 107,
   "id": "f0b33482-6e80-466c-97cf-f34ef6912fe9",
   "metadata": {},
   "outputs": [
    {
     "data": {
      "text/plain": [
       "0.05"
      ]
     },
     "execution_count": 107,
     "metadata": {},
     "output_type": "execute_result"
    }
   ],
   "source": [
    "significance_level = 0.05\n",
    "significance_level"
   ]
  },
  {
   "cell_type": "markdown",
   "id": "ca76e214-bada-466d-b2d9-8bb5abec820e",
   "metadata": {},
   "source": [
    "### Confidence level (1 - α)"
   ]
  },
  {
   "cell_type": "code",
   "execution_count": 108,
   "id": "f5fe22bc-fd3e-49db-83ec-0b4ad300e580",
   "metadata": {},
   "outputs": [
    {
     "data": {
      "text/plain": [
       "0.95"
      ]
     },
     "execution_count": 108,
     "metadata": {},
     "output_type": "execute_result"
    }
   ],
   "source": [
    "confidence_level = 1 - significance_level\n",
    "confidence_level"
   ]
  },
  {
   "cell_type": "markdown",
   "id": "b6313ed2-f639-4bee-9416-9adf2d02b2d8",
   "metadata": {},
   "source": [
    "### Critical value (𝒛𝜶/𝟐)"
   ]
  },
  {
   "cell_type": "code",
   "execution_count": 109,
   "id": "cdb24948-b417-4606-addb-a6f6c432d9ef",
   "metadata": {},
   "outputs": [
    {
     "data": {
      "text/plain": [
       "1.96"
      ]
     },
     "execution_count": 109,
     "metadata": {},
     "output_type": "execute_result"
    }
   ],
   "source": [
    "critical_value = 1.96\n",
    "critical_value"
   ]
  },
  {
   "cell_type": "markdown",
   "id": "66046918-17d6-4355-a749-07da2697a9e8",
   "metadata": {},
   "source": [
    "### Standard Error"
   ]
  },
  {
   "cell_type": "code",
   "execution_count": 111,
   "id": "ace7ba5e-000a-450c-8105-36f1a6e9eed8",
   "metadata": {},
   "outputs": [
    {
     "data": {
      "text/plain": [
       "3.162277660168379"
      ]
     },
     "execution_count": 111,
     "metadata": {},
     "output_type": "execute_result"
    }
   ],
   "source": [
    "standard_error = population_std / np.sqrt(n)\n",
    "standard_error"
   ]
  },
  {
   "cell_type": "markdown",
   "id": "84da4e96-13a8-4481-922d-7b1aab4d0c8c",
   "metadata": {},
   "source": [
    "### Margin of Error"
   ]
  },
  {
   "cell_type": "code",
   "execution_count": 112,
   "id": "9fd70b0f-8f93-4e34-acfd-ea5dccbc129d",
   "metadata": {},
   "outputs": [
    {
     "data": {
      "text/plain": [
       "6.198064213930023"
      ]
     },
     "execution_count": 112,
     "metadata": {},
     "output_type": "execute_result"
    }
   ],
   "source": [
    "margin_of_error = critical_value * standard_error\n",
    "margin_of_error"
   ]
  },
  {
   "cell_type": "markdown",
   "id": "86851bb9-4a92-4455-b51f-d34cdf8bdf39",
   "metadata": {},
   "source": [
    "### 95% Confidence Interval"
   ]
  },
  {
   "cell_type": "markdown",
   "id": "5c175408-a658-4165-b878-c149b7c1d939",
   "metadata": {},
   "source": [
    "#### Solution 1 - manually"
   ]
  },
  {
   "cell_type": "code",
   "execution_count": 113,
   "id": "64650b60-1a72-4d71-b557-e279e0b1024e",
   "metadata": {},
   "outputs": [
    {
     "data": {
      "text/plain": [
       "(168.80193578606998, 181.19806421393002)"
      ]
     },
     "execution_count": 113,
     "metadata": {},
     "output_type": "execute_result"
    }
   ],
   "source": [
    "confidence_interval = (\n",
    "    sample_mean - margin_of_error,\n",
    "    sample_mean + margin_of_error\n",
    ")\n",
    "confidence_interval"
   ]
  },
  {
   "cell_type": "markdown",
   "id": "3c79387b-b0f2-497b-a2bb-d8bbc9bf0634",
   "metadata": {},
   "source": [
    "#### Solution 2 - Scipy\n",
    "https://docs.scipy.org/doc/scipy/reference/generated/scipy.stats.norm.html\n",
    "\n",
    "alpha ==> confidence interval <br/>\n",
    "loc ==> sample mean  <br/>\n",
    "scale ==> standard error"
   ]
  },
  {
   "cell_type": "code",
   "execution_count": 115,
   "id": "3ad827a2-de7c-4f44-aa3a-e5f5f308d925",
   "metadata": {},
   "outputs": [],
   "source": [
    "from scipy.stats import norm"
   ]
  },
  {
   "cell_type": "code",
   "execution_count": 116,
   "id": "e4a24a6a-3ca3-4791-a8a3-709d62330833",
   "metadata": {},
   "outputs": [
    {
     "data": {
      "text/plain": [
       "(168.8020496769544, 181.1979503230456)"
      ]
     },
     "execution_count": 116,
     "metadata": {},
     "output_type": "execute_result"
    }
   ],
   "source": [
    "norm.interval(alpha=confidence_level, loc=sample_mean, scale=standard_error)"
   ]
  },
  {
   "cell_type": "markdown",
   "id": "176b53d3-7efb-43d9-9dbd-b7bad400746e",
   "metadata": {},
   "source": [
    "## Exercise 2\n",
    "Given a dataset from stroke patients, we want to study their mean glucose level. <br/>\n",
    "For two samples of 100 and 1000 observations, provide a 95% confidence intervals for the following scenarios:\n",
    "\n",
    "**(a) Known population standard deviation** <br/>\n",
    "**(b) Unknown population standard deviation**\n",
    "\n",
    "**Dataset:** https://www.kaggle.com/fedesoriano/stroke-prediction-dataset"
   ]
  },
  {
   "cell_type": "code",
   "execution_count": 126,
   "id": "9559b5db-2b67-4a75-9487-58767885165b",
   "metadata": {},
   "outputs": [
    {
     "data": {
      "text/html": [
       "<div>\n",
       "<style scoped>\n",
       "    .dataframe tbody tr th:only-of-type {\n",
       "        vertical-align: middle;\n",
       "    }\n",
       "\n",
       "    .dataframe tbody tr th {\n",
       "        vertical-align: top;\n",
       "    }\n",
       "\n",
       "    .dataframe thead th {\n",
       "        text-align: right;\n",
       "    }\n",
       "</style>\n",
       "<table border=\"1\" class=\"dataframe\">\n",
       "  <thead>\n",
       "    <tr style=\"text-align: right;\">\n",
       "      <th></th>\n",
       "      <th>id</th>\n",
       "      <th>gender</th>\n",
       "      <th>age</th>\n",
       "      <th>hypertension</th>\n",
       "      <th>heart_disease</th>\n",
       "      <th>ever_married</th>\n",
       "      <th>work_type</th>\n",
       "      <th>Residence_type</th>\n",
       "      <th>avg_glucose_level</th>\n",
       "      <th>bmi</th>\n",
       "      <th>smoking_status</th>\n",
       "      <th>stroke</th>\n",
       "    </tr>\n",
       "  </thead>\n",
       "  <tbody>\n",
       "    <tr>\n",
       "      <th>0</th>\n",
       "      <td>9046</td>\n",
       "      <td>Male</td>\n",
       "      <td>67.0</td>\n",
       "      <td>0</td>\n",
       "      <td>1</td>\n",
       "      <td>Yes</td>\n",
       "      <td>Private</td>\n",
       "      <td>Urban</td>\n",
       "      <td>228.69</td>\n",
       "      <td>36.6</td>\n",
       "      <td>formerly smoked</td>\n",
       "      <td>1</td>\n",
       "    </tr>\n",
       "    <tr>\n",
       "      <th>1</th>\n",
       "      <td>51676</td>\n",
       "      <td>Female</td>\n",
       "      <td>61.0</td>\n",
       "      <td>0</td>\n",
       "      <td>0</td>\n",
       "      <td>Yes</td>\n",
       "      <td>Self-employed</td>\n",
       "      <td>Rural</td>\n",
       "      <td>202.21</td>\n",
       "      <td>NaN</td>\n",
       "      <td>never smoked</td>\n",
       "      <td>1</td>\n",
       "    </tr>\n",
       "    <tr>\n",
       "      <th>2</th>\n",
       "      <td>31112</td>\n",
       "      <td>Male</td>\n",
       "      <td>80.0</td>\n",
       "      <td>0</td>\n",
       "      <td>1</td>\n",
       "      <td>Yes</td>\n",
       "      <td>Private</td>\n",
       "      <td>Rural</td>\n",
       "      <td>105.92</td>\n",
       "      <td>32.5</td>\n",
       "      <td>never smoked</td>\n",
       "      <td>1</td>\n",
       "    </tr>\n",
       "    <tr>\n",
       "      <th>3</th>\n",
       "      <td>60182</td>\n",
       "      <td>Female</td>\n",
       "      <td>49.0</td>\n",
       "      <td>0</td>\n",
       "      <td>0</td>\n",
       "      <td>Yes</td>\n",
       "      <td>Private</td>\n",
       "      <td>Urban</td>\n",
       "      <td>171.23</td>\n",
       "      <td>34.4</td>\n",
       "      <td>smokes</td>\n",
       "      <td>1</td>\n",
       "    </tr>\n",
       "    <tr>\n",
       "      <th>4</th>\n",
       "      <td>1665</td>\n",
       "      <td>Female</td>\n",
       "      <td>79.0</td>\n",
       "      <td>1</td>\n",
       "      <td>0</td>\n",
       "      <td>Yes</td>\n",
       "      <td>Self-employed</td>\n",
       "      <td>Rural</td>\n",
       "      <td>174.12</td>\n",
       "      <td>24.0</td>\n",
       "      <td>never smoked</td>\n",
       "      <td>1</td>\n",
       "    </tr>\n",
       "  </tbody>\n",
       "</table>\n",
       "</div>"
      ],
      "text/plain": [
       "      id  gender   age  hypertension  heart_disease ever_married  \\\n",
       "0   9046    Male  67.0             0              1          Yes   \n",
       "1  51676  Female  61.0             0              0          Yes   \n",
       "2  31112    Male  80.0             0              1          Yes   \n",
       "3  60182  Female  49.0             0              0          Yes   \n",
       "4   1665  Female  79.0             1              0          Yes   \n",
       "\n",
       "       work_type Residence_type  avg_glucose_level   bmi   smoking_status  \\\n",
       "0        Private          Urban             228.69  36.6  formerly smoked   \n",
       "1  Self-employed          Rural             202.21   NaN     never smoked   \n",
       "2        Private          Rural             105.92  32.5     never smoked   \n",
       "3        Private          Urban             171.23  34.4           smokes   \n",
       "4  Self-employed          Rural             174.12  24.0     never smoked   \n",
       "\n",
       "   stroke  \n",
       "0       1  \n",
       "1       1  \n",
       "2       1  \n",
       "3       1  \n",
       "4       1  "
      ]
     },
     "execution_count": 126,
     "metadata": {},
     "output_type": "execute_result"
    }
   ],
   "source": [
    "df = pd.read_csv('../datasets/healthcare-dataset-stroke-data.csv')\n",
    "df.head()"
   ]
  },
  {
   "cell_type": "code",
   "execution_count": 127,
   "id": "d9bc7f6f-5f06-4406-b0c3-629327468ef9",
   "metadata": {},
   "outputs": [
    {
     "data": {
      "text/plain": [
       "0       228.69\n",
       "1       202.21\n",
       "2       105.92\n",
       "3       171.23\n",
       "4       174.12\n",
       "         ...  \n",
       "5105     83.75\n",
       "5106    125.20\n",
       "5107     82.99\n",
       "5108    166.29\n",
       "5109     85.28\n",
       "Name: avg_glucose_level, Length: 5110, dtype: float64"
      ]
     },
     "execution_count": 127,
     "metadata": {},
     "output_type": "execute_result"
    }
   ],
   "source": [
    "population = df['avg_glucose_level']\n",
    "population"
   ]
  },
  {
   "cell_type": "code",
   "execution_count": 128,
   "id": "56b91735-4060-4791-a2aa-4e32d113f7e0",
   "metadata": {},
   "outputs": [
    {
     "data": {
      "text/plain": [
       "106.14767710371804"
      ]
     },
     "execution_count": 128,
     "metadata": {},
     "output_type": "execute_result"
    }
   ],
   "source": [
    "population_mean = population.mean()\n",
    "population_mean"
   ]
  },
  {
   "cell_type": "code",
   "execution_count": 129,
   "id": "682fda2c-5d50-4276-bcac-e663866b4306",
   "metadata": {},
   "outputs": [
    {
     "data": {
      "text/plain": [
       "<AxesSubplot:xlabel='avg_glucose_level', ylabel='Count'>"
      ]
     },
     "execution_count": 129,
     "metadata": {},
     "output_type": "execute_result"
    },
    {
     "data": {
      "image/png": "[encoded data removed]",
      "text/plain": [
       "<Figure size 432x288 with 1 Axes>"
      ]
     },
     "metadata": {
      "needs_background": "light"
     },
     "output_type": "display_data"
    }
   ],
   "source": [
    "sns.histplot(data=population, kde=True)"
   ]
  },
  {
   "cell_type": "markdown",
   "id": "99697673-e6ba-4743-af37-965aee37b722",
   "metadata": {},
   "source": [
    "#### Population Mean = 106.1476771037182"
   ]
  },
  {
   "cell_type": "code",
   "execution_count": 130,
   "id": "c6efcb8a-34ec-473a-b5e6-d42397e11604",
   "metadata": {},
   "outputs": [
    {
     "data": {
      "text/plain": [
       "45.28356015058203"
      ]
     },
     "execution_count": 130,
     "metadata": {},
     "output_type": "execute_result"
    }
   ],
   "source": [
    "population_std = population.std()\n",
    "population_std"
   ]
  },
  {
   "cell_type": "code",
   "execution_count": 131,
   "id": "12a8c762-aa80-45b7-9c53-0ab80e51f3b0",
   "metadata": {
    "tags": []
   },
   "outputs": [
    {
     "data": {
      "text/plain": [
       "0.95"
      ]
     },
     "execution_count": 131,
     "metadata": {},
     "output_type": "execute_result"
    }
   ],
   "source": [
    "confidence_level = 0.95\n",
    "confidence_level"
   ]
  },
  {
   "cell_type": "code",
   "execution_count": 132,
   "id": "b69707cb-d067-4ccf-81f3-f25b779041ca",
   "metadata": {},
   "outputs": [
    {
     "data": {
      "text/plain": [
       "0.050000000000000044"
      ]
     },
     "execution_count": 132,
     "metadata": {},
     "output_type": "execute_result"
    }
   ],
   "source": [
    "significance_level = 1 - confidence_level\n",
    "significance_level"
   ]
  },
  {
   "cell_type": "code",
   "execution_count": 133,
   "id": "319cb258-a2d4-4fa2-9f98-2ff5cb32c11e",
   "metadata": {},
   "outputs": [
    {
     "data": {
      "text/plain": [
       "4358     80.94\n",
       "4779     66.71\n",
       "931      78.11\n",
       "3917     90.00\n",
       "1095    103.94\n",
       "         ...  \n",
       "1566    101.43\n",
       "222     205.35\n",
       "3075     80.92\n",
       "580     107.47\n",
       "1947     65.95\n",
       "Name: avg_glucose_level, Length: 100, dtype: float64"
      ]
     },
     "execution_count": 133,
     "metadata": {},
     "output_type": "execute_result"
    }
   ],
   "source": [
    "sample_100 = population.sample(100, random_state=999)\n",
    "sample_100"
   ]
  },
  {
   "cell_type": "code",
   "execution_count": 134,
   "id": "8f46a321-c54a-4036-b1ae-89711a3a7ad7",
   "metadata": {},
   "outputs": [
    {
     "data": {
      "text/plain": [
       "<AxesSubplot:xlabel='avg_glucose_level', ylabel='Count'>"
      ]
     },
     "execution_count": 134,
     "metadata": {},
     "output_type": "execute_result"
    },
    {
     "data": {
      "image/png": "[encoded data removed]",
      "text/plain": [
       "<Figure size 432x288 with 1 Axes>"
      ]
     },
     "metadata": {
      "needs_background": "light"
     },
     "output_type": "display_data"
    }
   ],
   "source": [
    "sns.histplot(data=sample_100, kde=True)"
   ]
  },
  {
   "cell_type": "code",
   "execution_count": 135,
   "id": "e7bfe725-835b-45ee-8afa-1f798bc9ab43",
   "metadata": {},
   "outputs": [
    {
     "data": {
      "text/plain": [
       "4358     80.94\n",
       "4779     66.71\n",
       "931      78.11\n",
       "3917     90.00\n",
       "1095    103.94\n",
       "         ...  \n",
       "3278     84.70\n",
       "1204    121.19\n",
       "490      65.24\n",
       "2650     59.00\n",
       "34       84.20\n",
       "Name: avg_glucose_level, Length: 1000, dtype: float64"
      ]
     },
     "execution_count": 135,
     "metadata": {},
     "output_type": "execute_result"
    }
   ],
   "source": [
    "sample_1000 = population.sample(1000, random_state=999)\n",
    "sample_1000"
   ]
  },
  {
   "cell_type": "code",
   "execution_count": 136,
   "id": "59b167d8-4da2-437d-a7db-1113b72125ac",
   "metadata": {},
   "outputs": [
    {
     "data": {
      "text/plain": [
       "<AxesSubplot:xlabel='avg_glucose_level', ylabel='Count'>"
      ]
     },
     "execution_count": 136,
     "metadata": {},
     "output_type": "execute_result"
    },
    {
     "data": {
      "image/png": "[encoded data removed]",
      "text/plain": [
       "<Figure size 432x288 with 1 Axes>"
      ]
     },
     "metadata": {
      "needs_background": "light"
     },
     "output_type": "display_data"
    }
   ],
   "source": [
    "sns.histplot(data=sample_1000, kde=True)"
   ]
  },
  {
   "cell_type": "markdown",
   "id": "a2bca455-7179-4013-a351-070569cf5519",
   "metadata": {},
   "source": [
    "#### **(a) Known population standard deviation, and sample sizes of 100 and 1000**"
   ]
  },
  {
   "cell_type": "markdown",
   "id": "c4b9152d-b3b2-41b4-8dcc-a09398408ef5",
   "metadata": {},
   "source": [
    "#### Sample size 100"
   ]
  },
  {
   "cell_type": "code",
   "execution_count": 137,
   "id": "36d512fc-f774-451e-96f0-5311e611aee7",
   "metadata": {},
   "outputs": [
    {
     "data": {
      "text/plain": [
       "100"
      ]
     },
     "execution_count": 137,
     "metadata": {},
     "output_type": "execute_result"
    }
   ],
   "source": [
    "n = 100\n",
    "n"
   ]
  },
  {
   "cell_type": "code",
   "execution_count": 138,
   "id": "fa31f8b3-e102-4291-8693-fe2f0dba0331",
   "metadata": {},
   "outputs": [
    {
     "data": {
      "text/plain": [
       "107.90570000000007"
      ]
     },
     "execution_count": 138,
     "metadata": {},
     "output_type": "execute_result"
    }
   ],
   "source": [
    "sample_100_mean = sample_100.mean()\n",
    "sample_100_mean"
   ]
  },
  {
   "cell_type": "code",
   "execution_count": 139,
   "id": "5ba50de1-0e02-4b6f-9fcb-d15e1ed50804",
   "metadata": {},
   "outputs": [
    {
     "data": {
      "text/plain": [
       "4.528356015058203"
      ]
     },
     "execution_count": 139,
     "metadata": {},
     "output_type": "execute_result"
    }
   ],
   "source": [
    "standard_error_100 = population_std / np.sqrt(n)\n",
    "standard_error_100"
   ]
  },
  {
   "cell_type": "code",
   "execution_count": 140,
   "id": "0a0b4844-e402-4f68-ae66-9da00543c584",
   "metadata": {},
   "outputs": [
    {
     "data": {
      "text/plain": [
       "(99.03028530131067, 116.78111469868946)"
      ]
     },
     "execution_count": 140,
     "metadata": {},
     "output_type": "execute_result"
    }
   ],
   "source": [
    "norm.interval(alpha=confidence_level, loc=sample_100_mean, scale=standard_error_100)"
   ]
  },
  {
   "cell_type": "markdown",
   "id": "7c0e98b1-64c5-447d-89c3-c771bd4e0f84",
   "metadata": {},
   "source": [
    "#### Sample size 1000"
   ]
  },
  {
   "cell_type": "code",
   "execution_count": 141,
   "id": "1eb494c4-b499-4740-ab78-6f107840cceb",
   "metadata": {},
   "outputs": [
    {
     "data": {
      "text/plain": [
       "1000"
      ]
     },
     "execution_count": 141,
     "metadata": {},
     "output_type": "execute_result"
    }
   ],
   "source": [
    "n = 1000\n",
    "n"
   ]
  },
  {
   "cell_type": "code",
   "execution_count": 142,
   "id": "974fa1aa-7126-4eb2-820c-6eca137178c9",
   "metadata": {},
   "outputs": [
    {
     "data": {
      "text/plain": [
       "107.67421999999995"
      ]
     },
     "execution_count": 142,
     "metadata": {},
     "output_type": "execute_result"
    }
   ],
   "source": [
    "sample_1000_mean = sample_1000.mean()\n",
    "sample_1000_mean"
   ]
  },
  {
   "cell_type": "code",
   "execution_count": 143,
   "id": "69b584a1-03c8-4270-a038-6312f3cd8c4d",
   "metadata": {},
   "outputs": [
    {
     "data": {
      "text/plain": [
       "1.4319919063707662"
      ]
     },
     "execution_count": 143,
     "metadata": {},
     "output_type": "execute_result"
    }
   ],
   "source": [
    "standard_error_1000 = population_std / np.sqrt(n)\n",
    "standard_error_1000"
   ]
  },
  {
   "cell_type": "code",
   "execution_count": 144,
   "id": "874ac6d0-e718-494b-b675-888bd89bf5f2",
   "metadata": {},
   "outputs": [
    {
     "data": {
      "text/plain": [
       "(104.86756743736039, 110.4808725626395)"
      ]
     },
     "execution_count": 144,
     "metadata": {},
     "output_type": "execute_result"
    }
   ],
   "source": [
    "norm.interval(alpha=confidence_level, loc=sample_1000_mean, scale=standard_error_1000)"
   ]
  },
  {
   "cell_type": "markdown",
   "id": "f3905e58-f252-4041-a37f-0da0e4176f4e",
   "metadata": {},
   "source": [
    "#### **(b) Unknown population standard deviation, and sample sizes of 100 and 1000**"
   ]
  },
  {
   "cell_type": "markdown",
   "id": "614e7776-eb61-488a-8198-22732381c99f",
   "metadata": {},
   "source": [
    "#### Sample size 100"
   ]
  },
  {
   "cell_type": "code",
   "execution_count": 151,
   "id": "51eb2387-a0c6-4399-b4f4-e457e2c541f8",
   "metadata": {},
   "outputs": [
    {
     "data": {
      "text/plain": [
       "100"
      ]
     },
     "execution_count": 151,
     "metadata": {},
     "output_type": "execute_result"
    }
   ],
   "source": [
    "n = 100\n",
    "n"
   ]
  },
  {
   "cell_type": "code",
   "execution_count": 152,
   "id": "d75b61f8-1cea-4d42-a5a2-d80297b47083",
   "metadata": {},
   "outputs": [
    {
     "data": {
      "text/plain": [
       "107.90570000000007"
      ]
     },
     "execution_count": 152,
     "metadata": {},
     "output_type": "execute_result"
    }
   ],
   "source": [
    "sample_100_mean = sample_100.mean()\n",
    "sample_100_mean"
   ]
  },
  {
   "cell_type": "code",
   "execution_count": 153,
   "id": "0cda626d-4409-4592-a5a1-a4d29a1ffc71",
   "metadata": {},
   "outputs": [
    {
     "data": {
      "text/plain": [
       "47.96907099613586"
      ]
     },
     "execution_count": 153,
     "metadata": {},
     "output_type": "execute_result"
    }
   ],
   "source": [
    "sample_100_std = sample_100.std()\n",
    "sample_100_std"
   ]
  },
  {
   "cell_type": "code",
   "execution_count": 154,
   "id": "ca569bcd-91fd-48e4-b8b0-9159d1661387",
   "metadata": {},
   "outputs": [
    {
     "data": {
      "text/plain": [
       "4.796907099613586"
      ]
     },
     "execution_count": 154,
     "metadata": {},
     "output_type": "execute_result"
    }
   ],
   "source": [
    "standard_error_100 = sample_100_std / np.sqrt(n)\n",
    "standard_error_100"
   ]
  },
  {
   "cell_type": "code",
   "execution_count": 156,
   "id": "8d01ab8d-a4ec-40ef-b9b2-894a5c7d6247",
   "metadata": {},
   "outputs": [
    {
     "data": {
      "text/plain": [
       "(98.50393484757295, 117.30746515242718)"
      ]
     },
     "execution_count": 156,
     "metadata": {},
     "output_type": "execute_result"
    }
   ],
   "source": [
    "norm.interval(alpha=confidence_level, loc=sample_100_mean, scale=standard_error_100)"
   ]
  },
  {
   "cell_type": "markdown",
   "id": "5b699d8b-d0b6-40b9-9823-2fb2bf416df5",
   "metadata": {},
   "source": [
    "#### Sample size 1000"
   ]
  },
  {
   "cell_type": "code",
   "execution_count": 157,
   "id": "e51fe4a3-9bbe-4b72-bcf3-9650ac3ae24f",
   "metadata": {},
   "outputs": [
    {
     "data": {
      "text/plain": [
       "1000"
      ]
     },
     "execution_count": 157,
     "metadata": {},
     "output_type": "execute_result"
    }
   ],
   "source": [
    "n = 1000\n",
    "n"
   ]
  },
  {
   "cell_type": "code",
   "execution_count": 158,
   "id": "f1c3b44b-402c-44bd-afe2-3b650d9f450e",
   "metadata": {},
   "outputs": [
    {
     "data": {
      "text/plain": [
       "107.67421999999995"
      ]
     },
     "execution_count": 158,
     "metadata": {},
     "output_type": "execute_result"
    }
   ],
   "source": [
    "sample_1000_mean = sample_1000.mean()\n",
    "sample_1000_mean"
   ]
  },
  {
   "cell_type": "code",
   "execution_count": 159,
   "id": "7d64c148-4681-4c66-9225-d8996b95cae4",
   "metadata": {},
   "outputs": [
    {
     "data": {
      "text/plain": [
       "46.158967265859076"
      ]
     },
     "execution_count": 159,
     "metadata": {},
     "output_type": "execute_result"
    }
   ],
   "source": [
    "sample_1000_std = sample_1000.std()\n",
    "sample_1000_std"
   ]
  },
  {
   "cell_type": "code",
   "execution_count": 160,
   "id": "a507ca2a-ec01-44bd-a097-2f476b24f6cd",
   "metadata": {},
   "outputs": [
    {
     "data": {
      "text/plain": [
       "1.4596747100126966"
      ]
     },
     "execution_count": 160,
     "metadata": {},
     "output_type": "execute_result"
    }
   ],
   "source": [
    "standard_error_1000 = sample_1000_std / np.sqrt(n)\n",
    "standard_error_1000"
   ]
  },
  {
   "cell_type": "code",
   "execution_count": 161,
   "id": "4d9ee8d3-4225-4cc7-ad27-8b8f515b5fae",
   "metadata": {},
   "outputs": [
    {
     "data": {
      "text/plain": [
       "(104.81331013923112, 110.53512986076878)"
      ]
     },
     "execution_count": 161,
     "metadata": {},
     "output_type": "execute_result"
    }
   ],
   "source": [
    "norm.interval(alpha=confidence_level, loc=sample_1000_mean, scale=standard_error_1000)"
   ]
  }
 ],
 "metadata": {
  "kernelspec": {
   "display_name": "Python 3",
   "language": "python",
   "name": "python3"
  },
  "language_info": {
   "codemirror_mode": {
    "name": "ipython",
    "version": 3
   },
   "file_extension": ".py",
   "mimetype": "text/x-python",
   "name": "python",
   "nbconvert_exporter": "python",
   "pygments_lexer": "ipython3",
   "version": "3.9.2"
  }
 },
 "nbformat": 4,
 "nbformat_minor": 5
}
