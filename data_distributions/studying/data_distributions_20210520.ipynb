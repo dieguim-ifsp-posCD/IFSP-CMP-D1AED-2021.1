{
 "cells": [
  {
   "cell_type": "markdown",
   "id": "d00843b4-64a7-4ebe-be64-d86dc3514b9d",
   "metadata": {},
   "source": [
    "*Desenvolvido durante o acompanhamento da aula de 20 de maio de 2021*"
   ]
  },
  {
   "cell_type": "markdown",
   "id": "manufactured-server",
   "metadata": {},
   "source": [
    "**D1DAE: Análise Estatística para Ciência de Dados (2021.1)** <br/>\n",
    "IFSP Campinas\n",
    "\n",
    "Profs: Ricardo Sovat, Samuel Martins <br/><br/>\n",
    "\n",
    "<a rel=\"license\" href=\"http://creativecommons.org/licenses/by-nc-sa/4.0/\"><img alt=\"Creative Commons License\" style=\"border-width:0\" src=\"https://i.creativecommons.org/l/by-nc-sa/4.0/88x31.png\" /></a><br />This work is licensed under a <a rel=\"license\" href=\"http://creativecommons.org/licenses/by-nc-sa/4.0/\">Creative Commons Attribution-NonCommercial-ShareAlike 4.0 International License</a>."
   ]
  },
  {
   "cell_type": "code",
   "execution_count": 1,
   "id": "mexican-angel",
   "metadata": {},
   "outputs": [],
   "source": [
    "import pandas as pd\n",
    "import seaborn as sns\n",
    "import matplotlib.pyplot as plt\n",
    "import numpy as np"
   ]
  },
  {
   "cell_type": "markdown",
   "id": "immune-burlington",
   "metadata": {},
   "source": [
    "# 2. Binomial Distribution"
   ]
  },
  {
   "cell_type": "markdown",
   "id": "partial-stroke",
   "metadata": {},
   "source": [
    "<img src=\"../imgs/binomial_distribution_formula.png\" width=500/>"
   ]
  },
  {
   "cell_type": "markdown",
   "id": "distributed-injection",
   "metadata": {},
   "source": [
    "## Exercise 1"
   ]
  },
  {
   "cell_type": "markdown",
   "id": "rental-basic",
   "metadata": {},
   "source": [
    "In an admission test for the Data Science specialization, **10 questions** with  **3 possible choices** in each question.<br/>\n",
    "**Each question scores equally**. Suppose that a candidate have not been prepared for the test. She decided to guess all answers.<br/>\n",
    "Let the test has the **maximum score of 10** and **cut-off score of 5** for being approved for the next stage.<br/>\n",
    "\n",
    "Provide the _probability_ that this candidate will **get 5 questions right**, and the _probability_ that she will **advance to the next stage of the test**.<br/><br/>\n"
   ]
  },
  {
   "cell_type": "markdown",
   "id": "respiratory-still",
   "metadata": {},
   "source": [
    "### Is this a Binomial experiment?"
   ]
  },
  {
   "cell_type": "markdown",
   "id": "distinct-major",
   "metadata": {},
   "source": [
    "#### 1. How many trials (n)? (Fixed number of identical trials)"
   ]
  },
  {
   "cell_type": "code",
   "execution_count": 2,
   "id": "developmental-director",
   "metadata": {},
   "outputs": [
    {
     "data": {
      "text/plain": [
       "10"
      ]
     },
     "execution_count": 2,
     "metadata": {},
     "output_type": "execute_result"
    }
   ],
   "source": [
    "n = 10\n",
    "n"
   ]
  },
  {
   "cell_type": "markdown",
   "id": "boxed-browse",
   "metadata": {},
   "source": [
    "#### 2. Are the trials independent?"
   ]
  },
  {
   "cell_type": "markdown",
   "id": "collect-atlas",
   "metadata": {},
   "source": [
    "Yes. One option chosen for a given question does not influence the chosen answer for the other questions."
   ]
  },
  {
   "cell_type": "markdown",
   "id": "fluid-shakespeare",
   "metadata": {},
   "source": [
    "#### 3. Are only two outcomes possible per trial?"
   ]
  },
  {
   "cell_type": "markdown",
   "id": "military-platinum",
   "metadata": {},
   "source": [
    "Yes. The candidate has two possibilities: **hit** or **miss** the question."
   ]
  },
  {
   "cell_type": "markdown",
   "id": "clean-sodium",
   "metadata": {},
   "source": [
    "#### 4. What is the probability of success (p) and failure (q)?"
   ]
  },
  {
   "cell_type": "code",
   "execution_count": 3,
   "id": "choice-cookie",
   "metadata": {},
   "outputs": [],
   "source": [
    "n_choices_per_question = 3"
   ]
  },
  {
   "cell_type": "code",
   "execution_count": 4,
   "id": "noticed-beijing",
   "metadata": {},
   "outputs": [
    {
     "data": {
      "text/plain": [
       "0.3333333333333333"
      ]
     },
     "execution_count": 4,
     "metadata": {},
     "output_type": "execute_result"
    }
   ],
   "source": [
    "# prob of success\n",
    "p = 1 / n_choices_per_question\n",
    "p"
   ]
  },
  {
   "cell_type": "code",
   "execution_count": 5,
   "id": "correct-material",
   "metadata": {},
   "outputs": [
    {
     "data": {
      "text/plain": [
       "0.6666666666666667"
      ]
     },
     "execution_count": 5,
     "metadata": {},
     "output_type": "execute_result"
    }
   ],
   "source": [
    "# prob of failure\n",
    "q = 1 - p\n",
    "q"
   ]
  },
  {
   "cell_type": "markdown",
   "id": "checked-fitting",
   "metadata": {},
   "source": [
    "Therefore, it is a **Binomial experiment**."
   ]
  },
  {
   "cell_type": "markdown",
   "id": "expired-october",
   "metadata": {},
   "source": [
    "#### What is the total number of events that you want to get successes (x)? "
   ]
  },
  {
   "cell_type": "code",
   "execution_count": 7,
   "id": "ordinary-tractor",
   "metadata": {},
   "outputs": [
    {
     "data": {
      "text/plain": [
       "5"
      ]
     },
     "execution_count": 7,
     "metadata": {},
     "output_type": "execute_result"
    }
   ],
   "source": [
    "x = 5\n",
    "x"
   ]
  },
  {
   "cell_type": "markdown",
   "id": "advanced-lying",
   "metadata": {},
   "source": [
    "<br/>\n",
    "\n",
    "### Q1. What is the _probability_ that the candidate will get 5 questions right?"
   ]
  },
  {
   "cell_type": "markdown",
   "id": "agreed-meeting",
   "metadata": {},
   "source": [
    "#### Solution 1"
   ]
  },
  {
   "cell_type": "code",
   "execution_count": 8,
   "id": "likely-spectrum",
   "metadata": {},
   "outputs": [],
   "source": [
    "from scipy.special import comb"
   ]
  },
  {
   "cell_type": "code",
   "execution_count": 9,
   "id": "coordinate-farmer",
   "metadata": {},
   "outputs": [
    {
     "data": {
      "text/plain": [
       "0.13656454808718185"
      ]
     },
     "execution_count": 9,
     "metadata": {},
     "output_type": "execute_result"
    }
   ],
   "source": [
    "probability = comb(n, x) * (p ** x) * (q ** (n -x))\n",
    "probability"
   ]
  },
  {
   "cell_type": "markdown",
   "id": "computational-virus",
   "metadata": {},
   "source": [
    "#### Solution 2"
   ]
  },
  {
   "cell_type": "code",
   "execution_count": 12,
   "id": "adult-innocent",
   "metadata": {},
   "outputs": [],
   "source": [
    "from scipy.stats import binom"
   ]
  },
  {
   "cell_type": "code",
   "execution_count": 19,
   "id": "motivated-mouse",
   "metadata": {},
   "outputs": [
    {
     "data": {
      "text/plain": [
       "0.13656454808718183"
      ]
     },
     "execution_count": 19,
     "metadata": {},
     "output_type": "execute_result"
    }
   ],
   "source": [
    "probability = binom.pmf(x, n, p)\n",
    "probability"
   ]
  },
  {
   "cell_type": "markdown",
   "id": "democratic-substance",
   "metadata": {},
   "source": [
    "<br/>\n",
    "\n",
    "### Q2. How likely is the candidate to pass the test? (What is the _probability_ for that?)\n",
    "<center><img src=\"../imgs/binomial_distribution_ex_Q2.png\" width=500/></center>"
   ]
  },
  {
   "cell_type": "markdown",
   "id": "parliamentary-reader",
   "metadata": {},
   "source": [
    "#### Solution 1"
   ]
  },
  {
   "cell_type": "code",
   "execution_count": 20,
   "id": "f4b25bbb-3468-4a2d-8e26-37754487a1d6",
   "metadata": {},
   "outputs": [
    {
     "data": {
      "text/plain": [
       "0.2131280800690952"
      ]
     },
     "execution_count": 20,
     "metadata": {},
     "output_type": "execute_result"
    }
   ],
   "source": [
    "probability = binom.pmf(5, n, p) + binom.pmf(6, n, p) + binom.pmf(7, n, p) + binom.pmf(8, n, p) + binom.pmf(9, n, p) + binom.pmf(10, n, p)\n",
    "probability"
   ]
  },
  {
   "cell_type": "markdown",
   "id": "painted-david",
   "metadata": {},
   "source": [
    "#### Solution 2"
   ]
  },
  {
   "cell_type": "code",
   "execution_count": 21,
   "id": "fluid-liberal",
   "metadata": {},
   "outputs": [
    {
     "data": {
      "text/plain": [
       "0.21312808006909512"
      ]
     },
     "execution_count": 21,
     "metadata": {},
     "output_type": "execute_result"
    }
   ],
   "source": [
    "1 - binom.cdf(4, n, p)"
   ]
  },
  {
   "cell_type": "markdown",
   "id": "color-editor",
   "metadata": {},
   "source": [
    "#### Solution 3\n",
    "https://docs.scipy.org/doc/scipy/reference/generated/scipy.stats.binom.html"
   ]
  },
  {
   "cell_type": "code",
   "execution_count": null,
   "id": "limited-tenant",
   "metadata": {},
   "outputs": [],
   "source": []
  },
  {
   "cell_type": "markdown",
   "id": "caroline-mechanics",
   "metadata": {},
   "source": [
    "<br/>\n",
    "\n",
    "## Exercise 2"
   ]
  },
  {
   "cell_type": "markdown",
   "id": "modified-solution",
   "metadata": {},
   "source": [
    "In the last World Chess Championship, **the proportion of female participants was 60%.** <br/>\n",
    "**The total of teams, with 12 members, in this year's championship is 30.** <br/>\n",
    "According to these information, **how many teams should be formed by 8 women?** <br/><br/>\n",
    "\n"
   ]
  },
  {
   "cell_type": "markdown",
   "id": "headed-clinton",
   "metadata": {},
   "source": [
    "Let's first calculate the probability of a team has 8 women."
   ]
  },
  {
   "cell_type": "markdown",
   "id": "municipal-anthropology",
   "metadata": {},
   "source": [
    "#### 1. How many trials (n)? (Fixed number of identical trials)"
   ]
  },
  {
   "cell_type": "code",
   "execution_count": null,
   "id": "involved-serum",
   "metadata": {},
   "outputs": [],
   "source": []
  },
  {
   "cell_type": "markdown",
   "id": "satellite-documentary",
   "metadata": {},
   "source": [
    "#### 2. Are the trials independent?"
   ]
  },
  {
   "cell_type": "markdown",
   "id": "portuguese-maryland",
   "metadata": {},
   "source": [
    "Yes. The gender of each member is independent."
   ]
  },
  {
   "cell_type": "markdown",
   "id": "brief-stuff",
   "metadata": {},
   "source": [
    "#### 3. Are only two outcomes possible per trial?"
   ]
  },
  {
   "cell_type": "markdown",
   "id": "working-wesley",
   "metadata": {},
   "source": [
    "Yes: woman (success) and others (failure)."
   ]
  },
  {
   "cell_type": "markdown",
   "id": "marked-disposition",
   "metadata": {},
   "source": [
    "#### 4. What is the probability of success (p) and failure (q)?"
   ]
  },
  {
   "cell_type": "code",
   "execution_count": null,
   "id": "suitable-poverty",
   "metadata": {},
   "outputs": [],
   "source": []
  },
  {
   "cell_type": "markdown",
   "id": "standard-pierre",
   "metadata": {},
   "source": [
    "#### What is the total number of events that you want to get successes (x)? "
   ]
  },
  {
   "cell_type": "code",
   "execution_count": null,
   "id": "offshore-shore",
   "metadata": {},
   "outputs": [],
   "source": []
  },
  {
   "cell_type": "markdown",
   "id": "literary-combine",
   "metadata": {},
   "source": [
    "### Q: How many teams (out of 30) should be formed by 8 women?"
   ]
  },
  {
   "cell_type": "code",
   "execution_count": null,
   "id": "attractive-microphone",
   "metadata": {},
   "outputs": [],
   "source": []
  },
  {
   "cell_type": "markdown",
   "id": "scheduled-whole",
   "metadata": {},
   "source": [
    "### Solution"
   ]
  },
  {
   "cell_type": "markdown",
   "id": "southeast-steal",
   "metadata": {},
   "source": [
    "#### mean = n * p"
   ]
  },
  {
   "cell_type": "code",
   "execution_count": null,
   "id": "diagnostic-magic",
   "metadata": {},
   "outputs": [],
   "source": []
  },
  {
   "cell_type": "code",
   "execution_count": null,
   "id": "cordless-trade",
   "metadata": {},
   "outputs": [],
   "source": []
  },
  {
   "cell_type": "code",
   "execution_count": null,
   "id": "religious-remains",
   "metadata": {},
   "outputs": [],
   "source": []
  },
  {
   "cell_type": "markdown",
   "id": "democratic-enzyme",
   "metadata": {},
   "source": [
    "<br/>\n",
    "\n",
    "# 3. Poisson Distribution"
   ]
  },
  {
   "cell_type": "markdown",
   "id": "fourth-switzerland",
   "metadata": {},
   "source": [
    "<img src=\"../imgs/poisson_distribution_formula.png\" width=600/>"
   ]
  },
  {
   "cell_type": "markdown",
   "id": "lovely-collector",
   "metadata": {},
   "source": [
    "## Exercise 1"
   ]
  },
  {
   "cell_type": "markdown",
   "id": "instructional-still",
   "metadata": {},
   "source": [
    "A restaurant receives **20 orders per hour**. What is the chance that, at a given hour chosen at random, the restaurant will receive **15 orders**?"
   ]
  },
  {
   "cell_type": "markdown",
   "id": "median-washington",
   "metadata": {},
   "source": [
    "#### What is the mean number of occurrences per hour? (𝜆)"
   ]
  },
  {
   "cell_type": "code",
   "execution_count": null,
   "id": "prerequisite-fence",
   "metadata": {},
   "outputs": [],
   "source": []
  },
  {
   "cell_type": "markdown",
   "id": "painful-darwin",
   "metadata": {},
   "source": [
    "#### What is the desired number of occurrences within the period of time? (x)"
   ]
  },
  {
   "cell_type": "code",
   "execution_count": null,
   "id": "cardiovascular-cover",
   "metadata": {},
   "outputs": [],
   "source": []
  },
  {
   "cell_type": "markdown",
   "id": "thorough-suggestion",
   "metadata": {},
   "source": [
    "#### Solution 1"
   ]
  },
  {
   "cell_type": "code",
   "execution_count": null,
   "id": "pursuant-jurisdiction",
   "metadata": {},
   "outputs": [],
   "source": []
  },
  {
   "cell_type": "markdown",
   "id": "blocked-alarm",
   "metadata": {},
   "source": [
    "#### Solution 2\n",
    "https://docs.scipy.org/doc/scipy/reference/generated/scipy.stats.poisson.html"
   ]
  },
  {
   "cell_type": "code",
   "execution_count": null,
   "id": "romance-voice",
   "metadata": {},
   "outputs": [],
   "source": []
  },
  {
   "cell_type": "code",
   "execution_count": null,
   "id": "abstract-acceptance",
   "metadata": {},
   "outputs": [],
   "source": []
  },
  {
   "cell_type": "markdown",
   "id": "provincial-battle",
   "metadata": {},
   "source": [
    "## Exercise 2"
   ]
  },
  {
   "cell_type": "markdown",
   "id": "informational-aerospace",
   "metadata": {},
   "source": [
    "Vehicles pass through a junction on a busy road at an average rate of 300 per hour. <br/>"
   ]
  },
  {
   "cell_type": "markdown",
   "id": "reflected-french",
   "metadata": {},
   "source": [
    "### **Q1**: Find the probability that none passes in a given minute."
   ]
  },
  {
   "cell_type": "markdown",
   "id": "certain-lightweight",
   "metadata": {},
   "source": [
    "#### The average number of cars per minute (𝜆)"
   ]
  },
  {
   "cell_type": "code",
   "execution_count": null,
   "id": "trained-sense",
   "metadata": {},
   "outputs": [],
   "source": []
  },
  {
   "cell_type": "markdown",
   "id": "cubic-cancellation",
   "metadata": {},
   "source": [
    "#### What is the desired number of occurrences within the period of time? (x)"
   ]
  },
  {
   "cell_type": "code",
   "execution_count": null,
   "id": "physical-article",
   "metadata": {},
   "outputs": [],
   "source": []
  },
  {
   "cell_type": "code",
   "execution_count": null,
   "id": "intellectual-timer",
   "metadata": {},
   "outputs": [],
   "source": []
  },
  {
   "cell_type": "markdown",
   "id": "rural-conditioning",
   "metadata": {},
   "source": [
    "### **Q2**: What is the expected number (average number) passing in two minutes?"
   ]
  },
  {
   "cell_type": "code",
   "execution_count": null,
   "id": "illegal-hardwood",
   "metadata": {},
   "outputs": [],
   "source": []
  },
  {
   "cell_type": "markdown",
   "id": "copyrighted-buyer",
   "metadata": {},
   "source": [
    "### **Q3**: Find the probability that this expected number actually pass through in a given two-minute period.\n",
    "Given that the average rate of vehicles that pass through in a busy road in **two minutes** is **10**, which is the probability of passing through **exactly 10 vehicles** in a given two-minute period?"
   ]
  },
  {
   "cell_type": "markdown",
   "id": "specialized-principal",
   "metadata": {},
   "source": [
    "#### The average number of cars per two minutes (𝜆)"
   ]
  },
  {
   "cell_type": "code",
   "execution_count": null,
   "id": "modern-kuwait",
   "metadata": {},
   "outputs": [],
   "source": []
  },
  {
   "cell_type": "markdown",
   "id": "aerial-orbit",
   "metadata": {},
   "source": [
    "#### What is the desired number of occurrences within the period of time? (x)"
   ]
  },
  {
   "cell_type": "code",
   "execution_count": null,
   "id": "bulgarian-session",
   "metadata": {},
   "outputs": [],
   "source": []
  },
  {
   "cell_type": "code",
   "execution_count": null,
   "id": "aggressive-freeze",
   "metadata": {},
   "outputs": [],
   "source": []
  },
  {
   "cell_type": "markdown",
   "id": "pressing-automation",
   "metadata": {},
   "source": [
    "## Exercise 3"
   ]
  },
  {
   "cell_type": "markdown",
   "id": "matched-zimbabwe",
   "metadata": {},
   "source": [
    "Suppose the **average number of lions** seen on a **1-day safari** is **5**. What is the probability that tourists will see **fewer than four lions** on the next 1-day safari?"
   ]
  },
  {
   "cell_type": "markdown",
   "id": "amateur-event",
   "metadata": {},
   "source": [
    "#### What is the mean number of lions seen on a 1-day safari? (𝜆)"
   ]
  },
  {
   "cell_type": "code",
   "execution_count": null,
   "id": "superb-personal",
   "metadata": {},
   "outputs": [],
   "source": []
  },
  {
   "cell_type": "markdown",
   "id": "greek-musical",
   "metadata": {},
   "source": [
    "#### What is the desired number of occurrences within the period of time? (x)\n",
    "x = 0, 1, 2, or 3"
   ]
  },
  {
   "cell_type": "markdown",
   "id": "facial-width",
   "metadata": {},
   "source": [
    "<img src=\"../imgs/poisson_distribution_ex3.png\" width=400/>"
   ]
  },
  {
   "cell_type": "markdown",
   "id": "korean-franchise",
   "metadata": {},
   "source": [
    "#### Solution 1"
   ]
  },
  {
   "cell_type": "code",
   "execution_count": null,
   "id": "involved-arnold",
   "metadata": {},
   "outputs": [],
   "source": []
  },
  {
   "cell_type": "markdown",
   "id": "concerned-lobby",
   "metadata": {},
   "source": [
    "#### Solution 2"
   ]
  },
  {
   "cell_type": "code",
   "execution_count": null,
   "id": "infinite-analyst",
   "metadata": {},
   "outputs": [],
   "source": []
  },
  {
   "cell_type": "code",
   "execution_count": null,
   "id": "helpful-browser",
   "metadata": {},
   "outputs": [],
   "source": []
  }
 ],
 "metadata": {
  "kernelspec": {
   "display_name": "Python 3",
   "language": "python",
   "name": "python3"
  },
  "language_info": {
   "codemirror_mode": {
    "name": "ipython",
    "version": 3
   },
   "file_extension": ".py",
   "mimetype": "text/x-python",
   "name": "python",
   "nbconvert_exporter": "python",
   "pygments_lexer": "ipython3",
   "version": "3.9.2"
  }
 },
 "nbformat": 4,
 "nbformat_minor": 5
}
