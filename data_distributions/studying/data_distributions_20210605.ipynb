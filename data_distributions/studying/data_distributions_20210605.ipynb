{
 "cells": [
  {
   "cell_type": "markdown",
   "id": "going-scene",
   "metadata": {},
   "source": [
    "**D1DAE: Análise Estatística para Ciência de Dados (2021.1)** <br/>\n",
    "IFSP Campinas\n",
    "\n",
    "Profs: Ricardo Sovat, Samuel Martins <br/><br/>\n",
    "\n",
    "<a rel=\"license\" href=\"http://creativecommons.org/licenses/by-nc-sa/4.0/\"><img alt=\"Creative Commons License\" style=\"border-width:0\" src=\"https://i.creativecommons.org/l/by-nc-sa/4.0/88x31.png\" /></a><br />This work is licensed under a <a rel=\"license\" href=\"http://creativecommons.org/licenses/by-nc-sa/4.0/\">Creative Commons Attribution-NonCommercial-ShareAlike 4.0 International License</a>."
   ]
  },
  {
   "cell_type": "code",
   "execution_count": 1,
   "id": "71242b6b-f388-4719-85f4-bfc47a747526",
   "metadata": {},
   "outputs": [],
   "source": [
    "import pandas as pd\n",
    "import seaborn as sns\n",
    "import matplotlib.pyplot as plt\n",
    "import numpy as np"
   ]
  },
  {
   "cell_type": "markdown",
   "id": "liable-hayes",
   "metadata": {},
   "source": [
    "# 1. Probability Distributions"
   ]
  },
  {
   "cell_type": "markdown",
   "id": "orange-bracket",
   "metadata": {},
   "source": [
    "## 1.2. Binomial Distribution"
   ]
  },
  {
   "cell_type": "markdown",
   "id": "thick-genesis",
   "metadata": {},
   "source": [
    "<img src=\"./imgs/binomial_distribution_ex.png\" width=500/>"
   ]
  },
  {
   "cell_type": "markdown",
   "id": "completed-frame",
   "metadata": {},
   "source": [
    "### Exercise 1"
   ]
  },
  {
   "cell_type": "markdown",
   "id": "centered-poverty",
   "metadata": {},
   "source": [
    "In an admission test for the Data Science specialization, **10 questions** with  **3 possible choices** in each question.<br/>\n",
    "**Each question scores equally**. Suppose that a candidate have not been prepared for the test. She decided to guess all answers.<br/>\n",
    "Let the test has the **maximum score of 10** and **cut-off score of 5** for being approved for the next stage.<br/>\n",
    "\n",
    "Provide the _probability_ that this candidate will **get 5 questions right**, and the _probability_ that she will **advance to the next stage of the test**.<br/><br/>\n"
   ]
  },
  {
   "cell_type": "markdown",
   "id": "formed-internet",
   "metadata": {},
   "source": [
    "#### Is this a Binomial experiment?"
   ]
  },
  {
   "cell_type": "markdown",
   "id": "wireless-intersection",
   "metadata": {},
   "source": [
    "#### 1. How many trials (n)? (Fixed number of identical trials)"
   ]
  },
  {
   "cell_type": "code",
   "execution_count": null,
   "id": "optional-charles",
   "metadata": {},
   "outputs": [],
   "source": []
  },
  {
   "cell_type": "markdown",
   "id": "tough-iraqi",
   "metadata": {},
   "source": [
    "#### 2. Are the trials independent?"
   ]
  },
  {
   "cell_type": "markdown",
   "id": "damaged-updating",
   "metadata": {},
   "source": [
    "Yes. One option chosen for a given question does not influence the chosen answer for the other questions."
   ]
  },
  {
   "cell_type": "markdown",
   "id": "polished-glance",
   "metadata": {},
   "source": [
    "#### 3. Are only two outcomes possible per trial?"
   ]
  },
  {
   "cell_type": "markdown",
   "id": "parallel-settle",
   "metadata": {},
   "source": [
    "Yes. The candidate has two possibilities: **hit** or **miss** the question."
   ]
  },
  {
   "cell_type": "markdown",
   "id": "bigger-planning",
   "metadata": {},
   "source": [
    "#### 4. What is the probability of success (p) and failure (q)?"
   ]
  },
  {
   "cell_type": "code",
   "execution_count": null,
   "id": "fantastic-occurrence",
   "metadata": {},
   "outputs": [],
   "source": []
  },
  {
   "cell_type": "code",
   "execution_count": null,
   "id": "hearing-midwest",
   "metadata": {},
   "outputs": [],
   "source": []
  },
  {
   "cell_type": "code",
   "execution_count": null,
   "id": "settled-costume",
   "metadata": {},
   "outputs": [],
   "source": []
  },
  {
   "cell_type": "markdown",
   "id": "prerequisite-textbook",
   "metadata": {},
   "source": [
    "Therefore, it is a **Binomial experiment**."
   ]
  },
  {
   "cell_type": "markdown",
   "id": "disciplinary-pastor",
   "metadata": {},
   "source": [
    "#### What is the total number of events that you want to get successes (x)? "
   ]
  },
  {
   "cell_type": "code",
   "execution_count": null,
   "id": "accepting-version",
   "metadata": {},
   "outputs": [],
   "source": []
  },
  {
   "cell_type": "markdown",
   "id": "grand-jenny",
   "metadata": {},
   "source": [
    "<br/>\n",
    "\n",
    "#### Q1. What is the _probability_ that the candidate will get 5 questions right?"
   ]
  },
  {
   "cell_type": "markdown",
   "id": "incident-prayer",
   "metadata": {},
   "source": [
    "##### Solution 1"
   ]
  },
  {
   "cell_type": "code",
   "execution_count": null,
   "id": "dedicated-functionality",
   "metadata": {},
   "outputs": [],
   "source": []
  },
  {
   "cell_type": "code",
   "execution_count": null,
   "id": "lightweight-photographer",
   "metadata": {},
   "outputs": [],
   "source": []
  },
  {
   "cell_type": "markdown",
   "id": "unexpected-carbon",
   "metadata": {},
   "source": [
    "##### Solution 2"
   ]
  },
  {
   "cell_type": "code",
   "execution_count": null,
   "id": "premium-logging",
   "metadata": {},
   "outputs": [],
   "source": []
  },
  {
   "cell_type": "code",
   "execution_count": null,
   "id": "fiscal-purse",
   "metadata": {},
   "outputs": [],
   "source": []
  },
  {
   "cell_type": "markdown",
   "id": "still-subject",
   "metadata": {},
   "source": [
    "<br/>\n",
    "\n",
    "#### Q2. How likely is the candidate to pass the test? (What is the _probability_ for that?)\n",
    "<center><img src=\"./imgs/binomial_distribution_ex_Q2.png\" width=500/></center>"
   ]
  },
  {
   "cell_type": "markdown",
   "id": "decimal-criterion",
   "metadata": {},
   "source": [
    "##### Solution 1"
   ]
  },
  {
   "cell_type": "code",
   "execution_count": null,
   "id": "legendary-payment",
   "metadata": {},
   "outputs": [],
   "source": []
  },
  {
   "cell_type": "markdown",
   "id": "polar-france",
   "metadata": {},
   "source": [
    "##### Solution 2"
   ]
  },
  {
   "cell_type": "code",
   "execution_count": null,
   "id": "angry-dress",
   "metadata": {},
   "outputs": [],
   "source": []
  },
  {
   "cell_type": "markdown",
   "id": "regulation-example",
   "metadata": {},
   "source": [
    "##### Solution 3\n",
    "https://docs.scipy.org/doc/scipy/reference/generated/scipy.stats.binom.html"
   ]
  },
  {
   "cell_type": "code",
   "execution_count": null,
   "id": "dressed-championship",
   "metadata": {},
   "outputs": [],
   "source": []
  },
  {
   "cell_type": "markdown",
   "id": "turkish-pressing",
   "metadata": {},
   "source": [
    "<br/>\n",
    "\n",
    "### Exercise 2"
   ]
  },
  {
   "cell_type": "markdown",
   "id": "front-plenty",
   "metadata": {},
   "source": [
    "In the last World Chess Championship, **the proportion of female participants was 60%.** <br/>\n",
    "**The total of teams, with 12 members, in this year's championship is 30.** <br/>\n",
    "According to these information, **how many teams should be formed by 8 women?** <br/><br/>\n",
    "\n"
   ]
  },
  {
   "cell_type": "markdown",
   "id": "eleven-framework",
   "metadata": {},
   "source": [
    "Let's first calculate the probability of a team has 8 women."
   ]
  },
  {
   "cell_type": "markdown",
   "id": "parallel-poster",
   "metadata": {},
   "source": [
    "#### 1. How many trials (n)? (Fixed number of identical trials)"
   ]
  },
  {
   "cell_type": "code",
   "execution_count": null,
   "id": "offshore-tuesday",
   "metadata": {},
   "outputs": [],
   "source": []
  },
  {
   "cell_type": "markdown",
   "id": "composed-syntax",
   "metadata": {},
   "source": [
    "#### 2. Are the trials independent?"
   ]
  },
  {
   "cell_type": "markdown",
   "id": "soviet-kelly",
   "metadata": {},
   "source": [
    "Yes. The gender of each member is independent."
   ]
  },
  {
   "cell_type": "markdown",
   "id": "measured-underwear",
   "metadata": {},
   "source": [
    "#### 3. Are only two outcomes possible per trial?"
   ]
  },
  {
   "cell_type": "markdown",
   "id": "gothic-impression",
   "metadata": {},
   "source": [
    "Yes: woman (success) and others (failure)."
   ]
  },
  {
   "cell_type": "markdown",
   "id": "bound-vacuum",
   "metadata": {},
   "source": [
    "#### 4. What is the probability of success (p) and failure (q)?"
   ]
  },
  {
   "cell_type": "code",
   "execution_count": null,
   "id": "certain-pakistan",
   "metadata": {},
   "outputs": [],
   "source": []
  },
  {
   "cell_type": "markdown",
   "id": "ranking-excerpt",
   "metadata": {},
   "source": [
    "#### What is the total number of events that you want to get successes (x)? "
   ]
  },
  {
   "cell_type": "code",
   "execution_count": null,
   "id": "white-requirement",
   "metadata": {},
   "outputs": [],
   "source": []
  },
  {
   "cell_type": "markdown",
   "id": "humanitarian-gazette",
   "metadata": {},
   "source": [
    "#### Q: How many teams (out of 30) should be formed by 8 women?"
   ]
  },
  {
   "cell_type": "code",
   "execution_count": null,
   "id": "absolute-demonstration",
   "metadata": {},
   "outputs": [],
   "source": []
  },
  {
   "cell_type": "markdown",
   "id": "shared-flight",
   "metadata": {},
   "source": [
    "##### Solution"
   ]
  },
  {
   "cell_type": "markdown",
   "id": "endless-employer",
   "metadata": {},
   "source": [
    "#### mean = n * p"
   ]
  },
  {
   "cell_type": "code",
   "execution_count": null,
   "id": "surrounded-catalog",
   "metadata": {},
   "outputs": [],
   "source": []
  },
  {
   "cell_type": "code",
   "execution_count": null,
   "id": "romantic-custody",
   "metadata": {},
   "outputs": [],
   "source": []
  },
  {
   "cell_type": "code",
   "execution_count": null,
   "id": "boolean-pixel",
   "metadata": {},
   "outputs": [],
   "source": []
  },
  {
   "cell_type": "markdown",
   "id": "special-listening",
   "metadata": {},
   "source": [
    "<br/>\n",
    "\n",
    "## 1.3. Poisson Distribution"
   ]
  },
  {
   "cell_type": "markdown",
   "id": "animal-handbook",
   "metadata": {},
   "source": [
    "<img src=\"./imgs/poisson_distribution_formula.png\" width=600/>"
   ]
  },
  {
   "cell_type": "markdown",
   "id": "lucky-ability",
   "metadata": {},
   "source": [
    "### Exercise 1"
   ]
  },
  {
   "cell_type": "markdown",
   "id": "informational-reservoir",
   "metadata": {},
   "source": [
    "A restaurant receives **20 orders per hour**. What is the chance that, at a given hour chosen at random, the restaurant will receive **15 orders**?"
   ]
  },
  {
   "cell_type": "markdown",
   "id": "completed-julian",
   "metadata": {},
   "source": [
    "#### What is the mean number of occurrences per hour? (𝜆)"
   ]
  },
  {
   "cell_type": "code",
   "execution_count": null,
   "id": "transparent-sunday",
   "metadata": {},
   "outputs": [],
   "source": []
  },
  {
   "cell_type": "markdown",
   "id": "floppy-avenue",
   "metadata": {},
   "source": [
    "#### What is the desired number of occurrences within the period of time? (x)"
   ]
  },
  {
   "cell_type": "code",
   "execution_count": null,
   "id": "local-vatican",
   "metadata": {},
   "outputs": [],
   "source": []
  },
  {
   "cell_type": "markdown",
   "id": "massive-indicator",
   "metadata": {},
   "source": [
    "##### Solution 1"
   ]
  },
  {
   "cell_type": "code",
   "execution_count": null,
   "id": "absent-canadian",
   "metadata": {},
   "outputs": [],
   "source": []
  },
  {
   "cell_type": "markdown",
   "id": "activated-seminar",
   "metadata": {},
   "source": [
    "##### Solution 2\n",
    "https://docs.scipy.org/doc/scipy/reference/generated/scipy.stats.poisson.html"
   ]
  },
  {
   "cell_type": "code",
   "execution_count": null,
   "id": "modified-imagination",
   "metadata": {},
   "outputs": [],
   "source": []
  },
  {
   "cell_type": "code",
   "execution_count": null,
   "id": "noticed-condition",
   "metadata": {},
   "outputs": [],
   "source": []
  },
  {
   "cell_type": "markdown",
   "id": "amber-roulette",
   "metadata": {},
   "source": [
    "### Exercise 2"
   ]
  },
  {
   "cell_type": "markdown",
   "id": "functioning-dress",
   "metadata": {},
   "source": [
    "Vehicles pass through a junction on a busy road at an average rate of 300 per hour. <br/>"
   ]
  },
  {
   "cell_type": "markdown",
   "id": "individual-invention",
   "metadata": {},
   "source": [
    "#### **Q1**: Find the probability that none passes in a given minute."
   ]
  },
  {
   "cell_type": "markdown",
   "id": "loved-stereo",
   "metadata": {},
   "source": [
    "##### The average number of cars per minute (𝜆)"
   ]
  },
  {
   "cell_type": "code",
   "execution_count": null,
   "id": "duplicate-definition",
   "metadata": {},
   "outputs": [],
   "source": []
  },
  {
   "cell_type": "markdown",
   "id": "compliant-cancer",
   "metadata": {},
   "source": [
    "##### What is the desired number of occurrences within the period of time? (x)"
   ]
  },
  {
   "cell_type": "code",
   "execution_count": null,
   "id": "victorian-creature",
   "metadata": {},
   "outputs": [],
   "source": []
  },
  {
   "cell_type": "code",
   "execution_count": null,
   "id": "light-worship",
   "metadata": {},
   "outputs": [],
   "source": []
  },
  {
   "cell_type": "markdown",
   "id": "biblical-distinction",
   "metadata": {},
   "source": [
    "#### **Q2**: What is the expected number (average number) passing in two minutes?"
   ]
  },
  {
   "cell_type": "code",
   "execution_count": null,
   "id": "emerging-brooks",
   "metadata": {},
   "outputs": [],
   "source": []
  },
  {
   "cell_type": "markdown",
   "id": "atomic-numbers",
   "metadata": {},
   "source": [
    "#### **Q3**: Find the probability that this expected number actually pass through in a given two-minute period.\n",
    "Given that the average rate of vehicles that pass through in a busy road in **two minutes** is **10**, which is the probability of passing through **exactly 10 vehicles** in a given two-minute period?"
   ]
  },
  {
   "cell_type": "markdown",
   "id": "lyric-deployment",
   "metadata": {},
   "source": [
    "##### The average number of cars per two minutes (𝜆)"
   ]
  },
  {
   "cell_type": "code",
   "execution_count": null,
   "id": "collective-eating",
   "metadata": {},
   "outputs": [],
   "source": []
  },
  {
   "cell_type": "markdown",
   "id": "amber-richards",
   "metadata": {},
   "source": [
    "##### What is the desired number of occurrences within the period of time? (x)"
   ]
  },
  {
   "cell_type": "code",
   "execution_count": null,
   "id": "after-burke",
   "metadata": {},
   "outputs": [],
   "source": []
  },
  {
   "cell_type": "code",
   "execution_count": null,
   "id": "vocal-explanation",
   "metadata": {},
   "outputs": [],
   "source": []
  },
  {
   "cell_type": "markdown",
   "id": "indirect-alaska",
   "metadata": {},
   "source": [
    "### Exercise 3"
   ]
  },
  {
   "cell_type": "markdown",
   "id": "gentle-vatican",
   "metadata": {},
   "source": [
    "Suppose the **average number of lions** seen on a **1-day safari** is **5**. What is the probability that tourists will see **fewer than four lions** on the next 1-day safari?"
   ]
  },
  {
   "cell_type": "markdown",
   "id": "innovative-majority",
   "metadata": {},
   "source": [
    "#### What is the mean number of lions seen on a 1-day safari? (𝜆)"
   ]
  },
  {
   "cell_type": "code",
   "execution_count": null,
   "id": "second-diploma",
   "metadata": {},
   "outputs": [],
   "source": []
  },
  {
   "cell_type": "markdown",
   "id": "changed-bosnia",
   "metadata": {},
   "source": [
    "#### What is the desired number of occurrences within the period of time? (x)\n",
    "x = 0, 1, 2, or 3"
   ]
  },
  {
   "cell_type": "markdown",
   "id": "dutch-annual",
   "metadata": {},
   "source": [
    "<img src=\"./imgs/poisson_distribution_ex3.png\" width=400/>"
   ]
  },
  {
   "cell_type": "markdown",
   "id": "relevant-certificate",
   "metadata": {},
   "source": [
    "##### Solution 1"
   ]
  },
  {
   "cell_type": "code",
   "execution_count": null,
   "id": "skilled-reserve",
   "metadata": {},
   "outputs": [],
   "source": []
  },
  {
   "cell_type": "markdown",
   "id": "buried-stone",
   "metadata": {},
   "source": [
    "##### Solution 2"
   ]
  },
  {
   "cell_type": "code",
   "execution_count": null,
   "id": "metric-information",
   "metadata": {},
   "outputs": [],
   "source": []
  },
  {
   "cell_type": "markdown",
   "id": "characteristic-convention",
   "metadata": {},
   "source": [
    "<br/>\n",
    "\n",
    "## 1.4. Normal Distribution"
   ]
  },
  {
   "cell_type": "markdown",
   "id": "stylish-spouse",
   "metadata": {},
   "source": [
    "<img src=\"./imgs/standard_normal_distribution_formula.png\" width=700/>"
   ]
  },
  {
   "cell_type": "markdown",
   "id": "historic-possibility",
   "metadata": {},
   "source": [
    "### Exercise 1"
   ]
  },
  {
   "cell_type": "markdown",
   "id": "unusual-albania",
   "metadata": {},
   "source": [
    "When studying the height of the inhabitants of Pompeia, it was found that its **distribution is approximately normal**, with **mean** of 1.70 m and **standard deviation** of 0.1."
   ]
  },
  {
   "cell_type": "code",
   "execution_count": null,
   "id": "senior-escape",
   "metadata": {},
   "outputs": [],
   "source": []
  },
  {
   "cell_type": "markdown",
   "id": "naked-practice",
   "metadata": {},
   "source": [
    "#### Q1: Probability of a person, selected by chance, is less than 1.8m tall? P(X < 1.8)"
   ]
  },
  {
   "cell_type": "code",
   "execution_count": null,
   "id": "positive-pricing",
   "metadata": {},
   "outputs": [],
   "source": []
  },
  {
   "cell_type": "code",
   "execution_count": null,
   "id": "geological-history",
   "metadata": {},
   "outputs": [],
   "source": []
  },
  {
   "cell_type": "markdown",
   "id": "changing-detection",
   "metadata": {},
   "source": [
    "##### **P(X < 1.8) = P(Z < 1.000)**"
   ]
  },
  {
   "cell_type": "markdown",
   "id": "compressed-partnership",
   "metadata": {},
   "source": [
    "##### Solution 1 - Using the z-score table\n",
    "https://www.math.arizona.edu/~rsims/ma464/standardnormaltable.pdf"
   ]
  },
  {
   "cell_type": "markdown",
   "id": "israeli-macedonia",
   "metadata": {},
   "source": [
    "Checking the z-score table, **P(Z < 1.000)=0.84134**"
   ]
  },
  {
   "cell_type": "markdown",
   "id": "chinese-election",
   "metadata": {},
   "source": [
    "##### Solution 2 - Using scipy"
   ]
  },
  {
   "cell_type": "code",
   "execution_count": null,
   "id": "handled-benchmark",
   "metadata": {},
   "outputs": [],
   "source": []
  },
  {
   "cell_type": "code",
   "execution_count": null,
   "id": "adjacent-savings",
   "metadata": {},
   "outputs": [],
   "source": []
  },
  {
   "cell_type": "markdown",
   "id": "professional-synthesis",
   "metadata": {},
   "source": [
    "#### Q2: Probability of a person, selected by chance, is between 1.6m and 1.8m tall? P(1.6 <= X <= 1.8)\n",
    "P(1.6 <= X <= 1.8) = P(X < 1.8) - P(X < 1.6)"
   ]
  },
  {
   "cell_type": "code",
   "execution_count": null,
   "id": "unknown-ultimate",
   "metadata": {},
   "outputs": [],
   "source": []
  },
  {
   "cell_type": "code",
   "execution_count": null,
   "id": "editorial-ontario",
   "metadata": {},
   "outputs": [],
   "source": []
  },
  {
   "cell_type": "markdown",
   "id": "graduate-genetics",
   "metadata": {},
   "source": [
    "**P(1.6 <= X <= 1.8) = P(Z < -0.9999) - P(Z < 1.00000)**"
   ]
  },
  {
   "cell_type": "markdown",
   "id": "approximate-damage",
   "metadata": {},
   "source": [
    "##### Solution 1 - Using the z-score table\n",
    "https://www.math.arizona.edu/~rsims/ma464/standardnormaltable.pdf"
   ]
  },
  {
   "cell_type": "code",
   "execution_count": null,
   "id": "professional-music",
   "metadata": {},
   "outputs": [],
   "source": []
  },
  {
   "cell_type": "code",
   "execution_count": null,
   "id": "prerequisite-deputy",
   "metadata": {},
   "outputs": [],
   "source": []
  },
  {
   "cell_type": "markdown",
   "id": "soviet-cooperative",
   "metadata": {},
   "source": [
    "##### Solution 2 - Using scipy"
   ]
  },
  {
   "cell_type": "code",
   "execution_count": null,
   "id": "round-welding",
   "metadata": {},
   "outputs": [],
   "source": []
  },
  {
   "cell_type": "markdown",
   "id": "improving-excerpt",
   "metadata": {},
   "source": [
    "#### Q3: Probability of a person, selected by chance, is over 1.9m tall? P (X >= 1.9)\n",
    "P(X >= 1.9) = 1 - P(X < 1.9)"
   ]
  },
  {
   "cell_type": "code",
   "execution_count": null,
   "id": "marine-treaty",
   "metadata": {},
   "outputs": [],
   "source": []
  },
  {
   "cell_type": "code",
   "execution_count": null,
   "id": "accessible-lighting",
   "metadata": {},
   "outputs": [],
   "source": []
  },
  {
   "cell_type": "markdown",
   "id": "fallen-perception",
   "metadata": {},
   "source": [
    "**P(X >= 1.9) = P(Z >= 1.99999) = 1 - P(Z < 1.99999)**"
   ]
  },
  {
   "cell_type": "markdown",
   "id": "powerful-collection",
   "metadata": {},
   "source": [
    "##### Solution 1 - Using the z-score table\n",
    "https://www.math.arizona.edu/~rsims/ma464/standardnormaltable.pdf"
   ]
  },
  {
   "cell_type": "code",
   "execution_count": null,
   "id": "rapid-lighter",
   "metadata": {},
   "outputs": [],
   "source": []
  },
  {
   "cell_type": "markdown",
   "id": "radio-joint",
   "metadata": {},
   "source": [
    "##### Solution 2 - Using scipy"
   ]
  },
  {
   "cell_type": "code",
   "execution_count": null,
   "id": "preceding-ireland",
   "metadata": {},
   "outputs": [],
   "source": []
  },
  {
   "cell_type": "markdown",
   "id": "according-reporter",
   "metadata": {},
   "source": [
    "<br/>\n",
    "\n",
    "# 2. Central Limit Theorem"
   ]
  },
  {
   "cell_type": "code",
   "execution_count": 2,
   "id": "statewide-westminster",
   "metadata": {},
   "outputs": [],
   "source": [
    "# dataset with data about stroke patients\n",
    "df = pd.read_csv('../datasets/healthcare-dataset-stroke-data.csv')"
   ]
  },
  {
   "cell_type": "code",
   "execution_count": 3,
   "id": "crazy-alfred",
   "metadata": {},
   "outputs": [
    {
     "data": {
      "text/html": [
       "<div>\n",
       "<style scoped>\n",
       "    .dataframe tbody tr th:only-of-type {\n",
       "        vertical-align: middle;\n",
       "    }\n",
       "\n",
       "    .dataframe tbody tr th {\n",
       "        vertical-align: top;\n",
       "    }\n",
       "\n",
       "    .dataframe thead th {\n",
       "        text-align: right;\n",
       "    }\n",
       "</style>\n",
       "<table border=\"1\" class=\"dataframe\">\n",
       "  <thead>\n",
       "    <tr style=\"text-align: right;\">\n",
       "      <th></th>\n",
       "      <th>id</th>\n",
       "      <th>gender</th>\n",
       "      <th>age</th>\n",
       "      <th>hypertension</th>\n",
       "      <th>heart_disease</th>\n",
       "      <th>ever_married</th>\n",
       "      <th>work_type</th>\n",
       "      <th>Residence_type</th>\n",
       "      <th>avg_glucose_level</th>\n",
       "      <th>bmi</th>\n",
       "      <th>smoking_status</th>\n",
       "      <th>stroke</th>\n",
       "    </tr>\n",
       "  </thead>\n",
       "  <tbody>\n",
       "    <tr>\n",
       "      <th>0</th>\n",
       "      <td>9046</td>\n",
       "      <td>Male</td>\n",
       "      <td>67.0</td>\n",
       "      <td>0</td>\n",
       "      <td>1</td>\n",
       "      <td>Yes</td>\n",
       "      <td>Private</td>\n",
       "      <td>Urban</td>\n",
       "      <td>228.69</td>\n",
       "      <td>36.6</td>\n",
       "      <td>formerly smoked</td>\n",
       "      <td>1</td>\n",
       "    </tr>\n",
       "    <tr>\n",
       "      <th>1</th>\n",
       "      <td>51676</td>\n",
       "      <td>Female</td>\n",
       "      <td>61.0</td>\n",
       "      <td>0</td>\n",
       "      <td>0</td>\n",
       "      <td>Yes</td>\n",
       "      <td>Self-employed</td>\n",
       "      <td>Rural</td>\n",
       "      <td>202.21</td>\n",
       "      <td>NaN</td>\n",
       "      <td>never smoked</td>\n",
       "      <td>1</td>\n",
       "    </tr>\n",
       "    <tr>\n",
       "      <th>2</th>\n",
       "      <td>31112</td>\n",
       "      <td>Male</td>\n",
       "      <td>80.0</td>\n",
       "      <td>0</td>\n",
       "      <td>1</td>\n",
       "      <td>Yes</td>\n",
       "      <td>Private</td>\n",
       "      <td>Rural</td>\n",
       "      <td>105.92</td>\n",
       "      <td>32.5</td>\n",
       "      <td>never smoked</td>\n",
       "      <td>1</td>\n",
       "    </tr>\n",
       "    <tr>\n",
       "      <th>3</th>\n",
       "      <td>60182</td>\n",
       "      <td>Female</td>\n",
       "      <td>49.0</td>\n",
       "      <td>0</td>\n",
       "      <td>0</td>\n",
       "      <td>Yes</td>\n",
       "      <td>Private</td>\n",
       "      <td>Urban</td>\n",
       "      <td>171.23</td>\n",
       "      <td>34.4</td>\n",
       "      <td>smokes</td>\n",
       "      <td>1</td>\n",
       "    </tr>\n",
       "    <tr>\n",
       "      <th>4</th>\n",
       "      <td>1665</td>\n",
       "      <td>Female</td>\n",
       "      <td>79.0</td>\n",
       "      <td>1</td>\n",
       "      <td>0</td>\n",
       "      <td>Yes</td>\n",
       "      <td>Self-employed</td>\n",
       "      <td>Rural</td>\n",
       "      <td>174.12</td>\n",
       "      <td>24.0</td>\n",
       "      <td>never smoked</td>\n",
       "      <td>1</td>\n",
       "    </tr>\n",
       "  </tbody>\n",
       "</table>\n",
       "</div>"
      ],
      "text/plain": [
       "      id  gender   age  hypertension  heart_disease ever_married  \\\n",
       "0   9046    Male  67.0             0              1          Yes   \n",
       "1  51676  Female  61.0             0              0          Yes   \n",
       "2  31112    Male  80.0             0              1          Yes   \n",
       "3  60182  Female  49.0             0              0          Yes   \n",
       "4   1665  Female  79.0             1              0          Yes   \n",
       "\n",
       "       work_type Residence_type  avg_glucose_level   bmi   smoking_status  \\\n",
       "0        Private          Urban             228.69  36.6  formerly smoked   \n",
       "1  Self-employed          Rural             202.21   NaN     never smoked   \n",
       "2        Private          Rural             105.92  32.5     never smoked   \n",
       "3        Private          Urban             171.23  34.4           smokes   \n",
       "4  Self-employed          Rural             174.12  24.0     never smoked   \n",
       "\n",
       "   stroke  \n",
       "0       1  \n",
       "1       1  \n",
       "2       1  \n",
       "3       1  \n",
       "4       1  "
      ]
     },
     "execution_count": 3,
     "metadata": {},
     "output_type": "execute_result"
    }
   ],
   "source": [
    "df.head()"
   ]
  },
  {
   "cell_type": "code",
   "execution_count": 4,
   "id": "limiting-hardwood",
   "metadata": {},
   "outputs": [
    {
     "data": {
      "text/plain": [
       "0    228.69\n",
       "1    202.21\n",
       "2    105.92\n",
       "3    171.23\n",
       "4    174.12\n",
       "Name: avg_glucose_level, dtype: float64"
      ]
     },
     "execution_count": 4,
     "metadata": {},
     "output_type": "execute_result"
    }
   ],
   "source": [
    "population = df['avg_glucose_level']\n",
    "population.head()"
   ]
  },
  {
   "cell_type": "code",
   "execution_count": 5,
   "id": "adverse-january",
   "metadata": {},
   "outputs": [
    {
     "data": {
      "text/plain": [
       "(5110,)"
      ]
     },
     "execution_count": 5,
     "metadata": {},
     "output_type": "execute_result"
    }
   ],
   "source": [
    "population.shape"
   ]
  },
  {
   "cell_type": "code",
   "execution_count": 6,
   "id": "3273a035-fa81-4903-a587-a953d9b2bb56",
   "metadata": {},
   "outputs": [
    {
     "data": {
      "text/plain": [
       "106.14767710371804"
      ]
     },
     "execution_count": 6,
     "metadata": {},
     "output_type": "execute_result"
    }
   ],
   "source": [
    "population_mean = population.mean()\n",
    "population_mean"
   ]
  },
  {
   "cell_type": "code",
   "execution_count": 7,
   "id": "64cd945a-9573-46e9-8528-c349fc518ac5",
   "metadata": {},
   "outputs": [
    {
     "data": {
      "text/plain": [
       "45.28356015058203"
      ]
     },
     "execution_count": 7,
     "metadata": {},
     "output_type": "execute_result"
    }
   ],
   "source": [
    "population_std = population.std()\n",
    "population_std"
   ]
  },
  {
   "cell_type": "code",
   "execution_count": 8,
   "id": "235a2142-e8a2-4970-becb-249b37ac44df",
   "metadata": {},
   "outputs": [
    {
     "data": {
      "text/plain": [
       "Text(111.14767710371804, 350, 'Population Mean\\n106.15')"
      ]
     },
     "execution_count": 8,
     "metadata": {},
     "output_type": "execute_result"
    },
    {
     "data": {
      "image/png": "[encoded data removed]",
      "text/plain": [
       "<Figure size 720x432 with 1 Axes>"
      ]
     },
     "metadata": {
      "needs_background": "light"
     },
     "output_type": "display_data"
    }
   ],
   "source": [
    "plt.figure(figsize=(10,6))\n",
    "ax = sns.histplot(population, kde=True)  # the distribution is not normal\n",
    "ax.axvline(x=population_mean, color='red')\n",
    "ax.annotate(f'Population Mean\\n{population_mean:.2f}', xy=(population_mean + 5, 350))"
   ]
  },
  {
   "cell_type": "markdown",
   "id": "pressing-detail",
   "metadata": {},
   "source": [
    "<br/>\n",
    "\n",
    "#### The data distribution of a sample does not necessarily follow the **normal distribution**"
   ]
  },
  {
   "cell_type": "code",
   "execution_count": 9,
   "id": "exempt-bracket",
   "metadata": {},
   "outputs": [],
   "source": [
    "sample_100 = population.sample(100)"
   ]
  },
  {
   "cell_type": "code",
   "execution_count": 10,
   "id": "nervous-enough",
   "metadata": {},
   "outputs": [
    {
     "data": {
      "text/plain": [
       "<AxesSubplot:xlabel='avg_glucose_level', ylabel='Count'>"
      ]
     },
     "execution_count": 10,
     "metadata": {},
     "output_type": "execute_result"
    },
    {
     "data": {
      "image/png": "[encoded data removed]",
      "text/plain": [
       "<Figure size 720x432 with 1 Axes>"
      ]
     },
     "metadata": {
      "needs_background": "light"
     },
     "output_type": "display_data"
    }
   ],
   "source": [
    "plt.figure(figsize=(10,6))\n",
    "sns.histplot(sample_100, kde=True)"
   ]
  },
  {
   "cell_type": "markdown",
   "id": "vocal-cemetery",
   "metadata": {},
   "source": [
    "#### As the sample size increases, the **sampling distribution of the mean** approaches a **normal distribution** with the **sampling distribution’s mean** equals **the population mean**"
   ]
  },
  {
   "cell_type": "code",
   "execution_count": 11,
   "id": "active-preliminary",
   "metadata": {},
   "outputs": [],
   "source": [
    "# Dictionary where each key correspond to a sample size\n",
    "# For each sample size, there is a dataframe with 1000 samples associated to\n",
    "samples = {}\n",
    "\n",
    "for n in [5, 10, 30, 100, 1000]:\n",
    "    df_sample_size = pd.DataFrame()\n",
    "    \n",
    "    for i in range(1000):\n",
    "        sample = population.sample(n)\n",
    "        sample.reset_index(drop=True, inplace=True)  # requires this \"trick\" to work\n",
    "        df_sample_size[f'Sample #{i}'] = sample\n",
    "    \n",
    "    samples[n] = df_sample_size"
   ]
  },
  {
   "cell_type": "code",
   "execution_count": 12,
   "id": "fundamental-chancellor",
   "metadata": {},
   "outputs": [
    {
     "data": {
      "text/plain": [
       "dict_keys([5, 10, 30, 100, 1000])"
      ]
     },
     "execution_count": 12,
     "metadata": {},
     "output_type": "execute_result"
    }
   ],
   "source": [
    "samples.keys()"
   ]
  },
  {
   "cell_type": "code",
   "execution_count": 13,
   "id": "selective-thailand",
   "metadata": {},
   "outputs": [
    {
     "data": {
      "text/html": [
       "<div>\n",
       "<style scoped>\n",
       "    .dataframe tbody tr th:only-of-type {\n",
       "        vertical-align: middle;\n",
       "    }\n",
       "\n",
       "    .dataframe tbody tr th {\n",
       "        vertical-align: top;\n",
       "    }\n",
       "\n",
       "    .dataframe thead th {\n",
       "        text-align: right;\n",
       "    }\n",
       "</style>\n",
       "<table border=\"1\" class=\"dataframe\">\n",
       "  <thead>\n",
       "    <tr style=\"text-align: right;\">\n",
       "      <th></th>\n",
       "      <th>Sample #0</th>\n",
       "      <th>Sample #1</th>\n",
       "      <th>Sample #2</th>\n",
       "      <th>Sample #3</th>\n",
       "      <th>Sample #4</th>\n",
       "      <th>Sample #5</th>\n",
       "      <th>Sample #6</th>\n",
       "      <th>Sample #7</th>\n",
       "      <th>Sample #8</th>\n",
       "      <th>Sample #9</th>\n",
       "      <th>...</th>\n",
       "      <th>Sample #990</th>\n",
       "      <th>Sample #991</th>\n",
       "      <th>Sample #992</th>\n",
       "      <th>Sample #993</th>\n",
       "      <th>Sample #994</th>\n",
       "      <th>Sample #995</th>\n",
       "      <th>Sample #996</th>\n",
       "      <th>Sample #997</th>\n",
       "      <th>Sample #998</th>\n",
       "      <th>Sample #999</th>\n",
       "    </tr>\n",
       "  </thead>\n",
       "  <tbody>\n",
       "    <tr>\n",
       "      <th>0</th>\n",
       "      <td>79.35</td>\n",
       "      <td>60.64</td>\n",
       "      <td>81.96</td>\n",
       "      <td>81.05</td>\n",
       "      <td>72.08</td>\n",
       "      <td>114.32</td>\n",
       "      <td>86.70</td>\n",
       "      <td>101.93</td>\n",
       "      <td>61.83</td>\n",
       "      <td>215.72</td>\n",
       "      <td>...</td>\n",
       "      <td>59.28</td>\n",
       "      <td>106.02</td>\n",
       "      <td>218.00</td>\n",
       "      <td>127.13</td>\n",
       "      <td>63.43</td>\n",
       "      <td>107.84</td>\n",
       "      <td>87.79</td>\n",
       "      <td>77.93</td>\n",
       "      <td>59.52</td>\n",
       "      <td>97.12</td>\n",
       "    </tr>\n",
       "    <tr>\n",
       "      <th>1</th>\n",
       "      <td>79.87</td>\n",
       "      <td>193.80</td>\n",
       "      <td>101.66</td>\n",
       "      <td>100.31</td>\n",
       "      <td>65.45</td>\n",
       "      <td>112.25</td>\n",
       "      <td>80.88</td>\n",
       "      <td>113.87</td>\n",
       "      <td>70.37</td>\n",
       "      <td>55.84</td>\n",
       "      <td>...</td>\n",
       "      <td>103.56</td>\n",
       "      <td>158.93</td>\n",
       "      <td>88.62</td>\n",
       "      <td>66.72</td>\n",
       "      <td>113.24</td>\n",
       "      <td>88.90</td>\n",
       "      <td>92.98</td>\n",
       "      <td>97.95</td>\n",
       "      <td>94.59</td>\n",
       "      <td>55.39</td>\n",
       "    </tr>\n",
       "    <tr>\n",
       "      <th>2</th>\n",
       "      <td>77.29</td>\n",
       "      <td>73.00</td>\n",
       "      <td>122.25</td>\n",
       "      <td>68.35</td>\n",
       "      <td>94.12</td>\n",
       "      <td>195.43</td>\n",
       "      <td>63.78</td>\n",
       "      <td>73.07</td>\n",
       "      <td>76.15</td>\n",
       "      <td>81.13</td>\n",
       "      <td>...</td>\n",
       "      <td>97.40</td>\n",
       "      <td>219.39</td>\n",
       "      <td>68.41</td>\n",
       "      <td>88.79</td>\n",
       "      <td>112.94</td>\n",
       "      <td>93.30</td>\n",
       "      <td>87.81</td>\n",
       "      <td>199.38</td>\n",
       "      <td>235.54</td>\n",
       "      <td>92.44</td>\n",
       "    </tr>\n",
       "    <tr>\n",
       "      <th>3</th>\n",
       "      <td>212.92</td>\n",
       "      <td>109.82</td>\n",
       "      <td>58.19</td>\n",
       "      <td>92.87</td>\n",
       "      <td>103.50</td>\n",
       "      <td>89.03</td>\n",
       "      <td>57.43</td>\n",
       "      <td>94.12</td>\n",
       "      <td>164.67</td>\n",
       "      <td>70.15</td>\n",
       "      <td>...</td>\n",
       "      <td>83.56</td>\n",
       "      <td>92.95</td>\n",
       "      <td>234.82</td>\n",
       "      <td>76.63</td>\n",
       "      <td>126.68</td>\n",
       "      <td>86.11</td>\n",
       "      <td>99.35</td>\n",
       "      <td>73.66</td>\n",
       "      <td>64.68</td>\n",
       "      <td>77.29</td>\n",
       "    </tr>\n",
       "    <tr>\n",
       "      <th>4</th>\n",
       "      <td>123.49</td>\n",
       "      <td>114.77</td>\n",
       "      <td>70.13</td>\n",
       "      <td>70.35</td>\n",
       "      <td>95.08</td>\n",
       "      <td>90.95</td>\n",
       "      <td>173.90</td>\n",
       "      <td>95.80</td>\n",
       "      <td>65.21</td>\n",
       "      <td>101.60</td>\n",
       "      <td>...</td>\n",
       "      <td>58.51</td>\n",
       "      <td>86.25</td>\n",
       "      <td>116.20</td>\n",
       "      <td>89.30</td>\n",
       "      <td>254.60</td>\n",
       "      <td>94.15</td>\n",
       "      <td>131.63</td>\n",
       "      <td>104.90</td>\n",
       "      <td>267.61</td>\n",
       "      <td>228.70</td>\n",
       "    </tr>\n",
       "  </tbody>\n",
       "</table>\n",
       "<p>5 rows × 1000 columns</p>\n",
       "</div>"
      ],
      "text/plain": [
       "   Sample #0  Sample #1  Sample #2  Sample #3  Sample #4  Sample #5  \\\n",
       "0      79.35      60.64      81.96      81.05      72.08     114.32   \n",
       "1      79.87     193.80     101.66     100.31      65.45     112.25   \n",
       "2      77.29      73.00     122.25      68.35      94.12     195.43   \n",
       "3     212.92     109.82      58.19      92.87     103.50      89.03   \n",
       "4     123.49     114.77      70.13      70.35      95.08      90.95   \n",
       "\n",
       "   Sample #6  Sample #7  Sample #8  Sample #9  ...  Sample #990  Sample #991  \\\n",
       "0      86.70     101.93      61.83     215.72  ...        59.28       106.02   \n",
       "1      80.88     113.87      70.37      55.84  ...       103.56       158.93   \n",
       "2      63.78      73.07      76.15      81.13  ...        97.40       219.39   \n",
       "3      57.43      94.12     164.67      70.15  ...        83.56        92.95   \n",
       "4     173.90      95.80      65.21     101.60  ...        58.51        86.25   \n",
       "\n",
       "   Sample #992  Sample #993  Sample #994  Sample #995  Sample #996  \\\n",
       "0       218.00       127.13        63.43       107.84        87.79   \n",
       "1        88.62        66.72       113.24        88.90        92.98   \n",
       "2        68.41        88.79       112.94        93.30        87.81   \n",
       "3       234.82        76.63       126.68        86.11        99.35   \n",
       "4       116.20        89.30       254.60        94.15       131.63   \n",
       "\n",
       "   Sample #997  Sample #998  Sample #999  \n",
       "0        77.93        59.52        97.12  \n",
       "1        97.95        94.59        55.39  \n",
       "2       199.38       235.54        92.44  \n",
       "3        73.66        64.68        77.29  \n",
       "4       104.90       267.61       228.70  \n",
       "\n",
       "[5 rows x 1000 columns]"
      ]
     },
     "execution_count": 13,
     "metadata": {},
     "output_type": "execute_result"
    }
   ],
   "source": [
    "samples[5]"
   ]
  },
  {
   "cell_type": "code",
   "execution_count": 14,
   "id": "employed-australian",
   "metadata": {},
   "outputs": [
    {
     "data": {
      "text/html": [
       "<div>\n",
       "<style scoped>\n",
       "    .dataframe tbody tr th:only-of-type {\n",
       "        vertical-align: middle;\n",
       "    }\n",
       "\n",
       "    .dataframe tbody tr th {\n",
       "        vertical-align: top;\n",
       "    }\n",
       "\n",
       "    .dataframe thead th {\n",
       "        text-align: right;\n",
       "    }\n",
       "</style>\n",
       "<table border=\"1\" class=\"dataframe\">\n",
       "  <thead>\n",
       "    <tr style=\"text-align: right;\">\n",
       "      <th></th>\n",
       "      <th>Sample #0</th>\n",
       "      <th>Sample #1</th>\n",
       "      <th>Sample #2</th>\n",
       "      <th>Sample #3</th>\n",
       "      <th>Sample #4</th>\n",
       "      <th>Sample #5</th>\n",
       "      <th>Sample #6</th>\n",
       "      <th>Sample #7</th>\n",
       "      <th>Sample #8</th>\n",
       "      <th>Sample #9</th>\n",
       "      <th>...</th>\n",
       "      <th>Sample #990</th>\n",
       "      <th>Sample #991</th>\n",
       "      <th>Sample #992</th>\n",
       "      <th>Sample #993</th>\n",
       "      <th>Sample #994</th>\n",
       "      <th>Sample #995</th>\n",
       "      <th>Sample #996</th>\n",
       "      <th>Sample #997</th>\n",
       "      <th>Sample #998</th>\n",
       "      <th>Sample #999</th>\n",
       "    </tr>\n",
       "  </thead>\n",
       "  <tbody>\n",
       "    <tr>\n",
       "      <th>0</th>\n",
       "      <td>93.36</td>\n",
       "      <td>97.06</td>\n",
       "      <td>105.90</td>\n",
       "      <td>72.55</td>\n",
       "      <td>92.40</td>\n",
       "      <td>92.35</td>\n",
       "      <td>110.42</td>\n",
       "      <td>67.50</td>\n",
       "      <td>98.34</td>\n",
       "      <td>108.80</td>\n",
       "      <td>...</td>\n",
       "      <td>197.06</td>\n",
       "      <td>82.86</td>\n",
       "      <td>88.20</td>\n",
       "      <td>93.60</td>\n",
       "      <td>81.26</td>\n",
       "      <td>79.89</td>\n",
       "      <td>66.47</td>\n",
       "      <td>76.34</td>\n",
       "      <td>72.34</td>\n",
       "      <td>110.78</td>\n",
       "    </tr>\n",
       "    <tr>\n",
       "      <th>1</th>\n",
       "      <td>106.51</td>\n",
       "      <td>131.19</td>\n",
       "      <td>176.78</td>\n",
       "      <td>116.78</td>\n",
       "      <td>90.58</td>\n",
       "      <td>95.31</td>\n",
       "      <td>57.37</td>\n",
       "      <td>88.57</td>\n",
       "      <td>62.57</td>\n",
       "      <td>69.12</td>\n",
       "      <td>...</td>\n",
       "      <td>90.60</td>\n",
       "      <td>167.41</td>\n",
       "      <td>106.68</td>\n",
       "      <td>83.89</td>\n",
       "      <td>78.44</td>\n",
       "      <td>174.43</td>\n",
       "      <td>101.28</td>\n",
       "      <td>81.68</td>\n",
       "      <td>94.64</td>\n",
       "      <td>86.99</td>\n",
       "    </tr>\n",
       "    <tr>\n",
       "      <th>2</th>\n",
       "      <td>267.60</td>\n",
       "      <td>90.52</td>\n",
       "      <td>79.54</td>\n",
       "      <td>80.57</td>\n",
       "      <td>58.63</td>\n",
       "      <td>114.53</td>\n",
       "      <td>93.60</td>\n",
       "      <td>190.32</td>\n",
       "      <td>83.16</td>\n",
       "      <td>86.73</td>\n",
       "      <td>...</td>\n",
       "      <td>109.68</td>\n",
       "      <td>185.49</td>\n",
       "      <td>63.47</td>\n",
       "      <td>78.28</td>\n",
       "      <td>88.34</td>\n",
       "      <td>114.82</td>\n",
       "      <td>143.45</td>\n",
       "      <td>92.98</td>\n",
       "      <td>75.39</td>\n",
       "      <td>90.30</td>\n",
       "    </tr>\n",
       "    <tr>\n",
       "      <th>3</th>\n",
       "      <td>89.68</td>\n",
       "      <td>75.92</td>\n",
       "      <td>87.12</td>\n",
       "      <td>57.38</td>\n",
       "      <td>76.46</td>\n",
       "      <td>99.07</td>\n",
       "      <td>63.18</td>\n",
       "      <td>125.89</td>\n",
       "      <td>77.16</td>\n",
       "      <td>197.28</td>\n",
       "      <td>...</td>\n",
       "      <td>103.65</td>\n",
       "      <td>219.50</td>\n",
       "      <td>93.74</td>\n",
       "      <td>169.49</td>\n",
       "      <td>183.34</td>\n",
       "      <td>64.92</td>\n",
       "      <td>81.96</td>\n",
       "      <td>110.60</td>\n",
       "      <td>99.30</td>\n",
       "      <td>99.76</td>\n",
       "    </tr>\n",
       "    <tr>\n",
       "      <th>4</th>\n",
       "      <td>85.33</td>\n",
       "      <td>82.90</td>\n",
       "      <td>65.43</td>\n",
       "      <td>75.28</td>\n",
       "      <td>87.70</td>\n",
       "      <td>73.62</td>\n",
       "      <td>200.73</td>\n",
       "      <td>107.91</td>\n",
       "      <td>75.74</td>\n",
       "      <td>103.69</td>\n",
       "      <td>...</td>\n",
       "      <td>208.69</td>\n",
       "      <td>84.18</td>\n",
       "      <td>197.11</td>\n",
       "      <td>208.17</td>\n",
       "      <td>106.68</td>\n",
       "      <td>68.76</td>\n",
       "      <td>94.23</td>\n",
       "      <td>92.32</td>\n",
       "      <td>128.23</td>\n",
       "      <td>91.04</td>\n",
       "    </tr>\n",
       "    <tr>\n",
       "      <th>...</th>\n",
       "      <td>...</td>\n",
       "      <td>...</td>\n",
       "      <td>...</td>\n",
       "      <td>...</td>\n",
       "      <td>...</td>\n",
       "      <td>...</td>\n",
       "      <td>...</td>\n",
       "      <td>...</td>\n",
       "      <td>...</td>\n",
       "      <td>...</td>\n",
       "      <td>...</td>\n",
       "      <td>...</td>\n",
       "      <td>...</td>\n",
       "      <td>...</td>\n",
       "      <td>...</td>\n",
       "      <td>...</td>\n",
       "      <td>...</td>\n",
       "      <td>...</td>\n",
       "      <td>...</td>\n",
       "      <td>...</td>\n",
       "      <td>...</td>\n",
       "    </tr>\n",
       "    <tr>\n",
       "      <th>95</th>\n",
       "      <td>115.42</td>\n",
       "      <td>82.14</td>\n",
       "      <td>89.28</td>\n",
       "      <td>62.57</td>\n",
       "      <td>85.33</td>\n",
       "      <td>83.89</td>\n",
       "      <td>84.93</td>\n",
       "      <td>130.61</td>\n",
       "      <td>83.75</td>\n",
       "      <td>110.38</td>\n",
       "      <td>...</td>\n",
       "      <td>57.08</td>\n",
       "      <td>118.22</td>\n",
       "      <td>152.56</td>\n",
       "      <td>111.92</td>\n",
       "      <td>84.54</td>\n",
       "      <td>82.77</td>\n",
       "      <td>90.69</td>\n",
       "      <td>96.91</td>\n",
       "      <td>95.57</td>\n",
       "      <td>77.16</td>\n",
       "    </tr>\n",
       "    <tr>\n",
       "      <th>96</th>\n",
       "      <td>77.93</td>\n",
       "      <td>124.49</td>\n",
       "      <td>64.07</td>\n",
       "      <td>118.70</td>\n",
       "      <td>103.44</td>\n",
       "      <td>201.25</td>\n",
       "      <td>61.29</td>\n",
       "      <td>86.99</td>\n",
       "      <td>100.75</td>\n",
       "      <td>85.03</td>\n",
       "      <td>...</td>\n",
       "      <td>211.06</td>\n",
       "      <td>118.55</td>\n",
       "      <td>146.08</td>\n",
       "      <td>56.64</td>\n",
       "      <td>65.60</td>\n",
       "      <td>170.05</td>\n",
       "      <td>263.56</td>\n",
       "      <td>93.78</td>\n",
       "      <td>97.58</td>\n",
       "      <td>103.89</td>\n",
       "    </tr>\n",
       "    <tr>\n",
       "      <th>97</th>\n",
       "      <td>107.42</td>\n",
       "      <td>118.55</td>\n",
       "      <td>59.00</td>\n",
       "      <td>91.34</td>\n",
       "      <td>83.74</td>\n",
       "      <td>87.26</td>\n",
       "      <td>65.84</td>\n",
       "      <td>58.96</td>\n",
       "      <td>110.18</td>\n",
       "      <td>64.10</td>\n",
       "      <td>...</td>\n",
       "      <td>121.99</td>\n",
       "      <td>109.12</td>\n",
       "      <td>58.66</td>\n",
       "      <td>70.51</td>\n",
       "      <td>115.69</td>\n",
       "      <td>74.06</td>\n",
       "      <td>116.10</td>\n",
       "      <td>59.93</td>\n",
       "      <td>55.86</td>\n",
       "      <td>68.44</td>\n",
       "    </tr>\n",
       "    <tr>\n",
       "      <th>98</th>\n",
       "      <td>207.58</td>\n",
       "      <td>77.60</td>\n",
       "      <td>69.24</td>\n",
       "      <td>117.45</td>\n",
       "      <td>79.51</td>\n",
       "      <td>69.88</td>\n",
       "      <td>79.83</td>\n",
       "      <td>95.19</td>\n",
       "      <td>195.25</td>\n",
       "      <td>87.20</td>\n",
       "      <td>...</td>\n",
       "      <td>90.52</td>\n",
       "      <td>231.69</td>\n",
       "      <td>60.67</td>\n",
       "      <td>83.88</td>\n",
       "      <td>176.25</td>\n",
       "      <td>218.46</td>\n",
       "      <td>86.67</td>\n",
       "      <td>115.23</td>\n",
       "      <td>189.49</td>\n",
       "      <td>59.89</td>\n",
       "    </tr>\n",
       "    <tr>\n",
       "      <th>99</th>\n",
       "      <td>120.77</td>\n",
       "      <td>106.69</td>\n",
       "      <td>62.61</td>\n",
       "      <td>78.12</td>\n",
       "      <td>83.65</td>\n",
       "      <td>164.70</td>\n",
       "      <td>81.96</td>\n",
       "      <td>128.63</td>\n",
       "      <td>112.09</td>\n",
       "      <td>190.89</td>\n",
       "      <td>...</td>\n",
       "      <td>229.86</td>\n",
       "      <td>199.18</td>\n",
       "      <td>94.07</td>\n",
       "      <td>75.70</td>\n",
       "      <td>229.21</td>\n",
       "      <td>190.67</td>\n",
       "      <td>239.95</td>\n",
       "      <td>69.58</td>\n",
       "      <td>74.63</td>\n",
       "      <td>143.47</td>\n",
       "    </tr>\n",
       "  </tbody>\n",
       "</table>\n",
       "<p>100 rows × 1000 columns</p>\n",
       "</div>"
      ],
      "text/plain": [
       "    Sample #0  Sample #1  Sample #2  Sample #3  Sample #4  Sample #5  \\\n",
       "0       93.36      97.06     105.90      72.55      92.40      92.35   \n",
       "1      106.51     131.19     176.78     116.78      90.58      95.31   \n",
       "2      267.60      90.52      79.54      80.57      58.63     114.53   \n",
       "3       89.68      75.92      87.12      57.38      76.46      99.07   \n",
       "4       85.33      82.90      65.43      75.28      87.70      73.62   \n",
       "..        ...        ...        ...        ...        ...        ...   \n",
       "95     115.42      82.14      89.28      62.57      85.33      83.89   \n",
       "96      77.93     124.49      64.07     118.70     103.44     201.25   \n",
       "97     107.42     118.55      59.00      91.34      83.74      87.26   \n",
       "98     207.58      77.60      69.24     117.45      79.51      69.88   \n",
       "99     120.77     106.69      62.61      78.12      83.65     164.70   \n",
       "\n",
       "    Sample #6  Sample #7  Sample #8  Sample #9  ...  Sample #990  Sample #991  \\\n",
       "0      110.42      67.50      98.34     108.80  ...       197.06        82.86   \n",
       "1       57.37      88.57      62.57      69.12  ...        90.60       167.41   \n",
       "2       93.60     190.32      83.16      86.73  ...       109.68       185.49   \n",
       "3       63.18     125.89      77.16     197.28  ...       103.65       219.50   \n",
       "4      200.73     107.91      75.74     103.69  ...       208.69        84.18   \n",
       "..        ...        ...        ...        ...  ...          ...          ...   \n",
       "95      84.93     130.61      83.75     110.38  ...        57.08       118.22   \n",
       "96      61.29      86.99     100.75      85.03  ...       211.06       118.55   \n",
       "97      65.84      58.96     110.18      64.10  ...       121.99       109.12   \n",
       "98      79.83      95.19     195.25      87.20  ...        90.52       231.69   \n",
       "99      81.96     128.63     112.09     190.89  ...       229.86       199.18   \n",
       "\n",
       "    Sample #992  Sample #993  Sample #994  Sample #995  Sample #996  \\\n",
       "0         88.20        93.60        81.26        79.89        66.47   \n",
       "1        106.68        83.89        78.44       174.43       101.28   \n",
       "2         63.47        78.28        88.34       114.82       143.45   \n",
       "3         93.74       169.49       183.34        64.92        81.96   \n",
       "4        197.11       208.17       106.68        68.76        94.23   \n",
       "..          ...          ...          ...          ...          ...   \n",
       "95       152.56       111.92        84.54        82.77        90.69   \n",
       "96       146.08        56.64        65.60       170.05       263.56   \n",
       "97        58.66        70.51       115.69        74.06       116.10   \n",
       "98        60.67        83.88       176.25       218.46        86.67   \n",
       "99        94.07        75.70       229.21       190.67       239.95   \n",
       "\n",
       "    Sample #997  Sample #998  Sample #999  \n",
       "0         76.34        72.34       110.78  \n",
       "1         81.68        94.64        86.99  \n",
       "2         92.98        75.39        90.30  \n",
       "3        110.60        99.30        99.76  \n",
       "4         92.32       128.23        91.04  \n",
       "..          ...          ...          ...  \n",
       "95        96.91        95.57        77.16  \n",
       "96        93.78        97.58       103.89  \n",
       "97        59.93        55.86        68.44  \n",
       "98       115.23       189.49        59.89  \n",
       "99        69.58        74.63       143.47  \n",
       "\n",
       "[100 rows x 1000 columns]"
      ]
     },
     "execution_count": 14,
     "metadata": {},
     "output_type": "execute_result"
    }
   ],
   "source": [
    "samples[100]"
   ]
  },
  {
   "cell_type": "code",
   "execution_count": 15,
   "id": "sought-impression",
   "metadata": {},
   "outputs": [
    {
     "data": {
      "text/plain": [
       "Sample #0      107.3386\n",
       "Sample #1      108.6182\n",
       "Sample #2      104.0995\n",
       "Sample #3      101.7191\n",
       "Sample #4       98.5136\n",
       "                 ...   \n",
       "Sample #995    107.6268\n",
       "Sample #996    117.2147\n",
       "Sample #997    109.2040\n",
       "Sample #998    105.9652\n",
       "Sample #999    105.6593\n",
       "Length: 1000, dtype: float64"
      ]
     },
     "execution_count": 15,
     "metadata": {},
     "output_type": "execute_result"
    }
   ],
   "source": [
    "# mean of each one of the 1000 samples with sample size of 100\n",
    "samples[100].mean()"
   ]
  },
  {
   "cell_type": "code",
   "execution_count": 16,
   "id": "classified-trail",
   "metadata": {},
   "outputs": [
    {
     "data": {
      "image/png": "[encoded data removed]",
      "text/plain": [
       "<Figure size 1728x216 with 5 Axes>"
      ]
     },
     "metadata": {
      "needs_background": "light"
     },
     "output_type": "display_data"
    }
   ],
   "source": [
    "sample_sizes = sorted(samples.keys())\n",
    "\n",
    "fig, axs = plt.subplots(1, 5, figsize=(24, 3))\n",
    "\n",
    "for i, n in enumerate(sample_sizes):\n",
    "    sampling_distribution = samples[n].mean()\n",
    "    mean_of_sampling_distribution = sampling_distribution.mean()\n",
    "    \n",
    "    ax = sns.histplot(sampling_distribution, ax=axs[i])\n",
    "    axs[i].axvline(x=mean_of_sampling_distribution, color='red')\n",
    "    ax.annotate(f'Mean\\n{mean_of_sampling_distribution:.2f}', xy=(mean_of_sampling_distribution + 1, 120))\n",
    "    ax.spines['top'].set_visible(False)\n",
    "    ax.set_ylim([0, 130])"
   ]
  },
  {
   "cell_type": "markdown",
   "id": "hawaiian-south",
   "metadata": {},
   "source": [
    "#### Standard error"
   ]
  },
  {
   "cell_type": "markdown",
   "id": "controlled-doubt",
   "metadata": {},
   "source": [
    "<img src='../imgs/standard_error.png' width=150 />"
   ]
  },
  {
   "cell_type": "code",
   "execution_count": 17,
   "id": "6f8d22f3-45d3-4ee1-9f00-52c1ccc0250b",
   "metadata": {},
   "outputs": [
    {
     "data": {
      "text/plain": [
       "45.28356015058203"
      ]
     },
     "execution_count": 17,
     "metadata": {},
     "output_type": "execute_result"
    }
   ],
   "source": [
    "population_std"
   ]
  },
  {
   "cell_type": "code",
   "execution_count": 18,
   "id": "46886498-6a2f-4d66-8624-0b9b97d13bfe",
   "metadata": {},
   "outputs": [
    {
     "data": {
      "text/plain": [
       "[5, 10, 30, 100, 1000]"
      ]
     },
     "execution_count": 18,
     "metadata": {},
     "output_type": "execute_result"
    }
   ],
   "source": [
    "sample_sizes"
   ]
  },
  {
   "cell_type": "code",
   "execution_count": 19,
   "id": "5c369652-fe02-4035-add3-53efe368868b",
   "metadata": {},
   "outputs": [
    {
     "name": "stdout",
     "output_type": "stream",
     "text": [
      "Population standard deviation = 45.28\n",
      "\n",
      "Standard Error for n=5: 20.25\n",
      "Standard Error for n=10: 14.32\n",
      "Standard Error for n=30: 8.27\n",
      "Standard Error for n=100: 4.53\n",
      "Standard Error for n=1000: 1.43\n"
     ]
    }
   ],
   "source": [
    "print(f'Population standard deviation = {population_std:.2f}\\n')\n",
    "\n",
    "for n in sample_sizes:\n",
    "    standard_error = population_std / np.sqrt(n)\n",
    "    print(f'Standard Error for n={n}: {standard_error:.2f}')"
   ]
  },
  {
   "cell_type": "markdown",
   "id": "olympic-malaysia",
   "metadata": {},
   "source": [
    "**The larger the sample size, the smaller the standard error.**"
   ]
  },
  {
   "cell_type": "markdown",
   "id": "homeless-turkey",
   "metadata": {},
   "source": [
    "<br/>\n",
    "\n",
    "# 3. Confidence Interval"
   ]
  },
  {
   "cell_type": "markdown",
   "id": "gentle-popularity",
   "metadata": {},
   "source": [
    "<img src='../imgs/confidence_interval.png' width=700 />"
   ]
  },
  {
   "cell_type": "markdown",
   "id": "criminal-czech",
   "metadata": {},
   "source": [
    "- A **90% level of confidence** has 𝜶 = 0.10 and **critical value** of 𝑧𝛼/2 = 1.64.\n",
    "- A **95% level of confidence** has 𝜶 = 0.05 and **critical value** of 𝑧𝛼/2 = 1.96.\n",
    "- A **99% level of confidence** has 𝜶 = 0.01 and **critical value** of 𝑧𝛼/2 = 2.58."
   ]
  },
  {
   "cell_type": "code",
   "execution_count": 20,
   "id": "df95e520-5bd2-43f2-a991-ca871f292a6e",
   "metadata": {},
   "outputs": [
    {
     "name": "stdout",
     "output_type": "stream",
     "text": [
      "Valor critico para alpha = 0.1: -1.64\n",
      "Valor critico para alpha = 0.05: -1.96\n",
      "Valor critico para alpha = 0.01: -2.58\n"
     ]
    }
   ],
   "source": [
    "from scipy.stats import norm\n",
    "\n",
    "print(f'Valor critico para alpha = 0.1: {norm.ppf(0.05):.2f}')\n",
    "print(f'Valor critico para alpha = 0.05: {norm.ppf(0.025):.2f}')\n",
    "print(f'Valor critico para alpha = 0.01: {norm.ppf(0.005):.2f}')"
   ]
  },
  {
   "cell_type": "markdown",
   "id": "absent-ordinary",
   "metadata": {},
   "source": [
    "## Exercise 1\n",
    "Suppose the heights of the inhabitants of a city are **normally distributed** with **population standard deviation** of 20 cm.\n",
    "We measure the heights of **40** randomly chosen people, and get a **mean height** of 1.75 m.\n",
    "Construct a **confidence interval** for the population mean with a **significance level of 5%**."
   ]
  },
  {
   "cell_type": "markdown",
   "id": "broad-boost",
   "metadata": {},
   "source": [
    "### Sample size"
   ]
  },
  {
   "cell_type": "code",
   "execution_count": 21,
   "id": "272db806-ac61-4ab9-b2c7-388fd1a4dd5f",
   "metadata": {},
   "outputs": [
    {
     "data": {
      "text/plain": [
       "40"
      ]
     },
     "execution_count": 21,
     "metadata": {},
     "output_type": "execute_result"
    }
   ],
   "source": [
    "# Sample size\n",
    "n = 40\n",
    "n"
   ]
  },
  {
   "cell_type": "markdown",
   "id": "imposed-howard",
   "metadata": {},
   "source": [
    "### Population standard deviation and sample mean"
   ]
  },
  {
   "cell_type": "code",
   "execution_count": 22,
   "id": "3535a9e3-fe5a-4146-b419-c624ef11ff03",
   "metadata": {},
   "outputs": [
    {
     "data": {
      "text/plain": [
       "20"
      ]
     },
     "execution_count": 22,
     "metadata": {},
     "output_type": "execute_result"
    }
   ],
   "source": [
    "population_std = 20\n",
    "population_std"
   ]
  },
  {
   "cell_type": "code",
   "execution_count": 23,
   "id": "28cb2144-061f-4ed8-8fa7-5fdea635f26d",
   "metadata": {},
   "outputs": [
    {
     "data": {
      "text/plain": [
       "175"
      ]
     },
     "execution_count": 23,
     "metadata": {},
     "output_type": "execute_result"
    }
   ],
   "source": [
    "sample_mean = 175\n",
    "sample_mean"
   ]
  },
  {
   "cell_type": "markdown",
   "id": "79e4b033-83e3-4ec9-8ed8-43466b36a486",
   "metadata": {},
   "source": [
    "### Significance level (α)"
   ]
  },
  {
   "cell_type": "code",
   "execution_count": 24,
   "id": "e8d5670f-1826-4074-9520-947e0debe17c",
   "metadata": {},
   "outputs": [
    {
     "data": {
      "text/plain": [
       "0.05"
      ]
     },
     "execution_count": 24,
     "metadata": {},
     "output_type": "execute_result"
    }
   ],
   "source": [
    "significance_level = 0.05\n",
    "significance_level"
   ]
  },
  {
   "cell_type": "markdown",
   "id": "cec09499-6f6c-45d1-b693-068e6406d46b",
   "metadata": {},
   "source": [
    "### Confidence level (1 - α)"
   ]
  },
  {
   "cell_type": "code",
   "execution_count": 25,
   "id": "525b911a-294b-4fa5-b08e-d4d1075b23b0",
   "metadata": {},
   "outputs": [
    {
     "data": {
      "text/plain": [
       "0.95"
      ]
     },
     "execution_count": 25,
     "metadata": {},
     "output_type": "execute_result"
    }
   ],
   "source": [
    "confidence_level = 1 - significance_level\n",
    "confidence_level"
   ]
  },
  {
   "cell_type": "markdown",
   "id": "480808fc-e5fc-47b9-8159-d8506cf34a07",
   "metadata": {},
   "source": [
    "### Critical value (𝒛𝜶/𝟐)"
   ]
  },
  {
   "cell_type": "code",
   "execution_count": 26,
   "id": "d9bc2301-6a51-4db2-82b2-6a45e72d273c",
   "metadata": {},
   "outputs": [
    {
     "data": {
      "text/plain": [
       "1.96"
      ]
     },
     "execution_count": 26,
     "metadata": {},
     "output_type": "execute_result"
    }
   ],
   "source": [
    "critical_value = 1.96\n",
    "critical_value"
   ]
  },
  {
   "cell_type": "markdown",
   "id": "dbaa2c2e-51ff-436c-a98a-800358dafe1e",
   "metadata": {},
   "source": [
    "### Standard Error"
   ]
  },
  {
   "cell_type": "code",
   "execution_count": 27,
   "id": "8efc36f4-779e-40f9-824a-cbe6cad7f50a",
   "metadata": {},
   "outputs": [
    {
     "data": {
      "text/plain": [
       "3.162277660168379"
      ]
     },
     "execution_count": 27,
     "metadata": {},
     "output_type": "execute_result"
    }
   ],
   "source": [
    "standard_error = population_std / np.sqrt(n)\n",
    "standard_error"
   ]
  },
  {
   "cell_type": "markdown",
   "id": "b3d682c0-71ae-4540-95b3-239b30599271",
   "metadata": {},
   "source": [
    "### Margin of Error"
   ]
  },
  {
   "cell_type": "code",
   "execution_count": 28,
   "id": "8f162e9a-0ca0-49ad-8f5c-9a97286643c1",
   "metadata": {},
   "outputs": [
    {
     "data": {
      "text/plain": [
       "6.198064213930023"
      ]
     },
     "execution_count": 28,
     "metadata": {},
     "output_type": "execute_result"
    }
   ],
   "source": [
    "margin_of_error = critical_value * standard_error\n",
    "margin_of_error"
   ]
  },
  {
   "cell_type": "markdown",
   "id": "graduate-cricket",
   "metadata": {},
   "source": [
    "### 95% Confidence Interval"
   ]
  },
  {
   "cell_type": "markdown",
   "id": "33ed15fc-ecc0-45d1-a6a0-7ea47b9803c1",
   "metadata": {},
   "source": [
    "#### Solution 1 - manually"
   ]
  },
  {
   "cell_type": "code",
   "execution_count": 29,
   "id": "9f96639a-e94f-4d25-a6e9-422685768d62",
   "metadata": {},
   "outputs": [
    {
     "data": {
      "text/plain": [
       "(168.80193578606998, 181.19806421393002)"
      ]
     },
     "execution_count": 29,
     "metadata": {},
     "output_type": "execute_result"
    }
   ],
   "source": [
    "confidence_interval = (\n",
    "    sample_mean - margin_of_error,\n",
    "    sample_mean + margin_of_error\n",
    ")\n",
    "confidence_interval"
   ]
  },
  {
   "cell_type": "markdown",
   "id": "2a3b1f54-50f0-4e42-bdfe-162a4a10c967",
   "metadata": {},
   "source": [
    "#### Solution 2 - Scipy\n",
    "https://docs.scipy.org/doc/scipy/reference/generated/scipy.stats.norm.html\n",
    "\n",
    "alpha ==> confidence interval <br/>\n",
    "loc ==> sample mean  <br/>\n",
    "scale ==> standard error"
   ]
  },
  {
   "cell_type": "code",
   "execution_count": 30,
   "id": "d014c0d2-3c28-4c55-aa31-d8386745a33a",
   "metadata": {},
   "outputs": [],
   "source": [
    "from scipy.stats import norm"
   ]
  },
  {
   "cell_type": "code",
   "execution_count": 31,
   "id": "a9d4e117-2570-4b09-8f49-1c4e8bb667f3",
   "metadata": {},
   "outputs": [
    {
     "data": {
      "text/plain": [
       "(168.8020496769544, 181.1979503230456)"
      ]
     },
     "execution_count": 31,
     "metadata": {},
     "output_type": "execute_result"
    }
   ],
   "source": [
    "norm.interval(alpha=confidence_level, loc=sample_mean, scale=standard_error)"
   ]
  },
  {
   "cell_type": "markdown",
   "id": "anticipated-segment",
   "metadata": {},
   "source": [
    "## Exercise 2\n",
    "Given a dataset from stroke patients, we want to study their mean glucose level. <br/>\n",
    "For two samples of 100 and 1000 observations, provide a 95% confidence intervals for the following scenarios:\n",
    "\n",
    "**(a) Known population standard deviation** <br/>\n",
    "**(b) Unknown population standard deviation**\n",
    "\n",
    "**Dataset:** https://www.kaggle.com/fedesoriano/stroke-prediction-dataset"
   ]
  },
  {
   "cell_type": "code",
   "execution_count": 32,
   "id": "13615f6e-1e02-423b-988c-01f9c8368b42",
   "metadata": {},
   "outputs": [
    {
     "data": {
      "text/html": [
       "<div>\n",
       "<style scoped>\n",
       "    .dataframe tbody tr th:only-of-type {\n",
       "        vertical-align: middle;\n",
       "    }\n",
       "\n",
       "    .dataframe tbody tr th {\n",
       "        vertical-align: top;\n",
       "    }\n",
       "\n",
       "    .dataframe thead th {\n",
       "        text-align: right;\n",
       "    }\n",
       "</style>\n",
       "<table border=\"1\" class=\"dataframe\">\n",
       "  <thead>\n",
       "    <tr style=\"text-align: right;\">\n",
       "      <th></th>\n",
       "      <th>id</th>\n",
       "      <th>gender</th>\n",
       "      <th>age</th>\n",
       "      <th>hypertension</th>\n",
       "      <th>heart_disease</th>\n",
       "      <th>ever_married</th>\n",
       "      <th>work_type</th>\n",
       "      <th>Residence_type</th>\n",
       "      <th>avg_glucose_level</th>\n",
       "      <th>bmi</th>\n",
       "      <th>smoking_status</th>\n",
       "      <th>stroke</th>\n",
       "    </tr>\n",
       "  </thead>\n",
       "  <tbody>\n",
       "    <tr>\n",
       "      <th>0</th>\n",
       "      <td>9046</td>\n",
       "      <td>Male</td>\n",
       "      <td>67.0</td>\n",
       "      <td>0</td>\n",
       "      <td>1</td>\n",
       "      <td>Yes</td>\n",
       "      <td>Private</td>\n",
       "      <td>Urban</td>\n",
       "      <td>228.69</td>\n",
       "      <td>36.6</td>\n",
       "      <td>formerly smoked</td>\n",
       "      <td>1</td>\n",
       "    </tr>\n",
       "    <tr>\n",
       "      <th>1</th>\n",
       "      <td>51676</td>\n",
       "      <td>Female</td>\n",
       "      <td>61.0</td>\n",
       "      <td>0</td>\n",
       "      <td>0</td>\n",
       "      <td>Yes</td>\n",
       "      <td>Self-employed</td>\n",
       "      <td>Rural</td>\n",
       "      <td>202.21</td>\n",
       "      <td>NaN</td>\n",
       "      <td>never smoked</td>\n",
       "      <td>1</td>\n",
       "    </tr>\n",
       "    <tr>\n",
       "      <th>2</th>\n",
       "      <td>31112</td>\n",
       "      <td>Male</td>\n",
       "      <td>80.0</td>\n",
       "      <td>0</td>\n",
       "      <td>1</td>\n",
       "      <td>Yes</td>\n",
       "      <td>Private</td>\n",
       "      <td>Rural</td>\n",
       "      <td>105.92</td>\n",
       "      <td>32.5</td>\n",
       "      <td>never smoked</td>\n",
       "      <td>1</td>\n",
       "    </tr>\n",
       "    <tr>\n",
       "      <th>3</th>\n",
       "      <td>60182</td>\n",
       "      <td>Female</td>\n",
       "      <td>49.0</td>\n",
       "      <td>0</td>\n",
       "      <td>0</td>\n",
       "      <td>Yes</td>\n",
       "      <td>Private</td>\n",
       "      <td>Urban</td>\n",
       "      <td>171.23</td>\n",
       "      <td>34.4</td>\n",
       "      <td>smokes</td>\n",
       "      <td>1</td>\n",
       "    </tr>\n",
       "    <tr>\n",
       "      <th>4</th>\n",
       "      <td>1665</td>\n",
       "      <td>Female</td>\n",
       "      <td>79.0</td>\n",
       "      <td>1</td>\n",
       "      <td>0</td>\n",
       "      <td>Yes</td>\n",
       "      <td>Self-employed</td>\n",
       "      <td>Rural</td>\n",
       "      <td>174.12</td>\n",
       "      <td>24.0</td>\n",
       "      <td>never smoked</td>\n",
       "      <td>1</td>\n",
       "    </tr>\n",
       "  </tbody>\n",
       "</table>\n",
       "</div>"
      ],
      "text/plain": [
       "      id  gender   age  hypertension  heart_disease ever_married  \\\n",
       "0   9046    Male  67.0             0              1          Yes   \n",
       "1  51676  Female  61.0             0              0          Yes   \n",
       "2  31112    Male  80.0             0              1          Yes   \n",
       "3  60182  Female  49.0             0              0          Yes   \n",
       "4   1665  Female  79.0             1              0          Yes   \n",
       "\n",
       "       work_type Residence_type  avg_glucose_level   bmi   smoking_status  \\\n",
       "0        Private          Urban             228.69  36.6  formerly smoked   \n",
       "1  Self-employed          Rural             202.21   NaN     never smoked   \n",
       "2        Private          Rural             105.92  32.5     never smoked   \n",
       "3        Private          Urban             171.23  34.4           smokes   \n",
       "4  Self-employed          Rural             174.12  24.0     never smoked   \n",
       "\n",
       "   stroke  \n",
       "0       1  \n",
       "1       1  \n",
       "2       1  \n",
       "3       1  \n",
       "4       1  "
      ]
     },
     "execution_count": 32,
     "metadata": {},
     "output_type": "execute_result"
    }
   ],
   "source": [
    "df = pd.read_csv('../datasets/healthcare-dataset-stroke-data.csv')\n",
    "df.head()"
   ]
  },
  {
   "cell_type": "code",
   "execution_count": 33,
   "id": "b6dbf87d-af45-4878-86d8-99db96d986ff",
   "metadata": {},
   "outputs": [
    {
     "data": {
      "text/plain": [
       "0       228.69\n",
       "1       202.21\n",
       "2       105.92\n",
       "3       171.23\n",
       "4       174.12\n",
       "         ...  \n",
       "5105     83.75\n",
       "5106    125.20\n",
       "5107     82.99\n",
       "5108    166.29\n",
       "5109     85.28\n",
       "Name: avg_glucose_level, Length: 5110, dtype: float64"
      ]
     },
     "execution_count": 33,
     "metadata": {},
     "output_type": "execute_result"
    }
   ],
   "source": [
    "population = df['avg_glucose_level']\n",
    "population"
   ]
  },
  {
   "cell_type": "code",
   "execution_count": 34,
   "id": "2e93fa22-ddb4-4650-b5a8-d29f8c5f3a17",
   "metadata": {},
   "outputs": [
    {
     "data": {
      "text/plain": [
       "106.14767710371804"
      ]
     },
     "execution_count": 34,
     "metadata": {},
     "output_type": "execute_result"
    }
   ],
   "source": [
    "population_mean = population.mean()\n",
    "population_mean"
   ]
  },
  {
   "cell_type": "code",
   "execution_count": 35,
   "id": "905c2216-0025-4224-a64d-8322d3bcf353",
   "metadata": {},
   "outputs": [
    {
     "data": {
      "text/plain": [
       "<AxesSubplot:xlabel='avg_glucose_level', ylabel='Count'>"
      ]
     },
     "execution_count": 35,
     "metadata": {},
     "output_type": "execute_result"
    },
    {
     "data": {
      "image/png": "[encoded data removed]",
      "text/plain": [
       "<Figure size 432x288 with 1 Axes>"
      ]
     },
     "metadata": {
      "needs_background": "light"
     },
     "output_type": "display_data"
    }
   ],
   "source": [
    "sns.histplot(data=population, kde=True)"
   ]
  },
  {
   "cell_type": "markdown",
   "id": "d83ad119-8a14-4e3b-9d58-67734088cfd4",
   "metadata": {},
   "source": [
    "#### Population Mean = 106.1476771037182"
   ]
  },
  {
   "cell_type": "code",
   "execution_count": 36,
   "id": "40a7c119-248f-427f-8731-6be58905616e",
   "metadata": {},
   "outputs": [
    {
     "data": {
      "text/plain": [
       "45.28356015058203"
      ]
     },
     "execution_count": 36,
     "metadata": {},
     "output_type": "execute_result"
    }
   ],
   "source": [
    "population_std = population.std()\n",
    "population_std"
   ]
  },
  {
   "cell_type": "code",
   "execution_count": 37,
   "id": "212f120f-cc91-44ab-ad7e-6f837d6d2d29",
   "metadata": {
    "tags": []
   },
   "outputs": [
    {
     "data": {
      "text/plain": [
       "0.95"
      ]
     },
     "execution_count": 37,
     "metadata": {},
     "output_type": "execute_result"
    }
   ],
   "source": [
    "confidence_level = 0.95\n",
    "confidence_level"
   ]
  },
  {
   "cell_type": "code",
   "execution_count": 38,
   "id": "4e72356f-a946-46e0-83e4-e984b1fc9a64",
   "metadata": {},
   "outputs": [
    {
     "data": {
      "text/plain": [
       "0.050000000000000044"
      ]
     },
     "execution_count": 38,
     "metadata": {},
     "output_type": "execute_result"
    }
   ],
   "source": [
    "significance_level = 1 - confidence_level\n",
    "significance_level"
   ]
  },
  {
   "cell_type": "code",
   "execution_count": 39,
   "id": "1453e4d6-147c-4d1e-9e87-bf7dbd8541e3",
   "metadata": {},
   "outputs": [
    {
     "data": {
      "text/plain": [
       "4358     80.94\n",
       "4779     66.71\n",
       "931      78.11\n",
       "3917     90.00\n",
       "1095    103.94\n",
       "         ...  \n",
       "1566    101.43\n",
       "222     205.35\n",
       "3075     80.92\n",
       "580     107.47\n",
       "1947     65.95\n",
       "Name: avg_glucose_level, Length: 100, dtype: float64"
      ]
     },
     "execution_count": 39,
     "metadata": {},
     "output_type": "execute_result"
    }
   ],
   "source": [
    "sample_100 = population.sample(100, random_state=999)\n",
    "sample_100"
   ]
  },
  {
   "cell_type": "code",
   "execution_count": 40,
   "id": "ff8c0b4b-f5a1-48ab-87ef-0bcb5d437221",
   "metadata": {},
   "outputs": [
    {
     "data": {
      "text/plain": [
       "<AxesSubplot:xlabel='avg_glucose_level', ylabel='Count'>"
      ]
     },
     "execution_count": 40,
     "metadata": {},
     "output_type": "execute_result"
    },
    {
     "data": {
      "image/png": "[encoded data removed]",
      "text/plain": [
       "<Figure size 432x288 with 1 Axes>"
      ]
     },
     "metadata": {
      "needs_background": "light"
     },
     "output_type": "display_data"
    }
   ],
   "source": [
    "sns.histplot(data=sample_100, kde=True)"
   ]
  },
  {
   "cell_type": "code",
   "execution_count": 41,
   "id": "fdc7e3ef-4c12-4167-8c27-af1080dfe69e",
   "metadata": {},
   "outputs": [
    {
     "data": {
      "text/plain": [
       "4358     80.94\n",
       "4779     66.71\n",
       "931      78.11\n",
       "3917     90.00\n",
       "1095    103.94\n",
       "         ...  \n",
       "3278     84.70\n",
       "1204    121.19\n",
       "490      65.24\n",
       "2650     59.00\n",
       "34       84.20\n",
       "Name: avg_glucose_level, Length: 1000, dtype: float64"
      ]
     },
     "execution_count": 41,
     "metadata": {},
     "output_type": "execute_result"
    }
   ],
   "source": [
    "sample_1000 = population.sample(1000, random_state=999)\n",
    "sample_1000"
   ]
  },
  {
   "cell_type": "code",
   "execution_count": 42,
   "id": "8e3ec2e7-f0d4-4dbf-802e-b074053dc8ae",
   "metadata": {},
   "outputs": [
    {
     "data": {
      "text/plain": [
       "<AxesSubplot:xlabel='avg_glucose_level', ylabel='Count'>"
      ]
     },
     "execution_count": 42,
     "metadata": {},
     "output_type": "execute_result"
    },
    {
     "data": {
      "image/png": "[encoded data removed]",
      "text/plain": [
       "<Figure size 432x288 with 1 Axes>"
      ]
     },
     "metadata": {
      "needs_background": "light"
     },
     "output_type": "display_data"
    }
   ],
   "source": [
    "sns.histplot(data=sample_1000, kde=True)"
   ]
  },
  {
   "cell_type": "markdown",
   "id": "6ec80ae1-204d-4068-a7fd-3a83c9b7f7b4",
   "metadata": {},
   "source": [
    "#### **(a) Known population standard deviation, and sample sizes of 100 and 1000**"
   ]
  },
  {
   "cell_type": "markdown",
   "id": "2b112907-520e-4a8f-9094-babbd0c383e6",
   "metadata": {},
   "source": [
    "#### Sample size 100"
   ]
  },
  {
   "cell_type": "code",
   "execution_count": 43,
   "id": "b251964b-726b-4caa-a812-eebee75f7dcd",
   "metadata": {},
   "outputs": [
    {
     "data": {
      "text/plain": [
       "100"
      ]
     },
     "execution_count": 43,
     "metadata": {},
     "output_type": "execute_result"
    }
   ],
   "source": [
    "n = 100\n",
    "n"
   ]
  },
  {
   "cell_type": "code",
   "execution_count": 44,
   "id": "087355e4-512f-4003-9840-a70b6ace765b",
   "metadata": {},
   "outputs": [
    {
     "data": {
      "text/plain": [
       "107.90570000000007"
      ]
     },
     "execution_count": 44,
     "metadata": {},
     "output_type": "execute_result"
    }
   ],
   "source": [
    "sample_100_mean = sample_100.mean()\n",
    "sample_100_mean"
   ]
  },
  {
   "cell_type": "code",
   "execution_count": 45,
   "id": "faa85994-c18c-4628-9e8d-ffd601be33ae",
   "metadata": {},
   "outputs": [
    {
     "data": {
      "text/plain": [
       "4.528356015058203"
      ]
     },
     "execution_count": 45,
     "metadata": {},
     "output_type": "execute_result"
    }
   ],
   "source": [
    "standard_error_100 = population_std / np.sqrt(n)\n",
    "standard_error_100"
   ]
  },
  {
   "cell_type": "code",
   "execution_count": 46,
   "id": "cad83a89-200b-41da-9a68-a1d5e5a0ed03",
   "metadata": {},
   "outputs": [
    {
     "data": {
      "text/plain": [
       "(99.03028530131067, 116.78111469868946)"
      ]
     },
     "execution_count": 46,
     "metadata": {},
     "output_type": "execute_result"
    }
   ],
   "source": [
    "norm.interval(alpha=confidence_level, loc=sample_100_mean, scale=standard_error_100)"
   ]
  },
  {
   "cell_type": "markdown",
   "id": "b5ad89f9-35ce-4bf2-a544-bb1ec568331d",
   "metadata": {},
   "source": [
    "#### Sample size 1000"
   ]
  },
  {
   "cell_type": "code",
   "execution_count": 47,
   "id": "b7ef4fb8-13db-490e-82f2-9562ade281b1",
   "metadata": {},
   "outputs": [
    {
     "data": {
      "text/plain": [
       "1000"
      ]
     },
     "execution_count": 47,
     "metadata": {},
     "output_type": "execute_result"
    }
   ],
   "source": [
    "n = 1000\n",
    "n"
   ]
  },
  {
   "cell_type": "code",
   "execution_count": 48,
   "id": "1965550f-f35a-4ff1-873c-5a8e7d5b8f40",
   "metadata": {},
   "outputs": [
    {
     "data": {
      "text/plain": [
       "107.67421999999995"
      ]
     },
     "execution_count": 48,
     "metadata": {},
     "output_type": "execute_result"
    }
   ],
   "source": [
    "sample_1000_mean = sample_1000.mean()\n",
    "sample_1000_mean"
   ]
  },
  {
   "cell_type": "code",
   "execution_count": 49,
   "id": "2b5fb703-a140-4c91-ac3e-1911a5cd0b7a",
   "metadata": {},
   "outputs": [
    {
     "data": {
      "text/plain": [
       "1.4319919063707662"
      ]
     },
     "execution_count": 49,
     "metadata": {},
     "output_type": "execute_result"
    }
   ],
   "source": [
    "standard_error_1000 = population_std / np.sqrt(n)\n",
    "standard_error_1000"
   ]
  },
  {
   "cell_type": "code",
   "execution_count": 50,
   "id": "1414e892-4c65-4fec-b3fe-a938ddb70809",
   "metadata": {},
   "outputs": [
    {
     "data": {
      "text/plain": [
       "(104.86756743736039, 110.4808725626395)"
      ]
     },
     "execution_count": 50,
     "metadata": {},
     "output_type": "execute_result"
    }
   ],
   "source": [
    "norm.interval(alpha=confidence_level, loc=sample_1000_mean, scale=standard_error_1000)"
   ]
  },
  {
   "cell_type": "markdown",
   "id": "557c0a40-edf2-4c50-b16b-398078557d2f",
   "metadata": {},
   "source": [
    "#### **(b) Unknown population standard deviation, and sample sizes of 100 and 1000**"
   ]
  },
  {
   "cell_type": "markdown",
   "id": "5bd0cbca-f70f-4564-bb7c-d4a3a6cc1067",
   "metadata": {},
   "source": [
    "#### Sample size 100"
   ]
  },
  {
   "cell_type": "code",
   "execution_count": 51,
   "id": "ddd35f5b-de09-4f10-a99b-f7fb2ff4a685",
   "metadata": {},
   "outputs": [
    {
     "data": {
      "text/plain": [
       "100"
      ]
     },
     "execution_count": 51,
     "metadata": {},
     "output_type": "execute_result"
    }
   ],
   "source": [
    "n = 100\n",
    "n"
   ]
  },
  {
   "cell_type": "code",
   "execution_count": 52,
   "id": "4c05f5f3-f3c2-47bc-83c9-e5388fa2306f",
   "metadata": {},
   "outputs": [
    {
     "data": {
      "text/plain": [
       "107.90570000000007"
      ]
     },
     "execution_count": 52,
     "metadata": {},
     "output_type": "execute_result"
    }
   ],
   "source": [
    "sample_100_mean = sample_100.mean()\n",
    "sample_100_mean"
   ]
  },
  {
   "cell_type": "code",
   "execution_count": 53,
   "id": "1674b0f3-f6bc-4823-8e9b-3a48f4bee9b7",
   "metadata": {},
   "outputs": [
    {
     "data": {
      "text/plain": [
       "47.96907099613586"
      ]
     },
     "execution_count": 53,
     "metadata": {},
     "output_type": "execute_result"
    }
   ],
   "source": [
    "sample_100_std = sample_100.std()\n",
    "sample_100_std"
   ]
  },
  {
   "cell_type": "code",
   "execution_count": 54,
   "id": "3c5f2a51-3183-4200-ac2e-834897f41a52",
   "metadata": {},
   "outputs": [
    {
     "data": {
      "text/plain": [
       "4.796907099613586"
      ]
     },
     "execution_count": 54,
     "metadata": {},
     "output_type": "execute_result"
    }
   ],
   "source": [
    "standard_error_100 = sample_100_std / np.sqrt(n)\n",
    "standard_error_100"
   ]
  },
  {
   "cell_type": "code",
   "execution_count": 55,
   "id": "99189599-4dda-4350-ac0c-fb1e30e84ec0",
   "metadata": {},
   "outputs": [
    {
     "data": {
      "text/plain": [
       "(98.50393484757295, 117.30746515242718)"
      ]
     },
     "execution_count": 55,
     "metadata": {},
     "output_type": "execute_result"
    }
   ],
   "source": [
    "norm.interval(alpha=confidence_level, loc=sample_100_mean, scale=standard_error_100)"
   ]
  },
  {
   "cell_type": "markdown",
   "id": "c6058004-40c7-4bfe-8260-d8dfed06992c",
   "metadata": {},
   "source": [
    "#### Sample size 1000"
   ]
  },
  {
   "cell_type": "code",
   "execution_count": 56,
   "id": "739ad9db-a2c6-4d9b-8161-05c76975bafe",
   "metadata": {},
   "outputs": [
    {
     "data": {
      "text/plain": [
       "1000"
      ]
     },
     "execution_count": 56,
     "metadata": {},
     "output_type": "execute_result"
    }
   ],
   "source": [
    "n = 1000\n",
    "n"
   ]
  },
  {
   "cell_type": "code",
   "execution_count": 57,
   "id": "eb2ee168-c5af-4bf2-a503-e4b8b337cc30",
   "metadata": {},
   "outputs": [
    {
     "data": {
      "text/plain": [
       "107.67421999999995"
      ]
     },
     "execution_count": 57,
     "metadata": {},
     "output_type": "execute_result"
    }
   ],
   "source": [
    "sample_1000_mean = sample_1000.mean()\n",
    "sample_1000_mean"
   ]
  },
  {
   "cell_type": "code",
   "execution_count": 58,
   "id": "48d80341-fba1-4129-9404-7dc9e92624f1",
   "metadata": {},
   "outputs": [
    {
     "data": {
      "text/plain": [
       "46.158967265859076"
      ]
     },
     "execution_count": 58,
     "metadata": {},
     "output_type": "execute_result"
    }
   ],
   "source": [
    "sample_1000_std = sample_1000.std()\n",
    "sample_1000_std"
   ]
  },
  {
   "cell_type": "code",
   "execution_count": 59,
   "id": "2cc30f05-16b1-4afc-af25-0bd1f6a2d46d",
   "metadata": {},
   "outputs": [
    {
     "data": {
      "text/plain": [
       "1.4596747100126966"
      ]
     },
     "execution_count": 59,
     "metadata": {},
     "output_type": "execute_result"
    }
   ],
   "source": [
    "standard_error_1000 = sample_1000_std / np.sqrt(n)\n",
    "standard_error_1000"
   ]
  },
  {
   "cell_type": "code",
   "execution_count": 60,
   "id": "a4d69dad-712e-4294-bf7a-fa9d82a19143",
   "metadata": {},
   "outputs": [
    {
     "data": {
      "text/plain": [
       "(104.81331013923112, 110.53512986076878)"
      ]
     },
     "execution_count": 60,
     "metadata": {},
     "output_type": "execute_result"
    }
   ],
   "source": [
    "norm.interval(alpha=confidence_level, loc=sample_1000_mean, scale=standard_error_1000)"
   ]
  },
  {
   "cell_type": "markdown",
   "id": "closing-evans",
   "metadata": {},
   "source": [
    "# 4. Calculating Sample Sizes"
   ]
  },
  {
   "cell_type": "markdown",
   "id": "least-professional",
   "metadata": {},
   "source": [
    "<img src='../imgs/calculating_sample_sizes.png' width=700/>"
   ]
  },
  {
   "cell_type": "markdown",
   "id": "polar-microphone",
   "metadata": {},
   "source": [
    "## Exercise 1\n",
    "Suppose we want to investigate the **mean income** from the brazilian population. According to the last census, the **population standard deviation** is **R\\$ 4000,00**. Assuming a **95\\% confidence level** and a **margin of error** (with respect to the sample mean) of **R\\$ 100,00**, what should be the **sample size**? "
   ]
  },
  {
   "cell_type": "markdown",
   "id": "timely-midwest",
   "metadata": {},
   "source": [
    "### Population standard deviation (𝜎)"
   ]
  },
  {
   "cell_type": "code",
   "execution_count": 61,
   "id": "headed-dakota",
   "metadata": {},
   "outputs": [
    {
     "data": {
      "text/plain": [
       "4000"
      ]
     },
     "execution_count": 61,
     "metadata": {},
     "output_type": "execute_result"
    }
   ],
   "source": [
    "population_std = 4000\n",
    "population_std"
   ]
  },
  {
   "cell_type": "markdown",
   "id": "0f3986e9-0b6b-4bb2-9069-b173ae18b903",
   "metadata": {},
   "source": [
    "### Confidence level (1 - α)"
   ]
  },
  {
   "cell_type": "code",
   "execution_count": 62,
   "id": "6a178f47-10f1-4af4-aecb-7594e1bc10db",
   "metadata": {},
   "outputs": [
    {
     "data": {
      "text/plain": [
       "0.95"
      ]
     },
     "execution_count": 62,
     "metadata": {},
     "output_type": "execute_result"
    }
   ],
   "source": [
    "confidence_level = 0.95\n",
    "confidence_level"
   ]
  },
  {
   "cell_type": "markdown",
   "id": "chicken-lottery",
   "metadata": {},
   "source": [
    "### Significance level (α)"
   ]
  },
  {
   "cell_type": "code",
   "execution_count": 63,
   "id": "similar-causing",
   "metadata": {},
   "outputs": [
    {
     "data": {
      "text/plain": [
       "0.050000000000000044"
      ]
     },
     "execution_count": 63,
     "metadata": {},
     "output_type": "execute_result"
    }
   ],
   "source": [
    "significance_level = 1 - confidence_level\n",
    "significance_level"
   ]
  },
  {
   "cell_type": "markdown",
   "id": "b82a31d1-4ff5-4793-ba44-be60aca5419e",
   "metadata": {},
   "source": [
    "### Margin of Error (e)"
   ]
  },
  {
   "cell_type": "code",
   "execution_count": 64,
   "id": "3554c07a-89fe-4884-aa38-8f928124697d",
   "metadata": {},
   "outputs": [
    {
     "data": {
      "text/plain": [
       "100"
      ]
     },
     "execution_count": 64,
     "metadata": {},
     "output_type": "execute_result"
    }
   ],
   "source": [
    "margin_of_error = 100\n",
    "margin_of_error"
   ]
  },
  {
   "cell_type": "markdown",
   "id": "labeled-definition",
   "metadata": {},
   "source": [
    "### Critical value ($𝒛_{𝜶/𝟐}$ = $z_{0.025}$)"
   ]
  },
  {
   "cell_type": "code",
   "execution_count": 70,
   "id": "alike-stick",
   "metadata": {},
   "outputs": [
    {
     "data": {
      "text/plain": [
       "1.96"
      ]
     },
     "execution_count": 70,
     "metadata": {},
     "output_type": "execute_result"
    }
   ],
   "source": [
    "#critical_value = 1.96\n",
    "critical_value = np.abs(norm.ppf(0.025).round(2))\n",
    "critical_value"
   ]
  },
  {
   "cell_type": "markdown",
   "id": "hazardous-american",
   "metadata": {},
   "source": [
    "### Calculating the sample size (n)"
   ]
  },
  {
   "cell_type": "code",
   "execution_count": 71,
   "id": "thrown-sector",
   "metadata": {},
   "outputs": [
    {
     "data": {
      "text/plain": [
       "6146.560000000001"
      ]
     },
     "execution_count": 71,
     "metadata": {},
     "output_type": "execute_result"
    }
   ],
   "source": [
    "n = (critical_value * (population_std / margin_of_error)) ** 2\n",
    "n"
   ]
  },
  {
   "cell_type": "code",
   "execution_count": 72,
   "id": "36836f18-682b-42eb-ab2d-472507a0e0b5",
   "metadata": {},
   "outputs": [
    {
     "data": {
      "text/plain": [
       "6147"
      ]
     },
     "execution_count": 72,
     "metadata": {},
     "output_type": "execute_result"
    }
   ],
   "source": [
    "n = int(round(n))\n",
    "n"
   ]
  },
  {
   "cell_type": "markdown",
   "id": "drawn-jewelry",
   "metadata": {},
   "source": [
    "## Exercise 2\n",
    "In a batch of **10,000 cans** of soda, a simple random sample of **200 cans** was collected to validation the amount of soda. The found **sample standard deviation** was **16 ml**. Each can costs **R\\$ 4,00** and is thrown away after the experiment.\n",
    "\n",
    "The manufacturer stipulates a **maximum error on the population average of only 4 ml**. To ensure a **95\\% confidence level** what sample size should be selected for this study? How much  will the company save in the next experiment/validation?"
   ]
  },
  {
   "cell_type": "markdown",
   "id": "important-young",
   "metadata": {},
   "source": [
    "### Population size (N)"
   ]
  },
  {
   "cell_type": "code",
   "execution_count": 73,
   "id": "appropriate-sensitivity",
   "metadata": {},
   "outputs": [
    {
     "data": {
      "text/plain": [
       "10000"
      ]
     },
     "execution_count": 73,
     "metadata": {},
     "output_type": "execute_result"
    }
   ],
   "source": [
    "N = 10000\n",
    "N"
   ]
  },
  {
   "cell_type": "markdown",
   "id": "southwest-terrorist",
   "metadata": {},
   "source": [
    "### Calculating the critical value (z-score ==> $𝒛_{𝜶/𝟐}$): 95% confidence level"
   ]
  },
  {
   "cell_type": "code",
   "execution_count": 74,
   "id": "311e1c03-5311-486c-b530-7ad5dbeeeb34",
   "metadata": {},
   "outputs": [
    {
     "data": {
      "text/plain": [
       "1.96"
      ]
     },
     "execution_count": 74,
     "metadata": {},
     "output_type": "execute_result"
    }
   ],
   "source": [
    "#critical_value = 1.96\n",
    "critical_value = np.abs(norm.ppf(0.025).round(2))\n",
    "critical_value"
   ]
  },
  {
   "cell_type": "markdown",
   "id": "green-measurement",
   "metadata": {},
   "source": [
    "### Calculating the sample standard deviation (s)"
   ]
  },
  {
   "cell_type": "code",
   "execution_count": 75,
   "id": "embedded-upper",
   "metadata": {},
   "outputs": [
    {
     "data": {
      "text/plain": [
       "16"
      ]
     },
     "execution_count": 75,
     "metadata": {},
     "output_type": "execute_result"
    }
   ],
   "source": [
    "sample_std = 16\n",
    "sample_std"
   ]
  },
  {
   "cell_type": "markdown",
   "id": "described-bracelet",
   "metadata": {},
   "source": [
    "### Margin of Error (e)"
   ]
  },
  {
   "cell_type": "code",
   "execution_count": 76,
   "id": "criminal-parade",
   "metadata": {},
   "outputs": [
    {
     "data": {
      "text/plain": [
       "4"
      ]
     },
     "execution_count": 76,
     "metadata": {},
     "output_type": "execute_result"
    }
   ],
   "source": [
    "margin_of_error = 4\n",
    "margin_of_error"
   ]
  },
  {
   "cell_type": "markdown",
   "id": "fiscal-bangladesh",
   "metadata": {},
   "source": [
    "### Calculating the sample size (n)"
   ]
  },
  {
   "cell_type": "code",
   "execution_count": 79,
   "id": "varying-opportunity",
   "metadata": {},
   "outputs": [
    {
     "data": {
      "text/plain": [
       "61.096178292185606"
      ]
     },
     "execution_count": 79,
     "metadata": {},
     "output_type": "execute_result"
    }
   ],
   "source": [
    "n = ((critical_value ** 2) * (sample_std ** 2) * N) / ((critical_value ** 2) * (sample_std ** 2) + (margin_of_error ** 2) * (N - 1))\n",
    "n"
   ]
  },
  {
   "cell_type": "code",
   "execution_count": 80,
   "id": "f2841fd3-5154-4918-b5a5-35e269634418",
   "metadata": {},
   "outputs": [
    {
     "data": {
      "text/plain": [
       "61"
      ]
     },
     "execution_count": 80,
     "metadata": {},
     "output_type": "execute_result"
    }
   ],
   "source": [
    "n = int(round(n))\n",
    "n"
   ]
  },
  {
   "cell_type": "markdown",
   "id": "complimentary-assembly",
   "metadata": {},
   "source": [
    "Note that the number of cans (sample size) necessary to meet the requirements is **61**. Therefore, it is not necessary to collect 200 samples as was done before, thus saving money."
   ]
  },
  {
   "cell_type": "markdown",
   "id": "wanted-burning",
   "metadata": {},
   "source": [
    "### Savings"
   ]
  },
  {
   "cell_type": "code",
   "execution_count": 81,
   "id": "instructional-sense",
   "metadata": {},
   "outputs": [
    {
     "data": {
      "text/plain": [
       "4"
      ]
     },
     "execution_count": 81,
     "metadata": {},
     "output_type": "execute_result"
    }
   ],
   "source": [
    "cost_per_can = 4\n",
    "cost_per_can"
   ]
  },
  {
   "cell_type": "code",
   "execution_count": 82,
   "id": "fef05326-85bb-4c69-b9c1-a6ee113330a6",
   "metadata": {},
   "outputs": [
    {
     "data": {
      "text/plain": [
       "556"
      ]
     },
     "execution_count": 82,
     "metadata": {},
     "output_type": "execute_result"
    }
   ],
   "source": [
    "(200 - n) * cost_per_can"
   ]
  },
  {
   "cell_type": "markdown",
   "id": "interior-garbage",
   "metadata": {},
   "source": [
    "The company will save R$ 556 in the next experiments."
   ]
  },
  {
   "cell_type": "markdown",
   "id": "superior-control",
   "metadata": {},
   "source": [
    "# 5. Bootstrap Confidence Interval"
   ]
  },
  {
   "cell_type": "markdown",
   "id": "constant-teacher",
   "metadata": {},
   "source": [
    "<img src='../imgs/bootstrap_confidence_interval.png' width=700 />"
   ]
  },
  {
   "cell_type": "markdown",
   "id": "matched-retirement",
   "metadata": {},
   "source": [
    "## Exercise\n",
    "Given the dataset from stroke patients, we want to study their **mean glucose level**.\n",
    "Provide **95% bootstrap confidence intervals** for sample sizes of **100** and **1000**.\n",
    "\n",
    "**Dataset:** https://www.kaggle.com/fedesoriano/stroke-prediction-dataset"
   ]
  },
  {
   "cell_type": "code",
   "execution_count": 83,
   "id": "brown-graphic",
   "metadata": {},
   "outputs": [
    {
     "data": {
      "text/html": [
       "<div>\n",
       "<style scoped>\n",
       "    .dataframe tbody tr th:only-of-type {\n",
       "        vertical-align: middle;\n",
       "    }\n",
       "\n",
       "    .dataframe tbody tr th {\n",
       "        vertical-align: top;\n",
       "    }\n",
       "\n",
       "    .dataframe thead th {\n",
       "        text-align: right;\n",
       "    }\n",
       "</style>\n",
       "<table border=\"1\" class=\"dataframe\">\n",
       "  <thead>\n",
       "    <tr style=\"text-align: right;\">\n",
       "      <th></th>\n",
       "      <th>id</th>\n",
       "      <th>gender</th>\n",
       "      <th>age</th>\n",
       "      <th>hypertension</th>\n",
       "      <th>heart_disease</th>\n",
       "      <th>ever_married</th>\n",
       "      <th>work_type</th>\n",
       "      <th>Residence_type</th>\n",
       "      <th>avg_glucose_level</th>\n",
       "      <th>bmi</th>\n",
       "      <th>smoking_status</th>\n",
       "      <th>stroke</th>\n",
       "    </tr>\n",
       "  </thead>\n",
       "  <tbody>\n",
       "    <tr>\n",
       "      <th>0</th>\n",
       "      <td>9046</td>\n",
       "      <td>Male</td>\n",
       "      <td>67.0</td>\n",
       "      <td>0</td>\n",
       "      <td>1</td>\n",
       "      <td>Yes</td>\n",
       "      <td>Private</td>\n",
       "      <td>Urban</td>\n",
       "      <td>228.69</td>\n",
       "      <td>36.6</td>\n",
       "      <td>formerly smoked</td>\n",
       "      <td>1</td>\n",
       "    </tr>\n",
       "    <tr>\n",
       "      <th>1</th>\n",
       "      <td>51676</td>\n",
       "      <td>Female</td>\n",
       "      <td>61.0</td>\n",
       "      <td>0</td>\n",
       "      <td>0</td>\n",
       "      <td>Yes</td>\n",
       "      <td>Self-employed</td>\n",
       "      <td>Rural</td>\n",
       "      <td>202.21</td>\n",
       "      <td>NaN</td>\n",
       "      <td>never smoked</td>\n",
       "      <td>1</td>\n",
       "    </tr>\n",
       "    <tr>\n",
       "      <th>2</th>\n",
       "      <td>31112</td>\n",
       "      <td>Male</td>\n",
       "      <td>80.0</td>\n",
       "      <td>0</td>\n",
       "      <td>1</td>\n",
       "      <td>Yes</td>\n",
       "      <td>Private</td>\n",
       "      <td>Rural</td>\n",
       "      <td>105.92</td>\n",
       "      <td>32.5</td>\n",
       "      <td>never smoked</td>\n",
       "      <td>1</td>\n",
       "    </tr>\n",
       "    <tr>\n",
       "      <th>3</th>\n",
       "      <td>60182</td>\n",
       "      <td>Female</td>\n",
       "      <td>49.0</td>\n",
       "      <td>0</td>\n",
       "      <td>0</td>\n",
       "      <td>Yes</td>\n",
       "      <td>Private</td>\n",
       "      <td>Urban</td>\n",
       "      <td>171.23</td>\n",
       "      <td>34.4</td>\n",
       "      <td>smokes</td>\n",
       "      <td>1</td>\n",
       "    </tr>\n",
       "    <tr>\n",
       "      <th>4</th>\n",
       "      <td>1665</td>\n",
       "      <td>Female</td>\n",
       "      <td>79.0</td>\n",
       "      <td>1</td>\n",
       "      <td>0</td>\n",
       "      <td>Yes</td>\n",
       "      <td>Self-employed</td>\n",
       "      <td>Rural</td>\n",
       "      <td>174.12</td>\n",
       "      <td>24.0</td>\n",
       "      <td>never smoked</td>\n",
       "      <td>1</td>\n",
       "    </tr>\n",
       "  </tbody>\n",
       "</table>\n",
       "</div>"
      ],
      "text/plain": [
       "      id  gender   age  hypertension  heart_disease ever_married  \\\n",
       "0   9046    Male  67.0             0              1          Yes   \n",
       "1  51676  Female  61.0             0              0          Yes   \n",
       "2  31112    Male  80.0             0              1          Yes   \n",
       "3  60182  Female  49.0             0              0          Yes   \n",
       "4   1665  Female  79.0             1              0          Yes   \n",
       "\n",
       "       work_type Residence_type  avg_glucose_level   bmi   smoking_status  \\\n",
       "0        Private          Urban             228.69  36.6  formerly smoked   \n",
       "1  Self-employed          Rural             202.21   NaN     never smoked   \n",
       "2        Private          Rural             105.92  32.5     never smoked   \n",
       "3        Private          Urban             171.23  34.4           smokes   \n",
       "4  Self-employed          Rural             174.12  24.0     never smoked   \n",
       "\n",
       "   stroke  \n",
       "0       1  \n",
       "1       1  \n",
       "2       1  \n",
       "3       1  \n",
       "4       1  "
      ]
     },
     "execution_count": 83,
     "metadata": {},
     "output_type": "execute_result"
    }
   ],
   "source": [
    "df = pd.read_csv('../datasets/healthcare-dataset-stroke-data.csv')\n",
    "df.head()"
   ]
  },
  {
   "cell_type": "code",
   "execution_count": 84,
   "id": "disciplinary-symphony",
   "metadata": {},
   "outputs": [
    {
     "data": {
      "text/plain": [
       "0       228.69\n",
       "1       202.21\n",
       "2       105.92\n",
       "3       171.23\n",
       "4       174.12\n",
       "         ...  \n",
       "5105     83.75\n",
       "5106    125.20\n",
       "5107     82.99\n",
       "5108    166.29\n",
       "5109     85.28\n",
       "Name: avg_glucose_level, Length: 5110, dtype: float64"
      ]
     },
     "execution_count": 84,
     "metadata": {},
     "output_type": "execute_result"
    }
   ],
   "source": [
    "population = df['avg_glucose_level']\n",
    "population"
   ]
  },
  {
   "cell_type": "code",
   "execution_count": 85,
   "id": "falling-plant",
   "metadata": {},
   "outputs": [
    {
     "data": {
      "text/plain": [
       "<AxesSubplot:xlabel='avg_glucose_level', ylabel='Count'>"
      ]
     },
     "execution_count": 85,
     "metadata": {},
     "output_type": "execute_result"
    },
    {
     "data": {
      "image/png": "[encoded data removed]",
      "text/plain": [
       "<Figure size 432x288 with 1 Axes>"
      ]
     },
     "metadata": {
      "needs_background": "light"
     },
     "output_type": "display_data"
    }
   ],
   "source": [
    "sns.histplot(population, kde=True)"
   ]
  },
  {
   "cell_type": "markdown",
   "id": "complete-oxide",
   "metadata": {},
   "source": [
    "#### True **Population Mean**"
   ]
  },
  {
   "cell_type": "code",
   "execution_count": 86,
   "id": "independent-trigger",
   "metadata": {},
   "outputs": [
    {
     "data": {
      "text/plain": [
       "106.14767710371804"
      ]
     },
     "execution_count": 86,
     "metadata": {},
     "output_type": "execute_result"
    }
   ],
   "source": [
    "population.mean()"
   ]
  },
  {
   "cell_type": "markdown",
   "id": "significant-slovakia",
   "metadata": {},
   "source": [
    "### Sample size: 100"
   ]
  },
  {
   "cell_type": "markdown",
   "id": "broadband-preliminary",
   "metadata": {},
   "source": [
    "1. Get a sample S from the population"
   ]
  },
  {
   "cell_type": "code",
   "execution_count": 87,
   "id": "37bcafd5-83c8-4979-8410-66b2ef04cbfa",
   "metadata": {},
   "outputs": [
    {
     "data": {
      "text/plain": [
       "100"
      ]
     },
     "execution_count": 87,
     "metadata": {},
     "output_type": "execute_result"
    }
   ],
   "source": [
    "n = 100\n",
    "n"
   ]
  },
  {
   "cell_type": "code",
   "execution_count": 88,
   "id": "introductory-mystery",
   "metadata": {},
   "outputs": [
    {
     "data": {
      "text/plain": [
       "4358     80.94\n",
       "4779     66.71\n",
       "931      78.11\n",
       "3917     90.00\n",
       "1095    103.94\n",
       "         ...  \n",
       "1566    101.43\n",
       "222     205.35\n",
       "3075     80.92\n",
       "580     107.47\n",
       "1947     65.95\n",
       "Name: avg_glucose_level, Length: 100, dtype: float64"
      ]
     },
     "execution_count": 88,
     "metadata": {},
     "output_type": "execute_result"
    }
   ],
   "source": [
    "# original sample\n",
    "sample_100 = population.sample(n, random_state=999)\n",
    "sample_100"
   ]
  },
  {
   "cell_type": "code",
   "execution_count": 89,
   "id": "exotic-bullet",
   "metadata": {},
   "outputs": [
    {
     "data": {
      "text/plain": [
       "<AxesSubplot:xlabel='avg_glucose_level', ylabel='Count'>"
      ]
     },
     "execution_count": 89,
     "metadata": {},
     "output_type": "execute_result"
    },
    {
     "data": {
      "image/png": "[encoded data removed]",
      "text/plain": [
       "<Figure size 432x288 with 1 Axes>"
      ]
     },
     "metadata": {
      "needs_background": "light"
     },
     "output_type": "display_data"
    }
   ],
   "source": [
    "sns.histplot(data=sample_100, kde=True)"
   ]
  },
  {
   "cell_type": "markdown",
   "id": "precise-internship",
   "metadata": {},
   "source": [
    "2. Repeat k times:<br/>\n",
    "    2.1. Generate a bootstrap sample by **resampling S**<br/>\n",
    "    2.2. Calculate the desired statistic for the bootstrap sample"
   ]
  },
  {
   "cell_type": "code",
   "execution_count": 90,
   "id": "african-stevens",
   "metadata": {},
   "outputs": [
    {
     "data": {
      "text/plain": [
       "10000"
      ]
     },
     "execution_count": 90,
     "metadata": {},
     "output_type": "execute_result"
    }
   ],
   "source": [
    "k = 10000\n",
    "k"
   ]
  },
  {
   "cell_type": "code",
   "execution_count": 95,
   "id": "ef8a6507-a89d-4335-80ed-a75bf86dd62f",
   "metadata": {},
   "outputs": [
    {
     "data": {
      "text/plain": [
       "[108.58439999999993,\n",
       " 108.48429999999999,\n",
       " 120.19560000000003,\n",
       " 101.84260000000006,\n",
       " 114.84280000000003]"
      ]
     },
     "execution_count": 95,
     "metadata": {},
     "output_type": "execute_result"
    }
   ],
   "source": [
    "bootstrap_sampling_distribution = [sample_100.sample(n, replace=True, random_state=i).mean() for i in range(k)]\n",
    "bootstrap_sampling_distribution[:5]"
   ]
  },
  {
   "cell_type": "code",
   "execution_count": 97,
   "id": "66ce9703-5619-403d-8339-08eebfce8868",
   "metadata": {},
   "outputs": [
    {
     "data": {
      "text/plain": [
       "10000"
      ]
     },
     "execution_count": 97,
     "metadata": {},
     "output_type": "execute_result"
    }
   ],
   "source": [
    "len(bootstrap_sampling_distribution)"
   ]
  },
  {
   "cell_type": "markdown",
   "id": "twelve-visitor",
   "metadata": {},
   "source": [
    "3. Build the sampling distribution for the statistic"
   ]
  },
  {
   "cell_type": "code",
   "execution_count": 96,
   "id": "sexual-assist",
   "metadata": {},
   "outputs": [
    {
     "data": {
      "text/plain": [
       "<AxesSubplot:ylabel='Count'>"
      ]
     },
     "execution_count": 96,
     "metadata": {},
     "output_type": "execute_result"
    },
    {
     "data": {
      "image/png": "[encoded data removed]",
      "text/plain": [
       "<Figure size 432x288 with 1 Axes>"
      ]
     },
     "metadata": {
      "needs_background": "light"
     },
     "output_type": "display_data"
    }
   ],
   "source": [
    "sns.histplot(bootstrap_sampling_distribution, kde=True)"
   ]
  },
  {
   "cell_type": "markdown",
   "id": "funky-andrews",
   "metadata": {},
   "source": [
    "4. Compute the interval around the mean with the concentration of c% observations/values<br/>\n",
    "    4.1. c% is the confidence level = 1 – α<br/>\n",
    "    4.2. The interval consists of the α/2 percentile and (1 - α/2) percentile <br/>\n",
    "    4.3. Thus, just sort the statistics and return the values of theses percentiles"
   ]
  },
  {
   "cell_type": "markdown",
   "id": "civilian-stanley",
   "metadata": {},
   "source": [
    "### ALTERNATIVE 1"
   ]
  },
  {
   "cell_type": "code",
   "execution_count": 98,
   "id": "canadian-stress",
   "metadata": {},
   "outputs": [
    {
     "data": {
      "text/plain": [
       "(0.95, 0.050000000000000044)"
      ]
     },
     "execution_count": 98,
     "metadata": {},
     "output_type": "execute_result"
    }
   ],
   "source": [
    "confidence_level, significance_level"
   ]
  },
  {
   "cell_type": "code",
   "execution_count": 99,
   "id": "c11b809f-b558-4365-8c1b-ae4e9c97ed71",
   "metadata": {},
   "outputs": [
    {
     "data": {
      "text/plain": [
       "[91.88399999999997,\n",
       " 92.37989999999998,\n",
       " 92.44560000000006,\n",
       " 92.80840000000006,\n",
       " 93.02339999999998]"
      ]
     },
     "execution_count": 99,
     "metadata": {},
     "output_type": "execute_result"
    }
   ],
   "source": [
    "sorted_bootstrap_sampling_distribution = sorted(bootstrap_sampling_distribution)\n",
    "sorted_bootstrap_sampling_distribution[:5]"
   ]
  },
  {
   "cell_type": "code",
   "execution_count": 103,
   "id": "619b714d-4649-456c-9ab9-f2c9338e9299",
   "metadata": {},
   "outputs": [
    {
     "data": {
      "text/plain": [
       "0.025000000000000022"
      ]
     },
     "execution_count": 103,
     "metadata": {},
     "output_type": "execute_result"
    }
   ],
   "source": [
    "percentile_x1 = significance_level / 2\n",
    "percentile_x1"
   ]
  },
  {
   "cell_type": "code",
   "execution_count": 104,
   "id": "2ef62da5-2ffc-4526-903d-2cfb0aaaca73",
   "metadata": {},
   "outputs": [
    {
     "data": {
      "text/plain": [
       "0.975"
      ]
     },
     "execution_count": 104,
     "metadata": {},
     "output_type": "execute_result"
    }
   ],
   "source": [
    "percentile_x2 = 1 - (significance_level / 2)\n",
    "percentile_x2"
   ]
  },
  {
   "cell_type": "code",
   "execution_count": 105,
   "id": "754582c6-ac3c-4ea3-ab8b-79c634c2a1cb",
   "metadata": {},
   "outputs": [
    {
     "data": {
      "text/plain": [
       "(10000, 10000)"
      ]
     },
     "execution_count": 105,
     "metadata": {},
     "output_type": "execute_result"
    }
   ],
   "source": [
    "len(sorted_bootstrap_sampling_distribution), k"
   ]
  },
  {
   "cell_type": "code",
   "execution_count": 107,
   "id": "40ee0ab8-0fe3-4102-8e99-7aed728ce087",
   "metadata": {},
   "outputs": [
    {
     "data": {
      "text/plain": [
       "250"
      ]
     },
     "execution_count": 107,
     "metadata": {},
     "output_type": "execute_result"
    }
   ],
   "source": [
    "index_percentile_x1 = int(percentile_x1 * k)\n",
    "index_percentile_x1"
   ]
  },
  {
   "cell_type": "code",
   "execution_count": 108,
   "id": "33fa833c-612b-4c6e-ac9a-faacbaf9655c",
   "metadata": {},
   "outputs": [
    {
     "data": {
      "text/plain": [
       "9750"
      ]
     },
     "execution_count": 108,
     "metadata": {},
     "output_type": "execute_result"
    }
   ],
   "source": [
    "index_percentile_x2 = int(percentile_x2 * k)\n",
    "index_percentile_x2"
   ]
  },
  {
   "cell_type": "code",
   "execution_count": 112,
   "id": "1f5809c6-5616-4d54-9c6f-597dfd95f79d",
   "metadata": {},
   "outputs": [
    {
     "data": {
      "text/plain": [
       "(98.83620000000005, 117.39780000000005)"
      ]
     },
     "execution_count": 112,
     "metadata": {},
     "output_type": "execute_result"
    }
   ],
   "source": [
    "confidence_interval = (\n",
    "    sorted_bootstrap_sampling_distribution[index_percentile_x1],\n",
    "    sorted_bootstrap_sampling_distribution[index_percentile_x2]\n",
    ")\n",
    "confidence_interval"
   ]
  },
  {
   "cell_type": "markdown",
   "id": "vanilla-destination",
   "metadata": {},
   "source": [
    "### ALTERNATIVE 2"
   ]
  },
  {
   "cell_type": "code",
   "execution_count": 115,
   "id": "bf3eb691-0fb7-495a-9202-8fcaabcf8dc7",
   "metadata": {},
   "outputs": [
    {
     "data": {
      "text/plain": [
       "(98.83618250000005, 117.39633750000007)"
      ]
     },
     "execution_count": 115,
     "metadata": {},
     "output_type": "execute_result"
    }
   ],
   "source": [
    "# Não precisa ordenar o vetor previamente\n",
    "np.percentile(bootstrap_sampling_distribution, 2.5), np.percentile(bootstrap_sampling_distribution, 97.5)"
   ]
  },
  {
   "cell_type": "markdown",
   "id": "compound-contribution",
   "metadata": {},
   "source": [
    "#### Boostrap Sampling Distribution Mean"
   ]
  },
  {
   "cell_type": "code",
   "execution_count": 118,
   "id": "addressed-treasurer",
   "metadata": {},
   "outputs": [
    {
     "data": {
      "text/plain": [
       "-1.7174511962819707"
      ]
     },
     "execution_count": 118,
     "metadata": {},
     "output_type": "execute_result"
    }
   ],
   "source": [
    "population_mean - np.array(bootstrap_sampling_distribution).mean()"
   ]
  },
  {
   "cell_type": "markdown",
   "id": "median-costume",
   "metadata": {},
   "source": [
    "### Sample size: 1000"
   ]
  },
  {
   "cell_type": "markdown",
   "id": "aging-supplier",
   "metadata": {},
   "source": [
    "1. Get a sample S from the population"
   ]
  },
  {
   "cell_type": "code",
   "execution_count": 121,
   "id": "derived-dream",
   "metadata": {},
   "outputs": [
    {
     "data": {
      "text/plain": [
       "1000"
      ]
     },
     "execution_count": 121,
     "metadata": {},
     "output_type": "execute_result"
    }
   ],
   "source": [
    "n = 1000\n",
    "n"
   ]
  },
  {
   "cell_type": "code",
   "execution_count": 122,
   "id": "5f033836-8cfe-4a58-8ab4-a1076e4221d8",
   "metadata": {},
   "outputs": [
    {
     "data": {
      "text/plain": [
       "4358     80.94\n",
       "4779     66.71\n",
       "931      78.11\n",
       "3917     90.00\n",
       "1095    103.94\n",
       "         ...  \n",
       "3278     84.70\n",
       "1204    121.19\n",
       "490      65.24\n",
       "2650     59.00\n",
       "34       84.20\n",
       "Name: avg_glucose_level, Length: 1000, dtype: float64"
      ]
     },
     "execution_count": 122,
     "metadata": {},
     "output_type": "execute_result"
    }
   ],
   "source": [
    "sample_1000 = population.sample(n, random_state=999)\n",
    "sample_1000"
   ]
  },
  {
   "cell_type": "code",
   "execution_count": 123,
   "id": "7d6fbf21-3597-4491-8408-d82f3ef346b9",
   "metadata": {},
   "outputs": [
    {
     "data": {
      "text/plain": [
       "<AxesSubplot:xlabel='avg_glucose_level', ylabel='Count'>"
      ]
     },
     "execution_count": 123,
     "metadata": {},
     "output_type": "execute_result"
    },
    {
     "data": {
      "image/png": "[encoded data removed]",
      "text/plain": [
       "<Figure size 432x288 with 1 Axes>"
      ]
     },
     "metadata": {
      "needs_background": "light"
     },
     "output_type": "display_data"
    }
   ],
   "source": [
    "sns.histplot(sample_1000, kde=True)"
   ]
  },
  {
   "cell_type": "markdown",
   "id": "romance-profile",
   "metadata": {},
   "source": [
    "2. Repeat k times:<br/>\n",
    "    2.1. Generate a bootstrap sample by **resampling S**<br/>\n",
    "    2.2. Calculate the desired statistic for the bootstrap sample <br/>\n",
    "3. Build the sampling distribution for the statistic"
   ]
  },
  {
   "cell_type": "markdown",
   "id": "72deac45-a5af-4600-8f18-b7f54ad4b1ce",
   "metadata": {},
   "source": [
    "Instead of doing these steps \"manually\", we can use the methos `bootstrap` from Seaborn package"
   ]
  },
  {
   "cell_type": "code",
   "execution_count": 124,
   "id": "popular-minute",
   "metadata": {},
   "outputs": [
    {
     "data": {
      "text/plain": [
       "10000"
      ]
     },
     "execution_count": 124,
     "metadata": {},
     "output_type": "execute_result"
    }
   ],
   "source": [
    "k"
   ]
  },
  {
   "cell_type": "code",
   "execution_count": 126,
   "id": "formed-flower",
   "metadata": {},
   "outputs": [
    {
     "data": {
      "text/plain": [
       "array([111.18174, 108.15991, 107.57348, 108.22721, 110.0502 ])"
      ]
     },
     "execution_count": 126,
     "metadata": {},
     "output_type": "execute_result"
    }
   ],
   "source": [
    "bootstrap_sampling_distribution_1000 = sns.algorithms.bootstrap(sample_1000, n_boot=k, func=np.mean, seed=999)\n",
    "bootstrap_sampling_distribution_1000[:5]"
   ]
  },
  {
   "cell_type": "code",
   "execution_count": 127,
   "id": "a0be1a86-2eed-4a68-a628-6fdfd5fb750d",
   "metadata": {},
   "outputs": [
    {
     "data": {
      "text/plain": [
       "<AxesSubplot:ylabel='Count'>"
      ]
     },
     "execution_count": 127,
     "metadata": {},
     "output_type": "execute_result"
    },
    {
     "data": {
      "image/png": "[encoded data removed]",
      "text/plain": [
       "<Figure size 432x288 with 1 Axes>"
      ]
     },
     "metadata": {
      "needs_background": "light"
     },
     "output_type": "display_data"
    }
   ],
   "source": [
    "sns.histplot(bootstrap_sampling_distribution_1000, kde=True)"
   ]
  },
  {
   "cell_type": "markdown",
   "id": "hundred-mixer",
   "metadata": {},
   "source": [
    "4. Compute the interval around the mean with the concentration of c% observations/values<br/>\n",
    "    4.1. c% is the confidence level = 1 – α<br/>\n",
    "    4.2. The interval consists of the α/2 percentile and (1 - α/2) percentile <br/>\n",
    "    4.3. Thus, just sort the statistics and return the values of theses percentiles"
   ]
  },
  {
   "cell_type": "code",
   "execution_count": 128,
   "id": "dirty-broadway",
   "metadata": {},
   "outputs": [
    {
     "data": {
      "text/plain": [
       "(104.86168050000002, 110.520456)"
      ]
     },
     "execution_count": 128,
     "metadata": {},
     "output_type": "execute_result"
    }
   ],
   "source": [
    "confidence_interval = (\n",
    "    np.percentile(bootstrap_sampling_distribution_1000, 2.5),\n",
    "    np.percentile(bootstrap_sampling_distribution_1000, 97.5),\n",
    ")\n",
    "confidence_interval"
   ]
  },
  {
   "cell_type": "markdown",
   "id": "linear-stereo",
   "metadata": {},
   "source": [
    "#### Boostrap Sampling Distribution Mean "
   ]
  },
  {
   "cell_type": "code",
   "execution_count": 129,
   "id": "hired-cruise",
   "metadata": {},
   "outputs": [
    {
     "data": {
      "text/plain": [
       "-1.5170042232819725"
      ]
     },
     "execution_count": 129,
     "metadata": {},
     "output_type": "execute_result"
    }
   ],
   "source": [
    "population.mean() - np.array(bootstrap_sampling_distribution_1000).mean()"
   ]
  },
  {
   "cell_type": "markdown",
   "id": "diagnostic-gospel",
   "metadata": {},
   "source": [
    "# 6. Comparing the Calculated 95% Confidence Intervals"
   ]
  },
  {
   "cell_type": "code",
   "execution_count": 133,
   "id": "b5fbb696-1eb0-4978-aa86-fbec0970b79e",
   "metadata": {},
   "outputs": [],
   "source": [
    "confidence_interval_table = pd.DataFrame({\n",
    "    'Sample Size: 100': [(99.03, 116.78), (98.50, 117.30), (98.83, 117.39)],\n",
    "    'Sample Size: 1000': [(104.86, 110.48), (104.81, 110.53), (104.86, 110.52)]\n",
    "}, index=[('Confidence Interval - Known population std'),\n",
    "          ('Confidence Interval - Unknown population std'),\n",
    "         'Bootstrap']\n",
    ")"
   ]
  },
  {
   "cell_type": "code",
   "execution_count": 134,
   "id": "72e2c1a0-9561-4cb3-b566-4e0a98dee4e4",
   "metadata": {},
   "outputs": [
    {
     "data": {
      "text/html": [
       "<div>\n",
       "<style scoped>\n",
       "    .dataframe tbody tr th:only-of-type {\n",
       "        vertical-align: middle;\n",
       "    }\n",
       "\n",
       "    .dataframe tbody tr th {\n",
       "        vertical-align: top;\n",
       "    }\n",
       "\n",
       "    .dataframe thead th {\n",
       "        text-align: right;\n",
       "    }\n",
       "</style>\n",
       "<table border=\"1\" class=\"dataframe\">\n",
       "  <thead>\n",
       "    <tr style=\"text-align: right;\">\n",
       "      <th></th>\n",
       "      <th>Sample Size: 100</th>\n",
       "      <th>Sample Size: 1000</th>\n",
       "    </tr>\n",
       "  </thead>\n",
       "  <tbody>\n",
       "    <tr>\n",
       "      <th>Confidence Interval - Known population std</th>\n",
       "      <td>(99.03, 116.78)</td>\n",
       "      <td>(104.86, 110.48)</td>\n",
       "    </tr>\n",
       "    <tr>\n",
       "      <th>Confidence Interval - Unknown population std</th>\n",
       "      <td>(98.5, 117.3)</td>\n",
       "      <td>(104.81, 110.53)</td>\n",
       "    </tr>\n",
       "    <tr>\n",
       "      <th>Bootstrap</th>\n",
       "      <td>(98.83, 117.39)</td>\n",
       "      <td>(104.86, 110.52)</td>\n",
       "    </tr>\n",
       "  </tbody>\n",
       "</table>\n",
       "</div>"
      ],
      "text/plain": [
       "                                             Sample Size: 100  \\\n",
       "Confidence Interval - Known population std    (99.03, 116.78)   \n",
       "Confidence Interval - Unknown population std    (98.5, 117.3)   \n",
       "Bootstrap                                     (98.83, 117.39)   \n",
       "\n",
       "                                             Sample Size: 1000  \n",
       "Confidence Interval - Known population std    (104.86, 110.48)  \n",
       "Confidence Interval - Unknown population std  (104.81, 110.53)  \n",
       "Bootstrap                                     (104.86, 110.52)  "
      ]
     },
     "execution_count": 134,
     "metadata": {},
     "output_type": "execute_result"
    }
   ],
   "source": [
    "confidence_interval_table"
   ]
  },
  {
   "cell_type": "markdown",
   "id": "f42774e8-6b5e-4bfe-96cc-92ff167fb7b1",
   "metadata": {},
   "source": [
    "#### Population Mean = 106.1476771037182"
   ]
  }
 ],
 "metadata": {
  "kernelspec": {
   "display_name": "Python 3",
   "language": "python",
   "name": "python3"
  },
  "language_info": {
   "codemirror_mode": {
    "name": "ipython",
    "version": 3
   },
   "file_extension": ".py",
   "mimetype": "text/x-python",
   "name": "python",
   "nbconvert_exporter": "python",
   "pygments_lexer": "ipython3",
   "version": "3.9.2"
  }
 },
 "nbformat": 4,
 "nbformat_minor": 5
}
