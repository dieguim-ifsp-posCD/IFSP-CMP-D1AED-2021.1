{
 "cells": [
  {
   "cell_type": "markdown",
   "id": "strange-musical",
   "metadata": {},
   "source": [
    "**D1DAE: Análise Estatística para Ciência de Dados (2021.1)** <br/>\n",
    "IFSP Campinas\n",
    "\n",
    "Profs: Ricardo Sovat, Samuel Martins <br/><br/>\n",
    "\n",
    "<a rel=\"license\" href=\"http://creativecommons.org/licenses/by-nc-sa/4.0/\"><img alt=\"Creative Commons License\" style=\"border-width:0\" src=\"https://i.creativecommons.org/l/by-nc-sa/4.0/88x31.png\" /></a><br />This work is licensed under a <a rel=\"license\" href=\"http://creativecommons.org/licenses/by-nc-sa/4.0/\">Creative Commons Attribution-NonCommercial-ShareAlike 4.0 International License</a>."
   ]
  },
  {
   "cell_type": "code",
   "execution_count": null,
   "id": "small-reviewer",
   "metadata": {},
   "outputs": [],
   "source": []
  },
  {
   "cell_type": "markdown",
   "id": "5ada2457-787e-4fa5-9be2-ed84f6aa4230",
   "metadata": {},
   "source": [
    "# 1. Probability Distributions"
   ]
  },
  {
   "cell_type": "markdown",
   "id": "sudden-aircraft",
   "metadata": {},
   "source": [
    "## 1.2. Binomial Distribution"
   ]
  },
  {
   "cell_type": "markdown",
   "id": "proved-demand",
   "metadata": {},
   "source": [
    "<img src=\"./imgs/binomial_distribution_ex.png\" width=500/>"
   ]
  },
  {
   "cell_type": "markdown",
   "id": "realistic-watts",
   "metadata": {},
   "source": [
    "### Exercise 1"
   ]
  },
  {
   "cell_type": "markdown",
   "id": "formal-fifteen",
   "metadata": {},
   "source": [
    "In an admission test for the Data Science specialization, **10 questions** with  **3 possible choices** in each question.<br/>\n",
    "**Each question scores equally**. Suppose that a candidate have not been prepared for the test. She decided to guess all answers.<br/>\n",
    "Let the test has the **maximum score of 10** and **cut-off score of 5** for being approved for the next stage.<br/>\n",
    "\n",
    "Provide the _probability_ that this candidate will **get 5 questions right**, and the _probability_ that she will **advance to the next stage of the test**.<br/><br/>\n"
   ]
  },
  {
   "cell_type": "markdown",
   "id": "willing-convenience",
   "metadata": {},
   "source": [
    "#### Is this a Binomial experiment?"
   ]
  },
  {
   "cell_type": "markdown",
   "id": "impressed-hepatitis",
   "metadata": {},
   "source": [
    "#### 1. How many trials (n)? (Fixed number of identical trials)"
   ]
  },
  {
   "cell_type": "code",
   "execution_count": null,
   "id": "tracked-alliance",
   "metadata": {},
   "outputs": [],
   "source": []
  },
  {
   "cell_type": "markdown",
   "id": "suffering-locking",
   "metadata": {},
   "source": [
    "#### 2. Are the trials independent?"
   ]
  },
  {
   "cell_type": "markdown",
   "id": "modular-night",
   "metadata": {},
   "source": [
    "Yes. One option chosen for a given question does not influence the chosen answer for the other questions."
   ]
  },
  {
   "cell_type": "markdown",
   "id": "fifty-radius",
   "metadata": {},
   "source": [
    "#### 3. Are only two outcomes possible per trial?"
   ]
  },
  {
   "cell_type": "markdown",
   "id": "early-strand",
   "metadata": {},
   "source": [
    "Yes. The candidate has two possibilities: **hit** or **miss** the question."
   ]
  },
  {
   "cell_type": "markdown",
   "id": "compressed-chile",
   "metadata": {},
   "source": [
    "#### 4. What is the probability of success (p) and failure (q)?"
   ]
  },
  {
   "cell_type": "code",
   "execution_count": null,
   "id": "intermediate-lodge",
   "metadata": {},
   "outputs": [],
   "source": []
  },
  {
   "cell_type": "code",
   "execution_count": null,
   "id": "vocal-moral",
   "metadata": {},
   "outputs": [],
   "source": []
  },
  {
   "cell_type": "code",
   "execution_count": null,
   "id": "early-dispute",
   "metadata": {},
   "outputs": [],
   "source": []
  },
  {
   "cell_type": "markdown",
   "id": "threatened-sunglasses",
   "metadata": {},
   "source": [
    "Therefore, it is a **Binomial experiment**."
   ]
  },
  {
   "cell_type": "markdown",
   "id": "aerial-corner",
   "metadata": {},
   "source": [
    "#### What is the total number of events that you want to get successes (x)? "
   ]
  },
  {
   "cell_type": "code",
   "execution_count": null,
   "id": "equipped-spice",
   "metadata": {},
   "outputs": [],
   "source": []
  },
  {
   "cell_type": "markdown",
   "id": "streaming-steel",
   "metadata": {},
   "source": [
    "<br/>\n",
    "\n",
    "#### Q1. What is the _probability_ that the candidate will get 5 questions right?"
   ]
  },
  {
   "cell_type": "markdown",
   "id": "recreational-jerusalem",
   "metadata": {},
   "source": [
    "##### Solution 1"
   ]
  },
  {
   "cell_type": "code",
   "execution_count": null,
   "id": "final-boards",
   "metadata": {},
   "outputs": [],
   "source": []
  },
  {
   "cell_type": "code",
   "execution_count": null,
   "id": "reflected-prospect",
   "metadata": {},
   "outputs": [],
   "source": []
  },
  {
   "cell_type": "markdown",
   "id": "great-daughter",
   "metadata": {},
   "source": [
    "##### Solution 2"
   ]
  },
  {
   "cell_type": "code",
   "execution_count": null,
   "id": "purple-animal",
   "metadata": {},
   "outputs": [],
   "source": []
  },
  {
   "cell_type": "code",
   "execution_count": null,
   "id": "deadly-container",
   "metadata": {},
   "outputs": [],
   "source": []
  },
  {
   "cell_type": "markdown",
   "id": "mobile-profile",
   "metadata": {},
   "source": [
    "<br/>\n",
    "\n",
    "#### Q2. How likely is the candidate to pass the test? (What is the _probability_ for that?)\n",
    "<center><img src=\"./imgs/binomial_distribution_ex_Q2.png\" width=500/></center>"
   ]
  },
  {
   "cell_type": "markdown",
   "id": "clear-behavior",
   "metadata": {},
   "source": [
    "##### Solution 1"
   ]
  },
  {
   "cell_type": "code",
   "execution_count": null,
   "id": "natural-outreach",
   "metadata": {},
   "outputs": [],
   "source": []
  },
  {
   "cell_type": "markdown",
   "id": "decimal-picking",
   "metadata": {},
   "source": [
    "##### Solution 2"
   ]
  },
  {
   "cell_type": "code",
   "execution_count": null,
   "id": "fitting-mobility",
   "metadata": {},
   "outputs": [],
   "source": []
  },
  {
   "cell_type": "markdown",
   "id": "opposed-military",
   "metadata": {},
   "source": [
    "##### Solution 3\n",
    "https://docs.scipy.org/doc/scipy/reference/generated/scipy.stats.binom.html"
   ]
  },
  {
   "cell_type": "code",
   "execution_count": null,
   "id": "early-latest",
   "metadata": {},
   "outputs": [],
   "source": []
  },
  {
   "cell_type": "markdown",
   "id": "outside-parameter",
   "metadata": {},
   "source": [
    "<br/>\n",
    "\n",
    "### Exercise 2"
   ]
  },
  {
   "cell_type": "markdown",
   "id": "scenic-provision",
   "metadata": {},
   "source": [
    "In the last World Chess Championship, **the proportion of female participants was 60%.** <br/>\n",
    "**The total of teams, with 12 members, in this year's championship is 30.** <br/>\n",
    "According to these information, **how many teams should be formed by 8 women?** <br/><br/>\n",
    "\n"
   ]
  },
  {
   "cell_type": "markdown",
   "id": "considerable-hypothesis",
   "metadata": {},
   "source": [
    "Let's first calculate the probability of a team has 8 women."
   ]
  },
  {
   "cell_type": "markdown",
   "id": "ceramic-dominant",
   "metadata": {},
   "source": [
    "#### 1. How many trials (n)? (Fixed number of identical trials)"
   ]
  },
  {
   "cell_type": "code",
   "execution_count": null,
   "id": "alert-efficiency",
   "metadata": {},
   "outputs": [],
   "source": []
  },
  {
   "cell_type": "markdown",
   "id": "differential-bryan",
   "metadata": {},
   "source": [
    "#### 2. Are the trials independent?"
   ]
  },
  {
   "cell_type": "markdown",
   "id": "dated-affiliate",
   "metadata": {},
   "source": [
    "Yes. The gender of each member is independent."
   ]
  },
  {
   "cell_type": "markdown",
   "id": "right-leave",
   "metadata": {},
   "source": [
    "#### 3. Are only two outcomes possible per trial?"
   ]
  },
  {
   "cell_type": "markdown",
   "id": "mysterious-craft",
   "metadata": {},
   "source": [
    "Yes: woman (success) and others (failure)."
   ]
  },
  {
   "cell_type": "markdown",
   "id": "monetary-split",
   "metadata": {},
   "source": [
    "#### 4. What is the probability of success (p) and failure (q)?"
   ]
  },
  {
   "cell_type": "code",
   "execution_count": null,
   "id": "extraordinary-boundary",
   "metadata": {},
   "outputs": [],
   "source": []
  },
  {
   "cell_type": "markdown",
   "id": "interpreted-assist",
   "metadata": {},
   "source": [
    "#### What is the total number of events that you want to get successes (x)? "
   ]
  },
  {
   "cell_type": "code",
   "execution_count": null,
   "id": "interracial-monthly",
   "metadata": {},
   "outputs": [],
   "source": []
  },
  {
   "cell_type": "markdown",
   "id": "deluxe-worst",
   "metadata": {},
   "source": [
    "#### Q: How many teams (out of 30) should be formed by 8 women?"
   ]
  },
  {
   "cell_type": "code",
   "execution_count": null,
   "id": "comprehensive-juvenile",
   "metadata": {},
   "outputs": [],
   "source": []
  },
  {
   "cell_type": "markdown",
   "id": "adjusted-scottish",
   "metadata": {},
   "source": [
    "##### Solution"
   ]
  },
  {
   "cell_type": "markdown",
   "id": "associate-viking",
   "metadata": {},
   "source": [
    "#### mean = n * p"
   ]
  },
  {
   "cell_type": "code",
   "execution_count": null,
   "id": "moved-clarity",
   "metadata": {},
   "outputs": [],
   "source": []
  },
  {
   "cell_type": "code",
   "execution_count": null,
   "id": "systematic-station",
   "metadata": {},
   "outputs": [],
   "source": []
  },
  {
   "cell_type": "code",
   "execution_count": null,
   "id": "similar-chest",
   "metadata": {},
   "outputs": [],
   "source": []
  },
  {
   "cell_type": "markdown",
   "id": "respected-pound",
   "metadata": {},
   "source": [
    "<br/>\n",
    "\n",
    "## 1.3. Poisson Distribution"
   ]
  },
  {
   "cell_type": "markdown",
   "id": "falling-cherry",
   "metadata": {},
   "source": [
    "<img src=\"./imgs/poisson_distribution_formula.png\" width=600/>"
   ]
  },
  {
   "cell_type": "markdown",
   "id": "drawn-latino",
   "metadata": {},
   "source": [
    "### Exercise 1"
   ]
  },
  {
   "cell_type": "markdown",
   "id": "needed-leone",
   "metadata": {},
   "source": [
    "A restaurant receives **20 orders per hour**. What is the chance that, at a given hour chosen at random, the restaurant will receive **15 orders**?"
   ]
  },
  {
   "cell_type": "markdown",
   "id": "threatened-daisy",
   "metadata": {},
   "source": [
    "#### What is the mean number of occurrences per hour? (𝜆)"
   ]
  },
  {
   "cell_type": "code",
   "execution_count": null,
   "id": "respiratory-movie",
   "metadata": {},
   "outputs": [],
   "source": []
  },
  {
   "cell_type": "markdown",
   "id": "personal-waste",
   "metadata": {},
   "source": [
    "#### What is the desired number of occurrences within the period of time? (x)"
   ]
  },
  {
   "cell_type": "code",
   "execution_count": null,
   "id": "laden-stone",
   "metadata": {},
   "outputs": [],
   "source": []
  },
  {
   "cell_type": "markdown",
   "id": "italian-pennsylvania",
   "metadata": {},
   "source": [
    "##### Solution 1"
   ]
  },
  {
   "cell_type": "code",
   "execution_count": null,
   "id": "brief-creek",
   "metadata": {},
   "outputs": [],
   "source": []
  },
  {
   "cell_type": "markdown",
   "id": "sustainable-groove",
   "metadata": {},
   "source": [
    "##### Solution 2\n",
    "https://docs.scipy.org/doc/scipy/reference/generated/scipy.stats.poisson.html"
   ]
  },
  {
   "cell_type": "code",
   "execution_count": null,
   "id": "literary-invitation",
   "metadata": {},
   "outputs": [],
   "source": []
  },
  {
   "cell_type": "code",
   "execution_count": null,
   "id": "imposed-waterproof",
   "metadata": {},
   "outputs": [],
   "source": []
  },
  {
   "cell_type": "markdown",
   "id": "seasonal-approval",
   "metadata": {},
   "source": [
    "### Exercise 2"
   ]
  },
  {
   "cell_type": "markdown",
   "id": "corrected-fitting",
   "metadata": {},
   "source": [
    "Vehicles pass through a junction on a busy road at an average rate of 300 per hour. <br/>"
   ]
  },
  {
   "cell_type": "markdown",
   "id": "nuclear-entry",
   "metadata": {},
   "source": [
    "#### **Q1**: Find the probability that none passes in a given minute."
   ]
  },
  {
   "cell_type": "markdown",
   "id": "friendly-millennium",
   "metadata": {},
   "source": [
    "##### The average number of cars per minute (𝜆)"
   ]
  },
  {
   "cell_type": "code",
   "execution_count": null,
   "id": "through-nicaragua",
   "metadata": {},
   "outputs": [],
   "source": []
  },
  {
   "cell_type": "markdown",
   "id": "verified-complex",
   "metadata": {},
   "source": [
    "##### What is the desired number of occurrences within the period of time? (x)"
   ]
  },
  {
   "cell_type": "code",
   "execution_count": null,
   "id": "instant-referral",
   "metadata": {},
   "outputs": [],
   "source": []
  },
  {
   "cell_type": "code",
   "execution_count": null,
   "id": "central-workplace",
   "metadata": {},
   "outputs": [],
   "source": []
  },
  {
   "cell_type": "markdown",
   "id": "recognized-wrapping",
   "metadata": {},
   "source": [
    "#### **Q2**: What is the expected number (average number) passing in two minutes?"
   ]
  },
  {
   "cell_type": "code",
   "execution_count": null,
   "id": "several-creator",
   "metadata": {},
   "outputs": [],
   "source": []
  },
  {
   "cell_type": "markdown",
   "id": "sunset-behavior",
   "metadata": {},
   "source": [
    "#### **Q3**: Find the probability that this expected number actually pass through in a given two-minute period.\n",
    "Given that the average rate of vehicles that pass through in a busy road in **two minutes** is **10**, which is the probability of passing through **exactly 10 vehicles** in a given two-minute period?"
   ]
  },
  {
   "cell_type": "markdown",
   "id": "junior-twist",
   "metadata": {},
   "source": [
    "##### The average number of cars per two minutes (𝜆)"
   ]
  },
  {
   "cell_type": "code",
   "execution_count": null,
   "id": "representative-nickel",
   "metadata": {},
   "outputs": [],
   "source": []
  },
  {
   "cell_type": "markdown",
   "id": "patient-fraction",
   "metadata": {},
   "source": [
    "##### What is the desired number of occurrences within the period of time? (x)"
   ]
  },
  {
   "cell_type": "code",
   "execution_count": null,
   "id": "delayed-cigarette",
   "metadata": {},
   "outputs": [],
   "source": []
  },
  {
   "cell_type": "code",
   "execution_count": null,
   "id": "emotional-control",
   "metadata": {},
   "outputs": [],
   "source": []
  },
  {
   "cell_type": "markdown",
   "id": "activated-poker",
   "metadata": {},
   "source": [
    "### Exercise 3"
   ]
  },
  {
   "cell_type": "markdown",
   "id": "collected-honey",
   "metadata": {},
   "source": [
    "Suppose the **average number of lions** seen on a **1-day safari** is **5**. What is the probability that tourists will see **fewer than four lions** on the next 1-day safari?"
   ]
  },
  {
   "cell_type": "markdown",
   "id": "secret-genome",
   "metadata": {},
   "source": [
    "#### What is the mean number of lions seen on a 1-day safari? (𝜆)"
   ]
  },
  {
   "cell_type": "code",
   "execution_count": null,
   "id": "dietary-diana",
   "metadata": {},
   "outputs": [],
   "source": []
  },
  {
   "cell_type": "markdown",
   "id": "alternate-advocacy",
   "metadata": {},
   "source": [
    "#### What is the desired number of occurrences within the period of time? (x)\n",
    "x = 0, 1, 2, or 3"
   ]
  },
  {
   "cell_type": "markdown",
   "id": "precise-helping",
   "metadata": {},
   "source": [
    "<img src=\"./imgs/poisson_distribution_ex3.png\" width=400/>"
   ]
  },
  {
   "cell_type": "markdown",
   "id": "indonesian-concept",
   "metadata": {},
   "source": [
    "##### Solution 1"
   ]
  },
  {
   "cell_type": "code",
   "execution_count": null,
   "id": "conscious-grass",
   "metadata": {},
   "outputs": [],
   "source": []
  },
  {
   "cell_type": "markdown",
   "id": "speaking-wireless",
   "metadata": {},
   "source": [
    "##### Solution 2"
   ]
  },
  {
   "cell_type": "code",
   "execution_count": null,
   "id": "psychological-madrid",
   "metadata": {},
   "outputs": [],
   "source": []
  },
  {
   "cell_type": "markdown",
   "id": "009dee51-3751-4605-9825-eb5bfbc504f0",
   "metadata": {},
   "source": [
    "<br/>\n",
    "\n",
    "## 1.4. Normal Distribution"
   ]
  },
  {
   "cell_type": "markdown",
   "id": "140b1bc6-e928-4e60-b7d0-f6ab428570bd",
   "metadata": {},
   "source": [
    "<img src=\"./imgs/standard_normal_distribution_formula.png\" width=700/>"
   ]
  },
  {
   "cell_type": "markdown",
   "id": "0b451301-31bc-4aa7-9388-4f11a8ac655d",
   "metadata": {},
   "source": [
    "### Exercise 1"
   ]
  },
  {
   "cell_type": "markdown",
   "id": "c28478a3-027c-4a80-9c2e-a916b105f1dc",
   "metadata": {},
   "source": [
    "When studying the height of the inhabitants of Pompeia, it was found that its **distribution is approximately normal**, with **mean** of 1.70 m and **standard deviation** of 0.1."
   ]
  },
  {
   "cell_type": "code",
   "execution_count": null,
   "id": "f967510d-6a80-433a-b9aa-daa46c458884",
   "metadata": {},
   "outputs": [],
   "source": []
  },
  {
   "cell_type": "markdown",
   "id": "d0233454-578b-4ee2-8070-5b3a4260d6e4",
   "metadata": {},
   "source": [
    "#### Q1: Probability of a person, selected by chance, is less than 1.8m tall? P(X < 1.8)"
   ]
  },
  {
   "cell_type": "code",
   "execution_count": null,
   "id": "9dd9a071-d442-4007-a3ae-61f5125c34ff",
   "metadata": {},
   "outputs": [],
   "source": []
  },
  {
   "cell_type": "code",
   "execution_count": null,
   "id": "408cbf9a-97e2-450f-b086-91f7ebc5d5da",
   "metadata": {},
   "outputs": [],
   "source": []
  },
  {
   "cell_type": "markdown",
   "id": "55208d18-7daf-4ccc-9df4-7b6ea8303cc7",
   "metadata": {},
   "source": [
    "##### **P(X < 1.8) = P(Z < 1.000)**"
   ]
  },
  {
   "cell_type": "markdown",
   "id": "1bf3f7d8-a000-4404-a022-b1c6bf836520",
   "metadata": {},
   "source": [
    "##### Solution 1 - Using the z-score table\n",
    "https://www.math.arizona.edu/~rsims/ma464/standardnormaltable.pdf"
   ]
  },
  {
   "cell_type": "markdown",
   "id": "85eee009-b52e-45ae-a35b-7bbc310466d4",
   "metadata": {},
   "source": [
    "Checking the z-score table, **P(Z < 1.000)=0.84134**"
   ]
  },
  {
   "cell_type": "markdown",
   "id": "2ea8ce8b-2791-40f4-ade1-8655620cfd42",
   "metadata": {},
   "source": [
    "##### Solution 2 - Using scipy"
   ]
  },
  {
   "cell_type": "code",
   "execution_count": null,
   "id": "ca22916e-a0b9-4081-a64e-6d7fb29f54ef",
   "metadata": {},
   "outputs": [],
   "source": []
  },
  {
   "cell_type": "code",
   "execution_count": null,
   "id": "70f11a17-6342-4e89-8907-a06542e50dd7",
   "metadata": {},
   "outputs": [],
   "source": []
  },
  {
   "cell_type": "markdown",
   "id": "a205a655-ba7b-4152-9163-fd460120c1a7",
   "metadata": {},
   "source": [
    "#### Q2: Probability of a person, selected by chance, is between 1.6m and 1.8m tall? P(1.6 <= X <= 1.8)\n",
    "P(1.6 <= X <= 1.8) = P(X < 1.8) - P(X < 1.6)"
   ]
  },
  {
   "cell_type": "code",
   "execution_count": null,
   "id": "0f5a3205-4b63-46f8-b073-e3890eb5dec1",
   "metadata": {},
   "outputs": [],
   "source": []
  },
  {
   "cell_type": "code",
   "execution_count": null,
   "id": "6f45e003-e7a3-450b-abfe-2d7dbea28977",
   "metadata": {},
   "outputs": [],
   "source": []
  },
  {
   "cell_type": "markdown",
   "id": "e13815fc-b765-463d-9afa-33ae6c0dd4e1",
   "metadata": {},
   "source": [
    "**P(1.6 <= X <= 1.8) = P(Z < -0.9999) - P(Z < 1.00000)**"
   ]
  },
  {
   "cell_type": "markdown",
   "id": "d1aace87-3b4e-46e9-ba5b-679287fa560f",
   "metadata": {},
   "source": [
    "##### Solution 1 - Using the z-score table\n",
    "https://www.math.arizona.edu/~rsims/ma464/standardnormaltable.pdf"
   ]
  },
  {
   "cell_type": "code",
   "execution_count": null,
   "id": "b54f3466-6361-433f-997b-ced1c00fddc5",
   "metadata": {},
   "outputs": [],
   "source": []
  },
  {
   "cell_type": "code",
   "execution_count": null,
   "id": "6f66b00c-03f2-4b72-adc2-f4c6cbfb2d35",
   "metadata": {},
   "outputs": [],
   "source": []
  },
  {
   "cell_type": "markdown",
   "id": "b6620f78-287d-410f-ab08-8f9ecdaeb10d",
   "metadata": {},
   "source": [
    "##### Solution 2 - Using scipy"
   ]
  },
  {
   "cell_type": "code",
   "execution_count": null,
   "id": "c5238273-f70c-4ad9-9c6f-24d90c0e0364",
   "metadata": {},
   "outputs": [],
   "source": []
  },
  {
   "cell_type": "markdown",
   "id": "cc552a7e-bdf9-4916-b042-0925e8b803ee",
   "metadata": {},
   "source": [
    "#### Q3: Probability of a person, selected by chance, is over 1.9m tall? P (X >= 1.9)\n",
    "P(X >= 1.9) = 1 - P(X < 1.9)"
   ]
  },
  {
   "cell_type": "code",
   "execution_count": null,
   "id": "373a7502-e637-492d-9f05-707eec122274",
   "metadata": {},
   "outputs": [],
   "source": []
  },
  {
   "cell_type": "code",
   "execution_count": null,
   "id": "7e54b4c2-8661-413e-96d7-63d3a5379d64",
   "metadata": {},
   "outputs": [],
   "source": []
  },
  {
   "cell_type": "markdown",
   "id": "9cc047fe-34e4-4d83-82d6-010fcd985757",
   "metadata": {},
   "source": [
    "**P(X >= 1.9) = P(Z >= 1.99999) = 1 - P(Z < 1.99999)**"
   ]
  },
  {
   "cell_type": "markdown",
   "id": "36e560f8-1ace-498f-af21-35ecb024fa19",
   "metadata": {},
   "source": [
    "##### Solution 1 - Using the z-score table\n",
    "https://www.math.arizona.edu/~rsims/ma464/standardnormaltable.pdf"
   ]
  },
  {
   "cell_type": "code",
   "execution_count": null,
   "id": "c6c25786-3d25-4cef-b33a-11e1491c84cf",
   "metadata": {},
   "outputs": [],
   "source": []
  },
  {
   "cell_type": "markdown",
   "id": "39a1fd8b-b8e5-4329-a57d-83902c6c2b88",
   "metadata": {},
   "source": [
    "##### Solution 2 - Using scipy"
   ]
  },
  {
   "cell_type": "code",
   "execution_count": null,
   "id": "9b0b359a-3f24-4fe2-a2c9-94bace3b6094",
   "metadata": {},
   "outputs": [],
   "source": []
  },
  {
   "cell_type": "markdown",
   "id": "e77511cc-f91e-40b5-acc0-9c748aa7aae0",
   "metadata": {},
   "source": [
    "<br/>\n",
    "\n",
    "# 2. Central Limit Theorem"
   ]
  },
  {
   "cell_type": "code",
   "execution_count": null,
   "id": "58b945ba-e634-4881-bf46-6b4340cb9ef7",
   "metadata": {},
   "outputs": [],
   "source": [
    "# dataset with data about stroke patients\n",
    "df = pd.read_csv('./datasets/healthcare-dataset-stroke-data.csv')"
   ]
  },
  {
   "cell_type": "code",
   "execution_count": null,
   "id": "12f2405a-dc16-48f1-b9dc-9b5ff41abe8c",
   "metadata": {},
   "outputs": [],
   "source": [
    "df.head()"
   ]
  },
  {
   "cell_type": "code",
   "execution_count": null,
   "id": "471e3ad0-d63f-44f4-857f-39cfb2894363",
   "metadata": {},
   "outputs": [],
   "source": [
    "population = df['avg_glucose_level']\n",
    "population.head()"
   ]
  },
  {
   "cell_type": "code",
   "execution_count": null,
   "id": "bc239058-f5af-4708-bd2c-7af133f1751a",
   "metadata": {},
   "outputs": [],
   "source": [
    "population.shape()"
   ]
  },
  {
   "cell_type": "code",
   "execution_count": null,
   "id": "e5bbfdee-4fac-45c9-bf8d-04bc2263cf64",
   "metadata": {},
   "outputs": [],
   "source": [
    "population_mean = population.mean()\n",
    "\n",
    "plt.figure(figsize=(10,6))\n",
    "ax = sns.histplot(population)  # the distribution is not normal\n",
    "ax.axvline(x=population_mean, color='red')\n",
    "ax.annotate(f'Population Mean\\n{population_mean:.2f}', xy=(population_mean + 5, 350))"
   ]
  },
  {
   "cell_type": "markdown",
   "id": "dd9c6f0b-f776-4bc7-b062-be75c31d6d2f",
   "metadata": {},
   "source": [
    "<br/>\n",
    "\n",
    "#### The data distribution of a sample does not necessarily follow the **normal distribution**"
   ]
  },
  {
   "cell_type": "code",
   "execution_count": null,
   "id": "c1e3cd77-1569-4e6f-89dd-afbdbb2bea5d",
   "metadata": {},
   "outputs": [],
   "source": [
    "sample_100 = population.sample(100)"
   ]
  },
  {
   "cell_type": "code",
   "execution_count": null,
   "id": "694b2378-b2d2-4e0e-bd2a-3e5a48be57b0",
   "metadata": {},
   "outputs": [],
   "source": [
    "plt.figure(figsize=(10,6))\n",
    "sns.histplot(sample_100)"
   ]
  },
  {
   "cell_type": "markdown",
   "id": "98d079fc-dd8d-4917-ba08-5199dd8353b5",
   "metadata": {},
   "source": [
    "#### As the sample size increases, the **sampling distribution of the mean** approaches a **normal distribution** with the **sampling distribution’s mean** equals **the population mean**"
   ]
  },
  {
   "cell_type": "code",
   "execution_count": null,
   "id": "f6b1a34e-1ec6-4e18-b134-201a81dbeb80",
   "metadata": {},
   "outputs": [],
   "source": [
    "# Dictionary where each key correspond to a sample size\n",
    "# For each sample size, there is a dataframe with 1000 samples associated to\n",
    "samples = {}\n",
    "\n",
    "for n in [5, 10, 30, 100, 1000]:\n",
    "    df_sample_size = pd.DataFrame()\n",
    "    \n",
    "    for i in range(1000):\n",
    "        sample = population.sample(n)\n",
    "        sample.reset_index(drop=True, inplace=True)  # requires this \"trick\" to work\n",
    "        df_sample_size[f'Sample #{i}'] = sample\n",
    "    \n",
    "    samples[n] = df_sample_size"
   ]
  },
  {
   "cell_type": "code",
   "execution_count": null,
   "id": "b392f6e2-d685-4b62-bc00-e20ff4d870ad",
   "metadata": {},
   "outputs": [],
   "source": [
    "samples.keys()"
   ]
  },
  {
   "cell_type": "code",
   "execution_count": null,
   "id": "79139864-f246-4fc2-8877-a14e6a4d1a61",
   "metadata": {},
   "outputs": [],
   "source": [
    "samples[5]"
   ]
  },
  {
   "cell_type": "code",
   "execution_count": null,
   "id": "1b13d731-d549-4a4f-9d15-24babfe7655e",
   "metadata": {},
   "outputs": [],
   "source": [
    "samples[100]"
   ]
  },
  {
   "cell_type": "code",
   "execution_count": null,
   "id": "3ced7323-508c-4d07-bdb5-a31f2768b980",
   "metadata": {},
   "outputs": [],
   "source": [
    "# mean of each one of the 1000 samples with sample size of 100\n",
    "samples[100].mean()"
   ]
  },
  {
   "cell_type": "code",
   "execution_count": null,
   "id": "bde8707d-c265-4f57-8542-a511664de713",
   "metadata": {},
   "outputs": [],
   "source": [
    "sample_sizes = sorted(samples.keys())\n",
    "\n",
    "fig, axs = plt.subplots(1, 5, figsize=(24, 3))\n",
    "\n",
    "for i, n in enumerate(sample_sizes):\n",
    "    sampling_distribution = samples[n].mean()\n",
    "    mean_of_sampling_distribution = sampling_distribution.mean()\n",
    "    \n",
    "    ax = sns.histplot(sampling_distribution, ax=axs[i])\n",
    "    axs[i].axvline(x=mean_of_sampling_distribution, color='red')\n",
    "    ax.annotate(f'Mean\\n{mean_of_sampling_distribution:.2f}', xy=(mean_of_sampling_distribution + 1, 120))\n",
    "    ax.spines['top'].set_visible(False)\n",
    "    ax.set_ylim([0, 130])"
   ]
  },
  {
   "cell_type": "markdown",
   "id": "a226f526-149e-409e-b80d-e1fd2f395445",
   "metadata": {},
   "source": [
    "#### Standard error"
   ]
  },
  {
   "cell_type": "markdown",
   "id": "79601f88-5dfd-4520-b1c0-7e92914754a3",
   "metadata": {},
   "source": [
    "<img src='./imgs/standard_error.png' width=150 />"
   ]
  },
  {
   "cell_type": "code",
   "execution_count": null,
   "id": "bc5a4955-a716-4c6d-ac06-0b9e0bc64d90",
   "metadata": {},
   "outputs": [],
   "source": []
  },
  {
   "cell_type": "markdown",
   "id": "beb09e9b-f0a8-4a84-af90-37972d5cc3cc",
   "metadata": {},
   "source": [
    "**The larger the sample size, the smaller the standard error.**"
   ]
  },
  {
   "cell_type": "markdown",
   "id": "4abad47c-3d69-4968-b90b-517c28f1b8ec",
   "metadata": {},
   "source": [
    "<br/>\n",
    "\n",
    "# 3. Confidence Interval"
   ]
  },
  {
   "cell_type": "markdown",
   "id": "eefa6d1d-4e27-497e-8b87-5246244b0dd7",
   "metadata": {},
   "source": [
    "<img src='./imgs/confidence_interval.png' width=700 />"
   ]
  },
  {
   "cell_type": "markdown",
   "id": "526e9cf8-0374-4cb1-bb66-9b7910cb7c88",
   "metadata": {},
   "source": [
    "- A **90% level of confidence** has 𝜶 = 0.10 and **critical value** of 𝑧𝛼/2 = 1.64.\n",
    "- A **95% level of confidence** has 𝜶 = 0.05 and **critical value** of 𝑧𝛼/2 = 1.96.\n",
    "- A **99% level of confidence** has 𝜶 = 0.01 and **critical value** of 𝑧𝛼/2 = 2.58."
   ]
  },
  {
   "cell_type": "markdown",
   "id": "8797b54e-01cb-4fcc-b758-e2b20104dd2d",
   "metadata": {},
   "source": [
    "## Exercise 1\n",
    "Suppose the heights of the inhabitants of a city are **normally distributed** with **population standard deviation** of 20 cm.\n",
    "We measure the heights of **40** randomly chosen people, and get a **mean height** of 1.75 m.\n",
    "Construct a **confidence interval** for the population mean with a **significance level of 5%**."
   ]
  },
  {
   "cell_type": "markdown",
   "id": "8597af5a-4da6-448e-bcfb-1e60d40962c4",
   "metadata": {},
   "source": [
    "### Sample size"
   ]
  },
  {
   "cell_type": "code",
   "execution_count": null,
   "id": "aeecae4a-0dd5-47e8-80e2-4a6d3aaf0387",
   "metadata": {},
   "outputs": [],
   "source": []
  },
  {
   "cell_type": "markdown",
   "id": "39c09955-f776-4bf8-86b9-013f129b1995",
   "metadata": {},
   "source": [
    "### Population standard deviation and sample mean"
   ]
  },
  {
   "cell_type": "code",
   "execution_count": null,
   "id": "7cbd54de-3595-4da2-9127-bc956a0beabc",
   "metadata": {},
   "outputs": [],
   "source": []
  },
  {
   "cell_type": "code",
   "execution_count": null,
   "id": "9f55c3f7-b082-4292-b9b9-09c5145e539f",
   "metadata": {},
   "outputs": [],
   "source": []
  },
  {
   "cell_type": "markdown",
   "id": "2443f4bd-d8ba-4b3a-b327-95cd55aa92fc",
   "metadata": {},
   "source": [
    "### Significance level (α)"
   ]
  },
  {
   "cell_type": "code",
   "execution_count": null,
   "id": "f0b33482-6e80-466c-97cf-f34ef6912fe9",
   "metadata": {},
   "outputs": [],
   "source": []
  },
  {
   "cell_type": "markdown",
   "id": "ca76e214-bada-466d-b2d9-8bb5abec820e",
   "metadata": {},
   "source": [
    "### Confidence level (1 - α)"
   ]
  },
  {
   "cell_type": "code",
   "execution_count": null,
   "id": "f5fe22bc-fd3e-49db-83ec-0b4ad300e580",
   "metadata": {},
   "outputs": [],
   "source": []
  },
  {
   "cell_type": "markdown",
   "id": "b6313ed2-f639-4bee-9416-9adf2d02b2d8",
   "metadata": {},
   "source": [
    "### Critical value (𝒛𝜶/𝟐)"
   ]
  },
  {
   "cell_type": "code",
   "execution_count": null,
   "id": "cdb24948-b417-4606-addb-a6f6c432d9ef",
   "metadata": {},
   "outputs": [],
   "source": []
  },
  {
   "cell_type": "markdown",
   "id": "66046918-17d6-4355-a749-07da2697a9e8",
   "metadata": {},
   "source": [
    "### Standard Error"
   ]
  },
  {
   "cell_type": "code",
   "execution_count": null,
   "id": "ace7ba5e-000a-450c-8105-36f1a6e9eed8",
   "metadata": {},
   "outputs": [],
   "source": []
  },
  {
   "cell_type": "markdown",
   "id": "84da4e96-13a8-4481-922d-7b1aab4d0c8c",
   "metadata": {},
   "source": [
    "### Margin of Error"
   ]
  },
  {
   "cell_type": "code",
   "execution_count": null,
   "id": "9fd70b0f-8f93-4e34-acfd-ea5dccbc129d",
   "metadata": {},
   "outputs": [],
   "source": []
  },
  {
   "cell_type": "markdown",
   "id": "86851bb9-4a92-4455-b51f-d34cdf8bdf39",
   "metadata": {},
   "source": [
    "### 95% Confidence Interval"
   ]
  },
  {
   "cell_type": "markdown",
   "id": "5c175408-a658-4165-b878-c149b7c1d939",
   "metadata": {},
   "source": [
    "#### Solution 1 - manually"
   ]
  },
  {
   "cell_type": "code",
   "execution_count": null,
   "id": "64650b60-1a72-4d71-b557-e279e0b1024e",
   "metadata": {},
   "outputs": [],
   "source": []
  },
  {
   "cell_type": "markdown",
   "id": "3c79387b-b0f2-497b-a2bb-d8bbc9bf0634",
   "metadata": {},
   "source": [
    "#### Solution 2 - Scipy\n",
    "https://docs.scipy.org/doc/scipy/reference/generated/scipy.stats.norm.html\n",
    "\n",
    "alpha ==> confidence interval <br/>\n",
    "loc ==> sample mean  <br/>\n",
    "scale ==> standard error"
   ]
  },
  {
   "cell_type": "code",
   "execution_count": null,
   "id": "3ad827a2-de7c-4f44-aa3a-e5f5f308d925",
   "metadata": {},
   "outputs": [],
   "source": []
  },
  {
   "cell_type": "markdown",
   "id": "176b53d3-7efb-43d9-9dbd-b7bad400746e",
   "metadata": {},
   "source": [
    "## Exercise 2\n",
    "Given a dataset from stroke patients, we want to study their mean glucose level. <br/>\n",
    "For two samples of 100 and 1000 observations, provide a 95% confidence intervals for the following scenarios:\n",
    "\n",
    "**(a) Known population standard deviation** <br/>\n",
    "**(b) Unknown population standard deviation**\n",
    "\n",
    "**Dataset:** https://www.kaggle.com/fedesoriano/stroke-prediction-dataset"
   ]
  },
  {
   "cell_type": "code",
   "execution_count": null,
   "id": "9559b5db-2b67-4a75-9487-58767885165b",
   "metadata": {},
   "outputs": [],
   "source": []
  },
  {
   "cell_type": "code",
   "execution_count": null,
   "id": "d9bc7f6f-5f06-4406-b0c3-629327468ef9",
   "metadata": {},
   "outputs": [],
   "source": []
  },
  {
   "cell_type": "code",
   "execution_count": null,
   "id": "56b91735-4060-4791-a2aa-4e32d113f7e0",
   "metadata": {},
   "outputs": [],
   "source": []
  },
  {
   "cell_type": "code",
   "execution_count": null,
   "id": "682fda2c-5d50-4276-bcac-e663866b4306",
   "metadata": {},
   "outputs": [],
   "source": []
  },
  {
   "cell_type": "markdown",
   "id": "99697673-e6ba-4743-af37-965aee37b722",
   "metadata": {},
   "source": [
    "#### Population Mean = 106.1476771037182"
   ]
  },
  {
   "cell_type": "code",
   "execution_count": null,
   "id": "c6efcb8a-34ec-473a-b5e6-d42397e11604",
   "metadata": {},
   "outputs": [],
   "source": []
  },
  {
   "cell_type": "code",
   "execution_count": null,
   "id": "12a8c762-aa80-45b7-9c53-0ab80e51f3b0",
   "metadata": {
    "tags": []
   },
   "outputs": [],
   "source": []
  },
  {
   "cell_type": "code",
   "execution_count": null,
   "id": "b69707cb-d067-4ccf-81f3-f25b779041ca",
   "metadata": {},
   "outputs": [],
   "source": []
  },
  {
   "cell_type": "code",
   "execution_count": null,
   "id": "319cb258-a2d4-4fa2-9f98-2ff5cb32c11e",
   "metadata": {},
   "outputs": [],
   "source": []
  },
  {
   "cell_type": "code",
   "execution_count": null,
   "id": "8f46a321-c54a-4036-b1ae-89711a3a7ad7",
   "metadata": {},
   "outputs": [],
   "source": []
  },
  {
   "cell_type": "code",
   "execution_count": null,
   "id": "e7bfe725-835b-45ee-8afa-1f798bc9ab43",
   "metadata": {},
   "outputs": [],
   "source": []
  },
  {
   "cell_type": "markdown",
   "id": "a2bca455-7179-4013-a351-070569cf5519",
   "metadata": {},
   "source": [
    "#### **(a) Known population standard deviation, and sample sizes of 100 and 1000**"
   ]
  },
  {
   "cell_type": "markdown",
   "id": "c4b9152d-b3b2-41b4-8dcc-a09398408ef5",
   "metadata": {},
   "source": [
    "#### Sample size 100"
   ]
  },
  {
   "cell_type": "code",
   "execution_count": null,
   "id": "36d512fc-f774-451e-96f0-5311e611aee7",
   "metadata": {},
   "outputs": [],
   "source": []
  },
  {
   "cell_type": "code",
   "execution_count": null,
   "id": "fa31f8b3-e102-4291-8693-fe2f0dba0331",
   "metadata": {},
   "outputs": [],
   "source": []
  },
  {
   "cell_type": "code",
   "execution_count": null,
   "id": "5ba50de1-0e02-4b6f-9fcb-d15e1ed50804",
   "metadata": {},
   "outputs": [],
   "source": []
  },
  {
   "cell_type": "code",
   "execution_count": null,
   "id": "0a0b4844-e402-4f68-ae66-9da00543c584",
   "metadata": {},
   "outputs": [],
   "source": []
  },
  {
   "cell_type": "markdown",
   "id": "7c0e98b1-64c5-447d-89c3-c771bd4e0f84",
   "metadata": {},
   "source": [
    "#### Sample size 1000"
   ]
  },
  {
   "cell_type": "code",
   "execution_count": null,
   "id": "647f3f27-1ae7-42d0-9731-88a2a8b99da7",
   "metadata": {},
   "outputs": [],
   "source": []
  },
  {
   "cell_type": "code",
   "execution_count": null,
   "id": "3d286b33-5c5a-4e2b-8821-688c6c78d086",
   "metadata": {},
   "outputs": [],
   "source": []
  },
  {
   "cell_type": "code",
   "execution_count": null,
   "id": "ed297beb-1267-4607-a3a5-9a1ce5e1995b",
   "metadata": {},
   "outputs": [],
   "source": []
  },
  {
   "cell_type": "code",
   "execution_count": null,
   "id": "a208819d-d991-41ee-a449-56f7d5d2b85c",
   "metadata": {},
   "outputs": [],
   "source": []
  },
  {
   "cell_type": "markdown",
   "id": "f3905e58-f252-4041-a37f-0da0e4176f4e",
   "metadata": {},
   "source": [
    "#### **(b) Unknown population standard deviation, and sample sizes of 100 and 1000**"
   ]
  },
  {
   "cell_type": "markdown",
   "id": "614e7776-eb61-488a-8198-22732381c99f",
   "metadata": {},
   "source": [
    "#### Sample size 100"
   ]
  },
  {
   "cell_type": "code",
   "execution_count": null,
   "id": "d7e38bd5-a9c7-429a-be5f-581f54aea0d7",
   "metadata": {},
   "outputs": [],
   "source": []
  },
  {
   "cell_type": "code",
   "execution_count": null,
   "id": "169d5017-c058-41ed-86c7-99494ccd2584",
   "metadata": {},
   "outputs": [],
   "source": []
  },
  {
   "cell_type": "code",
   "execution_count": null,
   "id": "6a7c5cb2-ca31-4eaa-a512-03f1e670bd91",
   "metadata": {},
   "outputs": [],
   "source": []
  },
  {
   "cell_type": "code",
   "execution_count": null,
   "id": "60be3df7-203a-4a1f-939a-f6bb26a5f1e2",
   "metadata": {},
   "outputs": [],
   "source": []
  },
  {
   "cell_type": "markdown",
   "id": "5b699d8b-d0b6-40b9-9823-2fb2bf416df5",
   "metadata": {},
   "source": [
    "#### Sample size 1000"
   ]
  },
  {
   "cell_type": "code",
   "execution_count": null,
   "id": "c0085aa5-3cf1-451c-a2da-35af36bd6008",
   "metadata": {},
   "outputs": [],
   "source": []
  },
  {
   "cell_type": "code",
   "execution_count": null,
   "id": "4641003d-9036-4af6-8972-0cc2902a4287",
   "metadata": {},
   "outputs": [],
   "source": []
  },
  {
   "cell_type": "code",
   "execution_count": null,
   "id": "60c12e7d-aaad-4a0a-b178-7b3401f6b911",
   "metadata": {},
   "outputs": [],
   "source": []
  },
  {
   "cell_type": "code",
   "execution_count": null,
   "id": "d6bca447-1237-4d34-9aab-f3203861f786",
   "metadata": {},
   "outputs": [],
   "source": []
  }
 ],
 "metadata": {
  "kernelspec": {
   "display_name": "Python 3",
   "language": "python",
   "name": "python3"
  },
  "language_info": {
   "codemirror_mode": {
    "name": "ipython",
    "version": 3
   },
   "file_extension": ".py",
   "mimetype": "text/x-python",
   "name": "python",
   "nbconvert_exporter": "python",
   "pygments_lexer": "ipython3",
   "version": "3.9.0"
  }
 },
 "nbformat": 4,
 "nbformat_minor": 5
}
