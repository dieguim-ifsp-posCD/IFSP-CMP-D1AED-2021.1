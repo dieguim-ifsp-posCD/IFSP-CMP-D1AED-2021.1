{
 "cells": [
  {
   "cell_type": "markdown",
   "id": "silver-recipe",
   "metadata": {},
   "source": [
    "**D1DAE: Análise Estatística para Ciência de Dados (2021.1)** <br/>\n",
    "IFSP Campinas\n",
    "\n",
    "Profs: Ricardo Sovat, Samuel Martins <br/><br/>\n",
    "\n",
    "<a rel=\"license\" href=\"http://creativecommons.org/licenses/by-nc-sa/4.0/\"><img alt=\"Creative Commons License\" style=\"border-width:0\" src=\"https://i.creativecommons.org/l/by-nc-sa/4.0/88x31.png\" /></a><br />This work is licensed under a <a rel=\"license\" href=\"http://creativecommons.org/licenses/by-nc-sa/4.0/\">Creative Commons Attribution-NonCommercial-ShareAlike 4.0 International License</a>."
   ]
  },
  {
   "cell_type": "code",
   "execution_count": null,
   "id": "mobile-globe",
   "metadata": {},
   "outputs": [],
   "source": [
    "# pacotes usados neste notebook\n",
    "import pandas as pd\n",
    "import seaborn as sns\n",
    "import matplotlib.pyplot as plt\n",
    "import numpy as np\n",
    "\n",
    "# estilos padrão para os plots/visualizações\n",
    "sns.set_theme(style=\"whitegrid\")\n",
    "plt.rcParams['figure.figsize'] = (10, 6)\n",
    "plt.rcParams['axes.labelsize'] = 14\n",
    "plt.rcParams['xtick.labelsize'] = 14\n",
    "plt.rcParams['xtick.labelsize'] = 14\n",
    "plt.rcParams['ytick.labelsize'] = 14"
   ]
  },
  {
   "cell_type": "markdown",
   "id": "decent-domain",
   "metadata": {},
   "source": [
    "<h1>Especificação</h1><hr/>"
   ]
  },
  {
   "cell_type": "markdown",
   "id": "broken-wales",
   "metadata": {},
   "source": [
    "Neste notebook, realizaremos uma **Análise Exploratória de Dados** em um conjunto de dados sobre aplicativos da Google Play Store. <br/>\n",
    "Nosso objetivo é responder algumas perguntas e hipóteses sobre o dataset. Para isso, analisaremos as variáveis do dataset em diferentes cenários, utilizando um ferramental que envolve a manipulação de dados, estatísticas descritivas e visualizações. <br/>\n",
    "Focaremos mais nas estratégias de como responder às perguntas do que necessariamente no código para chegar nisso. Deixaremos a cargo de vocês o entendimento do ferramental. <br/>\n",
    "\n",
    "Outro detalhe é que a apresentação das respostas neste notebook é _crua_. Você deveria escolher quais gráficos ou elementos são mais interessante para cada caso e, então, contar uma história: _Storytelling with Data_. \n",
    "\n",
    "Como suporte para visualização:\n",
    "- https://datavizcatalogue.com/\n",
    "- https://www.python-graph-gallery.com/"
   ]
  },
  {
   "cell_type": "markdown",
   "id": "registered-discipline",
   "metadata": {},
   "source": [
    "<h2>1. Dataset</h2>\n",
    "<hr/>"
   ]
  },
  {
   "cell_type": "markdown",
   "id": "seasonal-tiger",
   "metadata": {},
   "source": [
    "**Dataset**: Google Play Store Apps: https://www.kaggle.com/lava18/google-play-store-apps <br/>\n",
    "\n",
    "Este dataset contém dados sobre aplicativos da Google Play Store (2010 até agosto de 2018). <br/>\n",
    "Cada *observação (registro/linha)* consiste de informações de um app, tais como categoria, avaliação, tamanho, entre outros. <br/>\n",
    "Cada app possui uma avaliação (coluna 'Rating') que consiste da nota média de um conjunto de avaliações (coluna 'Reviews')."
   ]
  },
  {
   "cell_type": "markdown",
   "id": "searching-navigator",
   "metadata": {},
   "source": [
    "### 1.1 Importando o Dataset"
   ]
  },
  {
   "cell_type": "code",
   "execution_count": null,
   "id": "living-championship",
   "metadata": {},
   "outputs": [],
   "source": [
    "df = pd.read_csv(\"./datasets/googleplaystore_preprocessado.csv\")"
   ]
  },
  {
   "cell_type": "code",
   "execution_count": null,
   "id": "seventh-andrews",
   "metadata": {},
   "outputs": [],
   "source": [
    "df.head()"
   ]
  },
  {
   "cell_type": "markdown",
   "id": "genuine-plaintiff",
   "metadata": {},
   "source": [
    "### 1.2 Informações básicas"
   ]
  },
  {
   "cell_type": "code",
   "execution_count": null,
   "id": "pending-membership",
   "metadata": {},
   "outputs": [],
   "source": [
    "df.info()"
   ]
  },
  {
   "cell_type": "markdown",
   "id": "timely-cruise",
   "metadata": {},
   "source": [
    "<br/>\n",
    "\n",
    "O dataset pré-processado possui **8194** registros/observações/linhas e **13** atributos/variáveis/colunas.\n",
    "Nenhum atributo possui valores NaN."
   ]
  },
  {
   "cell_type": "markdown",
   "id": "prerequisite-private",
   "metadata": {},
   "source": [
    "<h2>2. Análise Exploratória de Dados</h2>\n",
    "<hr/>"
   ]
  },
  {
   "cell_type": "markdown",
   "id": "animal-hardware",
   "metadata": {},
   "source": [
    "**Estatísticas descritivas básicas**"
   ]
  },
  {
   "cell_type": "code",
   "execution_count": null,
   "id": "hawaiian-bicycle",
   "metadata": {},
   "outputs": [],
   "source": [
    "df.describe()"
   ]
  },
  {
   "cell_type": "markdown",
   "id": "consolidated-twenty",
   "metadata": {},
   "source": [
    "## 2.1 Quais são os 10 Apps mais baixados?\n",
    "Para analisar quais são os apps mais baixados, ordenaremos os registros pela coluna \"Installs\". Em caso de empate, desempataremos pela _avaliação_ dos aplicativos, ou seja, realizaremos uma nova ordenação pela coluna \"Rating\"."
   ]
  },
  {
   "cell_type": "code",
   "execution_count": null,
   "id": "spatial-desert",
   "metadata": {},
   "outputs": [],
   "source": [
    "top10_apps_mais_baixados = df.sort_values(by='Installs', ascending=False).head(10)\n",
    "top10_apps_mais_baixados"
   ]
  },
  {
   "cell_type": "code",
   "execution_count": null,
   "id": "exterior-enclosure",
   "metadata": {},
   "outputs": [],
   "source": [
    "# plotando o mesmo gráfico, mas na horizontal para um melhor entendimento\n",
    "sns.barplot(data=top10_apps_mais_baixados, x='Installs', y='App')\n",
    "plt.xticks([0, 0.2e9, 0.4e9, 0.6e9, 0.8e9, 1e9], ['0', '200M', '400M', '600M', '800M', '1B'])\n",
    "plt.title('Top 10 Apps mais baixados')"
   ]
  },
  {
   "cell_type": "markdown",
   "id": "explicit-macro",
   "metadata": {},
   "source": [
    "### 2.2 Qual a quantidade de aplicativos por categoria?"
   ]
  },
  {
   "cell_type": "code",
   "execution_count": null,
   "id": "adapted-relay",
   "metadata": {},
   "outputs": [],
   "source": [
    "df.head()"
   ]
  },
  {
   "cell_type": "code",
   "execution_count": null,
   "id": "deadly-helena",
   "metadata": {},
   "outputs": [],
   "source": [
    "df.value_counts(subset=['Category'])"
   ]
  },
  {
   "cell_type": "code",
   "execution_count": null,
   "id": "collaborative-terror",
   "metadata": {},
   "outputs": [],
   "source": [
    "sns.countplot(data=df, x='Category')\n",
    "plt.xticks(rotation=90)\n",
    "plt.xlabel('Categoria')\n",
    "plt.ylabel('Qtde de Apps')\n",
    "plt.title('Qtde de Apps por Categoria')"
   ]
  },
  {
   "cell_type": "code",
   "execution_count": null,
   "id": "stable-smoke",
   "metadata": {},
   "outputs": [],
   "source": [
    "plt.figure(figsize=(20, 10))\n",
    "\n",
    "sns.countplot(data=df, y='Category')\n",
    "plt.xlabel('Qtde de Apps')\n",
    "plt.ylabel('Categoria')\n",
    "plt.title('Qtde de Apps por Categoria')"
   ]
  },
  {
   "cell_type": "markdown",
   "id": "civic-netscape",
   "metadata": {},
   "source": [
    "A distribuição das barras não está **ordenada**. Para ordená-las, precisamos passar a lista de nomes da 'Category' na orde que queremos visualizar.\n",
    "\n",
    "Neste caso, vamos visualizar as barras em **ordem decrescente** da quantidade de apps por categoria."
   ]
  },
  {
   "cell_type": "code",
   "execution_count": null,
   "id": "compound-kansas",
   "metadata": {},
   "outputs": [],
   "source": [
    "order = df['Category'].value_counts().index\n",
    "order"
   ]
  },
  {
   "cell_type": "code",
   "execution_count": null,
   "id": "artistic-label",
   "metadata": {},
   "outputs": [],
   "source": [
    "plt.figure(figsize=(20, 10))\n",
    "\n",
    "sns.countplot(data=df, y='Category', order=order)\n",
    "plt.xlabel('Qtde de Apps')\n",
    "plt.ylabel('Categoria')\n",
    "plt.title('Qtde de Apps por Categoria')"
   ]
  },
  {
   "cell_type": "markdown",
   "id": "catholic-horizontal",
   "metadata": {},
   "source": [
    "As cores ilustradas no plot _não têm qualquer significado_ (nenhuma variável foi codificada usando cor)."
   ]
  },
  {
   "cell_type": "markdown",
   "id": "individual-research",
   "metadata": {},
   "source": [
    "### 2.3 Como se comportam as avaliações dos aplicativos? (tendências centrais, distribuição, etc)"
   ]
  },
  {
   "cell_type": "code",
   "execution_count": null,
   "id": "supposed-deployment",
   "metadata": {},
   "outputs": [],
   "source": [
    "stats = df.describe()\n",
    "stats"
   ]
  },
  {
   "cell_type": "code",
   "execution_count": null,
   "id": "fixed-parker",
   "metadata": {},
   "outputs": [],
   "source": [
    "df['Rating'].describe()"
   ]
  },
  {
   "cell_type": "code",
   "execution_count": null,
   "id": "alien-reynolds",
   "metadata": {},
   "outputs": [],
   "source": [
    "print(f\"A nota média (avaliação) dos aplicativos é de {stats.loc['mean', 'Rating']:.2f} +- {stats.loc['std', 'Rating']:.2f}\")\n",
    "print(f\"A media das avaliações é de {stats.loc['50%', 'Rating']}\")"
   ]
  },
  {
   "cell_type": "markdown",
   "id": "still-reliance",
   "metadata": {},
   "source": [
    "Note que a **média** e a **mediana** não estão muito longe e que o **desvio padrão** não é tão alto, mesmo com uma escala tão baixa com é a das avaliações (de 0 a 5). Tudo isso indica (em números) que a dispersão de notas/avaliações dos aplitativos não é tão grande."
   ]
  },
  {
   "cell_type": "markdown",
   "id": "variable-telephone",
   "metadata": {},
   "source": [
    "#### HISTOGRAMA"
   ]
  },
  {
   "cell_type": "code",
   "execution_count": null,
   "id": "chubby-venue",
   "metadata": {},
   "outputs": [],
   "source": [
    "# kde ==> kernel density estimation\n",
    "# É um jeito de estimar a função densidade de probabilidade de uma variável aleatória.\n",
    "\n",
    "sns.histplot(data=df, x='Rating', kde=True)\n",
    "plt.xlabel('Avaliações (notas)')\n",
    "plt.ylabel('Contagem')\n",
    "plt.title('Histograma das avaliações de todos os apps', fontsize=20)"
   ]
  },
  {
   "cell_type": "markdown",
   "id": "green-restaurant",
   "metadata": {},
   "source": [
    "A **distribuição das avaliações** tem semelhanças com um _distribuição normal_ enviesada à esquerda (skewed left distribution). <br/>\n",
    "\n",
    "Apenas olhando este gráfico podemos notar que a grande maioria das avaliações estão no intervalo entre 4.0 e 5.0."
   ]
  },
  {
   "cell_type": "markdown",
   "id": "level-resolution",
   "metadata": {},
   "source": [
    "#### BOXPLOT"
   ]
  },
  {
   "cell_type": "code",
   "execution_count": null,
   "id": "advanced-there",
   "metadata": {},
   "outputs": [],
   "source": [
    "# mostra uma coluna da tabela (dataframe) como uma outra tabela, ao invés de uma Series\n",
    "stats[['Rating']]"
   ]
  },
  {
   "cell_type": "code",
   "execution_count": null,
   "id": "fifth-hindu",
   "metadata": {},
   "outputs": [],
   "source": [
    "plt.figure(figsize=(20, 10))\n",
    "sns.boxplot(data=df, x='Rating')\n",
    "plt.xticks(np.arange(0.0, 5.01, 0.25))  # gerando novos ticks para o eixo x\n",
    "plt.title('Boxplot das avaliações de todos os aplicativos', fontsize=18)"
   ]
  },
  {
   "cell_type": "markdown",
   "id": "canadian-charm",
   "metadata": {},
   "source": [
    "Pelo boxplot, é possível enxergar que 50% dos dados estão entre as avaliações 4.0 (Q1) e 4.5 (Q3), confirmando os resultados vindos do método `.describe()`.\n",
    "\n",
    "Por outro lado, ele interpretou que os aplicativos com avaliações _menores do que ~3.25_ são ***outliers*** da distribuição. <br/>\n",
    "Entretanto, é comum termos aplicativos mal avaliados. Assim sendo, a inclusão destes aplicativos na análise é relevante."
   ]
  },
  {
   "cell_type": "code",
   "execution_count": null,
   "id": "manual-modem",
   "metadata": {},
   "outputs": [],
   "source": [
    "apps_com_rating_leq_3_25 = df.query('Rating <= 3.25')\n",
    "apps_com_rating_leq_3_25"
   ]
  },
  {
   "cell_type": "code",
   "execution_count": null,
   "id": "affecting-publisher",
   "metadata": {},
   "outputs": [],
   "source": [
    "print(f'A quantidade de apps considerados \"outliers\" por suas avaliações é de {apps_com_rating_leq_3_25.shape[0]} '\n",
    "      f'({apps_com_rating_leq_3_25.shape[0] * 100 / df.shape[0]:.2f}%) de um total de {df.shape[0]} apps.')"
   ]
  },
  {
   "cell_type": "markdown",
   "id": "modified-support",
   "metadata": {},
   "source": [
    "<br/>\n",
    "\n",
    "O boxplot do seaborn identifica outliers usando o método de detecção via IQR. Para tanto, ele considera como **outlier** qualquer valor fora do intervalo **\\[Q1 - 1.5\\*IQR, Q3 + 1.5\\*IQR\\]**. Podemos controlar o fator **1.5** alterando o parâmetro `whis`. <br/>\n",
    "\n",
    "Se quisermos, por exemplo, que o boxplot não tenha _outliers_, basta passar um valor alto para o `whis`."
   ]
  },
  {
   "cell_type": "code",
   "execution_count": null,
   "id": "instrumental-delight",
   "metadata": {},
   "outputs": [],
   "source": [
    "plt.figure(figsize=(20, 10))\n",
    "sns.boxplot(data=df, x='Rating', whis=10)\n",
    "plt.xticks(np.arange(0.0, 5.01, 0.25))\n",
    "plt.title('Boxplot das avaliações de todos os aplicativos', fontsize=18)"
   ]
  },
  {
   "cell_type": "markdown",
   "id": "vocational-tobago",
   "metadata": {},
   "source": [
    "#### VIOLIN PLOT"
   ]
  },
  {
   "cell_type": "code",
   "execution_count": null,
   "id": "brilliant-sheffield",
   "metadata": {},
   "outputs": [],
   "source": [
    "plt.figure(figsize=(20, 10))\n",
    "sns.violinplot(data=df, x='Rating')\n",
    "plt.xticks(np.arange(0.0, 5.01, 0.25))\n",
    "plt.title('Violin Plot das avaliações de todos os aplicativos', fontsize=18)"
   ]
  },
  {
   "cell_type": "markdown",
   "id": "ethical-moisture",
   "metadata": {},
   "source": [
    "O _violin plot_ nos dá uma noção mais precisa de como os dados estão distribuídos, principalmente, entre os quartis."
   ]
  },
  {
   "cell_type": "markdown",
   "id": "reliable-relation",
   "metadata": {},
   "source": [
    "### 2.4 Qual categoria é a melhor avaliada?"
   ]
  },
  {
   "cell_type": "code",
   "execution_count": null,
   "id": "rotary-international",
   "metadata": {},
   "outputs": [],
   "source": [
    "stats = df.groupby('Category').describe()['Rating']\n",
    "stats"
   ]
  },
  {
   "cell_type": "markdown",
   "id": "healthy-elephant",
   "metadata": {},
   "source": [
    "Vamos considerar que as melhores categorias são aquelas que possuem as maiores **médias**."
   ]
  },
  {
   "cell_type": "code",
   "execution_count": null,
   "id": "touched-joining",
   "metadata": {},
   "outputs": [],
   "source": [
    "stats.sort_values(by='mean', ascending=False)"
   ]
  },
  {
   "cell_type": "markdown",
   "id": "defined-relaxation",
   "metadata": {},
   "source": [
    "Ao computar a _média das avaliações por categoria_ e ordenar pela **maior média**, constatamos que a categoria \"EVENTS\" possui a maior média. <br/>\n",
    "Mas, **não** é possível afirmar que essa é a _categoria melhor avaliada **apenas olhando para estes resultados**_, pois **o tamanho de cada amostra/grupo** (i.e., a quantidade de aplicativos por categoria) é diferente. Além disso, o **desvio padrão** também muda de categoria para categoria.<br/>\n",
    "\n",
    "P. ex., a categoria \"EVENTS\" possui 45 apps, enquanto \"BOOKS_AND_REFERENCE\" possui 169.\n",
    "\n",
    "Precisaríamos rodar algum **teste estatístico específico**, p. ex., para ter essa certeza. <br/>"
   ]
  },
  {
   "cell_type": "markdown",
   "id": "alike-volleyball",
   "metadata": {},
   "source": [
    "Outra meneira (mais simples), é garantir **a mesma quantidade de observações para cada grupo** (mesmo tamanho de amostra). <br/>\n",
    "Para isso, assumiríamos o tamanho do menor grupo, suponha N, e, para cada grupo restante, selecionaríamos _aleatoriamente_ N observações. <br/>\n",
    "Mas, e se, **ao acaso**, selecionamos apenas observações com uma dada característica que não, necessariamente, representasse bem nossa distribuição original? <br/>\n",
    "Uma alternativa, é realizar essa seleção múltiplas vezes. Mas este é um assunto para depois.\n",
    "\n",
    "Algumas discussões interessantes sobre o assunto: <br/>\n",
    "- https://www.researchgate.net/post/Is_there_any_way_to_compare_two_datasets_with_drastically_different_sample_sizes#:~:text=Most%20recent%20answer&text=One%20way%20to%20compare%20the,the%20single%204%20sample%20set.\n",
    "- https://stackoverflow.com/a/63099989\n",
    "- https://www.statisticshowto.com/unequal-sample-sizes/\n",
    "- https://www.graphpad.com/support/faq/how-to-compare-two-means-when-the-groups-have-different-standard-deviations/\n"
   ]
  },
  {
   "cell_type": "markdown",
   "id": "secondary-negotiation",
   "metadata": {},
   "source": [
    "Por ora, vamos simplificar e assumir que apenas analisar esses resultados é suficiente para decidirmos quais são as categorias melhores avaliadas."
   ]
  },
  {
   "cell_type": "code",
   "execution_count": null,
   "id": "secret-being",
   "metadata": {},
   "outputs": [],
   "source": [
    "plt.figure(figsize=(20,10))\n",
    "# topo de cada barra mostra a média das avaliações para cada categoria\n",
    "# o risco no topo da barra indica seu respectivo desvio padrão (parâmetro ci='sd')\n",
    "sns.barplot(data=df, x='Rating', y='Category', ci='sd')"
   ]
  },
  {
   "cell_type": "code",
   "execution_count": null,
   "id": "romance-victory",
   "metadata": {},
   "outputs": [],
   "source": [
    "# vamos ordernar o barplot pela média das avaliações de cada grupo\n",
    "order = stats.sort_values(by='mean', ascending=False).index\n",
    "order"
   ]
  },
  {
   "cell_type": "code",
   "execution_count": null,
   "id": "accurate-cedar",
   "metadata": {},
   "outputs": [],
   "source": [
    "plt.figure(figsize=(20,10))\n",
    "sns.barplot(data=df, x='Rating', y='Category', ci='sd', order=order)\n",
    "plt.xlabel('Avaliação (Nota Média)')\n",
    "plt.ylabel('Categoria')\n",
    "plt.title('Avaliações das Categorias', fontsize=20)"
   ]
  },
  {
   "cell_type": "markdown",
   "id": "french-collar",
   "metadata": {},
   "source": [
    "Ao analisar o boxplot, podemos nota que algumas categorias (p.ex., 'HEALTH_AND_FITNESS') possuem um **desvio padrão** um pouco maior do que as demais categorias. <br/>\n",
    "Vamos dar uma olhada na distribuição das notas de uma dessas categorias apenas para ter um sentimento do que está acontecendo."
   ]
  },
  {
   "cell_type": "code",
   "execution_count": null,
   "id": "effective-success",
   "metadata": {},
   "outputs": [],
   "source": [
    "### Vamos analisar a categoria HELATH_AND_FITNESS, pq ela tem um std grande (caso específico)\n",
    "sns.boxplot(data=df.query('Category == \"HEALTH_AND_FITNESS\"'), x='Rating')"
   ]
  },
  {
   "cell_type": "markdown",
   "id": "natural-walnut",
   "metadata": {},
   "source": [
    "### 2.5 Como as avaliações se distribuem em cada categoria?\n",
    "_Variável Numérica_ x _Variável Categórica_."
   ]
  },
  {
   "cell_type": "code",
   "execution_count": null,
   "id": "international-bahamas",
   "metadata": {},
   "outputs": [],
   "source": [
    "stats = df.groupby('Category').describe()['Rating']\n",
    "stats"
   ]
  },
  {
   "cell_type": "code",
   "execution_count": null,
   "id": "pending-weather",
   "metadata": {},
   "outputs": [],
   "source": [
    "plt.figure(figsize=(20, 12))\n",
    "sns.boxplot(data=df, x='Rating', y='Category')"
   ]
  },
  {
   "cell_type": "code",
   "execution_count": null,
   "id": "banner-celebration",
   "metadata": {},
   "outputs": [],
   "source": [
    "plt.figure(figsize=(20, 20))\n",
    "sns.violinplot(data=df, x='Rating', y='Category')"
   ]
  },
  {
   "cell_type": "markdown",
   "id": "prescription-subcommittee",
   "metadata": {},
   "source": [
    "Para obter uma análise visual mais interessante, podemos ordenar os boxplots (ou violion plots) de acordo com algum critério. <br/>\n",
    "Por exemplo, podemos ordená-los pela _mediana_ de cada categoria a fim de analisar, p. ex., como estão distribuídos _a metade dos apps mais bem avaliados_ de cada categoria, além de **diminuir o impacto de outliers** na distribuição."
   ]
  },
  {
   "cell_type": "code",
   "execution_count": null,
   "id": "mighty-walker",
   "metadata": {},
   "outputs": [],
   "source": [
    "# ordenando pela mediana\n",
    "order = stats.sort_values(by='50%').index\n",
    "order"
   ]
  },
  {
   "cell_type": "code",
   "execution_count": null,
   "id": "narrow-survey",
   "metadata": {},
   "outputs": [],
   "source": [
    "plt.figure(figsize=(20, 12))\n",
    "sns.boxplot(data=df, x='Rating', y='Category', order=order)"
   ]
  },
  {
   "cell_type": "markdown",
   "id": "transsexual-scroll",
   "metadata": {},
   "source": [
    "Ao analisar os boxplots, vemos que as categorias *BOOKS_AND_REFERENCE* e *HEALTH_AND_FITNESS* possuem uma quantidade considerável de apps muito bem avaliados --- ~50% de seus apps possuem avaliação >- 4.5. Entretanto, a **variância** (dispersão) de suas avaliações é **muito alta**, vários _outliers_. <br/>\n",
    "\n",
    "Vamos agora analisar o mesmo gráfico mas com as categorias organizadas pela **média** das avaliações."
   ]
  },
  {
   "cell_type": "code",
   "execution_count": null,
   "id": "qualified-charity",
   "metadata": {},
   "outputs": [],
   "source": [
    "# ordenando pela média\n",
    "order = stats.sort_values(by='mean').index\n",
    "\n",
    "plt.figure(figsize=(20, 12))\n",
    "sns.boxplot(x='Rating', y='Category', data=df, order=order)"
   ]
  },
  {
   "cell_type": "markdown",
   "id": "outside-africa",
   "metadata": {},
   "source": [
    "Note que como a **média** é _sensível a outliers_, as categorias 'BOOKS_AND_REFERENCES_ e, principalmente, 'HEALTH_AND_FITNESS_ perderam posições. Categorias bem avaliadas e com poucos outliers (p. ex., 'EDUCATION' e 'EVENTS') apresentam médias maiores.\n",
    "\n",
    "Em resumo, esta maneira de organizar e visualizar este gráfico é interessante quando você quer considerar o impacto dos outliers da variável analisada. A visualização anterior, ordenando pelas medianas, visa o oposto."
   ]
  },
  {
   "cell_type": "markdown",
   "id": "transparent-nowhere",
   "metadata": {},
   "source": [
    "### 2.6 Qual a média e distribuição de downloads/instalações dos apps em geral?"
   ]
  },
  {
   "cell_type": "markdown",
   "id": "inclusive-herald",
   "metadata": {},
   "source": [
    "#### **CONSIDERANDO OS APPS MAIS POPULATES (_\"OUTLIERS\"_)**\n",
    "Vamos considerar que: **Mais popular** significa **mais instalado**"
   ]
  },
  {
   "cell_type": "code",
   "execution_count": null,
   "id": "threatened-lobby",
   "metadata": {},
   "outputs": [],
   "source": [
    "stats = df.describe()\n",
    "stats"
   ]
  },
  {
   "cell_type": "code",
   "execution_count": null,
   "id": "spatial-fitting",
   "metadata": {},
   "outputs": [],
   "source": [
    "print(f\"A média geral de instalações é de {stats.loc['mean', 'Installs']:.2f} ± {stats.loc['std', 'Installs']:.2f}\")\n",
    "print(f\"A escala do Número de Instalações é de [{stats.loc['min', 'Installs']}, {stats.loc['max', 'Installs']}]\")"
   ]
  },
  {
   "cell_type": "markdown",
   "id": "jewish-substitute",
   "metadata": {},
   "source": [
    "Embora a escala da variável é muito alta ([1, 1B]), note como o **desvio padrão** é consideravelmente alto, o que indica que a _distribuição de instalações seja bem espalhada_. <br/>\n"
   ]
  },
  {
   "cell_type": "code",
   "execution_count": null,
   "id": "attractive-passport",
   "metadata": {},
   "outputs": [],
   "source": [
    "sns.boxplot(data=df, x='Installs')"
   ]
  },
  {
   "cell_type": "markdown",
   "id": "familiar-preserve",
   "metadata": {},
   "source": [
    "De acordo com o boxplot acima, temos _uma pequena quantidade de apps_ que possuem uma **quantidade muito alta** de instalações ==> _outliers_. <br/>"
   ]
  },
  {
   "cell_type": "code",
   "execution_count": null,
   "id": "destroyed-dream",
   "metadata": {},
   "outputs": [],
   "source": [
    "# recuperando os 10 apps mais baixados (sem considerar nenhum critério de desempate)\n",
    "# queremos apenas saber de alguns exemplos\n",
    "df.sort_values(by='Installs', ascending=False).head(10)"
   ]
  },
  {
   "cell_type": "markdown",
   "id": "macro-canal",
   "metadata": {},
   "source": [
    "De fato, os outliers são aplicativos extremamente populares e baixados."
   ]
  },
  {
   "cell_type": "markdown",
   "id": "handed-jersey",
   "metadata": {},
   "source": [
    "Podemos então fazer alguns tipos de análise frente a esta situação:\n",
    "- Analisamos como os outliers (apps mais instalados) se comportam\n",
    "- Analisamos os apps menos instalados (desconsideramos os outliers)"
   ]
  },
  {
   "cell_type": "markdown",
   "id": "defensive-sandwich",
   "metadata": {},
   "source": [
    "Para descobrir os outliers, poderíamos analisar o _boxplot_ e simplesmente \"chutar\" qual é o intervalo de valores que os outliers se encontram. <br/>\n",
    "Porém, uma forma mais interessante é utilizar, inicialmente, o **método de detecçao de outliers pelo IQR**, que é justamente o método utilizado pelo boxplot acima."
   ]
  },
  {
   "cell_type": "code",
   "execution_count": null,
   "id": "gentle-resort",
   "metadata": {},
   "outputs": [],
   "source": [
    "Q1 = stats.loc['25%', 'Installs']\n",
    "Q3 = stats.loc['75%', 'Installs']\n",
    "\n",
    "IQR = Q3 - Q1\n",
    "\n",
    "# intervalo sem outliers\n",
    "lower_bound = Q1 - 1.5*IQR\n",
    "upper_bound = Q3 + 1.5*IQR\n",
    "\n",
    "\n",
    "print(f'Q1 = {Q1}')\n",
    "print(f'Q3 = {Q3}')\n",
    "print(f'IQR = {IQR}')\n",
    "print(f'Intervalo sem outliers: [{lower_bound}, {upper_bound}]')"
   ]
  },
  {
   "cell_type": "markdown",
   "id": "bibliographic-stability",
   "metadata": {},
   "source": [
    "Como o número mínimo de instalações é 0, nosso **intervalo sem outliers real** é **[0, 2485000]**. <br/>\n",
    "Assim, os apps mais populares, com mais de 2485000 instalações, são considerados _outliers_."
   ]
  },
  {
   "cell_type": "code",
   "execution_count": null,
   "id": "bored-arrangement",
   "metadata": {},
   "outputs": [],
   "source": [
    "apps_mais_populares = df.query('Installs > @upper_bound')\n",
    "apps_mais_populares"
   ]
  },
  {
   "cell_type": "markdown",
   "id": "extensive-albuquerque",
   "metadata": {},
   "source": [
    "Temos um total de **1978** apps com mais de **2485000** instalações."
   ]
  },
  {
   "cell_type": "markdown",
   "id": "lonely-fitting",
   "metadata": {},
   "source": [
    "#### **Analisando os apps mais populares**"
   ]
  },
  {
   "cell_type": "code",
   "execution_count": null,
   "id": "lucky-stewart",
   "metadata": {},
   "outputs": [],
   "source": [
    "stats_apps_mais_populares = apps_mais_populares.describe()\n",
    "stats_apps_mais_populares"
   ]
  },
  {
   "cell_type": "code",
   "execution_count": null,
   "id": "ignored-capacity",
   "metadata": {},
   "outputs": [],
   "source": [
    "print(f\"A qtde de apps mais populares (número de instalações > 2485000.0) é de {apps_mais_populares.shape[0]}\")\n",
    "print(f\"A média geral de instalações é de {stats_apps_mais_populares.loc['mean', 'Installs']:.2f} ± {stats_apps_mais_populares.loc['std', 'Installs']:.2f}\")\n",
    "print(f\"A mediana de instalações é de {stats_apps_mais_populares.loc['50%', 'Installs']:.2f}\")"
   ]
  },
  {
   "cell_type": "markdown",
   "id": "headed-inside",
   "metadata": {},
   "source": [
    "O **desvio padrão** dos _apps mais populares_ continua bem alto, o que indica que a distribuição do número de instalações é bem espalhada. <br/>\n",
    "Além disso, note que a **média** e **mediana** do número de instalações são _muito diferentes_."
   ]
  },
  {
   "cell_type": "code",
   "execution_count": null,
   "id": "anticipated-solomon",
   "metadata": {},
   "outputs": [],
   "source": [
    "plt.figure(figsize=(20, 12))\n",
    "\n",
    "sns.boxplot(data=apps_mais_populares, x='Installs')\n",
    "plt.xticks(np.arange(0.0e9, 1.0001e9, 0.05e9))  # alterando os ticks do eixo x para uma melhor visualização"
   ]
  },
  {
   "cell_type": "markdown",
   "id": "historic-enhancement",
   "metadata": {},
   "source": [
    "Note que, mesmo entre os _aplicativos mais populares_ -- aqueles que possuem **número de instalações maior que 2485000** -- há alguns que extrapolam o número de instalações (**_outliers_**). <br/>\n",
    "Pelo boxplot, é possível chutar que qualquer app com mais do que 50M (0.05e9) são de fato **_outliers_**. <br/>\n",
    "\n",
    "Vamos analisar o **histograma** dos apps mais populares."
   ]
  },
  {
   "cell_type": "code",
   "execution_count": null,
   "id": "cardiac-franchise",
   "metadata": {},
   "outputs": [],
   "source": [
    "plt.figure(figsize=(20, 12))\n",
    "\n",
    "sns.histplot(data=apps_mais_populares, x='Installs')\n",
    "plt.xticks(np.arange(0.0, 1.0001e9, 0.05e9))"
   ]
  },
  {
   "cell_type": "markdown",
   "id": "finished-summit",
   "metadata": {},
   "source": [
    "De fato, vemos que a maior parte dos apps mais populares possuem número de instalações inferior a 50M (0.05e9). <br/>\n",
    "\n",
    "Poderíamos estabelecer um **novo intervalo** de número de instalações para detectar _outliers_ (apps mais populares). O novo intervalo poderia ser **[0, 50000000]**, ao invés de [0, 2485000]. <br/>\n",
    "Consequentemente, diminuiríamos o número de apps inicialmente considerados outliers e aumentaríamos a quantidade dos apps \"normais\" (menos populares). <br/>\n",
    "\n",
    "O problema é que, provavelmente, estes _apps removidos dos outliers iniciais_ serão **outliers** na nova amostra de apps \"normais\". <br/>\n",
    "Analisemos o boxplot deste conjunto:"
   ]
  },
  {
   "cell_type": "code",
   "execution_count": null,
   "id": "fantastic-future",
   "metadata": {},
   "outputs": [],
   "source": [
    "# boxplot dos novos \"outliers\"\n",
    "# agora, qualquer app com número de instalações maior ou igual a 50000000 será considerado outlier (antes o upper bound era 2485000)\n",
    "sns.boxplot(data=df.query('Installs >= 50000000'), x='Installs')\n",
    "plt.title('Distribuição do Número de Instalações para os Novos \"Outliers\"')"
   ]
  },
  {
   "cell_type": "markdown",
   "id": "fallen-australian",
   "metadata": {},
   "source": [
    "Ainda temos 'outliers' dentro da amostra de **'novos outliers'** ==> alta variância."
   ]
  },
  {
   "cell_type": "code",
   "execution_count": null,
   "id": "static-drinking",
   "metadata": {},
   "outputs": [],
   "source": [
    "# boxplot dos apps \"normais\" (sem outliers)\n",
    "# agora, qualquer app com número de instalações MENOR do que 50000000 NÃO será considerado outlier (antes o upper bound era 2485000)\n",
    "sns.boxplot(data=df.query('Installs < 50000000'), x='Installs')\n",
    "plt.xticks(np.arange(0, 5.001e7, 0.25e7), rotation=45)\n",
    "plt.title('Distribuição do Número de Instalações para a nova amostra SEM outliers')"
   ]
  },
  {
   "cell_type": "markdown",
   "id": "conservative-delaware",
   "metadata": {},
   "source": [
    "No _novo conjunto de apps menos populares_, temos agora **outliers**, que  são, justamente, os novos apps considerados. <br/>"
   ]
  },
  {
   "cell_type": "markdown",
   "id": "involved-claim",
   "metadata": {},
   "source": [
    "Dado este dilema, vamos adotar a seguinte estratégia: <br/>\n",
    "- Como o **conjunto de apps mais populares** (outliers iniciais) continuam com **alta variância** no _número de instalações_, independente se removermos seus apps com menos de 50M instalações, **manteremos** o conjunto de outliers originalmente obtidos como está. <br/>\n",
    "- Isso porque, neste momento, estamos interessados _apenas_ na análise de uma **única variável: _Installs_**. <br/>\n",
    "- Desta forma, mantemos um conjunto de apps de fato _sem outliers_ (apps menos populares) para uma análise menos \"ruidosa\"."
   ]
  },
  {
   "cell_type": "markdown",
   "id": "isolated-button",
   "metadata": {},
   "source": [
    "Uma estratégia mais interessante ao querer confrontar/analisar **o número de instalações** com outra variável é agrupar os apps, de acordo com suas quantidades de downloads, em uma **nova variável categórica**. <br/>\n",
    "Isso tende _a facilitar nossa análise_, p. ex., isolando grupos de apps com números exorbitantes de instalação. <br/>\n",
    "Veremos isso jajá!"
   ]
  },
  {
   "cell_type": "markdown",
   "id": "ruled-grenada",
   "metadata": {},
   "source": [
    "#### **Analisando a quantidade de instalação dos apps menos populares (menos instalados)**"
   ]
  },
  {
   "cell_type": "code",
   "execution_count": null,
   "id": "married-citizenship",
   "metadata": {},
   "outputs": [],
   "source": [
    "upper_bound  # upper bound dos apps menos populares"
   ]
  },
  {
   "cell_type": "code",
   "execution_count": null,
   "id": "joined-surgery",
   "metadata": {},
   "outputs": [],
   "source": [
    "# seleciona todos os apps com número de instalação entre [0, upper_bound] ==> [0, 2485000.0]\n",
    "apps_menos_populares = df.query('Installs <= @upper_bound')\n",
    "apps_menos_populares"
   ]
  },
  {
   "cell_type": "code",
   "execution_count": null,
   "id": "seeing-blame",
   "metadata": {},
   "outputs": [],
   "source": [
    "stats_apps_menos_populares = apps_menos_populares.describe()\n",
    "stats_apps_menos_populares"
   ]
  },
  {
   "cell_type": "code",
   "execution_count": null,
   "id": "cutting-consultancy",
   "metadata": {},
   "outputs": [],
   "source": [
    "print(f\"A qtde de apps menos populares (número de instalações <= 2485000.0) é de {apps_menos_populares.shape[0]}\")\n",
    "print(f\"A média de instalações é de {stats_apps_menos_populares.loc['mean', 'Installs']:.2f} ± {stats_apps_menos_populares.loc['std', 'Installs']:.2f}\")\n",
    "print(f\"A mediana de instalações é de {stats_apps_menos_populares.loc['50%', 'Installs']:.2f}\")"
   ]
  },
  {
   "cell_type": "markdown",
   "id": "heard-craft",
   "metadata": {},
   "source": [
    "O **desvio padrão** das instalações ainda é consideravelmente alto, mas bem menor do que para os _apps mais instalados_. <br/>\n",
    "A diferença entre a **média** e a **mediana** das instalações é _menor_ do que para os _apps mais instalados_ também. <br/>\n",
    "\n",
    "Apenas analisando estas estatísticas descritivas, percebemos que os números de instalação destes apps são bem distribuídas, mas em um intervalo bem menor do que para _apps mais instalados_."
   ]
  },
  {
   "cell_type": "code",
   "execution_count": null,
   "id": "dying-ecuador",
   "metadata": {},
   "outputs": [],
   "source": [
    "sns.boxplot(data=apps_menos_populares, x='Installs')"
   ]
  },
  {
   "cell_type": "markdown",
   "id": "every-rogers",
   "metadata": {},
   "source": [
    "Dos apps menos populares:\n",
    "- **25% (Q1)** possuem apps com número de instalações **<= 5000** (veja a tabela de describe)\n",
    "- **50% (Q2 - mediana)** possuem apps com número de instalações **<= 50000** (veja a tabela de describe)\n",
    "- **75% (Q3)** possuem apps com número de instalações **<= 500000** (veja a tabela de describe)\n",
    "- **25%** possuem apps com número de instalações **> 500000 e <= 1M**\n",
    "\n",
    "- **25%** possuem apps com número de instalações espalhados no intervalo de **[Q1, Q2] ==> [5000, 50000]**\n",
    "- **25%** possuem apps com número de instalações espalhados no intervalo de **[Q2, Q3] ==> [50000, 500000]**\n",
    "  + **maior variância (dispersão)** dos dados do que o caso anterior"
   ]
  },
  {
   "cell_type": "code",
   "execution_count": null,
   "id": "unlike-paste",
   "metadata": {},
   "outputs": [],
   "source": [
    "sns.violinplot(x='Installs', data=apps_menos_populares)"
   ]
  },
  {
   "cell_type": "markdown",
   "id": "royal-shoot",
   "metadata": {},
   "source": [
    "Dos **25% de apps mais instalados**, a maioria deles possuem número de instalações perto de **1M**."
   ]
  },
  {
   "cell_type": "markdown",
   "id": "responsible-proof",
   "metadata": {},
   "source": [
    "### 2.7 Criando grupos para a quantidade de instalações \n",
    "Vamos agrupar os aplicativos de acordo com seus **números de instalações**. <br/>\n",
    "Este processo é conhecido como **segmentação**: criaremos intervalos de valores (bins) para representar cada grupo. <br/>\n",
    "Em outras palavras, segmentaremos o intervalo original, de modo que cada grupo terá um segmento (sub-intervalo).\n",
    "\n",
    "Vamos adotar as seguintes categorias/grupos para o **número de instalações**:\n",
    "- **Muito Baixo**: [0, 1k] instalações\n",
    "- **Baixo**: (1k, 10k] instalações\n",
    "- **Médio**: (10k, 100k] installações \n",
    "- **Alto**: (100k, 1M]\n",
    "- **Muito Alto**: (1M, 100M]\n",
    "- **Extremamente Alto**: (100M,)\n",
    "\n",
    "PS: esta é apenas uma sugestão de segmentação. Outras opções poderiam ser levadas em conta."
   ]
  },
  {
   "cell_type": "markdown",
   "id": "sixth-student",
   "metadata": {},
   "source": [
    "Para criar estas categorias (segmentos, bins) a partir de intervalos numéricos, podemos utilizar o método `pd.cut()` do pandas: # https://pandas.pydata.org/docs/reference/api/pandas.cut.html"
   ]
  },
  {
   "cell_type": "code",
   "execution_count": null,
   "id": "completed-continuity",
   "metadata": {},
   "outputs": [],
   "source": [
    "df['Installs (Category)'] = pd.cut(df['Installs'], bins=[0, 1e3, 1e4, 1e5, 1e6, 1e8, 1e12], labels=['Muito Baixo', 'Baixo', 'Médio', 'Alto', 'Muito Alto', 'Extremamente Alto'], include_lowest=True)\n",
    "\n",
    "df[['App', 'Installs', 'Installs (Category)']]"
   ]
  },
  {
   "cell_type": "code",
   "execution_count": null,
   "id": "respected-deviation",
   "metadata": {},
   "outputs": [],
   "source": [
    "# contagem de apps de acordo com seu grupo de número de instalações\n",
    "df['Installs (Category)'].value_counts()"
   ]
  },
  {
   "cell_type": "code",
   "execution_count": null,
   "id": "noted-bleeding",
   "metadata": {},
   "outputs": [],
   "source": [
    "# contingency table ==> Tabela de Contingência: conta a quantidade de registros por categoria e variáveis\n",
    "count = df['Installs (Category)'].value_counts()\n",
    "perc = (count * 100) / df.shape[0]\n",
    "\n",
    "pd.DataFrame(data={\n",
    "    'count': count,\n",
    "    'perc (%)': perc.round(2)\n",
    "}, index=count.index)"
   ]
  },
  {
   "cell_type": "code",
   "execution_count": null,
   "id": "bibliographic-europe",
   "metadata": {},
   "outputs": [],
   "source": [
    "# Vamos checar estatísticas descritivas para o número de instalações em cada grupo\n",
    "df.groupby('Installs (Category)').describe()[['Installs']]"
   ]
  },
  {
   "cell_type": "code",
   "execution_count": null,
   "id": "backed-spiritual",
   "metadata": {},
   "outputs": [],
   "source": []
  },
  {
   "cell_type": "code",
   "execution_count": null,
   "id": "fossil-delta",
   "metadata": {},
   "outputs": [],
   "source": [
    "sns.countplot(data=df, x='Installs (Category)')\n",
    "plt.xlabel('Numéro de Instalações')\n",
    "plt.ylabel('Número de Apps')\n",
    "plt.xticks(rotation=45)\n",
    "plt.title('Número de Apps de acordo com a quantidade de instalações', fontsize=20)"
   ]
  },
  {
   "cell_type": "markdown",
   "id": "abandoned-watson",
   "metadata": {},
   "source": [
    "Após a segmentação/agrupamento, conseguimos notar que os dois maiores grupos possuem um número **alto** ou **muito alto** de instalações, enquanto apenas um pequeno número de aplicativos possui um valor **extremamente alto** de instalações. <br/>\n",
    "Mais quais são esses números?"
   ]
  },
  {
   "cell_type": "code",
   "execution_count": null,
   "id": "demanding-visitor",
   "metadata": {},
   "outputs": [],
   "source": [
    "ax = sns.countplot(data=df, x='Installs (Category)')\n",
    "plt.xlabel('Numéro de Instalações')\n",
    "plt.ylabel('Número de Apps')\n",
    "plt.xticks(rotation=45)\n",
    "plt.ylim([0, 2200])  # para caber as anotações\n",
    "plt.title('Número de Apps de acordo com a quantidade de instalações', fontsize=20)\n",
    "\n",
    "#### ADICIONANDO A CONTAGEM DE APPS SUAS PORCENTAGENS PARA CADA GRUPO (BARRA)\n",
    "n_registros = df.shape[0]  # numero de apps do datasets\n",
    "\n",
    "# iterando para cada barra do gráfico\n",
    "for bar in ax.patches:\n",
    "    # numero de apps da categoria representada pela barra `bar`\n",
    "    count = bar.get_height()\n",
    "    \n",
    "    ax.annotate(f'{count}\\n({(count * 100) / n_registros:.2f}%)',  # string a ser impressa\n",
    "                (bar.get_x() + bar.get_width() / 2, bar.get_height() + 60),  # posição inicial a ser impressa (x, y)\n",
    "                ha='center', va='center',\n",
    "                size=14, xytext=(0, 8),\n",
    "                textcoords='offset points')"
   ]
  },
  {
   "cell_type": "markdown",
   "id": "checked-mailing",
   "metadata": {},
   "source": [
    "#### Pie plot"
   ]
  },
  {
   "cell_type": "code",
   "execution_count": null,
   "id": "elect-efficiency",
   "metadata": {},
   "outputs": [],
   "source": [
    "perc"
   ]
  },
  {
   "cell_type": "code",
   "execution_count": null,
   "id": "bizarre-crack",
   "metadata": {},
   "outputs": [],
   "source": [
    "perc.plot.pie(figsize=(18, 9), fontsize=14)"
   ]
  },
  {
   "cell_type": "markdown",
   "id": "horizontal-conference",
   "metadata": {},
   "source": [
    "O uso do gráfico de pizza é um pouco _controverso_, uma vez que as **diferenças entre áreas** não são tão perceptíveis do que as **diferenças entre alturas** em um gráfico de barras. <br/>\n",
    "P. ex., por este gráfico, como saber qual área é maior: _Alto_ ou _Muito Alto_??? _Médio_ ou _Baixo_? <br/>\n",
    "Desta maneira, no geral o **gráfico de barras** é preferível.\n",
    "\n",
    "Mas, podemos tentar melhorar o gráfico de pizza adicionando os números de registros de cada fatia:"
   ]
  },
  {
   "cell_type": "code",
   "execution_count": null,
   "id": "whole-relevance",
   "metadata": {},
   "outputs": [],
   "source": [
    "# o parâmetro autopct='%.2f%%' adiciona a porcentagem de cada pedaço da pizza\n",
    "perc.plot.pie(autopct='%.2f%%', figsize=(18, 9), fontsize=14)"
   ]
  },
  {
   "cell_type": "markdown",
   "id": "invisible-imaging",
   "metadata": {},
   "source": [
    "### 2.8 Qual é a proporção de apps Free e Paid?"
   ]
  },
  {
   "cell_type": "code",
   "execution_count": null,
   "id": "operating-unemployment",
   "metadata": {},
   "outputs": [],
   "source": [
    "count = df['Type'].value_counts()\n",
    "perc = (count * 100) / df.shape[0]\n",
    "\n",
    "contingency_table = pd.DataFrame({\n",
    "    'count': count,\n",
    "    'perc (%)': perc.round(2)\n",
    "}, index=count.index)\n",
    "\n",
    "contingency_table"
   ]
  },
  {
   "cell_type": "code",
   "execution_count": null,
   "id": "professional-omega",
   "metadata": {},
   "outputs": [],
   "source": [
    "ax = sns.countplot(x='Type', data=df)\n",
    "plt.xlabel('Tipo')\n",
    "plt.ylabel('Número de Apps')\n",
    "plt.ylim([0, 9000])  # para caber as anotações\n",
    "plt.title('Proporção de apps gratuitos e pagos')\n",
    "\n",
    "n_registros = df.shape[0]\n",
    "\n",
    "for bar in ax.patches:\n",
    "    freq = bar.get_height()\n",
    "    ax.annotate(f'{freq}\\n({(freq * 100) / n_registros:.2f}%)',  # string a ser impressa\n",
    "                (bar.get_x() + bar.get_width() / 2, bar.get_height() + 200),  # posição inicial a ser impressa (x, y)\n",
    "                ha='center', va='center',\n",
    "                size=14, xytext=(0, 8),\n",
    "                textcoords='offset points')"
   ]
  },
  {
   "cell_type": "code",
   "execution_count": null,
   "id": "infrared-chile",
   "metadata": {},
   "outputs": [],
   "source": [
    "count.plot.pie(autopct='%.2f%%', figsize=(18, 9), fontsize=14)"
   ]
  },
  {
   "cell_type": "code",
   "execution_count": null,
   "id": "mediterranean-first",
   "metadata": {},
   "outputs": [],
   "source": [
    "sns.histplot(data=df, x='Rating', hue='Type')"
   ]
  },
  {
   "cell_type": "code",
   "execution_count": null,
   "id": "formed-pasta",
   "metadata": {},
   "outputs": [],
   "source": [
    "sns.kdeplot(data=df, x='Rating', hue='Type')"
   ]
  },
  {
   "cell_type": "markdown",
   "id": "statistical-order",
   "metadata": {},
   "source": [
    "### 2.9 Qual é avaliação média de cada tipo de aplicativo?\n",
    "Variável numérica x Variável Categórica."
   ]
  },
  {
   "cell_type": "code",
   "execution_count": null,
   "id": "catholic-shoot",
   "metadata": {},
   "outputs": [],
   "source": [
    "df.groupby('Type').mean()['Rating']"
   ]
  },
  {
   "cell_type": "code",
   "execution_count": null,
   "id": "piano-setup",
   "metadata": {},
   "outputs": [],
   "source": [
    "stats = df.groupby('Type').describe()['Rating']\n",
    "stats"
   ]
  },
  {
   "cell_type": "code",
   "execution_count": null,
   "id": "noticed-queue",
   "metadata": {},
   "outputs": [],
   "source": [
    "print(f\"A média de avaliações de aplicativos gratuitos é de {stats.loc['Free', 'mean']:.2f} ± {stats.loc['Free', 'std']:.2f}, e mediana {stats.loc['Free', '50%']:.2f}\")\n",
    "print(f\"A média de avaliações de aplicativos pagos é de {stats.loc['Paid', 'mean']:.2f} ± {stats.loc['Paid', 'std']:.2f}, e mediana {stats.loc['Paid', '50%']:.2f}\")"
   ]
  },
  {
   "cell_type": "code",
   "execution_count": null,
   "id": "fifth-preliminary",
   "metadata": {},
   "outputs": [],
   "source": [
    "ax = sns.barplot(data=df, x='Type', y='Rating', ci='sd')\n",
    "plt.yticks(np.arange(0, 5.01, 0.25))\n",
    "\n",
    "for bar in ax.patches:\n",
    "    media = bar.get_height()\n",
    "    ax.annotate(f'{media:.2f}',\n",
    "                (bar.get_x() + bar.get_width(), bar.get_height()),  # posição inicial a ser impressa (x, y)\n",
    "                 ha='center', va='center',\n",
    "                 size=14, xytext=(0, 8),\n",
    "                 textcoords='offset points')"
   ]
  },
  {
   "cell_type": "markdown",
   "id": "cooperative-security",
   "metadata": {},
   "source": [
    "#### VISUALIZANDO A DISTRIBUIÇÃO DE NOTAS POR APLICATIVO"
   ]
  },
  {
   "cell_type": "code",
   "execution_count": null,
   "id": "communist-deposit",
   "metadata": {},
   "outputs": [],
   "source": [
    "plt.figure(figsize=(20, 20))\n",
    "sns.histplot(data=df, x='Rating', hue='Type')"
   ]
  },
  {
   "cell_type": "code",
   "execution_count": null,
   "id": "powerful-albert",
   "metadata": {},
   "outputs": [],
   "source": [
    "sns.boxplot(data=df, x='Rating', y='Type')\n",
    "plt.xlabel('Avaliações')\n",
    "plt.ylabel('Tipo')"
   ]
  },
  {
   "cell_type": "code",
   "execution_count": null,
   "id": "thermal-utilization",
   "metadata": {},
   "outputs": [],
   "source": [
    "sns.violinplot(data=df, x='Rating', y='Type')\n",
    "plt.xlabel('Avaliações')\n",
    "plt.ylabel('Tipo')"
   ]
  },
  {
   "cell_type": "markdown",
   "id": "thermal-modeling",
   "metadata": {},
   "source": [
    "##### RIDGE LINE"
   ]
  },
  {
   "cell_type": "code",
   "execution_count": null,
   "id": "elementary-likelihood",
   "metadata": {},
   "outputs": [],
   "source": [
    "# ridgeline: https://www.python-graph-gallery.com/ridgeline-graph-seaborn\n",
    "\n",
    "g = sns.FacetGrid(df, row='Type', hue='Type', aspect=10, height=2)\n",
    "g.map(sns.kdeplot, 'Rating',\n",
    "      bw_adjust=1, clip_on=False,\n",
    "      fill=True, alpha=1, linewidth=1.5)\n",
    "\n",
    "g.set(yticks=[])"
   ]
  },
  {
   "cell_type": "markdown",
   "id": "indie-adobe",
   "metadata": {},
   "source": [
    "Por mais que a **proporção** de apps gratuitos e pagos sejam bem diferentes, ao analisar as estatísticas descritivas e os plots, conseguimos afirmar que a _distribuição de avaliações_ de cada tipo é similar, sendo os aplicativos pagos ligeiramente melhor avaliados do que os apps gratuitos."
   ]
  },
  {
   "cell_type": "markdown",
   "id": "genetic-dynamics",
   "metadata": {},
   "source": [
    "### 2.10 Qual é distribuição de avaliações de cada tipo de aplicativo de acordo com a quantidade de instalações?\n",
    "Comparação de 3 variáveis: uma numérica e duas categóricas."
   ]
  },
  {
   "cell_type": "code",
   "execution_count": null,
   "id": "aquatic-arrival",
   "metadata": {},
   "outputs": [],
   "source": [
    "apps_free = df.query('Type == \"Free\"')\n",
    "apps_paid = df.query('Type == \"Paid\"')"
   ]
  },
  {
   "cell_type": "code",
   "execution_count": null,
   "id": "individual-surname",
   "metadata": {},
   "outputs": [],
   "source": [
    "fig, axes = plt.subplots(2, 2, figsize=(20, 15), sharex=True, sharey=False)\n",
    "\n",
    "sns.boxplot(data=apps_free, x='Installs (Category)', y='Rating', ax=axes[0, 0])\n",
    "axes[0, 0].set_title('Apps Gratuitos')\n",
    "axes[0, 0].set_xlabel('')\n",
    "axes[0, 0].set_yticks(np.arange(0, 5.01, 0.25))\n",
    "\n",
    "sns.boxplot(data=apps_paid, x='Installs (Category)', y='Rating', ax=axes[0, 1])\n",
    "axes[0, 1].set_title('Apps Pagos')\n",
    "axes[0, 1].set_xlabel('')\n",
    "axes[0, 1].set_yticks(np.arange(0, 5.01, 0.25))\n",
    "\n",
    "sns.violinplot(data=apps_free, x='Installs (Category)', y='Rating', ax=axes[1, 0])\n",
    "axes[1, 0].set_title('Apps Gratuitos')\n",
    "axes[1, 0].xaxis.set_tick_params(rotation=45)\n",
    "axes[1, 0].set_yticks(np.arange(0, 5.01, 0.25))\n",
    "\n",
    "sns.violinplot(data=apps_paid, x='Installs (Category)', y='Rating', ax=axes[1, 1])\n",
    "axes[1, 1].set_title('Apps Pagos')\n",
    "axes[1, 1].xaxis.set_tick_params(rotation=45)\n",
    "axes[1, 1].set_yticks(np.arange(0, 5.01, 0.25))"
   ]
  },
  {
   "cell_type": "markdown",
   "id": "owned-louis",
   "metadata": {},
   "source": [
    "Alguns insights/conlusões:\n",
    "- No geral, a grande maioria dos apps gratuitos e pagos (~75%) possui avaliações próximas de 3.75 para cima, independente do número de instalações.\n",
    "- Não temos **apps pagos** que foram **extremamente baixados** (> 100M)\n",
    "- Não temos a escala de preços, mas faz sentido pensar que quanto maior o preço do app, menor o número de instalações (analisaremos essa hipótese depois)\n",
    "- Apps gratuitos com número de instalação 'Muito Alta' e 'Extremamente Alta' possuem menor variância entre as avaliações, ou seja, a percepção dos usuários é parecida em cada categoria.\n",
    "- Apps pagos com número de instalação 'Alta' e 'Muito Alta' possuem menor variância entre as avaliações, ou seja, a percepção dos usuários é parecida em cada categoria.\n",
    "- Apps com número _'Muito Baixo' de instalações ([0, 1k]) possuem opiniões mais diversas"
   ]
  },
  {
   "cell_type": "markdown",
   "id": "molecular-detection",
   "metadata": {},
   "source": [
    "### 2.11 Qual é avaliação média de cada categoria para cada tipo de aplicativo?\n",
    "Comparação de 3 variáveis: uma numérica e duas categóricas."
   ]
  },
  {
   "cell_type": "code",
   "execution_count": null,
   "id": "accomplished-happiness",
   "metadata": {},
   "outputs": [],
   "source": [
    "df.groupby(['Category', 'Type']).describe()['Rating']"
   ]
  },
  {
   "cell_type": "code",
   "execution_count": null,
   "id": "dominican-calculator",
   "metadata": {},
   "outputs": [],
   "source": [
    "plt.figure(figsize=(20, 20))\n",
    "sns.barplot(data=df, x='Rating', y='Category', hue='Type', ci='sd')"
   ]
  },
  {
   "cell_type": "markdown",
   "id": "blocked-speech",
   "metadata": {},
   "source": [
    "Analisando este gráfico, podemos identificar algumas categorias cujas as *avaliações médias* **são bem discrepantes** entre os tipos de apps:\n",
    "P. ex: 'Parenting'.\n",
    "\n",
    "Podemos querer analisar esta categoria específica para então tentar entender ou buscar insights das causas destas discrepâncias."
   ]
  },
  {
   "cell_type": "code",
   "execution_count": null,
   "id": "convinced-attempt",
   "metadata": {},
   "outputs": [],
   "source": [
    "apps_parenting = df.query('Category == \"PARENTING\"')\n",
    "apps_parenting.head()"
   ]
  },
  {
   "cell_type": "code",
   "execution_count": null,
   "id": "genuine-continuity",
   "metadata": {},
   "outputs": [],
   "source": [
    "print(f'Temos um total de {apps_parenting.shape[0]} apps da categoria \"PARENTING\"')"
   ]
  },
  {
   "cell_type": "code",
   "execution_count": null,
   "id": "level-durham",
   "metadata": {},
   "outputs": [],
   "source": [
    "sns.violinplot(data=apps_parenting, x='Rating', y='Type')"
   ]
  },
  {
   "cell_type": "code",
   "execution_count": null,
   "id": "solved-heaven",
   "metadata": {},
   "outputs": [],
   "source": [
    "apps_parenting['Type'].value_counts().plot.pie(autopct='%.2f%%')"
   ]
  },
  {
   "cell_type": "code",
   "execution_count": null,
   "id": "revised-fitting",
   "metadata": {},
   "outputs": [],
   "source": [
    "apps_parenting.query('Type == \"Paid\"')"
   ]
  },
  {
   "cell_type": "markdown",
   "id": "infectious-rolling",
   "metadata": {},
   "source": [
    "Note que a quantidade de apps **pagos** da category 'Parenting' (2 apps - 4%) é _muito menor_ do que de apps **gratuitos** (96%). Além do problema do desbalanceamento, apenas 2 observações é muito pouco para conseguirmos extrair informações. <br/>\n",
    "\n",
    "Dado essas observações, **TOME CUIDADO**, pois podemos tirar conclusões precipitadas em situações como essa."
   ]
  },
  {
   "cell_type": "markdown",
   "id": "artistic-murder",
   "metadata": {},
   "source": [
    "#### Population Pyramid\n",
    "A Population Pyramid is a pair of back-to-back Histograms (for each sex) that displays the distribution of a population in all age groups and in both sexes. The X-axis is used to plot population numbers and the Y-axis lists all age groups"
   ]
  },
  {
   "cell_type": "code",
   "execution_count": null,
   "id": "immune-helena",
   "metadata": {},
   "outputs": [],
   "source": [
    "df_viz = df.copy()\n",
    "selecao = df['Type'] == 'Free'\n",
    "df_viz.loc[selecao, 'Rating'] *= -1  # invertendo o sinal das avaliações dos apps gratuitos \n",
    "\n",
    "plt.figure(figsize=(20, 15))\n",
    "# dodge: When hue nesting is used, whether elements should be shifted along the categorical axis.\n",
    "sns.barplot(data=df_viz, x='Rating', y='Category', hue='Type', ci='sd', dodge=False)\n",
    "plt.xticks([-5, -4, -3, -2, -1, 0, 1, 2, 3, 4, 5], [5, 4, 3, 2, 1, 0, 1, 2, 3, 4, 5])\n",
    "\n",
    "# Alternativa: https://plotly.com/python/v3/population-pyramid-charts/"
   ]
  },
  {
   "cell_type": "markdown",
   "id": "faced-blues",
   "metadata": {},
   "source": [
    "_Não levando em consideração o tamanho de cada grupo neste momento_, podemos ver que a média das avaliações dos apps **gratuitos** é relativamente similar em todas as categorias. <br/>\n",
    "Já para os aplicativos pagos, a dispersão entre as avaliações médias das categorias é maior."
   ]
  },
  {
   "cell_type": "markdown",
   "id": "gorgeous-apparatus",
   "metadata": {},
   "source": [
    "### 2.12 Existe correlação entre os preços dos aplicativos e suas avaliações?\n",
    "Será que quanto mais caro o app, melhor ou pior avaliado ele é?"
   ]
  },
  {
   "cell_type": "code",
   "execution_count": null,
   "id": "sticky-episode",
   "metadata": {},
   "outputs": [],
   "source": [
    "apps_paid"
   ]
  },
  {
   "cell_type": "code",
   "execution_count": null,
   "id": "cubic-refrigerator",
   "metadata": {},
   "outputs": [],
   "source": [
    "corrs = apps_paid[['Price', 'Rating']].corr()\n",
    "corrs"
   ]
  },
  {
   "cell_type": "code",
   "execution_count": null,
   "id": "bacterial-radiation",
   "metadata": {},
   "outputs": [],
   "source": [
    "print(f\"O coeficiente de correlação entre o preço dos apps e suas avaliações é de {corrs.loc['Price', 'Rating']}\")"
   ]
  },
  {
   "cell_type": "code",
   "execution_count": null,
   "id": "uniform-scene",
   "metadata": {},
   "outputs": [],
   "source": [
    "sns.scatterplot(data=apps_paid, x='Price', y='Rating')"
   ]
  },
  {
   "cell_type": "code",
   "execution_count": null,
   "id": "employed-istanbul",
   "metadata": {},
   "outputs": [],
   "source": [
    "sns.jointplot(data=apps_paid, x='Price', y='Rating', height=10)"
   ]
  },
  {
   "cell_type": "code",
   "execution_count": null,
   "id": "assured-certification",
   "metadata": {},
   "outputs": [],
   "source": [
    "# hexagonal binning\n",
    "sns.jointplot(data=apps_paid, x='Price', y='Rating', height=10, kind='hex')"
   ]
  },
  {
   "cell_type": "code",
   "execution_count": null,
   "id": "intelligent-upper",
   "metadata": {},
   "outputs": [],
   "source": [
    "sns.histplot(data=apps_paid, x='Price', y='Rating', )"
   ]
  },
  {
   "cell_type": "code",
   "execution_count": null,
   "id": "horizontal-netherlands",
   "metadata": {},
   "outputs": [],
   "source": [
    "# plota a reta de regressão\n",
    "sns.lmplot(data=apps_paid, x='Price', y='Rating', height=10)"
   ]
  },
  {
   "cell_type": "markdown",
   "id": "terminal-supervisor",
   "metadata": {},
   "source": [
    "<br/>\n",
    "\n",
    "Após todas estas possíveis maneiras de analisar o mesmo fenômeno, concluímos que **não há correlação** entre o preço dos apps e suas avaliações."
   ]
  },
  {
   "cell_type": "markdown",
   "id": "color-writer",
   "metadata": {},
   "source": [
    "#### **CORRELAÇÃO DO PREÇOS COM AS DEMAIS VARIÁVEIS NÚMERICAS PARA OS APPS PAGOS**"
   ]
  },
  {
   "cell_type": "code",
   "execution_count": null,
   "id": "metropolitan-sculpture",
   "metadata": {},
   "outputs": [],
   "source": [
    "apps_paid.corr()['Rating']"
   ]
  },
  {
   "cell_type": "markdown",
   "id": "reasonable-insurance",
   "metadata": {},
   "source": [
    "Analisando os **coeficientes de correlação**, vemos que **não há nenhuma correlação forte** entre o preço e outra variável numérica.<br/>\n",
    "Isso é interessante, pois tínhamos a impressão de que _quanto mais caro o app_ **menor** o _número de instalações_. Vamos analisar esse cenário com mais cuidado na próxima pergunta."
   ]
  },
  {
   "cell_type": "code",
   "execution_count": null,
   "id": "above-opposition",
   "metadata": {},
   "outputs": [],
   "source": [
    "# plotando um gráfico com vários subplots, sendo cada um dele um scatterplot entre os diferentes pares de variáveis numéricas do dataset\n",
    "sns.pairplot(data=apps_paid, aspect=2)"
   ]
  },
  {
   "cell_type": "markdown",
   "id": "partial-ethiopia",
   "metadata": {},
   "source": [
    "Por um momento, ignore os os plots de outras variáveis que não incluem o preço.\n",
    "\n",
    "Olhando para os scatterplots com Preço (última coluna), confirmamos, visualmente, que **não há correlações fortes** entre o **preço** e as demais variáveis númericas. <br/>\n",
    "O que notamos é que _parece_ haver uma _correlação (não necessariamente causalidade)_ entre as **avaliações** dos _apps pagos_ com seus **tamanhos**. <br/>\n",
    "Vamos investigar esta hipótese."
   ]
  },
  {
   "cell_type": "code",
   "execution_count": null,
   "id": "saving-taste",
   "metadata": {},
   "outputs": [],
   "source": [
    "sns.lmplot(data=apps_paid, x='Rating', y='Size', height=10)"
   ]
  },
  {
   "cell_type": "markdown",
   "id": "intended-dictionary",
   "metadata": {},
   "source": [
    "Ao analisar, em uma escala visual maior, o scatterplot entre as variáveis 'Rating' e 'Size', vemos que não há correlação entre as variáveis. <br/>\n",
    "Parece que há uma concentração muito grande de observação na região com Rating entre [4, 5] e Size [0, 0.2e8]. <br/>\n",
    "Vamos checar isso plotando um **hexagonal binning**."
   ]
  },
  {
   "cell_type": "code",
   "execution_count": null,
   "id": "contained-ribbon",
   "metadata": {},
   "outputs": [],
   "source": [
    "sns.jointplot(data=df, x='Rating', y='Size', kind='hex', height=10)\n",
    "plt.yticks(np.arange(0, 1.01e8, 0.1e8))"
   ]
  },
  {
   "cell_type": "markdown",
   "id": "lucky-interstate",
   "metadata": {},
   "source": [
    "De fato, há uma quantidade muito grande de observações concentradas na região com Rating [4, 4.7] e Size [0, 0.1]. <br/>\n",
    "Isso mostra que, às vezes, um dado plot, principalmente em escalas pequenas, podem nos enganar visualmente. <br/>\n",
    "\n",
    "P. ex., ao analisar o scatterplot destas duas variáveis, anteriormente obtido pelo `.pairplot`, tínhamos a impressão que os pontos (observações) estavam bem espalhados. Não conseguimos notas essa concentração de observações em uma mesma região, uma vez que os pontos do scatterplot estavam superpostos. <br/>\n",
    "Portanto, **cuidado** durante sua análise exploratória."
   ]
  },
  {
   "cell_type": "code",
   "execution_count": null,
   "id": "formal-spiritual",
   "metadata": {},
   "outputs": [],
   "source": [
    "apps_paid[['Rating', 'Size']].corr()"
   ]
  },
  {
   "cell_type": "markdown",
   "id": "bound-killer",
   "metadata": {},
   "source": [
    "Portanto, ao analisarmos as duas variáveis com mais detalhes e cuidado, percebemos que nossa percepção inicial estava errada."
   ]
  },
  {
   "cell_type": "markdown",
   "id": "abroad-creativity",
   "metadata": {},
   "source": [
    "### 2.13 O número de instalações está correlacionado com o preço dos apps?\n",
    "Durante a exploração da pergunta 2.10, surgiu a hipótese que _'quanto mais caro for o apps, menor será seu número de instalações/downloads'_. <br/>\n",
    "Vamos então investigar essa hipótese a fundo."
   ]
  },
  {
   "cell_type": "code",
   "execution_count": null,
   "id": "combined-geometry",
   "metadata": {},
   "outputs": [],
   "source": [
    "apps_paid[['Installs', 'Price']].corr()"
   ]
  },
  {
   "cell_type": "markdown",
   "id": "fallen-butterfly",
   "metadata": {},
   "source": [
    "Pelo coeficiente de correlação, **NÃO** há correlação entre essas duas variáveis."
   ]
  },
  {
   "cell_type": "code",
   "execution_count": null,
   "id": "level-concrete",
   "metadata": {},
   "outputs": [],
   "source": [
    "sns.lmplot(data=apps_paid, x='Price', y='Installs')"
   ]
  },
  {
   "cell_type": "markdown",
   "id": "linear-organic",
   "metadata": {},
   "source": [
    "Vemos que há alguns **outliers** que dificultam a visualização. Vamos removê-los \"no olho\"."
   ]
  },
  {
   "cell_type": "code",
   "execution_count": null,
   "id": "found-modeling",
   "metadata": {},
   "outputs": [],
   "source": [
    "apps_paid_viz = apps_paid.query('Installs < 0.05e7')"
   ]
  },
  {
   "cell_type": "code",
   "execution_count": null,
   "id": "expired-jewel",
   "metadata": {},
   "outputs": [],
   "source": [
    "sns.lmplot(data=apps_paid_viz, x='Price', y='Installs')"
   ]
  },
  {
   "cell_type": "markdown",
   "id": "authorized-withdrawal",
   "metadata": {},
   "source": [
    "Realmente, não há correlação entre o número de instalações e os preços dos apps, pois há apps caros ($ 400.0) com número médio de instalações: (10k, 100k]. Vejamos quem são eles (o que comem, onde moram, ...) =D"
   ]
  },
  {
   "cell_type": "code",
   "execution_count": null,
   "id": "stupid-catalyst",
   "metadata": {},
   "outputs": [],
   "source": [
    "apps_paid.query('Price > 300 and Installs > 5000').sort_values(by='Installs', ascending=False)  # usamos um threshold bem baixo para o número de instalações, para considerar o grupo 'Baixo'"
   ]
  },
  {
   "cell_type": "markdown",
   "id": "prepared-cylinder",
   "metadata": {},
   "source": [
    "Os dois primeiros apps custam +- $ 400.0 e foram muito baixados. Após uma pesquisa simples no google: https://www.techtudo.com.br/artigos/noticia/2012/03/aplicativos-de-celular-que-servem-apenas-para-mostrar-o-quanto-voce-e-rico.html\n",
    "\n",
    "Este é um ponto importante: Nossa **análise exploratória** visa explorar padrões/comportamentos nos dados. A causalidade de tais não estarão mostradas, necessariamente, nessa exploração (números, tabelas, gráficos). É preciso então, em um segundo momento, visar entender tais causalidades."
   ]
  },
  {
   "cell_type": "markdown",
   "id": "regulation-andrews",
   "metadata": {},
   "source": [
    "#### **Analisando apenas apps com preço <= $100**"
   ]
  },
  {
   "cell_type": "code",
   "execution_count": null,
   "id": "efficient-sacramento",
   "metadata": {},
   "outputs": [],
   "source": [
    "# apps pagos com preço menor ou igual (less than or equal to - leq) a 100 dólares\n",
    "apps_paid_price_leq_100 = apps_paid.query('Price <= 100')\n",
    "apps_paid_price_leq_100"
   ]
  },
  {
   "cell_type": "code",
   "execution_count": null,
   "id": "ordinary-latin",
   "metadata": {},
   "outputs": [],
   "source": [
    "apps_paid_price_leq_100.corr()"
   ]
  },
  {
   "cell_type": "code",
   "execution_count": null,
   "id": "statistical-threat",
   "metadata": {},
   "outputs": [],
   "source": [
    "sns.lmplot(data=apps_paid_price_leq_100, x='Price', y='Installs')"
   ]
  },
  {
   "cell_type": "markdown",
   "id": "basic-hanging",
   "metadata": {},
   "source": [
    "Bem, mesmo removendo \"outliers\" e analisando apenas uma faixa de preço, **não há correlação** entre o **preço dos apps** e o **número de ínstalações** (ao menos para este problema e dataset)."
   ]
  },
  {
   "cell_type": "markdown",
   "id": "loving-hydrogen",
   "metadata": {},
   "source": [
    "### 2.14 Qual a correlação entre as variáveis numéricas?\n",
    "Vamos agora fazer uma busca geral, correlacionando todas as variáveis numéricas de nosso dataset. Nosso intuito, é tentar encontrar algum correlação entre variáveis."
   ]
  },
  {
   "cell_type": "code",
   "execution_count": null,
   "id": "potential-company",
   "metadata": {},
   "outputs": [],
   "source": [
    "df.corr()"
   ]
  },
  {
   "cell_type": "markdown",
   "id": "wrong-wedding",
   "metadata": {},
   "source": [
    "Apenas analisando os **coeficientes de correlação**, vemos que as únicas variáveis numéricas que apresentam alguma correlação são **Installs** (número de instalações) e **Reviews** (número de revisões), o que é meio óbvio, pensando bem =D"
   ]
  },
  {
   "cell_type": "code",
   "execution_count": null,
   "id": "saved-inspector",
   "metadata": {},
   "outputs": [],
   "source": [
    "sns.pairplot(data=df, aspect=2)"
   ]
  },
  {
   "cell_type": "markdown",
   "id": "loose-straight",
   "metadata": {},
   "source": [
    "Visualmente, a correlação de tais variáveis é visível.\n",
    "\n",
    "Será que há algum padrão diferente ao diferenciarmos apps gratuitos dos pagos?"
   ]
  },
  {
   "cell_type": "code",
   "execution_count": null,
   "id": "worse-direction",
   "metadata": {},
   "outputs": [],
   "source": [
    "sns.pairplot(data=df, hue='Type', aspect=2)"
   ]
  },
  {
   "cell_type": "code",
   "execution_count": null,
   "id": "solid-bonus",
   "metadata": {},
   "outputs": [],
   "source": [
    "sns.lmplot(data=df, x='Installs', y='Reviews', height=10)"
   ]
  },
  {
   "cell_type": "code",
   "execution_count": null,
   "id": "instructional-management",
   "metadata": {},
   "outputs": [],
   "source": [
    "# diferenciando os apps gratuitos e pagos no gráfico\n",
    "sns.lmplot(data=df, x='Installs', y='Reviews', hue='Type', height=10)"
   ]
  },
  {
   "cell_type": "markdown",
   "id": "mediterranean-lobby",
   "metadata": {},
   "source": [
    "Note que a quantidade de instalações e de reviews são bem baixas para os apps pagos."
   ]
  },
  {
   "cell_type": "markdown",
   "id": "increased-english",
   "metadata": {},
   "source": [
    "### 2.15 Como estão distribuídas as categorias de acordo com a classificação de conteúdo?"
   ]
  },
  {
   "cell_type": "code",
   "execution_count": null,
   "id": "enormous-passion",
   "metadata": {},
   "outputs": [],
   "source": [
    "series_viz = df.groupby(by='Category')['Content Rating'].value_counts().sort_index()  # ordena os índice em ordem alfabética, pq o value_counts()  ordena em ordem contagem\n",
    "series_viz"
   ]
  },
  {
   "cell_type": "code",
   "execution_count": null,
   "id": "sharp-outline",
   "metadata": {},
   "outputs": [],
   "source": [
    "df_viz = series_viz.unstack()\n",
    "df_viz"
   ]
  },
  {
   "cell_type": "code",
   "execution_count": null,
   "id": "comparative-poker",
   "metadata": {},
   "outputs": [],
   "source": [
    "plt.figure(figsize=(10, 10))\n",
    "sns.heatmap(df_viz, linewidths=1, linecolor=\"white\")"
   ]
  },
  {
   "cell_type": "code",
   "execution_count": null,
   "id": "broke-shanghai",
   "metadata": {},
   "outputs": [],
   "source": [
    "plt.figure(figsize=(10, 10))\n",
    "ax = sns.heatmap(df_viz, annot=True, fmt='.0f', linewidths=1, linecolor=\"white\")\n",
    "\n",
    "# customizando a barra de cores\n",
    "cbar = ax.collections[0].colorbar\n",
    "max_val = int(df_viz.max(skipna=True).max())\n",
    "cbar.set_ticks(list(range(0, max_val + 1, 50)))  # setting "
   ]
  },
  {
   "cell_type": "markdown",
   "id": "premier-child",
   "metadata": {},
   "source": [
    "### 2.16 Qual a proporção de Gêneros?\n",
    "A coluna 'Genres' armazena o gênero de cada um dos aplicativos. Porém, um aplicativo pode possuir **mais de um gênero**. <br/>\n",
    "Para modelar esse problema, o dataset original _juntou múltiplos gêneros_ em **uma string só**, separando-os com um _';'_."
   ]
  },
  {
   "cell_type": "code",
   "execution_count": null,
   "id": "religious-zoning",
   "metadata": {},
   "outputs": [],
   "source": [
    "df.head()"
   ]
  },
  {
   "cell_type": "markdown",
   "id": "stopped-disclaimer",
   "metadata": {},
   "source": [
    "Note que os apps do índice [1] e [4] possui exatamente este caso: <br/>\n",
    "[1] ==> 'Art & Design;Pretend Play' <br/>\n",
    "[4] ==> 'Art & Design;Creativity' <br/>"
   ]
  },
  {
   "cell_type": "markdown",
   "id": "lasting-speaking",
   "metadata": {},
   "source": [
    "Portanto, para conseguir explorar e analisar o atributo 'Genres', precisaremos adotar alguma estratégia para considerar os múltiplos gêneros por app. <br/>\n",
    "\n",
    "Para responder a pergunta proposta, vamos criar um novo dataset que terá **uma nova coluna**, 'Single Genre', que guardará o valor de apenas _um_ gênero. <br/>\n",
    "Desta forma, apps com **múltiplos gêneros serão duplicados**, sendo que cada _cópia terá apenas um de seus gêneros_ na coluna 'Single Genre'."
   ]
  },
  {
   "cell_type": "markdown",
   "id": "selected-honduras",
   "metadata": {},
   "source": [
    "Inicialmente, vamos criar uma nova coluna chamada 'Genres List' que guardará, em formato de uma **lista de strings**, _todos_ os gêneros de cada app."
   ]
  },
  {
   "cell_type": "code",
   "execution_count": null,
   "id": "chemical-column",
   "metadata": {},
   "outputs": [],
   "source": [
    "# dividindo a string de gêneros em uma lista de gêneros\n",
    "df['Genres List'] = df['Genres'].str.split(';')\n",
    "df.head()"
   ]
  },
  {
   "cell_type": "code",
   "execution_count": null,
   "id": "meaningful-criticism",
   "metadata": {},
   "outputs": [],
   "source": [
    "genres = df['Genres List'].sum() # concatena todas as listas de gêneros em uma grande lista\n",
    "genres = set(genres)  # elimina valores duplicados, transformando a lista de gêneros em um conjunto de gêneros\n",
    "genres = sorted(list(genres))  # converte o conjunto de gêneros (sem repetição) em uma lista e depois ordena seus elementos em ordem alfabética\n",
    "\n",
    "genres"
   ]
  },
  {
   "cell_type": "markdown",
   "id": "revised-punishment",
   "metadata": {},
   "source": [
    "#### **Criando o novo dataframe com os gêneros divididos (splitted)**\n",
    "##### **Estratégia que gera inconsistências**"
   ]
  },
  {
   "cell_type": "markdown",
   "id": "statistical-portfolio",
   "metadata": {},
   "source": [
    "Para saber quais são os gêneros de cada app, poderíamos adotar a seguinte estratégia:\n",
    "- Para cada gênero possível, checamos _quais são as linhas/observações cujas as strings da coluna 'Genres' contém esse gênero em questão.\n",
    "    - P.ex: O gênero 'Action' está contido em strings como 'Action', 'Action & Adventure'\n",
    "- Após estra filtragem, simplesmente copiamos/concatenamos tais observações no novo dataframe\n",
    "\n",
    "A abordagem é boa, mas apresenta um **problema** para este dataset em específico (veremos jajá)."
   ]
  },
  {
   "cell_type": "code",
   "execution_count": null,
   "id": "beautiful-grounds",
   "metadata": {},
   "outputs": [],
   "source": [
    "df_by_genre_INCONSISTENTE = pd.DataFrame()"
   ]
  },
  {
   "cell_type": "code",
   "execution_count": null,
   "id": "sacred-crawford",
   "metadata": {},
   "outputs": [],
   "source": [
    "for gen in genres:\n",
    "    # retorna uma Series de booleans que indica quais são as observações que possuem o gênero da iteração\n",
    "    # p. ex: se gen == 'Art & Design'\n",
    "    # a observação com gênero 'Art & Design;Pretend Play' retornará True pq contém o gênero analisado em sua string\n",
    "    gen_mask = df['Genres'].str.contains(gen)\n",
    "    \n",
    "    # seleciona apenas as observações cuja string em 'Genres' possui a string da variável `gen` (gênero da iteração)\n",
    "    df_gen = df[gen_mask].copy()  # `.copy()` to avoid SettingWithCopyWarning\n",
    "    df_gen['Single Genre'] = gen  # atribui o gênero analisado para todas as observações filtradas\n",
    "    # concatena as linhas dos gêneros já analisados com o gênero atual\n",
    "    # como os índices são apenas números, podemos ignorar seus valores originais durante a concatenação\n",
    "    df_by_genre_INCONSISTENTE = pd.concat([df_by_genre_INCONSISTENTE, df_gen], ignore_index=True)\n",
    "    \n",
    "\n",
    "df_by_genre_INCONSISTENTE"
   ]
  },
  {
   "cell_type": "markdown",
   "id": "thrown-wilderness",
   "metadata": {},
   "source": [
    "Aparentemente, deu tudo certo (veja a coluna 'Single Genre'). Mas, olhe esse caso específico:"
   ]
  },
  {
   "cell_type": "code",
   "execution_count": null,
   "id": "fleet-bracket",
   "metadata": {},
   "outputs": [],
   "source": [
    "df_by_genre_INCONSISTENTE.query('App == \"Monster Truck Driver & Racing\"')"
   ]
  },
  {
   "cell_type": "markdown",
   "id": "possible-document",
   "metadata": {},
   "source": [
    "O app 'Monster Trucj Driver & Racing' foi replicado **4 vezes**, sendo que em cada cópia temos um **valor diferente** de gênero no atributo _'Single Genre'_. <br/>\n",
    "\n",
    "Entretanto, se notarmos os atributos _'Genre'_ ou _'Genre List'_ veremos que, na verdade, este app **possui apenas DOIS gêneros** ao invés de quatro: [Education, Action & Adventure] <br/>\n",
    "O que aconteceu?"
   ]
  },
  {
   "cell_type": "markdown",
   "id": "opposed-portsmouth",
   "metadata": {},
   "source": [
    "Acontece que as strings de _quatro gêneros_ possíveis ('Action', 'Action & Adventure', 'Adventure', 'Education') **estão contidas** em sua string do atributo 'Genre': <br/>\n",
    "**'Education;Action & Adventure'** <br/>\n",
    "\n",
    "Essa é a razão da inconsistência durante esta modelagem de dados. <br/>\n",
    "O que fazer então? <br/><br/>"
   ]
  },
  {
   "cell_type": "markdown",
   "id": "adjacent-shield",
   "metadata": {},
   "source": [
    "##### **Estratégia que gera consistente**\n",
    "Ao invés de comparar se a string de um _gênero_ está contida na string de gêneros, podemos checar se a mesma string está contida na **lista de gêneros (strings)** previamente criada: atributo _'Genres List'_. <br/>\n",
    "Desta forma, garantimos que não teremos as inconsistências anteriormente obtidas."
   ]
  },
  {
   "cell_type": "code",
   "execution_count": null,
   "id": "manufactured-conjunction",
   "metadata": {},
   "outputs": [],
   "source": [
    "df_by_genre = pd.DataFrame()"
   ]
  },
  {
   "cell_type": "code",
   "execution_count": null,
   "id": "hindu-category",
   "metadata": {},
   "outputs": [],
   "source": [
    "for gen in genres:\n",
    "    gen_mask = df['Genres List'].apply(lambda genre_list: gen in genre_list)\n",
    "    df_gen = df[gen_mask].copy()\n",
    "    df_gen['Single Genre'] = gen\n",
    "    df_by_genre = pd.concat([df_by_genre, df_gen], ignore_index=True)\n",
    "\n",
    "df_by_genre"
   ]
  },
  {
   "cell_type": "markdown",
   "id": "necessary-priority",
   "metadata": {},
   "source": [
    "Ao checar novamente o caso do app 'Monster Truck Driver & Racing', confirmamos que **não há mais inconsistências**."
   ]
  },
  {
   "cell_type": "code",
   "execution_count": null,
   "id": "damaged-helmet",
   "metadata": {},
   "outputs": [],
   "source": [
    "df_by_genre.query('App == \"Monster Truck Driver & Racing\"')"
   ]
  },
  {
   "cell_type": "markdown",
   "id": "found-expression",
   "metadata": {},
   "source": [
    "#### **Respondendo (finalmente) a pegunta**"
   ]
  },
  {
   "cell_type": "code",
   "execution_count": null,
   "id": "entertaining-luther",
   "metadata": {},
   "outputs": [],
   "source": [
    "# amostras/gêneros de diferentes tamanhos\n",
    "genre_sizes = df_by_genre.groupby('Single Genre').size()\n",
    "genre_sizes"
   ]
  },
  {
   "cell_type": "markdown",
   "id": "severe-revolution",
   "metadata": {},
   "source": [
    "Note que o gênero _'Music & Audio' possui apenas **uma única observação**."
   ]
  },
  {
   "cell_type": "code",
   "execution_count": null,
   "id": "committed-subsection",
   "metadata": {},
   "outputs": [],
   "source": [
    "order = genre_sizes.sort_values().index\n",
    "\n",
    "plt.figure(figsize=(20, 15))\n",
    "sns.countplot(data=df_by_genre, y='Single Genre', order=order)\n",
    "plt.xticks(range(0, genre_sizes.max()+1, 25))\n",
    "display()  # evita a qtde de texto mostrada/retornada pelo matplotlib"
   ]
  },
  {
   "cell_type": "markdown",
   "id": "alleged-omega",
   "metadata": {},
   "source": [
    "### 2.17 Como cada gênero é avaliado?"
   ]
  },
  {
   "cell_type": "code",
   "execution_count": null,
   "id": "distributed-testament",
   "metadata": {},
   "outputs": [],
   "source": [
    "stats = df_by_genre.groupby('Single Genre')['Rating'].describe()\n",
    "stats"
   ]
  },
  {
   "cell_type": "code",
   "execution_count": null,
   "id": "polyphonic-influence",
   "metadata": {},
   "outputs": [],
   "source": [
    "stats.columns"
   ]
  },
  {
   "cell_type": "code",
   "execution_count": null,
   "id": "prescribed-mandate",
   "metadata": {},
   "outputs": [],
   "source": [
    "order = stats.sort_values('mean').index  # vamos ordenar o plot pela média das avaliações de cada gênero\n",
    "\n",
    "plt.figure(figsize=(20,15))\n",
    "sns.barplot(data=df_by_genre, x='Rating', y='Single Genre', order=order)\n",
    "plt.xticks(np.arange(0.0, 5.01, 0.25))\n",
    "display()  # evita a qtde de texto mostrada/retornada pelo matplotlib"
   ]
  },
  {
   "cell_type": "markdown",
   "id": "heated-shipping",
   "metadata": {},
   "source": [
    "Lembre-se que **não é possível** tirarmos conclusões precisas apenas olhando para este gráfico de média de avaliações por categoria, uma vez que _cada categoria possui um número diferente de apps_."
   ]
  },
  {
   "cell_type": "code",
   "execution_count": null,
   "id": "expressed-accommodation",
   "metadata": {},
   "outputs": [],
   "source": []
  },
  {
   "cell_type": "markdown",
   "id": "simple-group",
   "metadata": {},
   "source": [
    "## Continue a exploração\n",
    "**Sugestões**:\n",
    "- Analisar as categorias e gêneros\n",
    "- Analisar os gêneros e tipos de apps\n",
    "- Analisar os tamanhos dos apps e números de instalações por gênero\n",
    "- Relacionar a indicação de conteúdo com o número de instalações\n",
    "- Organize todos os achados e conclusões deste notebook em uma apresentação que conte uma história"
   ]
  },
  {
   "cell_type": "code",
   "execution_count": null,
   "id": "thermal-papua",
   "metadata": {},
   "outputs": [],
   "source": []
  }
 ],
 "metadata": {
  "kernelspec": {
   "display_name": "Python 3",
   "language": "python",
   "name": "python3"
  },
  "language_info": {
   "codemirror_mode": {
    "name": "ipython",
    "version": 3
   },
   "file_extension": ".py",
   "mimetype": "text/x-python",
   "name": "python",
   "nbconvert_exporter": "python",
   "pygments_lexer": "ipython3",
   "version": "3.8.5"
  }
 },
 "nbformat": 4,
 "nbformat_minor": 5
}
