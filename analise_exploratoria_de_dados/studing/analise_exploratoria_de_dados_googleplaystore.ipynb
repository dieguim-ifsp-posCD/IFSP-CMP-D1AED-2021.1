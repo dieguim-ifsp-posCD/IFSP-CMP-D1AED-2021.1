{
 "cells": [
  {
   "cell_type": "markdown",
   "id": "external-eleven",
   "metadata": {},
   "source": [
    "**D1DAE: Análise Estatística para Ciência de Dados (2021.1)** <br/>\n",
    "IFSP Campinas\n",
    "\n",
    "Profs: Ricardo Sovat, Samuel Martins <br/><br/>\n",
    "\n",
    "<a rel=\"license\" href=\"http://creativecommons.org/licenses/by-nc-sa/4.0/\"><img alt=\"Creative Commons License\" style=\"border-width:0\" src=\"https://i.creativecommons.org/l/by-nc-sa/4.0/88x31.png\" /></a><br />This work is licensed under a <a rel=\"license\" href=\"http://creativecommons.org/licenses/by-nc-sa/4.0/\">Creative Commons Attribution-NonCommercial-ShareAlike 4.0 International License</a>."
   ]
  },
  {
   "cell_type": "code",
   "execution_count": 1,
   "id": "moving-planet",
   "metadata": {},
   "outputs": [],
   "source": [
    "# pacotes usados neste notebook\n",
    "import pandas as pd\n",
    "import seaborn as sns\n",
    "import matplotlib.pyplot as plt\n",
    "import numpy as np\n",
    "\n",
    "# estilos padrão para os plots/visualizações\n",
    "sns.set_theme(style=\"whitegrid\")\n",
    "plt.rcParams['figure.figsize'] = (10, 6)\n",
    "plt.rcParams['axes.labelsize'] = 14\n",
    "plt.rcParams['xtick.labelsize'] = 14\n",
    "plt.rcParams['xtick.labelsize'] = 14\n",
    "plt.rcParams['ytick.labelsize'] = 14"
   ]
  },
  {
   "cell_type": "markdown",
   "id": "answering-estate",
   "metadata": {},
   "source": [
    "<h1>Especificação</h1><hr/>"
   ]
  },
  {
   "cell_type": "markdown",
   "id": "accessible-draft",
   "metadata": {},
   "source": [
    "Neste notebook, realizaremos uma **Análise Exploratória de Dados** em um conjunto de dados sobre aplicativos da Google Play Store. <br/>\n",
    "Nosso objetivo é responder algumas perguntas e hipóteses sobre o dataset. Para isso, analisaremos as variáveis do dataset em diferentes cenários, utilizando um ferramental que envolve a manipulação de dados, estatísticas descritivas e visualizações. <br/>\n",
    "Focaremos mais nas estratégias de como responder às perguntas do que necessariamente no código para chegar nisso. Deixaremos a cargo de vocês o entendimento do ferramental. <br/>\n",
    "\n",
    "Outro detalhe é que a apresentação das respostas neste notebook é _crua_. Você deveria escolher quais gráficos ou elementos são mais interessante para cada caso e, então, contar uma história: _Storytelling with Data_. \n",
    "\n",
    "Como suporte para visualização:\n",
    "- https://datavizcatalogue.com/\n",
    "- https://www.python-graph-gallery.com/"
   ]
  },
  {
   "cell_type": "markdown",
   "id": "pressed-wilson",
   "metadata": {},
   "source": [
    "<h1>1. Dataset</h1>\n",
    "<hr/>"
   ]
  },
  {
   "cell_type": "markdown",
   "id": "surrounded-powell",
   "metadata": {},
   "source": [
    "**Dataset**: Google Play Store Apps: https://www.kaggle.com/lava18/google-play-store-apps <br/>\n",
    "\n",
    "Este dataset contém dados sobre aplicativos da Google Play Store (2010 até agosto de 2018). <br/>\n",
    "Cada *observação (registro/linha)* consiste de informações de um app, tais como categoria, avaliação, tamanho, entre outros. <br/>\n",
    "Cada app possui uma avaliação (coluna 'Rating') que consiste da nota média de um conjunto de avaliações (coluna 'Reviews')."
   ]
  },
  {
   "cell_type": "markdown",
   "id": "minimal-ontario",
   "metadata": {},
   "source": [
    "## 1.1 Importando o Dataset"
   ]
  },
  {
   "cell_type": "code",
   "execution_count": 3,
   "id": "korean-metro",
   "metadata": {},
   "outputs": [],
   "source": [
    "df = pd.read_csv('datasets/googleplaystore_preprocessado.csv')"
   ]
  },
  {
   "cell_type": "code",
   "execution_count": 4,
   "id": "36122914-0272-452d-8efa-7558bc3bf01d",
   "metadata": {},
   "outputs": [
    {
     "data": {
      "text/html": [
       "<div>\n",
       "<style scoped>\n",
       "    .dataframe tbody tr th:only-of-type {\n",
       "        vertical-align: middle;\n",
       "    }\n",
       "\n",
       "    .dataframe tbody tr th {\n",
       "        vertical-align: top;\n",
       "    }\n",
       "\n",
       "    .dataframe thead th {\n",
       "        text-align: right;\n",
       "    }\n",
       "</style>\n",
       "<table border=\"1\" class=\"dataframe\">\n",
       "  <thead>\n",
       "    <tr style=\"text-align: right;\">\n",
       "      <th></th>\n",
       "      <th>App</th>\n",
       "      <th>Category</th>\n",
       "      <th>Rating</th>\n",
       "      <th>Reviews</th>\n",
       "      <th>Size</th>\n",
       "      <th>Installs</th>\n",
       "      <th>Type</th>\n",
       "      <th>Price</th>\n",
       "      <th>Content Rating</th>\n",
       "      <th>Genres</th>\n",
       "      <th>Last Updated</th>\n",
       "      <th>Current Ver</th>\n",
       "      <th>Android Ver</th>\n",
       "    </tr>\n",
       "  </thead>\n",
       "  <tbody>\n",
       "    <tr>\n",
       "      <th>0</th>\n",
       "      <td>Photo Editor &amp; Candy Camera &amp; Grid &amp; ScrapBook</td>\n",
       "      <td>ART_AND_DESIGN</td>\n",
       "      <td>4.1</td>\n",
       "      <td>159</td>\n",
       "      <td>19000000.0</td>\n",
       "      <td>10000</td>\n",
       "      <td>Free</td>\n",
       "      <td>0.0</td>\n",
       "      <td>Everyone</td>\n",
       "      <td>Art &amp; Design</td>\n",
       "      <td>2018-01-07</td>\n",
       "      <td>1.0.0</td>\n",
       "      <td>4.0.3 and up</td>\n",
       "    </tr>\n",
       "    <tr>\n",
       "      <th>1</th>\n",
       "      <td>Coloring book moana</td>\n",
       "      <td>ART_AND_DESIGN</td>\n",
       "      <td>3.9</td>\n",
       "      <td>967</td>\n",
       "      <td>14000000.0</td>\n",
       "      <td>500000</td>\n",
       "      <td>Free</td>\n",
       "      <td>0.0</td>\n",
       "      <td>Everyone</td>\n",
       "      <td>Art &amp; Design;Pretend Play</td>\n",
       "      <td>2018-01-15</td>\n",
       "      <td>2.0.0</td>\n",
       "      <td>4.0.3 and up</td>\n",
       "    </tr>\n",
       "    <tr>\n",
       "      <th>2</th>\n",
       "      <td>U Launcher Lite – FREE Live Cool Themes, Hide ...</td>\n",
       "      <td>ART_AND_DESIGN</td>\n",
       "      <td>4.7</td>\n",
       "      <td>87510</td>\n",
       "      <td>8700000.0</td>\n",
       "      <td>5000000</td>\n",
       "      <td>Free</td>\n",
       "      <td>0.0</td>\n",
       "      <td>Everyone</td>\n",
       "      <td>Art &amp; Design</td>\n",
       "      <td>2018-08-01</td>\n",
       "      <td>1.2.4</td>\n",
       "      <td>4.0.3 and up</td>\n",
       "    </tr>\n",
       "    <tr>\n",
       "      <th>3</th>\n",
       "      <td>Sketch - Draw &amp; Paint</td>\n",
       "      <td>ART_AND_DESIGN</td>\n",
       "      <td>4.5</td>\n",
       "      <td>215644</td>\n",
       "      <td>25000000.0</td>\n",
       "      <td>50000000</td>\n",
       "      <td>Free</td>\n",
       "      <td>0.0</td>\n",
       "      <td>Teen</td>\n",
       "      <td>Art &amp; Design</td>\n",
       "      <td>2018-06-08</td>\n",
       "      <td>1.0.0</td>\n",
       "      <td>4.2 and up</td>\n",
       "    </tr>\n",
       "    <tr>\n",
       "      <th>4</th>\n",
       "      <td>Pixel Draw - Number Art Coloring Book</td>\n",
       "      <td>ART_AND_DESIGN</td>\n",
       "      <td>4.3</td>\n",
       "      <td>967</td>\n",
       "      <td>2800000.0</td>\n",
       "      <td>100000</td>\n",
       "      <td>Free</td>\n",
       "      <td>0.0</td>\n",
       "      <td>Everyone</td>\n",
       "      <td>Art &amp; Design;Creativity</td>\n",
       "      <td>2018-06-20</td>\n",
       "      <td>1.1</td>\n",
       "      <td>4.4 and up</td>\n",
       "    </tr>\n",
       "  </tbody>\n",
       "</table>\n",
       "</div>"
      ],
      "text/plain": [
       "                                                 App        Category  Rating  \\\n",
       "0     Photo Editor & Candy Camera & Grid & ScrapBook  ART_AND_DESIGN     4.1   \n",
       "1                                Coloring book moana  ART_AND_DESIGN     3.9   \n",
       "2  U Launcher Lite – FREE Live Cool Themes, Hide ...  ART_AND_DESIGN     4.7   \n",
       "3                              Sketch - Draw & Paint  ART_AND_DESIGN     4.5   \n",
       "4              Pixel Draw - Number Art Coloring Book  ART_AND_DESIGN     4.3   \n",
       "\n",
       "   Reviews        Size  Installs  Type  Price Content Rating  \\\n",
       "0      159  19000000.0     10000  Free    0.0       Everyone   \n",
       "1      967  14000000.0    500000  Free    0.0       Everyone   \n",
       "2    87510   8700000.0   5000000  Free    0.0       Everyone   \n",
       "3   215644  25000000.0  50000000  Free    0.0           Teen   \n",
       "4      967   2800000.0    100000  Free    0.0       Everyone   \n",
       "\n",
       "                      Genres Last Updated Current Ver   Android Ver  \n",
       "0               Art & Design   2018-01-07       1.0.0  4.0.3 and up  \n",
       "1  Art & Design;Pretend Play   2018-01-15       2.0.0  4.0.3 and up  \n",
       "2               Art & Design   2018-08-01       1.2.4  4.0.3 and up  \n",
       "3               Art & Design   2018-06-08       1.0.0    4.2 and up  \n",
       "4    Art & Design;Creativity   2018-06-20         1.1    4.4 and up  "
      ]
     },
     "execution_count": 4,
     "metadata": {},
     "output_type": "execute_result"
    }
   ],
   "source": [
    "df.head()"
   ]
  },
  {
   "cell_type": "markdown",
   "id": "intimate-victory",
   "metadata": {},
   "source": [
    "## 1.2 Informações básicas"
   ]
  },
  {
   "cell_type": "code",
   "execution_count": 6,
   "id": "architectural-breeding",
   "metadata": {},
   "outputs": [
    {
     "name": "stdout",
     "output_type": "stream",
     "text": [
      "<class 'pandas.core.frame.DataFrame'>\n",
      "RangeIndex: 8194 entries, 0 to 8193\n",
      "Data columns (total 13 columns):\n",
      " #   Column          Non-Null Count  Dtype  \n",
      "---  ------          --------------  -----  \n",
      " 0   App             8194 non-null   object \n",
      " 1   Category        8194 non-null   object \n",
      " 2   Rating          8194 non-null   float64\n",
      " 3   Reviews         8194 non-null   int64  \n",
      " 4   Size            8194 non-null   float64\n",
      " 5   Installs        8194 non-null   int64  \n",
      " 6   Type            8194 non-null   object \n",
      " 7   Price           8194 non-null   float64\n",
      " 8   Content Rating  8194 non-null   object \n",
      " 9   Genres          8194 non-null   object \n",
      " 10  Last Updated    8194 non-null   object \n",
      " 11  Current Ver     8194 non-null   object \n",
      " 12  Android Ver     8194 non-null   object \n",
      "dtypes: float64(3), int64(2), object(8)\n",
      "memory usage: 832.3+ KB\n"
     ]
    }
   ],
   "source": [
    "df.info()"
   ]
  },
  {
   "cell_type": "markdown",
   "id": "formal-peninsula",
   "metadata": {},
   "source": [
    "<br/>\n",
    "\n",
    "O dataset pré-processado possui **8194** registros/observações/linhas e **13** atributos/variáveis/colunas.\n",
    "Nenhum atributo possui valores NaN."
   ]
  },
  {
   "cell_type": "markdown",
   "id": "attempted-tutorial",
   "metadata": {},
   "source": [
    "<h1>2. Análise Exploratória de Dados</h1>\n",
    "<hr/>"
   ]
  },
  {
   "cell_type": "markdown",
   "id": "stuffed-powder",
   "metadata": {},
   "source": [
    "### **Estatísticas descritivas básicas**"
   ]
  },
  {
   "cell_type": "code",
   "execution_count": 7,
   "id": "reserved-channel",
   "metadata": {},
   "outputs": [
    {
     "data": {
      "text/html": [
       "<div>\n",
       "<style scoped>\n",
       "    .dataframe tbody tr th:only-of-type {\n",
       "        vertical-align: middle;\n",
       "    }\n",
       "\n",
       "    .dataframe tbody tr th {\n",
       "        vertical-align: top;\n",
       "    }\n",
       "\n",
       "    .dataframe thead th {\n",
       "        text-align: right;\n",
       "    }\n",
       "</style>\n",
       "<table border=\"1\" class=\"dataframe\">\n",
       "  <thead>\n",
       "    <tr style=\"text-align: right;\">\n",
       "      <th></th>\n",
       "      <th>Rating</th>\n",
       "      <th>Reviews</th>\n",
       "      <th>Size</th>\n",
       "      <th>Installs</th>\n",
       "      <th>Price</th>\n",
       "    </tr>\n",
       "  </thead>\n",
       "  <tbody>\n",
       "    <tr>\n",
       "      <th>count</th>\n",
       "      <td>8194.000000</td>\n",
       "      <td>8.194000e+03</td>\n",
       "      <td>8.194000e+03</td>\n",
       "      <td>8.194000e+03</td>\n",
       "      <td>8194.000000</td>\n",
       "    </tr>\n",
       "    <tr>\n",
       "      <th>mean</th>\n",
       "      <td>4.173175</td>\n",
       "      <td>2.553137e+05</td>\n",
       "      <td>2.069274e+07</td>\n",
       "      <td>9.167325e+06</td>\n",
       "      <td>1.037956</td>\n",
       "    </tr>\n",
       "    <tr>\n",
       "      <th>std</th>\n",
       "      <td>0.536672</td>\n",
       "      <td>1.985832e+06</td>\n",
       "      <td>2.150960e+07</td>\n",
       "      <td>5.825780e+07</td>\n",
       "      <td>16.859934</td>\n",
       "    </tr>\n",
       "    <tr>\n",
       "      <th>min</th>\n",
       "      <td>1.000000</td>\n",
       "      <td>1.000000e+00</td>\n",
       "      <td>8.500000e+03</td>\n",
       "      <td>1.000000e+00</td>\n",
       "      <td>0.000000</td>\n",
       "    </tr>\n",
       "    <tr>\n",
       "      <th>25%</th>\n",
       "      <td>4.000000</td>\n",
       "      <td>1.260000e+02</td>\n",
       "      <td>5.500000e+06</td>\n",
       "      <td>1.000000e+04</td>\n",
       "      <td>0.000000</td>\n",
       "    </tr>\n",
       "    <tr>\n",
       "      <th>50%</th>\n",
       "      <td>4.300000</td>\n",
       "      <td>3.009500e+03</td>\n",
       "      <td>1.250000e+07</td>\n",
       "      <td>1.000000e+05</td>\n",
       "      <td>0.000000</td>\n",
       "    </tr>\n",
       "    <tr>\n",
       "      <th>75%</th>\n",
       "      <td>4.500000</td>\n",
       "      <td>4.383900e+04</td>\n",
       "      <td>2.800000e+07</td>\n",
       "      <td>1.000000e+06</td>\n",
       "      <td>0.000000</td>\n",
       "    </tr>\n",
       "    <tr>\n",
       "      <th>max</th>\n",
       "      <td>5.000000</td>\n",
       "      <td>7.815831e+07</td>\n",
       "      <td>1.000000e+08</td>\n",
       "      <td>1.000000e+09</td>\n",
       "      <td>400.000000</td>\n",
       "    </tr>\n",
       "  </tbody>\n",
       "</table>\n",
       "</div>"
      ],
      "text/plain": [
       "            Rating       Reviews          Size      Installs        Price\n",
       "count  8194.000000  8.194000e+03  8.194000e+03  8.194000e+03  8194.000000\n",
       "mean      4.173175  2.553137e+05  2.069274e+07  9.167325e+06     1.037956\n",
       "std       0.536672  1.985832e+06  2.150960e+07  5.825780e+07    16.859934\n",
       "min       1.000000  1.000000e+00  8.500000e+03  1.000000e+00     0.000000\n",
       "25%       4.000000  1.260000e+02  5.500000e+06  1.000000e+04     0.000000\n",
       "50%       4.300000  3.009500e+03  1.250000e+07  1.000000e+05     0.000000\n",
       "75%       4.500000  4.383900e+04  2.800000e+07  1.000000e+06     0.000000\n",
       "max       5.000000  7.815831e+07  1.000000e+08  1.000000e+09   400.000000"
      ]
     },
     "execution_count": 7,
     "metadata": {},
     "output_type": "execute_result"
    }
   ],
   "source": [
    "df.describe()"
   ]
  },
  {
   "cell_type": "markdown",
   "id": "independent-cross",
   "metadata": {},
   "source": [
    "## 2.1 Quais são os 10 Apps mais baixados?"
   ]
  },
  {
   "cell_type": "code",
   "execution_count": 24,
   "id": "adjustable-footage",
   "metadata": {},
   "outputs": [
    {
     "data": {
      "text/html": [
       "<div>\n",
       "<style scoped>\n",
       "    .dataframe tbody tr th:only-of-type {\n",
       "        vertical-align: middle;\n",
       "    }\n",
       "\n",
       "    .dataframe tbody tr th {\n",
       "        vertical-align: top;\n",
       "    }\n",
       "\n",
       "    .dataframe thead th {\n",
       "        text-align: right;\n",
       "    }\n",
       "</style>\n",
       "<table border=\"1\" class=\"dataframe\">\n",
       "  <thead>\n",
       "    <tr style=\"text-align: right;\">\n",
       "      <th></th>\n",
       "      <th>App</th>\n",
       "      <th>Category</th>\n",
       "      <th>Rating</th>\n",
       "      <th>Reviews</th>\n",
       "      <th>Size</th>\n",
       "      <th>Installs</th>\n",
       "      <th>Type</th>\n",
       "      <th>Price</th>\n",
       "      <th>Content Rating</th>\n",
       "      <th>Genres</th>\n",
       "      <th>Last Updated</th>\n",
       "      <th>Current Ver</th>\n",
       "      <th>Android Ver</th>\n",
       "    </tr>\n",
       "  </thead>\n",
       "  <tbody>\n",
       "    <tr>\n",
       "      <th>1276</th>\n",
       "      <td>Subway Surfers</td>\n",
       "      <td>GAME</td>\n",
       "      <td>4.5</td>\n",
       "      <td>27722264</td>\n",
       "      <td>76000000.0</td>\n",
       "      <td>1000000000</td>\n",
       "      <td>Free</td>\n",
       "      <td>0.0</td>\n",
       "      <td>Everyone 10+</td>\n",
       "      <td>Arcade</td>\n",
       "      <td>2018-07-12</td>\n",
       "      <td>1.90.0</td>\n",
       "      <td>4.1 and up</td>\n",
       "    </tr>\n",
       "    <tr>\n",
       "      <th>1873</th>\n",
       "      <td>Instagram</td>\n",
       "      <td>SOCIAL</td>\n",
       "      <td>4.5</td>\n",
       "      <td>66577313</td>\n",
       "      <td>9900000.0</td>\n",
       "      <td>1000000000</td>\n",
       "      <td>Free</td>\n",
       "      <td>0.0</td>\n",
       "      <td>Teen</td>\n",
       "      <td>Social</td>\n",
       "      <td>2018-07-31</td>\n",
       "      <td>1.0.0</td>\n",
       "      <td>Varies with device</td>\n",
       "    </tr>\n",
       "    <tr>\n",
       "      <th>2061</th>\n",
       "      <td>Google Photos</td>\n",
       "      <td>PHOTOGRAPHY</td>\n",
       "      <td>4.5</td>\n",
       "      <td>10858556</td>\n",
       "      <td>10500000.0</td>\n",
       "      <td>1000000000</td>\n",
       "      <td>Free</td>\n",
       "      <td>0.0</td>\n",
       "      <td>Everyone</td>\n",
       "      <td>Photography</td>\n",
       "      <td>2018-08-06</td>\n",
       "      <td>1.0.0</td>\n",
       "      <td>Varies with device</td>\n",
       "    </tr>\n",
       "    <tr>\n",
       "      <th>288</th>\n",
       "      <td>WhatsApp Messenger</td>\n",
       "      <td>COMMUNICATION</td>\n",
       "      <td>4.4</td>\n",
       "      <td>69119316</td>\n",
       "      <td>6100000.0</td>\n",
       "      <td>1000000000</td>\n",
       "      <td>Free</td>\n",
       "      <td>0.0</td>\n",
       "      <td>Everyone</td>\n",
       "      <td>Communication</td>\n",
       "      <td>2018-08-03</td>\n",
       "      <td>1.0.0</td>\n",
       "      <td>Varies with device</td>\n",
       "    </tr>\n",
       "    <tr>\n",
       "      <th>2377</th>\n",
       "      <td>Google</td>\n",
       "      <td>TOOLS</td>\n",
       "      <td>4.4</td>\n",
       "      <td>8033493</td>\n",
       "      <td>4100000.0</td>\n",
       "      <td>1000000000</td>\n",
       "      <td>Free</td>\n",
       "      <td>0.0</td>\n",
       "      <td>Everyone</td>\n",
       "      <td>Tools</td>\n",
       "      <td>2018-08-03</td>\n",
       "      <td>1.0.0</td>\n",
       "      <td>Varies with device</td>\n",
       "    </tr>\n",
       "    <tr>\n",
       "      <th>2588</th>\n",
       "      <td>Google Drive</td>\n",
       "      <td>PRODUCTIVITY</td>\n",
       "      <td>4.4</td>\n",
       "      <td>2731171</td>\n",
       "      <td>7000000.0</td>\n",
       "      <td>1000000000</td>\n",
       "      <td>Free</td>\n",
       "      <td>0.0</td>\n",
       "      <td>Everyone</td>\n",
       "      <td>Productivity</td>\n",
       "      <td>2018-08-06</td>\n",
       "      <td>1.0.0</td>\n",
       "      <td>Varies with device</td>\n",
       "    </tr>\n",
       "    <tr>\n",
       "      <th>290</th>\n",
       "      <td>Google Chrome: Fast &amp; Secure</td>\n",
       "      <td>COMMUNICATION</td>\n",
       "      <td>4.3</td>\n",
       "      <td>9642995</td>\n",
       "      <td>6100000.0</td>\n",
       "      <td>1000000000</td>\n",
       "      <td>Free</td>\n",
       "      <td>0.0</td>\n",
       "      <td>Everyone</td>\n",
       "      <td>Communication</td>\n",
       "      <td>2018-08-01</td>\n",
       "      <td>1.0.0</td>\n",
       "      <td>Varies with device</td>\n",
       "    </tr>\n",
       "    <tr>\n",
       "      <th>292</th>\n",
       "      <td>Gmail</td>\n",
       "      <td>COMMUNICATION</td>\n",
       "      <td>4.3</td>\n",
       "      <td>4604324</td>\n",
       "      <td>6100000.0</td>\n",
       "      <td>1000000000</td>\n",
       "      <td>Free</td>\n",
       "      <td>0.0</td>\n",
       "      <td>Everyone</td>\n",
       "      <td>Communication</td>\n",
       "      <td>2018-08-02</td>\n",
       "      <td>1.0.0</td>\n",
       "      <td>Varies with device</td>\n",
       "    </tr>\n",
       "    <tr>\n",
       "      <th>651</th>\n",
       "      <td>Google Play Games</td>\n",
       "      <td>ENTERTAINMENT</td>\n",
       "      <td>4.3</td>\n",
       "      <td>7165362</td>\n",
       "      <td>19000000.0</td>\n",
       "      <td>1000000000</td>\n",
       "      <td>Free</td>\n",
       "      <td>0.0</td>\n",
       "      <td>Teen</td>\n",
       "      <td>Entertainment</td>\n",
       "      <td>2018-07-16</td>\n",
       "      <td>1.0.0</td>\n",
       "      <td>Varies with device</td>\n",
       "    </tr>\n",
       "    <tr>\n",
       "      <th>2290</th>\n",
       "      <td>Maps - Navigate &amp; Explore</td>\n",
       "      <td>TRAVEL_AND_LOCAL</td>\n",
       "      <td>4.3</td>\n",
       "      <td>9235155</td>\n",
       "      <td>19000000.0</td>\n",
       "      <td>1000000000</td>\n",
       "      <td>Free</td>\n",
       "      <td>0.0</td>\n",
       "      <td>Everyone</td>\n",
       "      <td>Travel &amp; Local</td>\n",
       "      <td>2018-07-31</td>\n",
       "      <td>1.0.0</td>\n",
       "      <td>Varies with device</td>\n",
       "    </tr>\n",
       "  </tbody>\n",
       "</table>\n",
       "</div>"
      ],
      "text/plain": [
       "                               App          Category  Rating   Reviews  \\\n",
       "1276                Subway Surfers              GAME     4.5  27722264   \n",
       "1873                     Instagram            SOCIAL     4.5  66577313   \n",
       "2061                 Google Photos       PHOTOGRAPHY     4.5  10858556   \n",
       "288             WhatsApp Messenger     COMMUNICATION     4.4  69119316   \n",
       "2377                        Google             TOOLS     4.4   8033493   \n",
       "2588                  Google Drive      PRODUCTIVITY     4.4   2731171   \n",
       "290   Google Chrome: Fast & Secure     COMMUNICATION     4.3   9642995   \n",
       "292                          Gmail     COMMUNICATION     4.3   4604324   \n",
       "651              Google Play Games     ENTERTAINMENT     4.3   7165362   \n",
       "2290     Maps - Navigate & Explore  TRAVEL_AND_LOCAL     4.3   9235155   \n",
       "\n",
       "            Size    Installs  Type  Price Content Rating          Genres  \\\n",
       "1276  76000000.0  1000000000  Free    0.0   Everyone 10+          Arcade   \n",
       "1873   9900000.0  1000000000  Free    0.0           Teen          Social   \n",
       "2061  10500000.0  1000000000  Free    0.0       Everyone     Photography   \n",
       "288    6100000.0  1000000000  Free    0.0       Everyone   Communication   \n",
       "2377   4100000.0  1000000000  Free    0.0       Everyone           Tools   \n",
       "2588   7000000.0  1000000000  Free    0.0       Everyone    Productivity   \n",
       "290    6100000.0  1000000000  Free    0.0       Everyone   Communication   \n",
       "292    6100000.0  1000000000  Free    0.0       Everyone   Communication   \n",
       "651   19000000.0  1000000000  Free    0.0           Teen   Entertainment   \n",
       "2290  19000000.0  1000000000  Free    0.0       Everyone  Travel & Local   \n",
       "\n",
       "     Last Updated Current Ver         Android Ver  \n",
       "1276   2018-07-12      1.90.0          4.1 and up  \n",
       "1873   2018-07-31       1.0.0  Varies with device  \n",
       "2061   2018-08-06       1.0.0  Varies with device  \n",
       "288    2018-08-03       1.0.0  Varies with device  \n",
       "2377   2018-08-03       1.0.0  Varies with device  \n",
       "2588   2018-08-06       1.0.0  Varies with device  \n",
       "290    2018-08-01       1.0.0  Varies with device  \n",
       "292    2018-08-02       1.0.0  Varies with device  \n",
       "651    2018-07-16       1.0.0  Varies with device  \n",
       "2290   2018-07-31       1.0.0  Varies with device  "
      ]
     },
     "execution_count": 24,
     "metadata": {},
     "output_type": "execute_result"
    }
   ],
   "source": [
    "# Ordenação em ordem decrescente do 'número de instalações' e, em caso de empate, em ordem decrescente de 'avaliação'\n",
    "top10_apps_mais_baixados = df.sort_values(by=['Installs', 'Rating'], ascending=[False, False]).head(10)\n",
    "top10_apps_mais_baixados"
   ]
  },
  {
   "cell_type": "code",
   "execution_count": 30,
   "id": "c717ef1c-05e8-4f6e-9615-bfe96250d31c",
   "metadata": {},
   "outputs": [
    {
     "data": {
      "image/png": "[encoded data removed]",
      "text/plain": [
       "<Figure size 720x432 with 1 Axes>"
      ]
     },
     "metadata": {},
     "output_type": "display_data"
    }
   ],
   "source": [
    "sns.barplot(data=top10_apps_mais_baixados, x='App', y='Installs')\n",
    "plt.xticks(rotation=90)\n",
    "plt.yticks([0, 0.2e9, 0.4e9, 0.6e9, 0.8e9, 1e9], ['0', '200M', '400M', '600M', '800M', '1B'])\n",
    "plt.title('Top 10 Apps mais baixados')\n",
    "plt.show()"
   ]
  },
  {
   "cell_type": "code",
   "execution_count": 32,
   "id": "9f4877c4-b619-423f-abf1-553e683df76a",
   "metadata": {},
   "outputs": [
    {
     "data": {
      "image/png": "[encoded data removed]",
      "text/plain": [
       "<Figure size 720x432 with 1 Axes>"
      ]
     },
     "metadata": {},
     "output_type": "display_data"
    }
   ],
   "source": [
    "sns.barplot(data=top10_apps_mais_baixados, x='Installs', y='App')\n",
    "plt.xticks([0, 0.2e9, 0.4e9, 0.6e9, 0.8e9, 1e9], ['0', '200M', '400M', '600M', '800M', '1B'])\n",
    "plt.title('Top 10 Apps mais baixados')\n",
    "plt.show()"
   ]
  },
  {
   "cell_type": "markdown",
   "id": "amateur-reality",
   "metadata": {},
   "source": [
    "## 2.2 Qual a quantidade de aplicativos por categoria?"
   ]
  },
  {
   "cell_type": "code",
   "execution_count": 33,
   "id": "noble-october",
   "metadata": {},
   "outputs": [
    {
     "data": {
      "text/html": [
       "<div>\n",
       "<style scoped>\n",
       "    .dataframe tbody tr th:only-of-type {\n",
       "        vertical-align: middle;\n",
       "    }\n",
       "\n",
       "    .dataframe tbody tr th {\n",
       "        vertical-align: top;\n",
       "    }\n",
       "\n",
       "    .dataframe thead th {\n",
       "        text-align: right;\n",
       "    }\n",
       "</style>\n",
       "<table border=\"1\" class=\"dataframe\">\n",
       "  <thead>\n",
       "    <tr style=\"text-align: right;\">\n",
       "      <th></th>\n",
       "      <th>App</th>\n",
       "      <th>Category</th>\n",
       "      <th>Rating</th>\n",
       "      <th>Reviews</th>\n",
       "      <th>Size</th>\n",
       "      <th>Installs</th>\n",
       "      <th>Type</th>\n",
       "      <th>Price</th>\n",
       "      <th>Content Rating</th>\n",
       "      <th>Genres</th>\n",
       "      <th>Last Updated</th>\n",
       "      <th>Current Ver</th>\n",
       "      <th>Android Ver</th>\n",
       "    </tr>\n",
       "  </thead>\n",
       "  <tbody>\n",
       "    <tr>\n",
       "      <th>0</th>\n",
       "      <td>Photo Editor &amp; Candy Camera &amp; Grid &amp; ScrapBook</td>\n",
       "      <td>ART_AND_DESIGN</td>\n",
       "      <td>4.1</td>\n",
       "      <td>159</td>\n",
       "      <td>19000000.0</td>\n",
       "      <td>10000</td>\n",
       "      <td>Free</td>\n",
       "      <td>0.0</td>\n",
       "      <td>Everyone</td>\n",
       "      <td>Art &amp; Design</td>\n",
       "      <td>2018-01-07</td>\n",
       "      <td>1.0.0</td>\n",
       "      <td>4.0.3 and up</td>\n",
       "    </tr>\n",
       "    <tr>\n",
       "      <th>1</th>\n",
       "      <td>Coloring book moana</td>\n",
       "      <td>ART_AND_DESIGN</td>\n",
       "      <td>3.9</td>\n",
       "      <td>967</td>\n",
       "      <td>14000000.0</td>\n",
       "      <td>500000</td>\n",
       "      <td>Free</td>\n",
       "      <td>0.0</td>\n",
       "      <td>Everyone</td>\n",
       "      <td>Art &amp; Design;Pretend Play</td>\n",
       "      <td>2018-01-15</td>\n",
       "      <td>2.0.0</td>\n",
       "      <td>4.0.3 and up</td>\n",
       "    </tr>\n",
       "    <tr>\n",
       "      <th>2</th>\n",
       "      <td>U Launcher Lite – FREE Live Cool Themes, Hide ...</td>\n",
       "      <td>ART_AND_DESIGN</td>\n",
       "      <td>4.7</td>\n",
       "      <td>87510</td>\n",
       "      <td>8700000.0</td>\n",
       "      <td>5000000</td>\n",
       "      <td>Free</td>\n",
       "      <td>0.0</td>\n",
       "      <td>Everyone</td>\n",
       "      <td>Art &amp; Design</td>\n",
       "      <td>2018-08-01</td>\n",
       "      <td>1.2.4</td>\n",
       "      <td>4.0.3 and up</td>\n",
       "    </tr>\n",
       "    <tr>\n",
       "      <th>3</th>\n",
       "      <td>Sketch - Draw &amp; Paint</td>\n",
       "      <td>ART_AND_DESIGN</td>\n",
       "      <td>4.5</td>\n",
       "      <td>215644</td>\n",
       "      <td>25000000.0</td>\n",
       "      <td>50000000</td>\n",
       "      <td>Free</td>\n",
       "      <td>0.0</td>\n",
       "      <td>Teen</td>\n",
       "      <td>Art &amp; Design</td>\n",
       "      <td>2018-06-08</td>\n",
       "      <td>1.0.0</td>\n",
       "      <td>4.2 and up</td>\n",
       "    </tr>\n",
       "    <tr>\n",
       "      <th>4</th>\n",
       "      <td>Pixel Draw - Number Art Coloring Book</td>\n",
       "      <td>ART_AND_DESIGN</td>\n",
       "      <td>4.3</td>\n",
       "      <td>967</td>\n",
       "      <td>2800000.0</td>\n",
       "      <td>100000</td>\n",
       "      <td>Free</td>\n",
       "      <td>0.0</td>\n",
       "      <td>Everyone</td>\n",
       "      <td>Art &amp; Design;Creativity</td>\n",
       "      <td>2018-06-20</td>\n",
       "      <td>1.1</td>\n",
       "      <td>4.4 and up</td>\n",
       "    </tr>\n",
       "  </tbody>\n",
       "</table>\n",
       "</div>"
      ],
      "text/plain": [
       "                                                 App        Category  Rating  \\\n",
       "0     Photo Editor & Candy Camera & Grid & ScrapBook  ART_AND_DESIGN     4.1   \n",
       "1                                Coloring book moana  ART_AND_DESIGN     3.9   \n",
       "2  U Launcher Lite – FREE Live Cool Themes, Hide ...  ART_AND_DESIGN     4.7   \n",
       "3                              Sketch - Draw & Paint  ART_AND_DESIGN     4.5   \n",
       "4              Pixel Draw - Number Art Coloring Book  ART_AND_DESIGN     4.3   \n",
       "\n",
       "   Reviews        Size  Installs  Type  Price Content Rating  \\\n",
       "0      159  19000000.0     10000  Free    0.0       Everyone   \n",
       "1      967  14000000.0    500000  Free    0.0       Everyone   \n",
       "2    87510   8700000.0   5000000  Free    0.0       Everyone   \n",
       "3   215644  25000000.0  50000000  Free    0.0           Teen   \n",
       "4      967   2800000.0    100000  Free    0.0       Everyone   \n",
       "\n",
       "                      Genres Last Updated Current Ver   Android Ver  \n",
       "0               Art & Design   2018-01-07       1.0.0  4.0.3 and up  \n",
       "1  Art & Design;Pretend Play   2018-01-15       2.0.0  4.0.3 and up  \n",
       "2               Art & Design   2018-08-01       1.2.4  4.0.3 and up  \n",
       "3               Art & Design   2018-06-08       1.0.0    4.2 and up  \n",
       "4    Art & Design;Creativity   2018-06-20         1.1    4.4 and up  "
      ]
     },
     "execution_count": 33,
     "metadata": {},
     "output_type": "execute_result"
    }
   ],
   "source": [
    "df.head()"
   ]
  },
  {
   "cell_type": "code",
   "execution_count": 36,
   "id": "74a3b798-8f91-416a-babe-b070d0d4d755",
   "metadata": {},
   "outputs": [
    {
     "data": {
      "text/plain": [
       "Category \n",
       "FAMILY       1608\n",
       "GAME          912\n",
       "TOOLS         718\n",
       "FINANCE       302\n",
       "LIFESTYLE     301\n",
       "dtype: int64"
      ]
     },
     "execution_count": 36,
     "metadata": {},
     "output_type": "execute_result"
    }
   ],
   "source": [
    "df.value_counts(subset=['Category'])[:5]"
   ]
  },
  {
   "cell_type": "code",
   "execution_count": 40,
   "id": "381e7c1e-5c11-433a-aa79-d91a2686962b",
   "metadata": {},
   "outputs": [
    {
     "data": {
      "image/png": "[encoded data removed]",
      "text/plain": [
       "<Figure size 720x432 with 1 Axes>"
      ]
     },
     "metadata": {},
     "output_type": "display_data"
    }
   ],
   "source": [
    "sns.countplot(data=df, x='Category')\n",
    "plt.xticks(rotation=90)\n",
    "plt.xlabel('Categoria')\n",
    "plt.ylabel('Quantidade de Apps')\n",
    "plt.title('Quantidade de Apps por categoria')\n",
    "plt.show()"
   ]
  },
  {
   "cell_type": "code",
   "execution_count": 45,
   "id": "123c51f9-29af-4b87-aef3-6c0778de92f1",
   "metadata": {},
   "outputs": [
    {
     "data": {
      "image/png": "[encoded data removed]",
      "text/plain": [
       "<Figure size 1440x720 with 1 Axes>"
      ]
     },
     "metadata": {},
     "output_type": "display_data"
    }
   ],
   "source": [
    "plt.figure(figsize=(20,10))\n",
    "\n",
    "sns.countplot(data=df, y='Category')\n",
    "plt.xlabel('Quantidade de Apps')\n",
    "plt.ylabel('Categoria')\n",
    "plt.title('Quantidade de Apps por categoria')\n",
    "\n",
    "plt.show()"
   ]
  },
  {
   "cell_type": "markdown",
   "id": "caring-package",
   "metadata": {},
   "source": [
    "A distribuição das barras não está **ordenada**. Para ordená-las:"
   ]
  },
  {
   "cell_type": "code",
   "execution_count": 117,
   "id": "aa6c98fc-4711-4578-af92-67ac41629d1b",
   "metadata": {},
   "outputs": [
    {
     "data": {
      "text/plain": [
       "Index(['FAMILY', 'GAME', 'TOOLS', 'FINANCE', 'PRODUCTIVITY', 'LIFESTYLE',\n",
       "       'PERSONALIZATION', 'MEDICAL', 'BUSINESS', 'PHOTOGRAPHY', 'SPORTS',\n",
       "       'COMMUNICATION', 'HEALTH_AND_FITNESS', 'NEWS_AND_MAGAZINES', 'SOCIAL',\n",
       "       'TRAVEL_AND_LOCAL', 'SHOPPING', 'BOOKS_AND_REFERENCE', 'VIDEO_PLAYERS',\n",
       "       'DATING', 'MAPS_AND_NAVIGATION', 'EDUCATION', 'ENTERTAINMENT',\n",
       "       'FOOD_AND_DRINK', 'AUTO_AND_VEHICLES', 'WEATHER', 'LIBRARIES_AND_DEMO',\n",
       "       'HOUSE_AND_HOME', 'ART_AND_DESIGN', 'COMICS', 'PARENTING', 'EVENTS',\n",
       "       'BEAUTY'],\n",
       "      dtype='object')"
      ]
     },
     "execution_count": 117,
     "metadata": {},
     "output_type": "execute_result"
    }
   ],
   "source": [
    "order = df['Category'].value_counts().index\n",
    "order"
   ]
  },
  {
   "cell_type": "code",
   "execution_count": 119,
   "id": "76ee13f1-7dea-4e15-8348-804b92ed43a8",
   "metadata": {},
   "outputs": [
    {
     "data": {
      "image/png": "[encoded data removed]",
      "text/plain": [
       "<Figure size 1440x720 with 1 Axes>"
      ]
     },
     "metadata": {},
     "output_type": "display_data"
    }
   ],
   "source": [
    "plt.figure(figsize=(20,10))\n",
    "\n",
    "sns.countplot(data=df, y='Category', order=order)\n",
    "plt.xlabel('Quantidade de Apps')\n",
    "plt.ylabel('Categoria')\n",
    "plt.title('Quantidade de Apps por categoria')\n",
    "\n",
    "plt.show()"
   ]
  },
  {
   "cell_type": "markdown",
   "id": "respiratory-magnitude",
   "metadata": {},
   "source": [
    "As cores ilustradas no plot _não tem quaisquer significado_ (nenhuma variável foi codificado usando cor)."
   ]
  },
  {
   "cell_type": "markdown",
   "id": "occupied-tobacco",
   "metadata": {},
   "source": [
    "## 2.3 Como se comportam as avaliações dos aplicativos? (tendências centrais, distribuição, etc)"
   ]
  },
  {
   "cell_type": "code",
   "execution_count": 62,
   "id": "graphic-proxy",
   "metadata": {},
   "outputs": [
    {
     "data": {
      "text/html": [
       "<div>\n",
       "<style scoped>\n",
       "    .dataframe tbody tr th:only-of-type {\n",
       "        vertical-align: middle;\n",
       "    }\n",
       "\n",
       "    .dataframe tbody tr th {\n",
       "        vertical-align: top;\n",
       "    }\n",
       "\n",
       "    .dataframe thead th {\n",
       "        text-align: right;\n",
       "    }\n",
       "</style>\n",
       "<table border=\"1\" class=\"dataframe\">\n",
       "  <thead>\n",
       "    <tr style=\"text-align: right;\">\n",
       "      <th></th>\n",
       "      <th>Rating</th>\n",
       "      <th>Reviews</th>\n",
       "      <th>Size</th>\n",
       "      <th>Installs</th>\n",
       "      <th>Price</th>\n",
       "    </tr>\n",
       "  </thead>\n",
       "  <tbody>\n",
       "    <tr>\n",
       "      <th>count</th>\n",
       "      <td>8194.000000</td>\n",
       "      <td>8.194000e+03</td>\n",
       "      <td>8.194000e+03</td>\n",
       "      <td>8.194000e+03</td>\n",
       "      <td>8194.000000</td>\n",
       "    </tr>\n",
       "    <tr>\n",
       "      <th>mean</th>\n",
       "      <td>4.173175</td>\n",
       "      <td>2.553137e+05</td>\n",
       "      <td>2.069274e+07</td>\n",
       "      <td>9.167325e+06</td>\n",
       "      <td>1.037956</td>\n",
       "    </tr>\n",
       "    <tr>\n",
       "      <th>std</th>\n",
       "      <td>0.536672</td>\n",
       "      <td>1.985832e+06</td>\n",
       "      <td>2.150960e+07</td>\n",
       "      <td>5.825780e+07</td>\n",
       "      <td>16.859934</td>\n",
       "    </tr>\n",
       "    <tr>\n",
       "      <th>min</th>\n",
       "      <td>1.000000</td>\n",
       "      <td>1.000000e+00</td>\n",
       "      <td>8.500000e+03</td>\n",
       "      <td>1.000000e+00</td>\n",
       "      <td>0.000000</td>\n",
       "    </tr>\n",
       "    <tr>\n",
       "      <th>25%</th>\n",
       "      <td>4.000000</td>\n",
       "      <td>1.260000e+02</td>\n",
       "      <td>5.500000e+06</td>\n",
       "      <td>1.000000e+04</td>\n",
       "      <td>0.000000</td>\n",
       "    </tr>\n",
       "    <tr>\n",
       "      <th>50%</th>\n",
       "      <td>4.300000</td>\n",
       "      <td>3.009500e+03</td>\n",
       "      <td>1.250000e+07</td>\n",
       "      <td>1.000000e+05</td>\n",
       "      <td>0.000000</td>\n",
       "    </tr>\n",
       "    <tr>\n",
       "      <th>75%</th>\n",
       "      <td>4.500000</td>\n",
       "      <td>4.383900e+04</td>\n",
       "      <td>2.800000e+07</td>\n",
       "      <td>1.000000e+06</td>\n",
       "      <td>0.000000</td>\n",
       "    </tr>\n",
       "    <tr>\n",
       "      <th>max</th>\n",
       "      <td>5.000000</td>\n",
       "      <td>7.815831e+07</td>\n",
       "      <td>1.000000e+08</td>\n",
       "      <td>1.000000e+09</td>\n",
       "      <td>400.000000</td>\n",
       "    </tr>\n",
       "  </tbody>\n",
       "</table>\n",
       "</div>"
      ],
      "text/plain": [
       "            Rating       Reviews          Size      Installs        Price\n",
       "count  8194.000000  8.194000e+03  8.194000e+03  8.194000e+03  8194.000000\n",
       "mean      4.173175  2.553137e+05  2.069274e+07  9.167325e+06     1.037956\n",
       "std       0.536672  1.985832e+06  2.150960e+07  5.825780e+07    16.859934\n",
       "min       1.000000  1.000000e+00  8.500000e+03  1.000000e+00     0.000000\n",
       "25%       4.000000  1.260000e+02  5.500000e+06  1.000000e+04     0.000000\n",
       "50%       4.300000  3.009500e+03  1.250000e+07  1.000000e+05     0.000000\n",
       "75%       4.500000  4.383900e+04  2.800000e+07  1.000000e+06     0.000000\n",
       "max       5.000000  7.815831e+07  1.000000e+08  1.000000e+09   400.000000"
      ]
     },
     "execution_count": 62,
     "metadata": {},
     "output_type": "execute_result"
    }
   ],
   "source": [
    "stats = df.describe()\n",
    "stats"
   ]
  },
  {
   "cell_type": "code",
   "execution_count": 59,
   "id": "02ba154d-ae9a-4757-b97b-1ad0d49817ea",
   "metadata": {},
   "outputs": [
    {
     "data": {
      "text/plain": [
       "Rating      4.173175e+00\n",
       "Reviews     2.553137e+05\n",
       "Size        2.069274e+07\n",
       "Installs    9.167325e+06\n",
       "Price       1.037956e+00\n",
       "dtype: float64"
      ]
     },
     "execution_count": 59,
     "metadata": {},
     "output_type": "execute_result"
    }
   ],
   "source": [
    "df.mean()"
   ]
  },
  {
   "cell_type": "code",
   "execution_count": 60,
   "id": "9f40f653-7859-4244-b5a3-4d9ce3b729ca",
   "metadata": {},
   "outputs": [
    {
     "data": {
      "text/plain": [
       "Rating             4.3\n",
       "Reviews         3009.5\n",
       "Size        12500000.0\n",
       "Installs      100000.0\n",
       "Price              0.0\n",
       "dtype: float64"
      ]
     },
     "execution_count": 60,
     "metadata": {},
     "output_type": "execute_result"
    }
   ],
   "source": [
    "df.median()"
   ]
  },
  {
   "cell_type": "code",
   "execution_count": 61,
   "id": "56c3b50a-456f-4bde-807b-c534802121b9",
   "metadata": {},
   "outputs": [
    {
     "data": {
      "text/plain": [
       "Rating             4.5\n",
       "Reviews        43839.0\n",
       "Size        28000000.0\n",
       "Installs     1000000.0\n",
       "Price              0.0\n",
       "Name: 0.75, dtype: float64"
      ]
     },
     "execution_count": 61,
     "metadata": {},
     "output_type": "execute_result"
    }
   ],
   "source": [
    "df.quantile(0.75)"
   ]
  },
  {
   "cell_type": "code",
   "execution_count": 58,
   "id": "delayed-dominant",
   "metadata": {},
   "outputs": [
    {
     "data": {
      "text/plain": [
       "count    8194.000000\n",
       "mean        4.173175\n",
       "std         0.536672\n",
       "min         1.000000\n",
       "25%         4.000000\n",
       "50%         4.300000\n",
       "75%         4.500000\n",
       "max         5.000000\n",
       "Name: Rating, dtype: float64"
      ]
     },
     "execution_count": 58,
     "metadata": {},
     "output_type": "execute_result"
    }
   ],
   "source": [
    "df['Rating'].describe()"
   ]
  },
  {
   "cell_type": "code",
   "execution_count": 68,
   "id": "impressed-receiver",
   "metadata": {},
   "outputs": [
    {
     "name": "stdout",
     "output_type": "stream",
     "text": [
      "A nota média (avaliação) dos aplicativos é de 4.17 +- 0.54\n",
      "A média das availações é de 4.3\n"
     ]
    }
   ],
   "source": [
    "print(f\"A nota média (avaliação) dos aplicativos é de {stats.loc['mean', 'Rating']:.2f} +- {stats.loc['std', 'Rating']:.2f}\")\n",
    "print(f\"A média das availações é de {stats.loc['50%', 'Rating']}\")"
   ]
  },
  {
   "cell_type": "markdown",
   "id": "august-blame",
   "metadata": {},
   "source": [
    "Note que a **média** e a **mediana** não estão muito longe e que o **desvio padrão** não é tão alto. Tudo isso indica (em números) que a dispersão de notas/avaliações dos aplitativos não é tão grande."
   ]
  },
  {
   "cell_type": "markdown",
   "id": "square-debate",
   "metadata": {},
   "source": [
    "### HISTOGRAMA"
   ]
  },
  {
   "cell_type": "code",
   "execution_count": 72,
   "id": "local-roommate",
   "metadata": {},
   "outputs": [
    {
     "data": {
      "image/png": "[encoded data removed]",
      "text/plain": [
       "<Figure size 720x432 with 1 Axes>"
      ]
     },
     "metadata": {},
     "output_type": "display_data"
    }
   ],
   "source": [
    "sns.histplot(data=df, x='Rating', kde=True)\n",
    "plt.xlabel('Avaliações (notas)')\n",
    "plt.ylabel('Contagem')\n",
    "plt.title('Histograma das avaliações de todos os aplicativos', fontsize=20)\n",
    "\n",
    "plt.show()"
   ]
  },
  {
   "cell_type": "markdown",
   "id": "hidden-integration",
   "metadata": {},
   "source": [
    "A **distribuição das avaliações** tem semelhanças com um _distribuição normal_ enviesada para à esquerda (skewed left distribution). <br/>\n",
    "\n",
    "Apenas olhando este gráfico podemos notar que a grande maioria das avaliações estão no intervalo entre 4.0 e 5.0."
   ]
  },
  {
   "cell_type": "markdown",
   "id": "assisted-gabriel",
   "metadata": {},
   "source": [
    "### BOXPLOT"
   ]
  },
  {
   "cell_type": "code",
   "execution_count": 75,
   "id": "green-functionality",
   "metadata": {},
   "outputs": [
    {
     "data": {
      "text/html": [
       "<div>\n",
       "<style scoped>\n",
       "    .dataframe tbody tr th:only-of-type {\n",
       "        vertical-align: middle;\n",
       "    }\n",
       "\n",
       "    .dataframe tbody tr th {\n",
       "        vertical-align: top;\n",
       "    }\n",
       "\n",
       "    .dataframe thead th {\n",
       "        text-align: right;\n",
       "    }\n",
       "</style>\n",
       "<table border=\"1\" class=\"dataframe\">\n",
       "  <thead>\n",
       "    <tr style=\"text-align: right;\">\n",
       "      <th></th>\n",
       "      <th>Rating</th>\n",
       "    </tr>\n",
       "  </thead>\n",
       "  <tbody>\n",
       "    <tr>\n",
       "      <th>count</th>\n",
       "      <td>8194.000000</td>\n",
       "    </tr>\n",
       "    <tr>\n",
       "      <th>mean</th>\n",
       "      <td>4.173175</td>\n",
       "    </tr>\n",
       "    <tr>\n",
       "      <th>std</th>\n",
       "      <td>0.536672</td>\n",
       "    </tr>\n",
       "    <tr>\n",
       "      <th>min</th>\n",
       "      <td>1.000000</td>\n",
       "    </tr>\n",
       "    <tr>\n",
       "      <th>25%</th>\n",
       "      <td>4.000000</td>\n",
       "    </tr>\n",
       "    <tr>\n",
       "      <th>50%</th>\n",
       "      <td>4.300000</td>\n",
       "    </tr>\n",
       "    <tr>\n",
       "      <th>75%</th>\n",
       "      <td>4.500000</td>\n",
       "    </tr>\n",
       "    <tr>\n",
       "      <th>max</th>\n",
       "      <td>5.000000</td>\n",
       "    </tr>\n",
       "  </tbody>\n",
       "</table>\n",
       "</div>"
      ],
      "text/plain": [
       "            Rating\n",
       "count  8194.000000\n",
       "mean      4.173175\n",
       "std       0.536672\n",
       "min       1.000000\n",
       "25%       4.000000\n",
       "50%       4.300000\n",
       "75%       4.500000\n",
       "max       5.000000"
      ]
     },
     "execution_count": 75,
     "metadata": {},
     "output_type": "execute_result"
    }
   ],
   "source": [
    "stats[['Rating']]"
   ]
  },
  {
   "cell_type": "code",
   "execution_count": 84,
   "id": "incorporate-stake",
   "metadata": {},
   "outputs": [
    {
     "data": {
      "image/png": "[encoded data removed]",
      "text/plain": [
       "<Figure size 1440x432 with 1 Axes>"
      ]
     },
     "metadata": {},
     "output_type": "display_data"
    }
   ],
   "source": [
    "plt.figure(figsize=(20,6))\n",
    "\n",
    "sns.boxplot(data=df, x='Rating')\n",
    "plt.xticks(np.arange(0, 5.1, 0.25))\n",
    "\n",
    "plt.show()"
   ]
  },
  {
   "cell_type": "markdown",
   "id": "genuine-money",
   "metadata": {},
   "source": [
    "Pelo boxplot, é possível enxergar que 50% dos dados estão entre as avaliações 4.0 (Q1) e 4.5 (Q3), confirmando os resultados vindos do método `.describe()`.\n",
    "\n",
    "Por outro lado, ele interpretou que os aplicativos com avaliações _menores do que 3.25_ são ***outliers*** da distribuição. <br/>\n",
    "Entretanto, é comum termos aplicativos mal avaliados (na média). Assim sendo, a inclusão destes aplicativos na análise é relevante."
   ]
  },
  {
   "cell_type": "code",
   "execution_count": 85,
   "id": "adjustable-roberts",
   "metadata": {},
   "outputs": [
    {
     "data": {
      "text/html": [
       "<div>\n",
       "<style scoped>\n",
       "    .dataframe tbody tr th:only-of-type {\n",
       "        vertical-align: middle;\n",
       "    }\n",
       "\n",
       "    .dataframe tbody tr th {\n",
       "        vertical-align: top;\n",
       "    }\n",
       "\n",
       "    .dataframe thead th {\n",
       "        text-align: right;\n",
       "    }\n",
       "</style>\n",
       "<table border=\"1\" class=\"dataframe\">\n",
       "  <thead>\n",
       "    <tr style=\"text-align: right;\">\n",
       "      <th></th>\n",
       "      <th>App</th>\n",
       "      <th>Category</th>\n",
       "      <th>Rating</th>\n",
       "      <th>Reviews</th>\n",
       "      <th>Size</th>\n",
       "      <th>Installs</th>\n",
       "      <th>Type</th>\n",
       "      <th>Price</th>\n",
       "      <th>Content Rating</th>\n",
       "      <th>Genres</th>\n",
       "      <th>Last Updated</th>\n",
       "      <th>Current Ver</th>\n",
       "      <th>Android Ver</th>\n",
       "    </tr>\n",
       "  </thead>\n",
       "  <tbody>\n",
       "    <tr>\n",
       "      <th>15</th>\n",
       "      <td>Learn To Draw Kawaii Characters</td>\n",
       "      <td>ART_AND_DESIGN</td>\n",
       "      <td>3.2</td>\n",
       "      <td>55</td>\n",
       "      <td>2700000.0</td>\n",
       "      <td>5000</td>\n",
       "      <td>Free</td>\n",
       "      <td>0.0</td>\n",
       "      <td>Everyone</td>\n",
       "      <td>Art &amp; Design</td>\n",
       "      <td>2018-06-06</td>\n",
       "      <td>1.0.0</td>\n",
       "      <td>4.2 and up</td>\n",
       "    </tr>\n",
       "    <tr>\n",
       "      <th>86</th>\n",
       "      <td>RST - Sale of cars on the PCT</td>\n",
       "      <td>AUTO_AND_VEHICLES</td>\n",
       "      <td>3.2</td>\n",
       "      <td>250</td>\n",
       "      <td>1100000.0</td>\n",
       "      <td>100000</td>\n",
       "      <td>Free</td>\n",
       "      <td>0.0</td>\n",
       "      <td>Everyone</td>\n",
       "      <td>Auto &amp; Vehicles</td>\n",
       "      <td>2018-04-27</td>\n",
       "      <td>1.4</td>\n",
       "      <td>4.0.3 and up</td>\n",
       "    </tr>\n",
       "    <tr>\n",
       "      <th>199</th>\n",
       "      <td>Plugin:AOT v5.0</td>\n",
       "      <td>BUSINESS</td>\n",
       "      <td>3.1</td>\n",
       "      <td>4034</td>\n",
       "      <td>23000.0</td>\n",
       "      <td>100000</td>\n",
       "      <td>Free</td>\n",
       "      <td>0.0</td>\n",
       "      <td>Everyone</td>\n",
       "      <td>Business</td>\n",
       "      <td>2015-09-11</td>\n",
       "      <td>3.0.1.11 (Build 311)</td>\n",
       "      <td>2.2 and up</td>\n",
       "    </tr>\n",
       "    <tr>\n",
       "      <th>264</th>\n",
       "      <td>comico Popular Original Cartoon Updated Everyd...</td>\n",
       "      <td>COMICS</td>\n",
       "      <td>3.2</td>\n",
       "      <td>93965</td>\n",
       "      <td>15000000.0</td>\n",
       "      <td>5000000</td>\n",
       "      <td>Free</td>\n",
       "      <td>0.0</td>\n",
       "      <td>Teen</td>\n",
       "      <td>Comics</td>\n",
       "      <td>2018-07-03</td>\n",
       "      <td>6.3.0</td>\n",
       "      <td>4.0.3 and up</td>\n",
       "    </tr>\n",
       "    <tr>\n",
       "      <th>265</th>\n",
       "      <td>Daily Manga - Comic &amp; Webtoon</td>\n",
       "      <td>COMICS</td>\n",
       "      <td>3.2</td>\n",
       "      <td>1446</td>\n",
       "      <td>7100000.0</td>\n",
       "      <td>100000</td>\n",
       "      <td>Free</td>\n",
       "      <td>0.0</td>\n",
       "      <td>Mature 17+</td>\n",
       "      <td>Comics</td>\n",
       "      <td>2018-05-18</td>\n",
       "      <td>1.0</td>\n",
       "      <td>4.0.3 and up</td>\n",
       "    </tr>\n",
       "    <tr>\n",
       "      <th>...</th>\n",
       "      <td>...</td>\n",
       "      <td>...</td>\n",
       "      <td>...</td>\n",
       "      <td>...</td>\n",
       "      <td>...</td>\n",
       "      <td>...</td>\n",
       "      <td>...</td>\n",
       "      <td>...</td>\n",
       "      <td>...</td>\n",
       "      <td>...</td>\n",
       "      <td>...</td>\n",
       "      <td>...</td>\n",
       "      <td>...</td>\n",
       "    </tr>\n",
       "    <tr>\n",
       "      <th>8056</th>\n",
       "      <td>Florida Blue</td>\n",
       "      <td>HEALTH_AND_FITNESS</td>\n",
       "      <td>3.2</td>\n",
       "      <td>499</td>\n",
       "      <td>34000000.0</td>\n",
       "      <td>100000</td>\n",
       "      <td>Free</td>\n",
       "      <td>0.0</td>\n",
       "      <td>Everyone</td>\n",
       "      <td>Health &amp; Fitness</td>\n",
       "      <td>2018-07-10</td>\n",
       "      <td>4.2.1</td>\n",
       "      <td>7.0 and up</td>\n",
       "    </tr>\n",
       "    <tr>\n",
       "      <th>8078</th>\n",
       "      <td>SB · FN 1870 Mobile Banking</td>\n",
       "      <td>FINANCE</td>\n",
       "      <td>2.9</td>\n",
       "      <td>139</td>\n",
       "      <td>3300000.0</td>\n",
       "      <td>10000</td>\n",
       "      <td>Free</td>\n",
       "      <td>0.0</td>\n",
       "      <td>Everyone</td>\n",
       "      <td>Finance</td>\n",
       "      <td>2017-06-19</td>\n",
       "      <td>3.0.5</td>\n",
       "      <td>4.0 and up</td>\n",
       "    </tr>\n",
       "    <tr>\n",
       "      <th>8084</th>\n",
       "      <td>Pint - FN Theme</td>\n",
       "      <td>PERSONALIZATION</td>\n",
       "      <td>2.5</td>\n",
       "      <td>6</td>\n",
       "      <td>234000.0</td>\n",
       "      <td>100</td>\n",
       "      <td>Free</td>\n",
       "      <td>0.0</td>\n",
       "      <td>Everyone</td>\n",
       "      <td>Personalization</td>\n",
       "      <td>2013-08-10</td>\n",
       "      <td>1.0</td>\n",
       "      <td>2.2 and up</td>\n",
       "    </tr>\n",
       "    <tr>\n",
       "      <th>8138</th>\n",
       "      <td>Fisher-Price® Smart Connect™</td>\n",
       "      <td>TOOLS</td>\n",
       "      <td>2.7</td>\n",
       "      <td>422</td>\n",
       "      <td>72000000.0</td>\n",
       "      <td>50000</td>\n",
       "      <td>Free</td>\n",
       "      <td>0.0</td>\n",
       "      <td>Everyone</td>\n",
       "      <td>Tools</td>\n",
       "      <td>2018-02-23</td>\n",
       "      <td>2.4.1</td>\n",
       "      <td>4.4 and up</td>\n",
       "    </tr>\n",
       "    <tr>\n",
       "      <th>8143</th>\n",
       "      <td>FreedomPop Diagnostics</td>\n",
       "      <td>TOOLS</td>\n",
       "      <td>2.9</td>\n",
       "      <td>452</td>\n",
       "      <td>7000000.0</td>\n",
       "      <td>100000</td>\n",
       "      <td>Free</td>\n",
       "      <td>0.0</td>\n",
       "      <td>Everyone</td>\n",
       "      <td>Tools</td>\n",
       "      <td>2017-07-17</td>\n",
       "      <td>1.03.123.0713</td>\n",
       "      <td>4.0.3 and up</td>\n",
       "    </tr>\n",
       "  </tbody>\n",
       "</table>\n",
       "<p>492 rows × 13 columns</p>\n",
       "</div>"
      ],
      "text/plain": [
       "                                                    App            Category  \\\n",
       "15                      Learn To Draw Kawaii Characters      ART_AND_DESIGN   \n",
       "86                        RST - Sale of cars on the PCT   AUTO_AND_VEHICLES   \n",
       "199                                     Plugin:AOT v5.0            BUSINESS   \n",
       "264   comico Popular Original Cartoon Updated Everyd...              COMICS   \n",
       "265                       Daily Manga - Comic & Webtoon              COMICS   \n",
       "...                                                 ...                 ...   \n",
       "8056                                       Florida Blue  HEALTH_AND_FITNESS   \n",
       "8078                        SB · FN 1870 Mobile Banking             FINANCE   \n",
       "8084                                    Pint - FN Theme     PERSONALIZATION   \n",
       "8138                       Fisher-Price® Smart Connect™               TOOLS   \n",
       "8143                             FreedomPop Diagnostics               TOOLS   \n",
       "\n",
       "      Rating  Reviews        Size  Installs  Type  Price Content Rating  \\\n",
       "15       3.2       55   2700000.0      5000  Free    0.0       Everyone   \n",
       "86       3.2      250   1100000.0    100000  Free    0.0       Everyone   \n",
       "199      3.1     4034     23000.0    100000  Free    0.0       Everyone   \n",
       "264      3.2    93965  15000000.0   5000000  Free    0.0           Teen   \n",
       "265      3.2     1446   7100000.0    100000  Free    0.0     Mature 17+   \n",
       "...      ...      ...         ...       ...   ...    ...            ...   \n",
       "8056     3.2      499  34000000.0    100000  Free    0.0       Everyone   \n",
       "8078     2.9      139   3300000.0     10000  Free    0.0       Everyone   \n",
       "8084     2.5        6    234000.0       100  Free    0.0       Everyone   \n",
       "8138     2.7      422  72000000.0     50000  Free    0.0       Everyone   \n",
       "8143     2.9      452   7000000.0    100000  Free    0.0       Everyone   \n",
       "\n",
       "                Genres Last Updated           Current Ver   Android Ver  \n",
       "15        Art & Design   2018-06-06                 1.0.0    4.2 and up  \n",
       "86     Auto & Vehicles   2018-04-27                   1.4  4.0.3 and up  \n",
       "199           Business   2015-09-11  3.0.1.11 (Build 311)    2.2 and up  \n",
       "264             Comics   2018-07-03                 6.3.0  4.0.3 and up  \n",
       "265             Comics   2018-05-18                   1.0  4.0.3 and up  \n",
       "...                ...          ...                   ...           ...  \n",
       "8056  Health & Fitness   2018-07-10                 4.2.1    7.0 and up  \n",
       "8078           Finance   2017-06-19                 3.0.5    4.0 and up  \n",
       "8084   Personalization   2013-08-10                   1.0    2.2 and up  \n",
       "8138             Tools   2018-02-23                 2.4.1    4.4 and up  \n",
       "8143             Tools   2017-07-17         1.03.123.0713  4.0.3 and up  \n",
       "\n",
       "[492 rows x 13 columns]"
      ]
     },
     "execution_count": 85,
     "metadata": {},
     "output_type": "execute_result"
    }
   ],
   "source": [
    "apps_com_rating_leq_3_25 = df.query('Rating <= 3.25')\n",
    "apps_com_rating_leq_3_25"
   ]
  },
  {
   "cell_type": "code",
   "execution_count": 88,
   "id": "pursuant-nurse",
   "metadata": {},
   "outputs": [
    {
     "data": {
      "text/plain": [
       "6.004393458628265"
      ]
     },
     "execution_count": 88,
     "metadata": {},
     "output_type": "execute_result"
    }
   ],
   "source": [
    "(apps_com_rating_leq_3_25.shape[0] / df.shape[0]) * 100"
   ]
  },
  {
   "cell_type": "markdown",
   "id": "engaged-promotion",
   "metadata": {},
   "source": [
    "<br/>\n",
    "\n",
    "O boxplot do seaborn identifica outliers usando o método de detecção via IQR. Para tanto, ele considera como **outlier** qualquer valor fora do intervalo **\\[Q1 - 1.5\\*IQR, Q3 + 1.5\\*IQR\\]**. Podemos controlar o fator **1.5** alterando o parâmetro `whis`. <br/>\n",
    "\n",
    "Se quisermos, por exemplo, que o boxplot não tenha _outliers_, basta passar um valor alto para o `whis`."
   ]
  },
  {
   "cell_type": "code",
   "execution_count": 89,
   "id": "7f30577c-8137-4c32-ab49-06879b6760e9",
   "metadata": {},
   "outputs": [
    {
     "data": {
      "image/png": "[encoded data removed]",
      "text/plain": [
       "<Figure size 1440x432 with 1 Axes>"
      ]
     },
     "metadata": {},
     "output_type": "display_data"
    }
   ],
   "source": [
    "plt.figure(figsize=(20,6))\n",
    "\n",
    "sns.boxplot(data=df, x='Rating', whis=10)\n",
    "plt.xticks(np.arange(0, 5.1, 0.25))\n",
    "\n",
    "plt.show()"
   ]
  },
  {
   "cell_type": "markdown",
   "id": "weighted-aggregate",
   "metadata": {},
   "source": [
    "### VIOLIN PLOT"
   ]
  },
  {
   "cell_type": "code",
   "execution_count": 97,
   "id": "79af7cb0-b674-425c-9039-e19141b76bbf",
   "metadata": {},
   "outputs": [
    {
     "data": {
      "image/png": "[encoded data removed]",
      "text/plain": [
       "<Figure size 1440x432 with 1 Axes>"
      ]
     },
     "metadata": {},
     "output_type": "display_data"
    }
   ],
   "source": [
    "plt.figure(figsize=(20,6))\n",
    "\n",
    "sns.violinplot(data=df, x='Rating')\n",
    "plt.xticks(np.arange(0, 5.1, 0.25))\n",
    "\n",
    "plt.show()"
   ]
  },
  {
   "cell_type": "markdown",
   "id": "legislative-chest",
   "metadata": {},
   "source": [
    "O _violin plot_ nos dá uma noção mais precisa de como os dados estão distribuídos, principalmente, entre os quartis."
   ]
  },
  {
   "cell_type": "markdown",
   "id": "reverse-chester",
   "metadata": {},
   "source": [
    "## 2.4 Qual categoria é a melhor avaliada?"
   ]
  },
  {
   "cell_type": "code",
   "execution_count": 101,
   "id": "thousand-forge",
   "metadata": {},
   "outputs": [
    {
     "data": {
      "text/html": [
       "<div>\n",
       "<style scoped>\n",
       "    .dataframe tbody tr th:only-of-type {\n",
       "        vertical-align: middle;\n",
       "    }\n",
       "\n",
       "    .dataframe tbody tr th {\n",
       "        vertical-align: top;\n",
       "    }\n",
       "\n",
       "    .dataframe thead th {\n",
       "        text-align: right;\n",
       "    }\n",
       "</style>\n",
       "<table border=\"1\" class=\"dataframe\">\n",
       "  <thead>\n",
       "    <tr style=\"text-align: right;\">\n",
       "      <th></th>\n",
       "      <th>count</th>\n",
       "      <th>mean</th>\n",
       "      <th>std</th>\n",
       "      <th>min</th>\n",
       "      <th>25%</th>\n",
       "      <th>50%</th>\n",
       "      <th>75%</th>\n",
       "      <th>max</th>\n",
       "    </tr>\n",
       "    <tr>\n",
       "      <th>Category</th>\n",
       "      <th></th>\n",
       "      <th></th>\n",
       "      <th></th>\n",
       "      <th></th>\n",
       "      <th></th>\n",
       "      <th></th>\n",
       "      <th></th>\n",
       "      <th></th>\n",
       "    </tr>\n",
       "  </thead>\n",
       "  <tbody>\n",
       "    <tr>\n",
       "      <th>ART_AND_DESIGN</th>\n",
       "      <td>61.0</td>\n",
       "      <td>4.357377</td>\n",
       "      <td>0.361229</td>\n",
       "      <td>3.2</td>\n",
       "      <td>4.100</td>\n",
       "      <td>4.4</td>\n",
       "      <td>4.700</td>\n",
       "      <td>5.0</td>\n",
       "    </tr>\n",
       "    <tr>\n",
       "      <th>AUTO_AND_VEHICLES</th>\n",
       "      <td>73.0</td>\n",
       "      <td>4.190411</td>\n",
       "      <td>0.543692</td>\n",
       "      <td>2.1</td>\n",
       "      <td>4.000</td>\n",
       "      <td>4.3</td>\n",
       "      <td>4.600</td>\n",
       "      <td>4.9</td>\n",
       "    </tr>\n",
       "    <tr>\n",
       "      <th>BEAUTY</th>\n",
       "      <td>42.0</td>\n",
       "      <td>4.278571</td>\n",
       "      <td>0.362603</td>\n",
       "      <td>3.1</td>\n",
       "      <td>4.000</td>\n",
       "      <td>4.3</td>\n",
       "      <td>4.575</td>\n",
       "      <td>4.9</td>\n",
       "    </tr>\n",
       "    <tr>\n",
       "      <th>BOOKS_AND_REFERENCE</th>\n",
       "      <td>169.0</td>\n",
       "      <td>4.344970</td>\n",
       "      <td>0.437649</td>\n",
       "      <td>2.7</td>\n",
       "      <td>4.100</td>\n",
       "      <td>4.5</td>\n",
       "      <td>4.600</td>\n",
       "      <td>5.0</td>\n",
       "    </tr>\n",
       "    <tr>\n",
       "      <th>BUSINESS</th>\n",
       "      <td>263.0</td>\n",
       "      <td>4.098479</td>\n",
       "      <td>0.659862</td>\n",
       "      <td>1.0</td>\n",
       "      <td>3.800</td>\n",
       "      <td>4.2</td>\n",
       "      <td>4.500</td>\n",
       "      <td>5.0</td>\n",
       "    </tr>\n",
       "    <tr>\n",
       "      <th>COMICS</th>\n",
       "      <td>54.0</td>\n",
       "      <td>4.181481</td>\n",
       "      <td>0.526317</td>\n",
       "      <td>2.8</td>\n",
       "      <td>3.900</td>\n",
       "      <td>4.4</td>\n",
       "      <td>4.500</td>\n",
       "      <td>5.0</td>\n",
       "    </tr>\n",
       "    <tr>\n",
       "      <th>COMMUNICATION</th>\n",
       "      <td>256.0</td>\n",
       "      <td>4.121484</td>\n",
       "      <td>0.470260</td>\n",
       "      <td>1.0</td>\n",
       "      <td>4.000</td>\n",
       "      <td>4.2</td>\n",
       "      <td>4.400</td>\n",
       "      <td>5.0</td>\n",
       "    </tr>\n",
       "    <tr>\n",
       "      <th>DATING</th>\n",
       "      <td>134.0</td>\n",
       "      <td>3.970149</td>\n",
       "      <td>0.637786</td>\n",
       "      <td>1.0</td>\n",
       "      <td>3.600</td>\n",
       "      <td>4.1</td>\n",
       "      <td>4.400</td>\n",
       "      <td>5.0</td>\n",
       "    </tr>\n",
       "    <tr>\n",
       "      <th>EDUCATION</th>\n",
       "      <td>118.0</td>\n",
       "      <td>4.364407</td>\n",
       "      <td>0.263612</td>\n",
       "      <td>3.5</td>\n",
       "      <td>4.200</td>\n",
       "      <td>4.4</td>\n",
       "      <td>4.600</td>\n",
       "      <td>4.9</td>\n",
       "    </tr>\n",
       "    <tr>\n",
       "      <th>ENTERTAINMENT</th>\n",
       "      <td>102.0</td>\n",
       "      <td>4.135294</td>\n",
       "      <td>0.328407</td>\n",
       "      <td>3.0</td>\n",
       "      <td>3.900</td>\n",
       "      <td>4.2</td>\n",
       "      <td>4.300</td>\n",
       "      <td>4.7</td>\n",
       "    </tr>\n",
       "    <tr>\n",
       "      <th>EVENTS</th>\n",
       "      <td>45.0</td>\n",
       "      <td>4.435556</td>\n",
       "      <td>0.419499</td>\n",
       "      <td>2.9</td>\n",
       "      <td>4.200</td>\n",
       "      <td>4.5</td>\n",
       "      <td>4.700</td>\n",
       "      <td>5.0</td>\n",
       "    </tr>\n",
       "    <tr>\n",
       "      <th>FAMILY</th>\n",
       "      <td>1608.0</td>\n",
       "      <td>4.179664</td>\n",
       "      <td>0.523323</td>\n",
       "      <td>1.0</td>\n",
       "      <td>4.000</td>\n",
       "      <td>4.3</td>\n",
       "      <td>4.500</td>\n",
       "      <td>5.0</td>\n",
       "    </tr>\n",
       "    <tr>\n",
       "      <th>FINANCE</th>\n",
       "      <td>302.0</td>\n",
       "      <td>4.115563</td>\n",
       "      <td>0.659147</td>\n",
       "      <td>1.0</td>\n",
       "      <td>3.925</td>\n",
       "      <td>4.3</td>\n",
       "      <td>4.500</td>\n",
       "      <td>5.0</td>\n",
       "    </tr>\n",
       "    <tr>\n",
       "      <th>FOOD_AND_DRINK</th>\n",
       "      <td>94.0</td>\n",
       "      <td>4.172340</td>\n",
       "      <td>0.566901</td>\n",
       "      <td>1.7</td>\n",
       "      <td>4.000</td>\n",
       "      <td>4.3</td>\n",
       "      <td>4.500</td>\n",
       "      <td>5.0</td>\n",
       "    </tr>\n",
       "    <tr>\n",
       "      <th>GAME</th>\n",
       "      <td>912.0</td>\n",
       "      <td>4.247368</td>\n",
       "      <td>0.384116</td>\n",
       "      <td>1.0</td>\n",
       "      <td>4.100</td>\n",
       "      <td>4.3</td>\n",
       "      <td>4.500</td>\n",
       "      <td>5.0</td>\n",
       "    </tr>\n",
       "    <tr>\n",
       "      <th>HEALTH_AND_FITNESS</th>\n",
       "      <td>244.0</td>\n",
       "      <td>4.243033</td>\n",
       "      <td>0.668818</td>\n",
       "      <td>1.4</td>\n",
       "      <td>4.100</td>\n",
       "      <td>4.5</td>\n",
       "      <td>4.600</td>\n",
       "      <td>5.0</td>\n",
       "    </tr>\n",
       "    <tr>\n",
       "      <th>HOUSE_AND_HOME</th>\n",
       "      <td>62.0</td>\n",
       "      <td>4.150000</td>\n",
       "      <td>0.379711</td>\n",
       "      <td>2.8</td>\n",
       "      <td>3.925</td>\n",
       "      <td>4.2</td>\n",
       "      <td>4.475</td>\n",
       "      <td>4.8</td>\n",
       "    </tr>\n",
       "    <tr>\n",
       "      <th>LIBRARIES_AND_DEMO</th>\n",
       "      <td>64.0</td>\n",
       "      <td>4.178125</td>\n",
       "      <td>0.381504</td>\n",
       "      <td>3.1</td>\n",
       "      <td>3.975</td>\n",
       "      <td>4.2</td>\n",
       "      <td>4.400</td>\n",
       "      <td>5.0</td>\n",
       "    </tr>\n",
       "    <tr>\n",
       "      <th>LIFESTYLE</th>\n",
       "      <td>301.0</td>\n",
       "      <td>4.093355</td>\n",
       "      <td>0.704951</td>\n",
       "      <td>1.5</td>\n",
       "      <td>3.800</td>\n",
       "      <td>4.2</td>\n",
       "      <td>4.600</td>\n",
       "      <td>5.0</td>\n",
       "    </tr>\n",
       "    <tr>\n",
       "      <th>MAPS_AND_NAVIGATION</th>\n",
       "      <td>118.0</td>\n",
       "      <td>4.036441</td>\n",
       "      <td>0.527316</td>\n",
       "      <td>1.9</td>\n",
       "      <td>3.700</td>\n",
       "      <td>4.2</td>\n",
       "      <td>4.400</td>\n",
       "      <td>4.9</td>\n",
       "    </tr>\n",
       "    <tr>\n",
       "      <th>MEDICAL</th>\n",
       "      <td>290.0</td>\n",
       "      <td>4.166552</td>\n",
       "      <td>0.690984</td>\n",
       "      <td>1.0</td>\n",
       "      <td>3.900</td>\n",
       "      <td>4.3</td>\n",
       "      <td>4.600</td>\n",
       "      <td>5.0</td>\n",
       "    </tr>\n",
       "    <tr>\n",
       "      <th>NEWS_AND_MAGAZINES</th>\n",
       "      <td>204.0</td>\n",
       "      <td>4.121569</td>\n",
       "      <td>0.566578</td>\n",
       "      <td>1.7</td>\n",
       "      <td>3.900</td>\n",
       "      <td>4.2</td>\n",
       "      <td>4.500</td>\n",
       "      <td>5.0</td>\n",
       "    </tr>\n",
       "    <tr>\n",
       "      <th>PARENTING</th>\n",
       "      <td>50.0</td>\n",
       "      <td>4.300000</td>\n",
       "      <td>0.517845</td>\n",
       "      <td>2.0</td>\n",
       "      <td>4.100</td>\n",
       "      <td>4.4</td>\n",
       "      <td>4.675</td>\n",
       "      <td>5.0</td>\n",
       "    </tr>\n",
       "    <tr>\n",
       "      <th>PERSONALIZATION</th>\n",
       "      <td>296.0</td>\n",
       "      <td>4.331419</td>\n",
       "      <td>0.360027</td>\n",
       "      <td>2.5</td>\n",
       "      <td>4.200</td>\n",
       "      <td>4.4</td>\n",
       "      <td>4.600</td>\n",
       "      <td>5.0</td>\n",
       "    </tr>\n",
       "    <tr>\n",
       "      <th>PHOTOGRAPHY</th>\n",
       "      <td>263.0</td>\n",
       "      <td>4.157414</td>\n",
       "      <td>0.494331</td>\n",
       "      <td>2.0</td>\n",
       "      <td>4.000</td>\n",
       "      <td>4.3</td>\n",
       "      <td>4.500</td>\n",
       "      <td>5.0</td>\n",
       "    </tr>\n",
       "    <tr>\n",
       "      <th>PRODUCTIVITY</th>\n",
       "      <td>301.0</td>\n",
       "      <td>4.183389</td>\n",
       "      <td>0.534281</td>\n",
       "      <td>1.0</td>\n",
       "      <td>4.000</td>\n",
       "      <td>4.3</td>\n",
       "      <td>4.500</td>\n",
       "      <td>5.0</td>\n",
       "    </tr>\n",
       "    <tr>\n",
       "      <th>SHOPPING</th>\n",
       "      <td>180.0</td>\n",
       "      <td>4.230000</td>\n",
       "      <td>0.445198</td>\n",
       "      <td>1.6</td>\n",
       "      <td>4.100</td>\n",
       "      <td>4.3</td>\n",
       "      <td>4.500</td>\n",
       "      <td>5.0</td>\n",
       "    </tr>\n",
       "    <tr>\n",
       "      <th>SOCIAL</th>\n",
       "      <td>203.0</td>\n",
       "      <td>4.247291</td>\n",
       "      <td>0.457209</td>\n",
       "      <td>1.9</td>\n",
       "      <td>4.100</td>\n",
       "      <td>4.3</td>\n",
       "      <td>4.500</td>\n",
       "      <td>5.0</td>\n",
       "    </tr>\n",
       "    <tr>\n",
       "      <th>SPORTS</th>\n",
       "      <td>260.0</td>\n",
       "      <td>4.216154</td>\n",
       "      <td>0.462627</td>\n",
       "      <td>1.5</td>\n",
       "      <td>4.000</td>\n",
       "      <td>4.3</td>\n",
       "      <td>4.500</td>\n",
       "      <td>5.0</td>\n",
       "    </tr>\n",
       "    <tr>\n",
       "      <th>TOOLS</th>\n",
       "      <td>718.0</td>\n",
       "      <td>4.039554</td>\n",
       "      <td>0.620272</td>\n",
       "      <td>1.0</td>\n",
       "      <td>3.800</td>\n",
       "      <td>4.2</td>\n",
       "      <td>4.400</td>\n",
       "      <td>5.0</td>\n",
       "    </tr>\n",
       "    <tr>\n",
       "      <th>TRAVEL_AND_LOCAL</th>\n",
       "      <td>187.0</td>\n",
       "      <td>4.069519</td>\n",
       "      <td>0.532070</td>\n",
       "      <td>2.2</td>\n",
       "      <td>3.800</td>\n",
       "      <td>4.2</td>\n",
       "      <td>4.400</td>\n",
       "      <td>5.0</td>\n",
       "    </tr>\n",
       "    <tr>\n",
       "      <th>VIDEO_PLAYERS</th>\n",
       "      <td>148.0</td>\n",
       "      <td>4.044595</td>\n",
       "      <td>0.563792</td>\n",
       "      <td>1.8</td>\n",
       "      <td>3.775</td>\n",
       "      <td>4.2</td>\n",
       "      <td>4.400</td>\n",
       "      <td>4.9</td>\n",
       "    </tr>\n",
       "    <tr>\n",
       "      <th>WEATHER</th>\n",
       "      <td>72.0</td>\n",
       "      <td>4.243056</td>\n",
       "      <td>0.337692</td>\n",
       "      <td>3.3</td>\n",
       "      <td>4.000</td>\n",
       "      <td>4.3</td>\n",
       "      <td>4.500</td>\n",
       "      <td>4.8</td>\n",
       "    </tr>\n",
       "  </tbody>\n",
       "</table>\n",
       "</div>"
      ],
      "text/plain": [
       "                      count      mean       std  min    25%  50%    75%  max\n",
       "Category                                                                    \n",
       "ART_AND_DESIGN         61.0  4.357377  0.361229  3.2  4.100  4.4  4.700  5.0\n",
       "AUTO_AND_VEHICLES      73.0  4.190411  0.543692  2.1  4.000  4.3  4.600  4.9\n",
       "BEAUTY                 42.0  4.278571  0.362603  3.1  4.000  4.3  4.575  4.9\n",
       "BOOKS_AND_REFERENCE   169.0  4.344970  0.437649  2.7  4.100  4.5  4.600  5.0\n",
       "BUSINESS              263.0  4.098479  0.659862  1.0  3.800  4.2  4.500  5.0\n",
       "COMICS                 54.0  4.181481  0.526317  2.8  3.900  4.4  4.500  5.0\n",
       "COMMUNICATION         256.0  4.121484  0.470260  1.0  4.000  4.2  4.400  5.0\n",
       "DATING                134.0  3.970149  0.637786  1.0  3.600  4.1  4.400  5.0\n",
       "EDUCATION             118.0  4.364407  0.263612  3.5  4.200  4.4  4.600  4.9\n",
       "ENTERTAINMENT         102.0  4.135294  0.328407  3.0  3.900  4.2  4.300  4.7\n",
       "EVENTS                 45.0  4.435556  0.419499  2.9  4.200  4.5  4.700  5.0\n",
       "FAMILY               1608.0  4.179664  0.523323  1.0  4.000  4.3  4.500  5.0\n",
       "FINANCE               302.0  4.115563  0.659147  1.0  3.925  4.3  4.500  5.0\n",
       "FOOD_AND_DRINK         94.0  4.172340  0.566901  1.7  4.000  4.3  4.500  5.0\n",
       "GAME                  912.0  4.247368  0.384116  1.0  4.100  4.3  4.500  5.0\n",
       "HEALTH_AND_FITNESS    244.0  4.243033  0.668818  1.4  4.100  4.5  4.600  5.0\n",
       "HOUSE_AND_HOME         62.0  4.150000  0.379711  2.8  3.925  4.2  4.475  4.8\n",
       "LIBRARIES_AND_DEMO     64.0  4.178125  0.381504  3.1  3.975  4.2  4.400  5.0\n",
       "LIFESTYLE             301.0  4.093355  0.704951  1.5  3.800  4.2  4.600  5.0\n",
       "MAPS_AND_NAVIGATION   118.0  4.036441  0.527316  1.9  3.700  4.2  4.400  4.9\n",
       "MEDICAL               290.0  4.166552  0.690984  1.0  3.900  4.3  4.600  5.0\n",
       "NEWS_AND_MAGAZINES    204.0  4.121569  0.566578  1.7  3.900  4.2  4.500  5.0\n",
       "PARENTING              50.0  4.300000  0.517845  2.0  4.100  4.4  4.675  5.0\n",
       "PERSONALIZATION       296.0  4.331419  0.360027  2.5  4.200  4.4  4.600  5.0\n",
       "PHOTOGRAPHY           263.0  4.157414  0.494331  2.0  4.000  4.3  4.500  5.0\n",
       "PRODUCTIVITY          301.0  4.183389  0.534281  1.0  4.000  4.3  4.500  5.0\n",
       "SHOPPING              180.0  4.230000  0.445198  1.6  4.100  4.3  4.500  5.0\n",
       "SOCIAL                203.0  4.247291  0.457209  1.9  4.100  4.3  4.500  5.0\n",
       "SPORTS                260.0  4.216154  0.462627  1.5  4.000  4.3  4.500  5.0\n",
       "TOOLS                 718.0  4.039554  0.620272  1.0  3.800  4.2  4.400  5.0\n",
       "TRAVEL_AND_LOCAL      187.0  4.069519  0.532070  2.2  3.800  4.2  4.400  5.0\n",
       "VIDEO_PLAYERS         148.0  4.044595  0.563792  1.8  3.775  4.2  4.400  4.9\n",
       "WEATHER                72.0  4.243056  0.337692  3.3  4.000  4.3  4.500  4.8"
      ]
     },
     "execution_count": 101,
     "metadata": {},
     "output_type": "execute_result"
    }
   ],
   "source": [
    "stats = df.groupby('Category').describe()['Rating']\n",
    "stats"
   ]
  },
  {
   "cell_type": "markdown",
   "id": "50314f05-904c-43db-a71e-d364290b7d63",
   "metadata": {},
   "source": [
    "Considerando que as melhores categorias são as que possuem as maiores médias de avaliação"
   ]
  },
  {
   "cell_type": "code",
   "execution_count": 104,
   "id": "93543c0b-5eca-4a33-acd1-96f52752d82b",
   "metadata": {},
   "outputs": [
    {
     "data": {
      "text/html": [
       "<div>\n",
       "<style scoped>\n",
       "    .dataframe tbody tr th:only-of-type {\n",
       "        vertical-align: middle;\n",
       "    }\n",
       "\n",
       "    .dataframe tbody tr th {\n",
       "        vertical-align: top;\n",
       "    }\n",
       "\n",
       "    .dataframe thead th {\n",
       "        text-align: right;\n",
       "    }\n",
       "</style>\n",
       "<table border=\"1\" class=\"dataframe\">\n",
       "  <thead>\n",
       "    <tr style=\"text-align: right;\">\n",
       "      <th></th>\n",
       "      <th>count</th>\n",
       "      <th>mean</th>\n",
       "      <th>std</th>\n",
       "      <th>min</th>\n",
       "      <th>25%</th>\n",
       "      <th>50%</th>\n",
       "      <th>75%</th>\n",
       "      <th>max</th>\n",
       "    </tr>\n",
       "    <tr>\n",
       "      <th>Category</th>\n",
       "      <th></th>\n",
       "      <th></th>\n",
       "      <th></th>\n",
       "      <th></th>\n",
       "      <th></th>\n",
       "      <th></th>\n",
       "      <th></th>\n",
       "      <th></th>\n",
       "    </tr>\n",
       "  </thead>\n",
       "  <tbody>\n",
       "    <tr>\n",
       "      <th>EVENTS</th>\n",
       "      <td>45.0</td>\n",
       "      <td>4.435556</td>\n",
       "      <td>0.419499</td>\n",
       "      <td>2.9</td>\n",
       "      <td>4.200</td>\n",
       "      <td>4.5</td>\n",
       "      <td>4.700</td>\n",
       "      <td>5.0</td>\n",
       "    </tr>\n",
       "    <tr>\n",
       "      <th>EDUCATION</th>\n",
       "      <td>118.0</td>\n",
       "      <td>4.364407</td>\n",
       "      <td>0.263612</td>\n",
       "      <td>3.5</td>\n",
       "      <td>4.200</td>\n",
       "      <td>4.4</td>\n",
       "      <td>4.600</td>\n",
       "      <td>4.9</td>\n",
       "    </tr>\n",
       "    <tr>\n",
       "      <th>ART_AND_DESIGN</th>\n",
       "      <td>61.0</td>\n",
       "      <td>4.357377</td>\n",
       "      <td>0.361229</td>\n",
       "      <td>3.2</td>\n",
       "      <td>4.100</td>\n",
       "      <td>4.4</td>\n",
       "      <td>4.700</td>\n",
       "      <td>5.0</td>\n",
       "    </tr>\n",
       "    <tr>\n",
       "      <th>BOOKS_AND_REFERENCE</th>\n",
       "      <td>169.0</td>\n",
       "      <td>4.344970</td>\n",
       "      <td>0.437649</td>\n",
       "      <td>2.7</td>\n",
       "      <td>4.100</td>\n",
       "      <td>4.5</td>\n",
       "      <td>4.600</td>\n",
       "      <td>5.0</td>\n",
       "    </tr>\n",
       "    <tr>\n",
       "      <th>PERSONALIZATION</th>\n",
       "      <td>296.0</td>\n",
       "      <td>4.331419</td>\n",
       "      <td>0.360027</td>\n",
       "      <td>2.5</td>\n",
       "      <td>4.200</td>\n",
       "      <td>4.4</td>\n",
       "      <td>4.600</td>\n",
       "      <td>5.0</td>\n",
       "    </tr>\n",
       "    <tr>\n",
       "      <th>PARENTING</th>\n",
       "      <td>50.0</td>\n",
       "      <td>4.300000</td>\n",
       "      <td>0.517845</td>\n",
       "      <td>2.0</td>\n",
       "      <td>4.100</td>\n",
       "      <td>4.4</td>\n",
       "      <td>4.675</td>\n",
       "      <td>5.0</td>\n",
       "    </tr>\n",
       "    <tr>\n",
       "      <th>BEAUTY</th>\n",
       "      <td>42.0</td>\n",
       "      <td>4.278571</td>\n",
       "      <td>0.362603</td>\n",
       "      <td>3.1</td>\n",
       "      <td>4.000</td>\n",
       "      <td>4.3</td>\n",
       "      <td>4.575</td>\n",
       "      <td>4.9</td>\n",
       "    </tr>\n",
       "    <tr>\n",
       "      <th>GAME</th>\n",
       "      <td>912.0</td>\n",
       "      <td>4.247368</td>\n",
       "      <td>0.384116</td>\n",
       "      <td>1.0</td>\n",
       "      <td>4.100</td>\n",
       "      <td>4.3</td>\n",
       "      <td>4.500</td>\n",
       "      <td>5.0</td>\n",
       "    </tr>\n",
       "    <tr>\n",
       "      <th>SOCIAL</th>\n",
       "      <td>203.0</td>\n",
       "      <td>4.247291</td>\n",
       "      <td>0.457209</td>\n",
       "      <td>1.9</td>\n",
       "      <td>4.100</td>\n",
       "      <td>4.3</td>\n",
       "      <td>4.500</td>\n",
       "      <td>5.0</td>\n",
       "    </tr>\n",
       "    <tr>\n",
       "      <th>WEATHER</th>\n",
       "      <td>72.0</td>\n",
       "      <td>4.243056</td>\n",
       "      <td>0.337692</td>\n",
       "      <td>3.3</td>\n",
       "      <td>4.000</td>\n",
       "      <td>4.3</td>\n",
       "      <td>4.500</td>\n",
       "      <td>4.8</td>\n",
       "    </tr>\n",
       "    <tr>\n",
       "      <th>HEALTH_AND_FITNESS</th>\n",
       "      <td>244.0</td>\n",
       "      <td>4.243033</td>\n",
       "      <td>0.668818</td>\n",
       "      <td>1.4</td>\n",
       "      <td>4.100</td>\n",
       "      <td>4.5</td>\n",
       "      <td>4.600</td>\n",
       "      <td>5.0</td>\n",
       "    </tr>\n",
       "    <tr>\n",
       "      <th>SHOPPING</th>\n",
       "      <td>180.0</td>\n",
       "      <td>4.230000</td>\n",
       "      <td>0.445198</td>\n",
       "      <td>1.6</td>\n",
       "      <td>4.100</td>\n",
       "      <td>4.3</td>\n",
       "      <td>4.500</td>\n",
       "      <td>5.0</td>\n",
       "    </tr>\n",
       "    <tr>\n",
       "      <th>SPORTS</th>\n",
       "      <td>260.0</td>\n",
       "      <td>4.216154</td>\n",
       "      <td>0.462627</td>\n",
       "      <td>1.5</td>\n",
       "      <td>4.000</td>\n",
       "      <td>4.3</td>\n",
       "      <td>4.500</td>\n",
       "      <td>5.0</td>\n",
       "    </tr>\n",
       "    <tr>\n",
       "      <th>AUTO_AND_VEHICLES</th>\n",
       "      <td>73.0</td>\n",
       "      <td>4.190411</td>\n",
       "      <td>0.543692</td>\n",
       "      <td>2.1</td>\n",
       "      <td>4.000</td>\n",
       "      <td>4.3</td>\n",
       "      <td>4.600</td>\n",
       "      <td>4.9</td>\n",
       "    </tr>\n",
       "    <tr>\n",
       "      <th>PRODUCTIVITY</th>\n",
       "      <td>301.0</td>\n",
       "      <td>4.183389</td>\n",
       "      <td>0.534281</td>\n",
       "      <td>1.0</td>\n",
       "      <td>4.000</td>\n",
       "      <td>4.3</td>\n",
       "      <td>4.500</td>\n",
       "      <td>5.0</td>\n",
       "    </tr>\n",
       "    <tr>\n",
       "      <th>COMICS</th>\n",
       "      <td>54.0</td>\n",
       "      <td>4.181481</td>\n",
       "      <td>0.526317</td>\n",
       "      <td>2.8</td>\n",
       "      <td>3.900</td>\n",
       "      <td>4.4</td>\n",
       "      <td>4.500</td>\n",
       "      <td>5.0</td>\n",
       "    </tr>\n",
       "    <tr>\n",
       "      <th>FAMILY</th>\n",
       "      <td>1608.0</td>\n",
       "      <td>4.179664</td>\n",
       "      <td>0.523323</td>\n",
       "      <td>1.0</td>\n",
       "      <td>4.000</td>\n",
       "      <td>4.3</td>\n",
       "      <td>4.500</td>\n",
       "      <td>5.0</td>\n",
       "    </tr>\n",
       "    <tr>\n",
       "      <th>LIBRARIES_AND_DEMO</th>\n",
       "      <td>64.0</td>\n",
       "      <td>4.178125</td>\n",
       "      <td>0.381504</td>\n",
       "      <td>3.1</td>\n",
       "      <td>3.975</td>\n",
       "      <td>4.2</td>\n",
       "      <td>4.400</td>\n",
       "      <td>5.0</td>\n",
       "    </tr>\n",
       "    <tr>\n",
       "      <th>FOOD_AND_DRINK</th>\n",
       "      <td>94.0</td>\n",
       "      <td>4.172340</td>\n",
       "      <td>0.566901</td>\n",
       "      <td>1.7</td>\n",
       "      <td>4.000</td>\n",
       "      <td>4.3</td>\n",
       "      <td>4.500</td>\n",
       "      <td>5.0</td>\n",
       "    </tr>\n",
       "    <tr>\n",
       "      <th>MEDICAL</th>\n",
       "      <td>290.0</td>\n",
       "      <td>4.166552</td>\n",
       "      <td>0.690984</td>\n",
       "      <td>1.0</td>\n",
       "      <td>3.900</td>\n",
       "      <td>4.3</td>\n",
       "      <td>4.600</td>\n",
       "      <td>5.0</td>\n",
       "    </tr>\n",
       "    <tr>\n",
       "      <th>PHOTOGRAPHY</th>\n",
       "      <td>263.0</td>\n",
       "      <td>4.157414</td>\n",
       "      <td>0.494331</td>\n",
       "      <td>2.0</td>\n",
       "      <td>4.000</td>\n",
       "      <td>4.3</td>\n",
       "      <td>4.500</td>\n",
       "      <td>5.0</td>\n",
       "    </tr>\n",
       "    <tr>\n",
       "      <th>HOUSE_AND_HOME</th>\n",
       "      <td>62.0</td>\n",
       "      <td>4.150000</td>\n",
       "      <td>0.379711</td>\n",
       "      <td>2.8</td>\n",
       "      <td>3.925</td>\n",
       "      <td>4.2</td>\n",
       "      <td>4.475</td>\n",
       "      <td>4.8</td>\n",
       "    </tr>\n",
       "    <tr>\n",
       "      <th>ENTERTAINMENT</th>\n",
       "      <td>102.0</td>\n",
       "      <td>4.135294</td>\n",
       "      <td>0.328407</td>\n",
       "      <td>3.0</td>\n",
       "      <td>3.900</td>\n",
       "      <td>4.2</td>\n",
       "      <td>4.300</td>\n",
       "      <td>4.7</td>\n",
       "    </tr>\n",
       "    <tr>\n",
       "      <th>NEWS_AND_MAGAZINES</th>\n",
       "      <td>204.0</td>\n",
       "      <td>4.121569</td>\n",
       "      <td>0.566578</td>\n",
       "      <td>1.7</td>\n",
       "      <td>3.900</td>\n",
       "      <td>4.2</td>\n",
       "      <td>4.500</td>\n",
       "      <td>5.0</td>\n",
       "    </tr>\n",
       "    <tr>\n",
       "      <th>COMMUNICATION</th>\n",
       "      <td>256.0</td>\n",
       "      <td>4.121484</td>\n",
       "      <td>0.470260</td>\n",
       "      <td>1.0</td>\n",
       "      <td>4.000</td>\n",
       "      <td>4.2</td>\n",
       "      <td>4.400</td>\n",
       "      <td>5.0</td>\n",
       "    </tr>\n",
       "    <tr>\n",
       "      <th>FINANCE</th>\n",
       "      <td>302.0</td>\n",
       "      <td>4.115563</td>\n",
       "      <td>0.659147</td>\n",
       "      <td>1.0</td>\n",
       "      <td>3.925</td>\n",
       "      <td>4.3</td>\n",
       "      <td>4.500</td>\n",
       "      <td>5.0</td>\n",
       "    </tr>\n",
       "    <tr>\n",
       "      <th>BUSINESS</th>\n",
       "      <td>263.0</td>\n",
       "      <td>4.098479</td>\n",
       "      <td>0.659862</td>\n",
       "      <td>1.0</td>\n",
       "      <td>3.800</td>\n",
       "      <td>4.2</td>\n",
       "      <td>4.500</td>\n",
       "      <td>5.0</td>\n",
       "    </tr>\n",
       "    <tr>\n",
       "      <th>LIFESTYLE</th>\n",
       "      <td>301.0</td>\n",
       "      <td>4.093355</td>\n",
       "      <td>0.704951</td>\n",
       "      <td>1.5</td>\n",
       "      <td>3.800</td>\n",
       "      <td>4.2</td>\n",
       "      <td>4.600</td>\n",
       "      <td>5.0</td>\n",
       "    </tr>\n",
       "    <tr>\n",
       "      <th>TRAVEL_AND_LOCAL</th>\n",
       "      <td>187.0</td>\n",
       "      <td>4.069519</td>\n",
       "      <td>0.532070</td>\n",
       "      <td>2.2</td>\n",
       "      <td>3.800</td>\n",
       "      <td>4.2</td>\n",
       "      <td>4.400</td>\n",
       "      <td>5.0</td>\n",
       "    </tr>\n",
       "    <tr>\n",
       "      <th>VIDEO_PLAYERS</th>\n",
       "      <td>148.0</td>\n",
       "      <td>4.044595</td>\n",
       "      <td>0.563792</td>\n",
       "      <td>1.8</td>\n",
       "      <td>3.775</td>\n",
       "      <td>4.2</td>\n",
       "      <td>4.400</td>\n",
       "      <td>4.9</td>\n",
       "    </tr>\n",
       "    <tr>\n",
       "      <th>TOOLS</th>\n",
       "      <td>718.0</td>\n",
       "      <td>4.039554</td>\n",
       "      <td>0.620272</td>\n",
       "      <td>1.0</td>\n",
       "      <td>3.800</td>\n",
       "      <td>4.2</td>\n",
       "      <td>4.400</td>\n",
       "      <td>5.0</td>\n",
       "    </tr>\n",
       "    <tr>\n",
       "      <th>MAPS_AND_NAVIGATION</th>\n",
       "      <td>118.0</td>\n",
       "      <td>4.036441</td>\n",
       "      <td>0.527316</td>\n",
       "      <td>1.9</td>\n",
       "      <td>3.700</td>\n",
       "      <td>4.2</td>\n",
       "      <td>4.400</td>\n",
       "      <td>4.9</td>\n",
       "    </tr>\n",
       "    <tr>\n",
       "      <th>DATING</th>\n",
       "      <td>134.0</td>\n",
       "      <td>3.970149</td>\n",
       "      <td>0.637786</td>\n",
       "      <td>1.0</td>\n",
       "      <td>3.600</td>\n",
       "      <td>4.1</td>\n",
       "      <td>4.400</td>\n",
       "      <td>5.0</td>\n",
       "    </tr>\n",
       "  </tbody>\n",
       "</table>\n",
       "</div>"
      ],
      "text/plain": [
       "                      count      mean       std  min    25%  50%    75%  max\n",
       "Category                                                                    \n",
       "EVENTS                 45.0  4.435556  0.419499  2.9  4.200  4.5  4.700  5.0\n",
       "EDUCATION             118.0  4.364407  0.263612  3.5  4.200  4.4  4.600  4.9\n",
       "ART_AND_DESIGN         61.0  4.357377  0.361229  3.2  4.100  4.4  4.700  5.0\n",
       "BOOKS_AND_REFERENCE   169.0  4.344970  0.437649  2.7  4.100  4.5  4.600  5.0\n",
       "PERSONALIZATION       296.0  4.331419  0.360027  2.5  4.200  4.4  4.600  5.0\n",
       "PARENTING              50.0  4.300000  0.517845  2.0  4.100  4.4  4.675  5.0\n",
       "BEAUTY                 42.0  4.278571  0.362603  3.1  4.000  4.3  4.575  4.9\n",
       "GAME                  912.0  4.247368  0.384116  1.0  4.100  4.3  4.500  5.0\n",
       "SOCIAL                203.0  4.247291  0.457209  1.9  4.100  4.3  4.500  5.0\n",
       "WEATHER                72.0  4.243056  0.337692  3.3  4.000  4.3  4.500  4.8\n",
       "HEALTH_AND_FITNESS    244.0  4.243033  0.668818  1.4  4.100  4.5  4.600  5.0\n",
       "SHOPPING              180.0  4.230000  0.445198  1.6  4.100  4.3  4.500  5.0\n",
       "SPORTS                260.0  4.216154  0.462627  1.5  4.000  4.3  4.500  5.0\n",
       "AUTO_AND_VEHICLES      73.0  4.190411  0.543692  2.1  4.000  4.3  4.600  4.9\n",
       "PRODUCTIVITY          301.0  4.183389  0.534281  1.0  4.000  4.3  4.500  5.0\n",
       "COMICS                 54.0  4.181481  0.526317  2.8  3.900  4.4  4.500  5.0\n",
       "FAMILY               1608.0  4.179664  0.523323  1.0  4.000  4.3  4.500  5.0\n",
       "LIBRARIES_AND_DEMO     64.0  4.178125  0.381504  3.1  3.975  4.2  4.400  5.0\n",
       "FOOD_AND_DRINK         94.0  4.172340  0.566901  1.7  4.000  4.3  4.500  5.0\n",
       "MEDICAL               290.0  4.166552  0.690984  1.0  3.900  4.3  4.600  5.0\n",
       "PHOTOGRAPHY           263.0  4.157414  0.494331  2.0  4.000  4.3  4.500  5.0\n",
       "HOUSE_AND_HOME         62.0  4.150000  0.379711  2.8  3.925  4.2  4.475  4.8\n",
       "ENTERTAINMENT         102.0  4.135294  0.328407  3.0  3.900  4.2  4.300  4.7\n",
       "NEWS_AND_MAGAZINES    204.0  4.121569  0.566578  1.7  3.900  4.2  4.500  5.0\n",
       "COMMUNICATION         256.0  4.121484  0.470260  1.0  4.000  4.2  4.400  5.0\n",
       "FINANCE               302.0  4.115563  0.659147  1.0  3.925  4.3  4.500  5.0\n",
       "BUSINESS              263.0  4.098479  0.659862  1.0  3.800  4.2  4.500  5.0\n",
       "LIFESTYLE             301.0  4.093355  0.704951  1.5  3.800  4.2  4.600  5.0\n",
       "TRAVEL_AND_LOCAL      187.0  4.069519  0.532070  2.2  3.800  4.2  4.400  5.0\n",
       "VIDEO_PLAYERS         148.0  4.044595  0.563792  1.8  3.775  4.2  4.400  4.9\n",
       "TOOLS                 718.0  4.039554  0.620272  1.0  3.800  4.2  4.400  5.0\n",
       "MAPS_AND_NAVIGATION   118.0  4.036441  0.527316  1.9  3.700  4.2  4.400  4.9\n",
       "DATING                134.0  3.970149  0.637786  1.0  3.600  4.1  4.400  5.0"
      ]
     },
     "execution_count": 104,
     "metadata": {},
     "output_type": "execute_result"
    }
   ],
   "source": [
    "stats.sort_values(by='mean', ascending=False)"
   ]
  },
  {
   "cell_type": "markdown",
   "id": "played-wedding",
   "metadata": {},
   "source": [
    "Ao computar a _média das avaliações por categoria_ e ordenar pela maior média, constatamos que a categoria \"EVENTS\" possui a maior média. <br/>\n",
    "Mas, **não** é possível afirmar que essa é a *categoria melhor avaliada **apenas olhando para estes resultados***, pois **o tamanho de cada amostra/grupo** (i.e., a quantidade de aplicativos por categoria) é diferente. Além disso, o **desvio padrão** também muda de categoria para categoria.<br/>\n",
    "\n",
    "P. ex., a categoria \"EVENTS\" possui 45 apps, enquanto \"BOOKS_AND_REFERENCE\" possui 169.\n",
    "\n",
    "Precisaríamos rodar algum **teste estatístico específico**, p. ex., para ter essa certeza. <br/>"
   ]
  },
  {
   "cell_type": "markdown",
   "id": "tender-adams",
   "metadata": {},
   "source": [
    "Outra meneira (mais simples), é garantir **a mesma quantidade de observações para cada grupo** (mesmo tamanho de amostra). <br/>\n",
    "Para isso, assumiríamos o tamanho do menor grupo, suponha N, e, para cada grupo restante, selecionaríamos _aleatoriamente_ N observações. <br/>\n",
    "Mas, e se, **ao acaso**, selecionamos apenas observações com uma dada característica que não, necessariamente, representasse bem nossa distribuição original? <br/>\n",
    "Uma alternativa, é realizar essa seleção múltiplas vezes. Mas este é um assunto para depois.\n",
    "\n",
    "Algumas discussões interessantes sobre o assunto: <br/>\n",
    "- https://www.researchgate.net/post/Is_there_any_way_to_compare_two_datasets_with_drastically_different_sample_sizes#:~:text=Most%20recent%20answer&text=One%20way%20to%20compare%20the,the%20single%204%20sample%20set.\n",
    "- https://stackoverflow.com/a/63099989\n",
    "- https://www.statisticshowto.com/unequal-sample-sizes/\n",
    "- https://www.graphpad.com/support/faq/how-to-compare-two-means-when-the-groups-have-different-standard-deviations/\n"
   ]
  },
  {
   "cell_type": "markdown",
   "id": "later-momentum",
   "metadata": {},
   "source": [
    "Por ora, vamos simplificar e assumir que apenas analisar esses resultados é suficiente para decidimos quais são as categorias melhores avaliadas."
   ]
  },
  {
   "cell_type": "code",
   "execution_count": 110,
   "id": "ecological-andorra",
   "metadata": {},
   "outputs": [
    {
     "data": {
      "image/png": "[encoded data removed]",
      "text/plain": [
       "<Figure size 1440x720 with 1 Axes>"
      ]
     },
     "metadata": {},
     "output_type": "display_data"
    }
   ],
   "source": [
    "plt.figure(figsize=(20,10))\n",
    "\n",
    "sns.barplot(data=df, x='Rating', y='Category', ci='sd')\n",
    "\n",
    "plt.show()"
   ]
  },
  {
   "cell_type": "code",
   "execution_count": 115,
   "id": "generous-lawsuit",
   "metadata": {},
   "outputs": [
    {
     "data": {
      "text/plain": [
       "Index(['EVENTS', 'EDUCATION', 'ART_AND_DESIGN', 'BOOKS_AND_REFERENCE',\n",
       "       'PERSONALIZATION', 'PARENTING', 'BEAUTY', 'GAME', 'SOCIAL', 'WEATHER',\n",
       "       'HEALTH_AND_FITNESS', 'SHOPPING', 'SPORTS', 'AUTO_AND_VEHICLES',\n",
       "       'PRODUCTIVITY', 'COMICS', 'FAMILY', 'LIBRARIES_AND_DEMO',\n",
       "       'FOOD_AND_DRINK', 'MEDICAL', 'PHOTOGRAPHY', 'HOUSE_AND_HOME',\n",
       "       'ENTERTAINMENT', 'NEWS_AND_MAGAZINES', 'COMMUNICATION', 'FINANCE',\n",
       "       'BUSINESS', 'LIFESTYLE', 'TRAVEL_AND_LOCAL', 'VIDEO_PLAYERS', 'TOOLS',\n",
       "       'MAPS_AND_NAVIGATION', 'DATING'],\n",
       "      dtype='object', name='Category')"
      ]
     },
     "execution_count": 115,
     "metadata": {},
     "output_type": "execute_result"
    }
   ],
   "source": [
    "order = stats.sort_values(by='mean', ascending=False).index\n",
    "order"
   ]
  },
  {
   "cell_type": "code",
   "execution_count": 123,
   "id": "11d75efc-5701-4f49-b745-10f61e098e0d",
   "metadata": {},
   "outputs": [
    {
     "data": {
      "image/png": "[encoded data removed]",
      "text/plain": [
       "<Figure size 1440x720 with 1 Axes>"
      ]
     },
     "metadata": {},
     "output_type": "display_data"
    }
   ],
   "source": [
    "plt.figure(figsize=(20,10))\n",
    "\n",
    "sns.barplot(data=df, x='Rating', y='Category', ci='sd', order=order)\n",
    "\n",
    "plt.show()"
   ]
  },
  {
   "cell_type": "code",
   "execution_count": 125,
   "id": "opened-dubai",
   "metadata": {},
   "outputs": [
    {
     "data": {
      "image/png": "[encoded data removed]",
      "text/plain": [
       "<Figure size 720x432 with 1 Axes>"
      ]
     },
     "metadata": {},
     "output_type": "display_data"
    }
   ],
   "source": [
    "sns.boxplot(data=df.query('Category == \"HEALTH_AND_FITNESS\"'), x='Rating')\n",
    "plt.show()"
   ]
  },
  {
   "cell_type": "code",
   "execution_count": null,
   "id": "sustainable-sierra",
   "metadata": {},
   "outputs": [],
   "source": []
  },
  {
   "cell_type": "markdown",
   "id": "above-lease",
   "metadata": {},
   "source": [
    "## 2.5 Como as avaliações se distribuem em cada categoria?\n",
    "_Variável Numérica_ x _Variável Categórica_."
   ]
  },
  {
   "cell_type": "code",
   "execution_count": null,
   "id": "breeding-flour",
   "metadata": {},
   "outputs": [],
   "source": []
  },
  {
   "cell_type": "code",
   "execution_count": null,
   "id": "distinguished-universe",
   "metadata": {},
   "outputs": [],
   "source": []
  },
  {
   "cell_type": "code",
   "execution_count": null,
   "id": "hungarian-night",
   "metadata": {},
   "outputs": [],
   "source": []
  },
  {
   "cell_type": "markdown",
   "id": "french-wisdom",
   "metadata": {},
   "source": [
    "Para obter uma análise visual mais interessante, podemos ordenar os boxplots (ou violion plots) de acordo com algum critério. <br/>\n",
    "Por exemplo, podemos ordená-los pela mediana de cada categoria a fim de analisar, p. ex., como estão distribuídos a metade dos apps mais bem avaliados de cada categoria."
   ]
  },
  {
   "cell_type": "code",
   "execution_count": null,
   "id": "searching-europe",
   "metadata": {},
   "outputs": [],
   "source": []
  },
  {
   "cell_type": "code",
   "execution_count": null,
   "id": "accomplished-warning",
   "metadata": {},
   "outputs": [],
   "source": []
  },
  {
   "cell_type": "markdown",
   "id": "internal-concert",
   "metadata": {},
   "source": [
    "Ao analisar os boxplots, vemos que, por que as categorias *BOOKS_AND_REFERENCE* e *HEALTH_AND_FITNESS* possuam uma quantidade considerável de apps muito bem avaliados --- ~50% de seus apps possuem avaliação >- 4.5 --- a **dispersão** de suas avaliações é **muito alta**. <br/>\n",
    "\n",
    "Vamos olhar o mesmo gráfico mas agora com as categorias organizadas pela **média**."
   ]
  },
  {
   "cell_type": "code",
   "execution_count": null,
   "id": "maritime-ambassador",
   "metadata": {},
   "outputs": [],
   "source": []
  },
  {
   "cell_type": "markdown",
   "id": "unavailable-burton",
   "metadata": {},
   "source": [
    "## 2.6 Qual a média e distribuição de downloads/instalações dos apps em geral?"
   ]
  },
  {
   "cell_type": "markdown",
   "id": "automated-cream",
   "metadata": {},
   "source": [
    "### **CONSIDERANDO OS APPS MAIS POPULATES (_\"OUTLIERS\"_)**\n",
    "Mais popular ==> mais instalado"
   ]
  },
  {
   "cell_type": "code",
   "execution_count": null,
   "id": "light-divorce",
   "metadata": {},
   "outputs": [],
   "source": []
  },
  {
   "cell_type": "code",
   "execution_count": null,
   "id": "intimate-proposal",
   "metadata": {},
   "outputs": [],
   "source": []
  },
  {
   "cell_type": "markdown",
   "id": "infectious-superior",
   "metadata": {},
   "source": [
    "Note como o **desvio padrão** é altíssimo, o indica que a _distribuição de instalações é bem espalhada_."
   ]
  },
  {
   "cell_type": "code",
   "execution_count": null,
   "id": "faced-michigan",
   "metadata": {},
   "outputs": [],
   "source": []
  },
  {
   "cell_type": "markdown",
   "id": "excessive-polyester",
   "metadata": {},
   "source": [
    "Comparado com a distribuição total de instalações, temos _uma pequena quantidade de apps_ que possuem uma **quantidade muito alta** de instalações ==> _outliers_. <br/>"
   ]
  },
  {
   "cell_type": "code",
   "execution_count": null,
   "id": "assumed-jurisdiction",
   "metadata": {},
   "outputs": [],
   "source": []
  },
  {
   "cell_type": "markdown",
   "id": "severe-dividend",
   "metadata": {},
   "source": [
    "De fato, os outliers são aplicativos extremamente populares e baixados."
   ]
  },
  {
   "cell_type": "markdown",
   "id": "opening-lightning",
   "metadata": {},
   "source": [
    "Podemos então fazer alguns tipos de análise frente a esta situação:\n",
    "- Analisamos como os outliers (apps mais instalados) se comportam\n",
    "- Analisamos os apps menos instalados (desconsideramos os outliers)"
   ]
  },
  {
   "cell_type": "markdown",
   "id": "active-apparel",
   "metadata": {},
   "source": [
    "Para descobrir os outliers, poderíamos analisar o _boxplot_ e simplesmente \"chutar\" qual é o intervalo de valores que os outliers se encontram. <br/>\n",
    "Porém, uma forma mais interessante é utilizar, inicialmente, o **método de detecçao de outliers pelo IQR**, que é justamente o método utilizado pelo boxplot acima."
   ]
  },
  {
   "cell_type": "code",
   "execution_count": null,
   "id": "noted-publication",
   "metadata": {},
   "outputs": [],
   "source": []
  },
  {
   "cell_type": "markdown",
   "id": "complete-conversion",
   "metadata": {},
   "source": [
    "Como o número mínimo de instalações é 0, nosso **intervalo sem outliers real** é **[0, 2485000]**. <br/>\n",
    "Assim, os apps mais populares, com mais de 2485000 instalações, são considerados _outliers_."
   ]
  },
  {
   "cell_type": "code",
   "execution_count": null,
   "id": "bound-graduation",
   "metadata": {},
   "outputs": [],
   "source": []
  },
  {
   "cell_type": "markdown",
   "id": "permanent-sussex",
   "metadata": {},
   "source": [
    "### **Analisando os apps mais populares**"
   ]
  },
  {
   "cell_type": "code",
   "execution_count": null,
   "id": "photographic-eleven",
   "metadata": {},
   "outputs": [],
   "source": []
  },
  {
   "cell_type": "code",
   "execution_count": null,
   "id": "auburn-differential",
   "metadata": {},
   "outputs": [],
   "source": []
  },
  {
   "cell_type": "markdown",
   "id": "nuclear-collection",
   "metadata": {},
   "source": [
    "O **desvio padrão** dos _apps mais populares_ continua bem alto, o que indica uma **alta dispersão** do número de instalações. <br/>\n",
    "Além disso, note que a **média** e **mediana** do número de instalações é _muito diferente_."
   ]
  },
  {
   "cell_type": "code",
   "execution_count": null,
   "id": "approved-vertical",
   "metadata": {},
   "outputs": [],
   "source": []
  },
  {
   "cell_type": "markdown",
   "id": "employed-contents",
   "metadata": {},
   "source": [
    "Note que, mesmo entre os aplicativos mais populares -- aqueles que possuem **número de instalações maior que 2485000** -- há alguns que estrapolam (**_outliers_**). <br/>\n",
    "Pelo boxplot, é possível chutar que qualquer app com mais do que 50M (0.05e9) são de fato **_outliers_**. <br/>\n",
    "\n",
    "Vamos analisar o **histograma** dos apps mais populares."
   ]
  },
  {
   "cell_type": "code",
   "execution_count": null,
   "id": "crucial-determination",
   "metadata": {},
   "outputs": [],
   "source": []
  },
  {
   "cell_type": "markdown",
   "id": "regular-whale",
   "metadata": {},
   "source": [
    "De fato, vemos que a maior parte dos apps mais populares possuem número de instalações inferior a 50M (0.05e9). <br/>\n",
    "\n",
    "Poderíamos estabelecer um novo intervalo de instalações para detectar outliers (apps mais populares). O novo intervalo seria **[0, 50000000]**, ao invés de [0, 2485000]. <br/>\n",
    "Consequentemente, diminuiríamos o número de apps considerados outliers e aumentaríamos a quantidade dos apps \"normais\" (menos populares). <br/>\n",
    "\n",
    "O problema é que, provavelmente, estes _apps removidos dos outliers_ serão **outliers** na amostra de apps \"normais\". <br/>\n",
    "Analisemos o boxplot deste conjunto:"
   ]
  },
  {
   "cell_type": "code",
   "execution_count": null,
   "id": "unknown-tutorial",
   "metadata": {},
   "outputs": [],
   "source": []
  },
  {
   "cell_type": "markdown",
   "id": "seeing-indonesia",
   "metadata": {},
   "source": [
    "Note que os **novos _outliers_** mostrados dentro do conjunto de _apps \"normais\" (menos populares)_. <br/>"
   ]
  },
  {
   "cell_type": "markdown",
   "id": "municipal-terminal",
   "metadata": {},
   "source": [
    "Dado este dilema, vamos adotar a seguinte estratégia: <br/>\n",
    "Como o conjunto de apps mais populares (outliers iniciais) continuam com **alta disperção** no _número de instalações_, independente se removermos seus apps com menos de 50M instalações, manteremos o conjunto originalmente obtidos como está. <br/>\n",
    "Isso porque, neste momento, estamos instereçados _apenas_ na análise de uma **única variável: _Installs_**. <br/>\n",
    "Desta forma, mantemos um conjunto de apps de fato _sem outliers_ (apps menos populares) para uma análise menos \"ruidosa\".\n",
    "\n",
    "Uma estratégia mais interessante ao querer confrontar/analisar **o número de instalações** com outra variável é agrupar os apps, de acordo com suas quantidades de downloads, em uma **nova variável categórica**. <br/>\n",
    "Isso tende _a facilitar nossa análise_, p. ex., isolando grupos de apps com números exorbitantes de instalação. <br/>\n",
    "Veremos isso jajá!"
   ]
  },
  {
   "cell_type": "markdown",
   "id": "proprietary-granny",
   "metadata": {},
   "source": [
    "### **Analisando a quantidade de instalação dos apps menos populares (menos instalados)**"
   ]
  },
  {
   "cell_type": "code",
   "execution_count": null,
   "id": "economic-assault",
   "metadata": {},
   "outputs": [],
   "source": []
  },
  {
   "cell_type": "code",
   "execution_count": null,
   "id": "equal-thousand",
   "metadata": {},
   "outputs": [],
   "source": []
  },
  {
   "cell_type": "code",
   "execution_count": null,
   "id": "organized-portfolio",
   "metadata": {},
   "outputs": [],
   "source": []
  },
  {
   "cell_type": "code",
   "execution_count": null,
   "id": "supported-prefix",
   "metadata": {},
   "outputs": [],
   "source": []
  },
  {
   "cell_type": "markdown",
   "id": "vanilla-stone",
   "metadata": {},
   "source": [
    "O **desvio padrão** das instalações ainda continua alto, mas bem menor do que para os _apps mais instalados_. <br/>\n",
    "A diferença entre a **média** e a **mediana** das instalações é _menor_ do que para os _apps mais instalados_. <br/>\n",
    "\n",
    "Apenas analisando estas estatísticas descritivas, percebemos que tal conjunto de apps ainda alta dispersão do número de instalações, mas em um intervalo bem menor do que para _apps mais instalados_."
   ]
  },
  {
   "cell_type": "code",
   "execution_count": null,
   "id": "tracked-mouse",
   "metadata": {},
   "outputs": [],
   "source": []
  },
  {
   "cell_type": "markdown",
   "id": "whole-advisory",
   "metadata": {},
   "source": [
    "Dos apps menos populares:\n",
    "- **25% (Q1)** possuem apps com número de instalações **<= 5000** (veja a tabela de describe)\n",
    "- **50% (Q2 - mediana)** possuem apps com número de instalações **<= 50000** (veja a tabela de describe)\n",
    "- **75% (Q3)** possuem apps com número de instalações **<= 500000** (veja a tabela de describe)\n",
    "- **25%** possuem apps com número de instalações **> 500000 e <= 1M**\n",
    "\n",
    "- **25%** possuem apps com número de instalações espalhados no intervalo de **[Q1, Q2] ==> [5000, 50000]**\n",
    "- **25%** possuem apps com número de instalações espalhados no intervalo de **[Q2, Q3] ==> [50000, 500000]**\n",
    "  + **maior dispersão** dos dados do que o caso anterior"
   ]
  },
  {
   "cell_type": "code",
   "execution_count": null,
   "id": "premium-arbor",
   "metadata": {},
   "outputs": [],
   "source": []
  },
  {
   "cell_type": "markdown",
   "id": "incorporated-vegetable",
   "metadata": {},
   "source": [
    "Dos **25% de apps mais instalados**, a maioria deles possuem número de instalações perto de **1M**."
   ]
  },
  {
   "cell_type": "markdown",
   "id": "geological-privilege",
   "metadata": {},
   "source": [
    "## 2.7 Criando grupos para a quantidade de instalações \n",
    "Vamos agrupar os aplicativos de acordo com seus **números de instalações**. <br/>\n",
    "Este processo é conhecido como **segmentação**: criaremos intervalores de valores (bins) para representar cada grupo. <br/>\n",
    "Em outras palavras, segmentaremos o intervalo original, de modo que cada grupo terá um segmento (sub-intervalo).\n",
    "\n",
    "Vamos adotar as seguintes categorias/grupos para o **número de instalações**:\n",
    "- **Muito Baixo**: [0, 1k] instalações\n",
    "- **Baixo**: (1k, 10k] instalações\n",
    "- **Médio**: (10k, 100k] installações \n",
    "- **Alto**: (100k, 1M]\n",
    "- **Muito Alto**: (1M, 100M]\n",
    "- **Extremamente Alto**: (100M,)\n",
    "\n",
    "PS: esta é apenas uma sugestão de segmentação. Outras opções poderiam ser levadas em conta."
   ]
  },
  {
   "cell_type": "code",
   "execution_count": null,
   "id": "smoking-decimal",
   "metadata": {},
   "outputs": [],
   "source": []
  },
  {
   "cell_type": "code",
   "execution_count": null,
   "id": "expired-truck",
   "metadata": {},
   "outputs": [],
   "source": []
  },
  {
   "cell_type": "code",
   "execution_count": null,
   "id": "republican-dinner",
   "metadata": {},
   "outputs": [],
   "source": []
  },
  {
   "cell_type": "code",
   "execution_count": null,
   "id": "educated-sierra",
   "metadata": {},
   "outputs": [],
   "source": []
  },
  {
   "cell_type": "code",
   "execution_count": null,
   "id": "brilliant-aerospace",
   "metadata": {},
   "outputs": [],
   "source": []
  },
  {
   "cell_type": "markdown",
   "id": "bottom-saint",
   "metadata": {},
   "source": [
    "Após a segmentação/agrupamento, conseguimos notar que a maior parte dos apps possuem um número **alto** ou **muito alto** de instalações, enquanto apenas um pequeno número possui um valor **extremamente alto** de instalações. <br/>\n",
    "Mais quais são esses números?"
   ]
  },
  {
   "cell_type": "code",
   "execution_count": null,
   "id": "accurate-westminster",
   "metadata": {},
   "outputs": [],
   "source": []
  },
  {
   "cell_type": "markdown",
   "id": "metropolitan-firewall",
   "metadata": {},
   "source": [
    "### Pie plot"
   ]
  },
  {
   "cell_type": "code",
   "execution_count": null,
   "id": "vocational-poverty",
   "metadata": {},
   "outputs": [],
   "source": []
  },
  {
   "cell_type": "code",
   "execution_count": null,
   "id": "structured-sector",
   "metadata": {},
   "outputs": [],
   "source": []
  },
  {
   "cell_type": "markdown",
   "id": "wrong-facing",
   "metadata": {},
   "source": [
    "O uso do gráfico de pizza é um pouco _controverso_, uma vez que a **percepção de diferenças entre áreas** não é tão perceptível do que a **diferença entre alturas** em um gráfico de barras. <br/>\n",
    "P. ex., por este gráfico, como saber qual área é maior: _Alto_ ou _Muito Alto_??? _Médio_ ou _Baixo_? <br/>\n",
    "Desta maneira, no geral o **gráfico de pizza** é preferível.\n",
    "\n",
    "Mas, podemos tentar melhorar o gráfico de pizza adicionando os números de cada fatia:"
   ]
  },
  {
   "cell_type": "code",
   "execution_count": null,
   "id": "minor-bandwidth",
   "metadata": {},
   "outputs": [],
   "source": []
  },
  {
   "cell_type": "markdown",
   "id": "blind-horizontal",
   "metadata": {},
   "source": [
    "## 2.8 Qual é a proporção de apps Free e Paid?"
   ]
  },
  {
   "cell_type": "code",
   "execution_count": null,
   "id": "infrared-crowd",
   "metadata": {},
   "outputs": [],
   "source": []
  },
  {
   "cell_type": "code",
   "execution_count": null,
   "id": "amateur-plymouth",
   "metadata": {},
   "outputs": [],
   "source": []
  },
  {
   "cell_type": "code",
   "execution_count": null,
   "id": "expected-growth",
   "metadata": {},
   "outputs": [],
   "source": []
  },
  {
   "cell_type": "code",
   "execution_count": null,
   "id": "bulgarian-prototype",
   "metadata": {},
   "outputs": [],
   "source": []
  },
  {
   "cell_type": "code",
   "execution_count": null,
   "id": "protecting-washer",
   "metadata": {},
   "outputs": [],
   "source": []
  },
  {
   "cell_type": "markdown",
   "id": "sustainable-fifteen",
   "metadata": {},
   "source": [
    "## 2.9 Qual é avaliação média de cada tipo de aplicativo?\n",
    "Variável numérica x Variável Categórica."
   ]
  },
  {
   "cell_type": "code",
   "execution_count": null,
   "id": "patent-budget",
   "metadata": {},
   "outputs": [],
   "source": []
  },
  {
   "cell_type": "code",
   "execution_count": null,
   "id": "adaptive-pendant",
   "metadata": {},
   "outputs": [],
   "source": []
  },
  {
   "cell_type": "code",
   "execution_count": null,
   "id": "injured-glance",
   "metadata": {},
   "outputs": [],
   "source": []
  },
  {
   "cell_type": "code",
   "execution_count": null,
   "id": "fatty-swiss",
   "metadata": {},
   "outputs": [],
   "source": []
  },
  {
   "cell_type": "code",
   "execution_count": null,
   "id": "plain-theater",
   "metadata": {},
   "outputs": [],
   "source": []
  },
  {
   "cell_type": "markdown",
   "id": "indirect-consideration",
   "metadata": {},
   "source": [
    "##### RIDGE LINE"
   ]
  },
  {
   "cell_type": "code",
   "execution_count": null,
   "id": "religious-avatar",
   "metadata": {},
   "outputs": [],
   "source": []
  },
  {
   "cell_type": "markdown",
   "id": "talented-shell",
   "metadata": {},
   "source": [
    "Por mais que a **proporção** de apps gratuitos e pagos seja bem diferentes, ao analisar as estatísticas descritivas e os plots, conseguimos afirmar que a _distribuição de avaliações_ de cada tipo é aproximadamente similar, sendo os aplicativos pagos ligeiramente melhor avaliados do que os apps gratuitos."
   ]
  },
  {
   "cell_type": "markdown",
   "id": "affecting-technician",
   "metadata": {},
   "source": [
    "## 2.10 Qual é distribuição de avaliações de cada tipo de aplicativo de acordo com a quantidade de instalações?\n",
    "Comparação de 3 variáveis: uma numérica e duas categóricas."
   ]
  },
  {
   "cell_type": "code",
   "execution_count": null,
   "id": "breathing-skating",
   "metadata": {},
   "outputs": [],
   "source": []
  },
  {
   "cell_type": "markdown",
   "id": "understood-suspension",
   "metadata": {},
   "source": [
    "Alguns insights/conlusões:\n",
    "- No geral, a grande maioria dos apps gratuitos e pagos (~75%) possui avaliações próximas de 4 para cima, independente do número de instalações.\n",
    "- Não temos apps pagos que foram **extremamente baixados** (> 100M)\n",
    "- Não temos a escala de preços, mas faz sentido pensar que quanto maior o preço do app, menor o número de instalações (vejamos isso depois)\n",
    "- Apps com número de instalação 'Alta' e 'Muito Alta' possuem menor dispersão entre as avaliações, ou seja, a percepção dos usuários é parecida.\n",
    "- Apps com número _'Muito Baixo' de instalações ([0, 1k]) possuem opiniões mais diversas"
   ]
  },
  {
   "cell_type": "markdown",
   "id": "educational-azerbaijan",
   "metadata": {},
   "source": [
    "## 2.11 Qual é avaliação média de cada categoria para cada tipo de aplicativo?\n",
    "Comparação de 3 variáveis: uma numérica e duas categóricas."
   ]
  },
  {
   "cell_type": "code",
   "execution_count": null,
   "id": "dental-conspiracy",
   "metadata": {},
   "outputs": [],
   "source": []
  },
  {
   "cell_type": "code",
   "execution_count": null,
   "id": "trying-insider",
   "metadata": {},
   "outputs": [],
   "source": []
  },
  {
   "cell_type": "markdown",
   "id": "relevant-priority",
   "metadata": {},
   "source": [
    "Analisando este gráfico, podemos identificar algumas categorias cujas as **avaliações** médias **são bem discrepantes** para cada tipo:\n",
    "P. ex: 'Parenting'.\n",
    "\n",
    "Você pode querer analisar esta categoria específica para então tentar entender ou buscar insights das causas destas discrepâncias."
   ]
  },
  {
   "cell_type": "code",
   "execution_count": null,
   "id": "responsible-smoke",
   "metadata": {},
   "outputs": [],
   "source": []
  },
  {
   "cell_type": "code",
   "execution_count": null,
   "id": "palestinian-monitor",
   "metadata": {},
   "outputs": [],
   "source": []
  },
  {
   "cell_type": "code",
   "execution_count": null,
   "id": "super-islam",
   "metadata": {},
   "outputs": [],
   "source": []
  },
  {
   "cell_type": "code",
   "execution_count": null,
   "id": "mature-tournament",
   "metadata": {},
   "outputs": [],
   "source": []
  },
  {
   "cell_type": "markdown",
   "id": "corresponding-rings",
   "metadata": {},
   "source": [
    "Note que a quantidade de apps **pagos** da category 'Parenting' (2 apps - 4%) é _muito menor_ do que de apps **gratuitos** (96%). Além do problema do desbalanceamento, 2 observações é muito pouco para analisarmos. <br/>\n",
    "Dados tudo isso, **TOME CUIDADO**, pois podemos tirar conclusões precipitadas em situações como essa."
   ]
  },
  {
   "cell_type": "markdown",
   "id": "genuine-update",
   "metadata": {},
   "source": [
    "### Population Pyramid\n",
    "A Population Pyramid is a pair of back-to-back Histograms (for each sex) that displays the distribution of a population in all age groups and in both sexes. The X-axis is used to plot population numbers and the Y-axis lists all age groups"
   ]
  },
  {
   "cell_type": "code",
   "execution_count": null,
   "id": "revolutionary-implement",
   "metadata": {},
   "outputs": [],
   "source": []
  },
  {
   "cell_type": "markdown",
   "id": "advised-burden",
   "metadata": {},
   "source": [
    "_Não levando em consideração o tamanho de cada grupo neste momento_, podemos ver que a média das avaliações dos apps **gratuitos** é relativamente similar em todas as categorias. <br/>\n",
    "Já para os aplicativos pagos, a dispersão entre as avaliações médias das categorias é maior é maior."
   ]
  },
  {
   "cell_type": "markdown",
   "id": "absent-basis",
   "metadata": {},
   "source": [
    "## 2.12 Existe correlação entre os preços dos aplicativos e suas avaliações?"
   ]
  },
  {
   "cell_type": "code",
   "execution_count": null,
   "id": "laughing-federation",
   "metadata": {},
   "outputs": [],
   "source": []
  },
  {
   "cell_type": "code",
   "execution_count": null,
   "id": "excessive-unemployment",
   "metadata": {},
   "outputs": [],
   "source": []
  },
  {
   "cell_type": "code",
   "execution_count": null,
   "id": "humanitarian-formula",
   "metadata": {},
   "outputs": [],
   "source": []
  },
  {
   "cell_type": "code",
   "execution_count": null,
   "id": "nuclear-religious",
   "metadata": {},
   "outputs": [],
   "source": []
  },
  {
   "cell_type": "code",
   "execution_count": null,
   "id": "enclosed-horror",
   "metadata": {},
   "outputs": [],
   "source": []
  },
  {
   "cell_type": "code",
   "execution_count": null,
   "id": "hungarian-session",
   "metadata": {},
   "outputs": [],
   "source": []
  },
  {
   "cell_type": "code",
   "execution_count": null,
   "id": "waiting-remains",
   "metadata": {},
   "outputs": [],
   "source": []
  },
  {
   "cell_type": "code",
   "execution_count": null,
   "id": "local-religious",
   "metadata": {},
   "outputs": [],
   "source": []
  },
  {
   "cell_type": "markdown",
   "id": "express-lawyer",
   "metadata": {},
   "source": [
    "### **CORRELAÇÃO DO PREÇOS COM AS DEMAIS VARIÁVEIS NÚMERICAS PARA OS APPS PAGOS**"
   ]
  },
  {
   "cell_type": "code",
   "execution_count": null,
   "id": "welsh-boulder",
   "metadata": {},
   "outputs": [],
   "source": []
  },
  {
   "cell_type": "markdown",
   "id": "consecutive-anime",
   "metadata": {},
   "source": [
    "Analisando os **coeficientes de correlação**, vemos que não há nenhuma correlação forte entre o preço e outra variável numérica.<br/>\n",
    "Isso é interessante, pois tínhamos a impressão que _quanto mais caro o app_ **menor** o _número de instalações_. Vamos analisar esse cenário com mais cuidado na próxima pergunta."
   ]
  },
  {
   "cell_type": "code",
   "execution_count": null,
   "id": "viral-blade",
   "metadata": {},
   "outputs": [],
   "source": []
  },
  {
   "cell_type": "markdown",
   "id": "mathematical-thriller",
   "metadata": {},
   "source": [
    "Ignore os os plots de outras variáveis sem considerar o preço, por este momento.\n",
    "\n",
    "Olhando para os scatterplots com Preço (última coluna), confirmamos, visualmente, que não há correlações fortes entre o **preço** e as demais variáveis númericas. <br/>\n",
    "O que notamos é que parece haver uma _correlação (não necessariamente causalidade)_ entre as **avaliações** dos _apps pagos_ com seus **tamanhos**. <br/>"
   ]
  },
  {
   "cell_type": "code",
   "execution_count": null,
   "id": "antique-morocco",
   "metadata": {},
   "outputs": [],
   "source": []
  },
  {
   "cell_type": "code",
   "execution_count": null,
   "id": "increasing-festival",
   "metadata": {},
   "outputs": [],
   "source": []
  },
  {
   "cell_type": "markdown",
   "id": "reduced-foster",
   "metadata": {},
   "source": [
    "Mas, ao analisarmos com calma, percebemos que é foi uma percepção errada."
   ]
  },
  {
   "cell_type": "markdown",
   "id": "dependent-cause",
   "metadata": {},
   "source": [
    "## 2.13 O número de instalações está correlacionado com o preço dos apps?"
   ]
  },
  {
   "cell_type": "code",
   "execution_count": null,
   "id": "premium-permission",
   "metadata": {},
   "outputs": [],
   "source": []
  },
  {
   "cell_type": "markdown",
   "id": "rolled-product",
   "metadata": {},
   "source": [
    "Pelo coeficiente de correlação, **NÃO**."
   ]
  },
  {
   "cell_type": "code",
   "execution_count": null,
   "id": "theoretical-hardware",
   "metadata": {},
   "outputs": [],
   "source": []
  },
  {
   "cell_type": "markdown",
   "id": "adjustable-diabetes",
   "metadata": {},
   "source": [
    "Vemos que há alguns **outliers** que dificultam a visualização. Vamos removê-los \"no olho\"."
   ]
  },
  {
   "cell_type": "code",
   "execution_count": null,
   "id": "three-temperature",
   "metadata": {},
   "outputs": [],
   "source": []
  },
  {
   "cell_type": "code",
   "execution_count": null,
   "id": "lonely-beauty",
   "metadata": {},
   "outputs": [],
   "source": []
  },
  {
   "cell_type": "markdown",
   "id": "resistant-genre",
   "metadata": {},
   "source": [
    "Realmente, parece não haver correlação entre o número de instalações e os preços dos apps, pois há apps caros ($ 400.0) médio de instalações. Vejamos quem são eles (o que comem, onde moram, ...) =D"
   ]
  },
  {
   "cell_type": "code",
   "execution_count": null,
   "id": "labeled-adrian",
   "metadata": {},
   "outputs": [],
   "source": []
  },
  {
   "cell_type": "markdown",
   "id": "digital-korea",
   "metadata": {},
   "source": [
    "Os dois primeiros apps custam +- $ 400.0 e foram muito baixados. Após uma pesquisa simples no google: https://www.techtudo.com.br/artigos/noticia/2012/03/aplicativos-de-celular-que-servem-apenas-para-mostrar-o-quanto-voce-e-rico.html"
   ]
  },
  {
   "cell_type": "markdown",
   "id": "cellular-sandwich",
   "metadata": {},
   "source": [
    "### **Analisando apenas apps com preço <= $100**"
   ]
  },
  {
   "cell_type": "code",
   "execution_count": null,
   "id": "aboriginal-honolulu",
   "metadata": {},
   "outputs": [],
   "source": []
  },
  {
   "cell_type": "code",
   "execution_count": null,
   "id": "greatest-guess",
   "metadata": {},
   "outputs": [],
   "source": []
  },
  {
   "cell_type": "code",
   "execution_count": null,
   "id": "checked-client",
   "metadata": {},
   "outputs": [],
   "source": []
  },
  {
   "cell_type": "markdown",
   "id": "behavioral-eating",
   "metadata": {},
   "source": [
    "Bem, mesmo removendo \"outliers\" e analisando apena uma faixa de preço, **não há correlação** entre o **preço dos apps** e o **número de ĩnstalações** (ao menos para este problema e dataset)."
   ]
  },
  {
   "cell_type": "markdown",
   "id": "exempt-forest",
   "metadata": {},
   "source": [
    "## 2.14 Qual a correlação entre as variáveis numéricas?"
   ]
  },
  {
   "cell_type": "code",
   "execution_count": null,
   "id": "fossil-advertising",
   "metadata": {},
   "outputs": [],
   "source": []
  },
  {
   "cell_type": "markdown",
   "id": "informative-consistency",
   "metadata": {},
   "source": [
    "Apenas analisando os **coeficientes de correlação**, vemos que as únicas variáveis numéricas que apresentam alguma correlação são **Installs** (número de instalações) e **Reviews** (número de revisões), o que é meio óbvio, pensando bem =D"
   ]
  },
  {
   "cell_type": "code",
   "execution_count": null,
   "id": "binary-antibody",
   "metadata": {},
   "outputs": [],
   "source": []
  },
  {
   "cell_type": "code",
   "execution_count": null,
   "id": "sacred-setting",
   "metadata": {},
   "outputs": [],
   "source": []
  },
  {
   "cell_type": "code",
   "execution_count": null,
   "id": "amino-curve",
   "metadata": {},
   "outputs": [],
   "source": []
  },
  {
   "cell_type": "code",
   "execution_count": null,
   "id": "vietnamese-course",
   "metadata": {},
   "outputs": [],
   "source": []
  },
  {
   "cell_type": "markdown",
   "id": "italic-stereo",
   "metadata": {},
   "source": [
    "Note que a quantidade de instalações e de reviews são bem baixas para os apps pagos."
   ]
  },
  {
   "cell_type": "markdown",
   "id": "dying-resolution",
   "metadata": {},
   "source": [
    "## 2.15 Como estão distribuídas as categorias de acordo com a classificação de conteúdo?"
   ]
  },
  {
   "cell_type": "code",
   "execution_count": null,
   "id": "living-treat",
   "metadata": {},
   "outputs": [],
   "source": []
  },
  {
   "cell_type": "code",
   "execution_count": null,
   "id": "special-jason",
   "metadata": {},
   "outputs": [],
   "source": []
  },
  {
   "cell_type": "code",
   "execution_count": null,
   "id": "casual-mexican",
   "metadata": {},
   "outputs": [],
   "source": []
  },
  {
   "cell_type": "code",
   "execution_count": null,
   "id": "liberal-hydrogen",
   "metadata": {},
   "outputs": [],
   "source": []
  },
  {
   "cell_type": "code",
   "execution_count": null,
   "id": "analyzed-tower",
   "metadata": {},
   "outputs": [],
   "source": []
  },
  {
   "cell_type": "markdown",
   "id": "included-strike",
   "metadata": {},
   "source": [
    "## Continue a análise\n",
    "**Sugestões**:\n",
    "- Analisar as categorias e gêneros\n",
    "- Analisar os gêneros e tipos de apps\n",
    "- Analisar as avaliações e números de instalações por gênero\n",
    "- Relacionar a indicação de conteúdo com o número de instalações\n",
    "- Organize todos os achados e conclusões deste notebook em uma apresentação que conte uma história"
   ]
  },
  {
   "cell_type": "code",
   "execution_count": null,
   "id": "lyric-expansion",
   "metadata": {},
   "outputs": [],
   "source": []
  }
 ],
 "metadata": {
  "kernelspec": {
   "display_name": "Python 3",
   "language": "python",
   "name": "python3"
  },
  "language_info": {
   "codemirror_mode": {
    "name": "ipython",
    "version": 3
   },
   "file_extension": ".py",
   "mimetype": "text/x-python",
   "name": "python",
   "nbconvert_exporter": "python",
   "pygments_lexer": "ipython3",
   "version": "3.8.8"
  }
 },
 "nbformat": 4,
 "nbformat_minor": 5
}
