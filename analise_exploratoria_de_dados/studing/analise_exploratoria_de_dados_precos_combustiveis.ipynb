{
 "cells": [
  {
   "cell_type": "markdown",
   "id": "involved-picking",
   "metadata": {
    "slideshow": {
     "slide_type": "fragment"
    }
   },
   "source": [
    "**D1AED: Análise Estatística para Ciência de Dados (2021.1)** <br/>\n",
    "IFSP Campinas\n",
    "\n",
    "Profs: Ricardo Sovat, Samuel Martins <br/><br/>\n",
    "\n",
    "<a rel=\"license\" href=\"http://creativecommons.org/licenses/by-nc-sa/4.0/\"><img alt=\"Creative Commons License\" style=\"border-width:0\" src=\"https://i.creativecommons.org/l/by-nc-sa/4.0/88x31.png\" /></a><br />This work is licensed under a <a rel=\"license\" href=\"http://creativecommons.org/licenses/by-nc-sa/4.0/\">Creative Commons Attribution-NonCommercial-ShareAlike 4.0 International License</a>."
   ]
  },
  {
   "cell_type": "markdown",
   "id": "desirable-router",
   "metadata": {},
   "source": [
    "### Pacotes usados neste Notebook"
   ]
  },
  {
   "cell_type": "code",
   "execution_count": 1,
   "id": "legendary-coordinator",
   "metadata": {},
   "outputs": [],
   "source": [
    "# pacotes usados neste notebook\n",
    "import pandas as pd\n",
    "import seaborn as sns\n",
    "import matplotlib.pyplot as plt\n",
    "import numpy as np"
   ]
  },
  {
   "cell_type": "markdown",
   "id": "wrapped-balloon",
   "metadata": {},
   "source": [
    "<h1>Análise Exploratória de Dados</h1><hr/>"
   ]
  },
  {
   "cell_type": "markdown",
   "id": "dedicated-trout",
   "metadata": {},
   "source": [
    "A **Análise Exploratória de Dados** refere-se ao processo de investigação de dados (de um problema) para a descoberta de _insights_, padrões, anomalias, testar hipóteses e checar suposições com a ajuda de técnicas e conceitos estatísticos e representações visuais/gráficas."
   ]
  },
  {
   "cell_type": "markdown",
   "id": "posted-diesel",
   "metadata": {},
   "source": [
    "<h2>1. Dataset</h2>\n",
    "<hr/>"
   ]
  },
  {
   "cell_type": "markdown",
   "id": "freelance-commons",
   "metadata": {},
   "source": [
    "**Dataset**: Gas Prices in Brazil: https://www.kaggle.com/matheusfreitag/gas-prices-in-brazil <br/>\n",
    "\n",
    "Este dataset contém os **registros dos preços médios semanais dos combustíveis do Brasil entre os anos de 2004 e 2019**. <br/>\n",
    "Cada *amostra (registro/linha)* consiste em um registro de preço aferido para um dado tipo de combustível em uma dada localidade do Brasil. <br/>\n",
    "Alguns dos principais *atributos* (colunas) do dataset são: 'ESTADO', 'PRODUTO', 'NÚMERO DE POSTOS PESQUISADOS', 'PREÇO MÉDIO REVENDA'."
   ]
  },
  {
   "cell_type": "markdown",
   "id": "sublime-distance",
   "metadata": {},
   "source": [
    "O dataset utilizado neste notebook já foi _pré-processado_ anteriormente. Para mais informações, cheque os vídeos mostrados do curso [\"Pandas Essencial\" no YouTube](https://www.youtube.com/playlist?list=PL3ZslI15yo2pfkf7EGNR14xTwe-wZ2bNX), onde realizamos tal preprocessamento."
   ]
  },
  {
   "cell_type": "markdown",
   "id": "worse-characteristic",
   "metadata": {},
   "source": [
    "### 1.1. Importando o Dataset"
   ]
  },
  {
   "cell_type": "code",
   "execution_count": 6,
   "id": "demonstrated-writing",
   "metadata": {},
   "outputs": [],
   "source": [
    "data = pd.read_csv('../datasets/GasPricesinBrazil_2004-2019_preprocessado_final.csv')"
   ]
  },
  {
   "cell_type": "code",
   "execution_count": 7,
   "id": "f53cacc9-b1bb-4abf-9f04-05e9fc3d6aab",
   "metadata": {},
   "outputs": [
    {
     "data": {
      "text/html": [
       "<div>\n",
       "<style scoped>\n",
       "    .dataframe tbody tr th:only-of-type {\n",
       "        vertical-align: middle;\n",
       "    }\n",
       "\n",
       "    .dataframe tbody tr th {\n",
       "        vertical-align: top;\n",
       "    }\n",
       "\n",
       "    .dataframe thead th {\n",
       "        text-align: right;\n",
       "    }\n",
       "</style>\n",
       "<table border=\"1\" class=\"dataframe\">\n",
       "  <thead>\n",
       "    <tr style=\"text-align: right;\">\n",
       "      <th></th>\n",
       "      <th>DATA INICIAL</th>\n",
       "      <th>DATA FINAL</th>\n",
       "      <th>REGIÃO</th>\n",
       "      <th>ESTADO</th>\n",
       "      <th>PRODUTO</th>\n",
       "      <th>NÚMERO DE POSTOS PESQUISADOS</th>\n",
       "      <th>UNIDADE DE MEDIDA</th>\n",
       "      <th>PREÇO MÉDIO REVENDA</th>\n",
       "      <th>DESVIO PADRÃO REVENDA</th>\n",
       "      <th>PREÇO MÍNIMO REVENDA</th>\n",
       "      <th>PREÇO MÁXIMO REVENDA</th>\n",
       "      <th>MARGEM MÉDIA REVENDA</th>\n",
       "      <th>COEF DE VARIAÇÃO REVENDA</th>\n",
       "      <th>PREÇO MÉDIO DISTRIBUIÇÃO</th>\n",
       "      <th>DESVIO PADRÃO DISTRIBUIÇÃO</th>\n",
       "      <th>PREÇO MÍNIMO DISTRIBUIÇÃO</th>\n",
       "      <th>PREÇO MÁXIMO DISTRIBUIÇÃO</th>\n",
       "      <th>COEF DE VARIAÇÃO DISTRIBUIÇÃO</th>\n",
       "      <th>MÊS</th>\n",
       "      <th>ANO</th>\n",
       "    </tr>\n",
       "  </thead>\n",
       "  <tbody>\n",
       "    <tr>\n",
       "      <th>0</th>\n",
       "      <td>2004-05-09</td>\n",
       "      <td>2004-05-15</td>\n",
       "      <td>CENTRO OESTE</td>\n",
       "      <td>DISTRITO FEDERAL</td>\n",
       "      <td>ETANOL HIDRATADO</td>\n",
       "      <td>127</td>\n",
       "      <td>R$/l</td>\n",
       "      <td>1.288</td>\n",
       "      <td>0.016</td>\n",
       "      <td>1.190</td>\n",
       "      <td>1.350</td>\n",
       "      <td>0.463</td>\n",
       "      <td>0.012</td>\n",
       "      <td>0.825</td>\n",
       "      <td>0.110</td>\n",
       "      <td>0.4201</td>\n",
       "      <td>0.96660</td>\n",
       "      <td>0.133</td>\n",
       "      <td>5</td>\n",
       "      <td>2004</td>\n",
       "    </tr>\n",
       "    <tr>\n",
       "      <th>1</th>\n",
       "      <td>2004-05-09</td>\n",
       "      <td>2004-05-15</td>\n",
       "      <td>CENTRO OESTE</td>\n",
       "      <td>GOIAS</td>\n",
       "      <td>ETANOL HIDRATADO</td>\n",
       "      <td>387</td>\n",
       "      <td>R$/l</td>\n",
       "      <td>1.162</td>\n",
       "      <td>0.114</td>\n",
       "      <td>0.890</td>\n",
       "      <td>1.449</td>\n",
       "      <td>0.399</td>\n",
       "      <td>0.098</td>\n",
       "      <td>0.763</td>\n",
       "      <td>0.088</td>\n",
       "      <td>0.5013</td>\n",
       "      <td>1.05000</td>\n",
       "      <td>0.115</td>\n",
       "      <td>5</td>\n",
       "      <td>2004</td>\n",
       "    </tr>\n",
       "    <tr>\n",
       "      <th>2</th>\n",
       "      <td>2004-05-09</td>\n",
       "      <td>2004-05-15</td>\n",
       "      <td>CENTRO OESTE</td>\n",
       "      <td>MATO GROSSO</td>\n",
       "      <td>ETANOL HIDRATADO</td>\n",
       "      <td>192</td>\n",
       "      <td>R$/l</td>\n",
       "      <td>1.389</td>\n",
       "      <td>0.097</td>\n",
       "      <td>1.180</td>\n",
       "      <td>1.760</td>\n",
       "      <td>0.419</td>\n",
       "      <td>0.070</td>\n",
       "      <td>0.970</td>\n",
       "      <td>0.095</td>\n",
       "      <td>0.5614</td>\n",
       "      <td>1.16100</td>\n",
       "      <td>0.098</td>\n",
       "      <td>5</td>\n",
       "      <td>2004</td>\n",
       "    </tr>\n",
       "    <tr>\n",
       "      <th>3</th>\n",
       "      <td>2004-05-09</td>\n",
       "      <td>2004-05-15</td>\n",
       "      <td>CENTRO OESTE</td>\n",
       "      <td>MATO GROSSO DO SUL</td>\n",
       "      <td>ETANOL HIDRATADO</td>\n",
       "      <td>162</td>\n",
       "      <td>R$/l</td>\n",
       "      <td>1.262</td>\n",
       "      <td>0.070</td>\n",
       "      <td>1.090</td>\n",
       "      <td>1.509</td>\n",
       "      <td>0.432</td>\n",
       "      <td>0.055</td>\n",
       "      <td>0.830</td>\n",
       "      <td>0.119</td>\n",
       "      <td>0.5991</td>\n",
       "      <td>1.22242</td>\n",
       "      <td>0.143</td>\n",
       "      <td>5</td>\n",
       "      <td>2004</td>\n",
       "    </tr>\n",
       "    <tr>\n",
       "      <th>4</th>\n",
       "      <td>2004-05-09</td>\n",
       "      <td>2004-05-15</td>\n",
       "      <td>NORDESTE</td>\n",
       "      <td>ALAGOAS</td>\n",
       "      <td>ETANOL HIDRATADO</td>\n",
       "      <td>103</td>\n",
       "      <td>R$/l</td>\n",
       "      <td>1.181</td>\n",
       "      <td>0.078</td>\n",
       "      <td>1.050</td>\n",
       "      <td>1.400</td>\n",
       "      <td>0.240</td>\n",
       "      <td>0.066</td>\n",
       "      <td>0.941</td>\n",
       "      <td>0.077</td>\n",
       "      <td>0.7441</td>\n",
       "      <td>1.03170</td>\n",
       "      <td>0.082</td>\n",
       "      <td>5</td>\n",
       "      <td>2004</td>\n",
       "    </tr>\n",
       "    <tr>\n",
       "      <th>...</th>\n",
       "      <td>...</td>\n",
       "      <td>...</td>\n",
       "      <td>...</td>\n",
       "      <td>...</td>\n",
       "      <td>...</td>\n",
       "      <td>...</td>\n",
       "      <td>...</td>\n",
       "      <td>...</td>\n",
       "      <td>...</td>\n",
       "      <td>...</td>\n",
       "      <td>...</td>\n",
       "      <td>...</td>\n",
       "      <td>...</td>\n",
       "      <td>...</td>\n",
       "      <td>...</td>\n",
       "      <td>...</td>\n",
       "      <td>...</td>\n",
       "      <td>...</td>\n",
       "      <td>...</td>\n",
       "      <td>...</td>\n",
       "    </tr>\n",
       "    <tr>\n",
       "      <th>103387</th>\n",
       "      <td>2019-06-23</td>\n",
       "      <td>2019-06-29</td>\n",
       "      <td>NORDESTE</td>\n",
       "      <td>RIO GRANDE DO NORTE</td>\n",
       "      <td>GNV</td>\n",
       "      <td>7</td>\n",
       "      <td>R$/m3</td>\n",
       "      <td>3.574</td>\n",
       "      <td>0.065</td>\n",
       "      <td>3.499</td>\n",
       "      <td>3.690</td>\n",
       "      <td>0.818</td>\n",
       "      <td>0.018</td>\n",
       "      <td>2.756</td>\n",
       "      <td>0.000</td>\n",
       "      <td>2.7560</td>\n",
       "      <td>2.75600</td>\n",
       "      <td>0.000</td>\n",
       "      <td>6</td>\n",
       "      <td>2019</td>\n",
       "    </tr>\n",
       "    <tr>\n",
       "      <th>103388</th>\n",
       "      <td>2019-06-23</td>\n",
       "      <td>2019-06-29</td>\n",
       "      <td>SUL</td>\n",
       "      <td>RIO GRANDE DO SUL</td>\n",
       "      <td>GNV</td>\n",
       "      <td>23</td>\n",
       "      <td>R$/m3</td>\n",
       "      <td>3.401</td>\n",
       "      <td>0.129</td>\n",
       "      <td>3.230</td>\n",
       "      <td>3.789</td>\n",
       "      <td>0.950</td>\n",
       "      <td>0.038</td>\n",
       "      <td>2.451</td>\n",
       "      <td>0.402</td>\n",
       "      <td>1.9842</td>\n",
       "      <td>2.86610</td>\n",
       "      <td>0.164</td>\n",
       "      <td>6</td>\n",
       "      <td>2019</td>\n",
       "    </tr>\n",
       "    <tr>\n",
       "      <th>103389</th>\n",
       "      <td>2019-06-23</td>\n",
       "      <td>2019-06-29</td>\n",
       "      <td>SUL</td>\n",
       "      <td>SANTA CATARINA</td>\n",
       "      <td>GNV</td>\n",
       "      <td>24</td>\n",
       "      <td>R$/m3</td>\n",
       "      <td>2.912</td>\n",
       "      <td>0.190</td>\n",
       "      <td>2.699</td>\n",
       "      <td>3.499</td>\n",
       "      <td>0.914</td>\n",
       "      <td>0.065</td>\n",
       "      <td>1.998</td>\n",
       "      <td>0.000</td>\n",
       "      <td>1.9981</td>\n",
       "      <td>1.99810</td>\n",
       "      <td>0.000</td>\n",
       "      <td>6</td>\n",
       "      <td>2019</td>\n",
       "    </tr>\n",
       "    <tr>\n",
       "      <th>103390</th>\n",
       "      <td>2019-06-23</td>\n",
       "      <td>2019-06-29</td>\n",
       "      <td>SUDESTE</td>\n",
       "      <td>SAO PAULO</td>\n",
       "      <td>GNV</td>\n",
       "      <td>52</td>\n",
       "      <td>R$/m3</td>\n",
       "      <td>3.020</td>\n",
       "      <td>0.229</td>\n",
       "      <td>2.699</td>\n",
       "      <td>3.490</td>\n",
       "      <td>0.646</td>\n",
       "      <td>0.076</td>\n",
       "      <td>2.374</td>\n",
       "      <td>0.165</td>\n",
       "      <td>2.0179</td>\n",
       "      <td>2.50930</td>\n",
       "      <td>0.070</td>\n",
       "      <td>6</td>\n",
       "      <td>2019</td>\n",
       "    </tr>\n",
       "    <tr>\n",
       "      <th>103391</th>\n",
       "      <td>2019-06-23</td>\n",
       "      <td>2019-06-29</td>\n",
       "      <td>NORDESTE</td>\n",
       "      <td>SERGIPE</td>\n",
       "      <td>GNV</td>\n",
       "      <td>4</td>\n",
       "      <td>R$/m3</td>\n",
       "      <td>3.697</td>\n",
       "      <td>0.005</td>\n",
       "      <td>3.689</td>\n",
       "      <td>3.699</td>\n",
       "      <td>1.179</td>\n",
       "      <td>0.001</td>\n",
       "      <td>2.518</td>\n",
       "      <td>0.000</td>\n",
       "      <td>2.5175</td>\n",
       "      <td>2.51750</td>\n",
       "      <td>0.000</td>\n",
       "      <td>6</td>\n",
       "      <td>2019</td>\n",
       "    </tr>\n",
       "  </tbody>\n",
       "</table>\n",
       "<p>103392 rows × 20 columns</p>\n",
       "</div>"
      ],
      "text/plain": [
       "       DATA INICIAL  DATA FINAL        REGIÃO               ESTADO  \\\n",
       "0        2004-05-09  2004-05-15  CENTRO OESTE     DISTRITO FEDERAL   \n",
       "1        2004-05-09  2004-05-15  CENTRO OESTE                GOIAS   \n",
       "2        2004-05-09  2004-05-15  CENTRO OESTE          MATO GROSSO   \n",
       "3        2004-05-09  2004-05-15  CENTRO OESTE   MATO GROSSO DO SUL   \n",
       "4        2004-05-09  2004-05-15      NORDESTE              ALAGOAS   \n",
       "...             ...         ...           ...                  ...   \n",
       "103387   2019-06-23  2019-06-29      NORDESTE  RIO GRANDE DO NORTE   \n",
       "103388   2019-06-23  2019-06-29           SUL    RIO GRANDE DO SUL   \n",
       "103389   2019-06-23  2019-06-29           SUL       SANTA CATARINA   \n",
       "103390   2019-06-23  2019-06-29       SUDESTE            SAO PAULO   \n",
       "103391   2019-06-23  2019-06-29      NORDESTE              SERGIPE   \n",
       "\n",
       "                 PRODUTO  NÚMERO DE POSTOS PESQUISADOS UNIDADE DE MEDIDA  \\\n",
       "0       ETANOL HIDRATADO                           127              R$/l   \n",
       "1       ETANOL HIDRATADO                           387              R$/l   \n",
       "2       ETANOL HIDRATADO                           192              R$/l   \n",
       "3       ETANOL HIDRATADO                           162              R$/l   \n",
       "4       ETANOL HIDRATADO                           103              R$/l   \n",
       "...                  ...                           ...               ...   \n",
       "103387               GNV                             7             R$/m3   \n",
       "103388               GNV                            23             R$/m3   \n",
       "103389               GNV                            24             R$/m3   \n",
       "103390               GNV                            52             R$/m3   \n",
       "103391               GNV                             4             R$/m3   \n",
       "\n",
       "        PREÇO MÉDIO REVENDA  DESVIO PADRÃO REVENDA  PREÇO MÍNIMO REVENDA  \\\n",
       "0                     1.288                  0.016                 1.190   \n",
       "1                     1.162                  0.114                 0.890   \n",
       "2                     1.389                  0.097                 1.180   \n",
       "3                     1.262                  0.070                 1.090   \n",
       "4                     1.181                  0.078                 1.050   \n",
       "...                     ...                    ...                   ...   \n",
       "103387                3.574                  0.065                 3.499   \n",
       "103388                3.401                  0.129                 3.230   \n",
       "103389                2.912                  0.190                 2.699   \n",
       "103390                3.020                  0.229                 2.699   \n",
       "103391                3.697                  0.005                 3.689   \n",
       "\n",
       "        PREÇO MÁXIMO REVENDA  MARGEM MÉDIA REVENDA  COEF DE VARIAÇÃO REVENDA  \\\n",
       "0                      1.350                 0.463                     0.012   \n",
       "1                      1.449                 0.399                     0.098   \n",
       "2                      1.760                 0.419                     0.070   \n",
       "3                      1.509                 0.432                     0.055   \n",
       "4                      1.400                 0.240                     0.066   \n",
       "...                      ...                   ...                       ...   \n",
       "103387                 3.690                 0.818                     0.018   \n",
       "103388                 3.789                 0.950                     0.038   \n",
       "103389                 3.499                 0.914                     0.065   \n",
       "103390                 3.490                 0.646                     0.076   \n",
       "103391                 3.699                 1.179                     0.001   \n",
       "\n",
       "        PREÇO MÉDIO DISTRIBUIÇÃO  DESVIO PADRÃO DISTRIBUIÇÃO  \\\n",
       "0                          0.825                       0.110   \n",
       "1                          0.763                       0.088   \n",
       "2                          0.970                       0.095   \n",
       "3                          0.830                       0.119   \n",
       "4                          0.941                       0.077   \n",
       "...                          ...                         ...   \n",
       "103387                     2.756                       0.000   \n",
       "103388                     2.451                       0.402   \n",
       "103389                     1.998                       0.000   \n",
       "103390                     2.374                       0.165   \n",
       "103391                     2.518                       0.000   \n",
       "\n",
       "        PREÇO MÍNIMO DISTRIBUIÇÃO  PREÇO MÁXIMO DISTRIBUIÇÃO  \\\n",
       "0                          0.4201                    0.96660   \n",
       "1                          0.5013                    1.05000   \n",
       "2                          0.5614                    1.16100   \n",
       "3                          0.5991                    1.22242   \n",
       "4                          0.7441                    1.03170   \n",
       "...                           ...                        ...   \n",
       "103387                     2.7560                    2.75600   \n",
       "103388                     1.9842                    2.86610   \n",
       "103389                     1.9981                    1.99810   \n",
       "103390                     2.0179                    2.50930   \n",
       "103391                     2.5175                    2.51750   \n",
       "\n",
       "        COEF DE VARIAÇÃO DISTRIBUIÇÃO  MÊS   ANO  \n",
       "0                               0.133    5  2004  \n",
       "1                               0.115    5  2004  \n",
       "2                               0.098    5  2004  \n",
       "3                               0.143    5  2004  \n",
       "4                               0.082    5  2004  \n",
       "...                               ...  ...   ...  \n",
       "103387                          0.000    6  2019  \n",
       "103388                          0.164    6  2019  \n",
       "103389                          0.000    6  2019  \n",
       "103390                          0.070    6  2019  \n",
       "103391                          0.000    6  2019  \n",
       "\n",
       "[103392 rows x 20 columns]"
      ]
     },
     "execution_count": 7,
     "metadata": {},
     "output_type": "execute_result"
    }
   ],
   "source": [
    "data"
   ]
  },
  {
   "cell_type": "markdown",
   "id": "changing-salvation",
   "metadata": {},
   "source": [
    "### 1.2. Informações básicas do Dataset"
   ]
  },
  {
   "cell_type": "code",
   "execution_count": 8,
   "id": "different-circuit",
   "metadata": {},
   "outputs": [
    {
     "name": "stdout",
     "output_type": "stream",
     "text": [
      "<class 'pandas.core.frame.DataFrame'>\n",
      "RangeIndex: 103392 entries, 0 to 103391\n",
      "Data columns (total 20 columns):\n",
      " #   Column                         Non-Null Count   Dtype  \n",
      "---  ------                         --------------   -----  \n",
      " 0   DATA INICIAL                   103392 non-null  object \n",
      " 1   DATA FINAL                     103392 non-null  object \n",
      " 2   REGIÃO                         103392 non-null  object \n",
      " 3   ESTADO                         103392 non-null  object \n",
      " 4   PRODUTO                        103392 non-null  object \n",
      " 5   NÚMERO DE POSTOS PESQUISADOS   103392 non-null  int64  \n",
      " 6   UNIDADE DE MEDIDA              103392 non-null  object \n",
      " 7   PREÇO MÉDIO REVENDA            103392 non-null  float64\n",
      " 8   DESVIO PADRÃO REVENDA          103392 non-null  float64\n",
      " 9   PREÇO MÍNIMO REVENDA           103392 non-null  float64\n",
      " 10  PREÇO MÁXIMO REVENDA           103392 non-null  float64\n",
      " 11  MARGEM MÉDIA REVENDA           103392 non-null  float64\n",
      " 12  COEF DE VARIAÇÃO REVENDA       103392 non-null  float64\n",
      " 13  PREÇO MÉDIO DISTRIBUIÇÃO       103392 non-null  float64\n",
      " 14  DESVIO PADRÃO DISTRIBUIÇÃO     103392 non-null  float64\n",
      " 15  PREÇO MÍNIMO DISTRIBUIÇÃO      103392 non-null  float64\n",
      " 16  PREÇO MÁXIMO DISTRIBUIÇÃO      103392 non-null  float64\n",
      " 17  COEF DE VARIAÇÃO DISTRIBUIÇÃO  103392 non-null  float64\n",
      " 18  MÊS                            103392 non-null  int64  \n",
      " 19  ANO                            103392 non-null  int64  \n",
      "dtypes: float64(11), int64(3), object(6)\n",
      "memory usage: 15.8+ MB\n"
     ]
    }
   ],
   "source": [
    "data.info()"
   ]
  },
  {
   "cell_type": "code",
   "execution_count": 15,
   "id": "96783934-95ab-460a-9ae2-21dbefc756db",
   "metadata": {},
   "outputs": [
    {
     "data": {
      "text/plain": [
       "(103392, 20)"
      ]
     },
     "execution_count": 15,
     "metadata": {},
     "output_type": "execute_result"
    }
   ],
   "source": [
    "data.shape"
   ]
  },
  {
   "cell_type": "code",
   "execution_count": 16,
   "id": "480ede08-46a8-4658-be58-16b559d3d3e2",
   "metadata": {},
   "outputs": [
    {
     "data": {
      "text/html": [
       "<div>\n",
       "<style scoped>\n",
       "    .dataframe tbody tr th:only-of-type {\n",
       "        vertical-align: middle;\n",
       "    }\n",
       "\n",
       "    .dataframe tbody tr th {\n",
       "        vertical-align: top;\n",
       "    }\n",
       "\n",
       "    .dataframe thead th {\n",
       "        text-align: right;\n",
       "    }\n",
       "</style>\n",
       "<table border=\"1\" class=\"dataframe\">\n",
       "  <thead>\n",
       "    <tr style=\"text-align: right;\">\n",
       "      <th></th>\n",
       "      <th>NÚMERO DE POSTOS PESQUISADOS</th>\n",
       "      <th>PREÇO MÉDIO REVENDA</th>\n",
       "      <th>DESVIO PADRÃO REVENDA</th>\n",
       "      <th>PREÇO MÍNIMO REVENDA</th>\n",
       "      <th>PREÇO MÁXIMO REVENDA</th>\n",
       "      <th>MARGEM MÉDIA REVENDA</th>\n",
       "      <th>COEF DE VARIAÇÃO REVENDA</th>\n",
       "      <th>PREÇO MÉDIO DISTRIBUIÇÃO</th>\n",
       "      <th>DESVIO PADRÃO DISTRIBUIÇÃO</th>\n",
       "      <th>PREÇO MÍNIMO DISTRIBUIÇÃO</th>\n",
       "      <th>PREÇO MÁXIMO DISTRIBUIÇÃO</th>\n",
       "      <th>COEF DE VARIAÇÃO DISTRIBUIÇÃO</th>\n",
       "      <th>MÊS</th>\n",
       "      <th>ANO</th>\n",
       "    </tr>\n",
       "  </thead>\n",
       "  <tbody>\n",
       "    <tr>\n",
       "      <th>count</th>\n",
       "      <td>103392.000000</td>\n",
       "      <td>103392.000000</td>\n",
       "      <td>103392.000000</td>\n",
       "      <td>103392.000000</td>\n",
       "      <td>103392.000000</td>\n",
       "      <td>103392.000000</td>\n",
       "      <td>103392.000000</td>\n",
       "      <td>103392.000000</td>\n",
       "      <td>103392.000000</td>\n",
       "      <td>103392.000000</td>\n",
       "      <td>103392.000000</td>\n",
       "      <td>103392.000000</td>\n",
       "      <td>103392.000000</td>\n",
       "      <td>103392.000000</td>\n",
       "    </tr>\n",
       "    <tr>\n",
       "      <th>mean</th>\n",
       "      <td>240.511935</td>\n",
       "      <td>10.784472</td>\n",
       "      <td>0.652589</td>\n",
       "      <td>9.334931</td>\n",
       "      <td>12.458686</td>\n",
       "      <td>2.225151</td>\n",
       "      <td>0.045749</td>\n",
       "      <td>8.559322</td>\n",
       "      <td>0.559441</td>\n",
       "      <td>7.414814</td>\n",
       "      <td>9.805621</td>\n",
       "      <td>0.046640</td>\n",
       "      <td>6.485067</td>\n",
       "      <td>2011.737001</td>\n",
       "    </tr>\n",
       "    <tr>\n",
       "      <th>std</th>\n",
       "      <td>408.039174</td>\n",
       "      <td>17.685852</td>\n",
       "      <td>1.346422</td>\n",
       "      <td>15.024383</td>\n",
       "      <td>20.801190</td>\n",
       "      <td>4.375085</td>\n",
       "      <td>0.024488</td>\n",
       "      <td>13.603686</td>\n",
       "      <td>1.256914</td>\n",
       "      <td>11.681366</td>\n",
       "      <td>15.933999</td>\n",
       "      <td>0.042114</td>\n",
       "      <td>3.442155</td>\n",
       "      <td>4.410491</td>\n",
       "    </tr>\n",
       "    <tr>\n",
       "      <th>min</th>\n",
       "      <td>1.000000</td>\n",
       "      <td>0.766000</td>\n",
       "      <td>0.000000</td>\n",
       "      <td>0.590000</td>\n",
       "      <td>0.999000</td>\n",
       "      <td>0.001000</td>\n",
       "      <td>0.000000</td>\n",
       "      <td>0.506000</td>\n",
       "      <td>0.000000</td>\n",
       "      <td>0.325700</td>\n",
       "      <td>0.599200</td>\n",
       "      <td>0.000000</td>\n",
       "      <td>1.000000</td>\n",
       "      <td>2004.000000</td>\n",
       "    </tr>\n",
       "    <tr>\n",
       "      <th>25%</th>\n",
       "      <td>47.000000</td>\n",
       "      <td>2.073000</td>\n",
       "      <td>0.073000</td>\n",
       "      <td>1.900000</td>\n",
       "      <td>2.330000</td>\n",
       "      <td>0.282000</td>\n",
       "      <td>0.030000</td>\n",
       "      <td>1.795000</td>\n",
       "      <td>0.047000</td>\n",
       "      <td>1.674400</td>\n",
       "      <td>1.945600</td>\n",
       "      <td>0.021000</td>\n",
       "      <td>4.000000</td>\n",
       "      <td>2008.000000</td>\n",
       "    </tr>\n",
       "    <tr>\n",
       "      <th>50%</th>\n",
       "      <td>108.000000</td>\n",
       "      <td>2.723000</td>\n",
       "      <td>0.115000</td>\n",
       "      <td>2.509000</td>\n",
       "      <td>3.000000</td>\n",
       "      <td>0.383000</td>\n",
       "      <td>0.042000</td>\n",
       "      <td>2.335000</td>\n",
       "      <td>0.077000</td>\n",
       "      <td>2.220000</td>\n",
       "      <td>2.507050</td>\n",
       "      <td>0.031000</td>\n",
       "      <td>6.000000</td>\n",
       "      <td>2012.000000</td>\n",
       "    </tr>\n",
       "    <tr>\n",
       "      <th>75%</th>\n",
       "      <td>251.000000</td>\n",
       "      <td>3.745000</td>\n",
       "      <td>0.190000</td>\n",
       "      <td>3.490000</td>\n",
       "      <td>4.150000</td>\n",
       "      <td>0.560000</td>\n",
       "      <td>0.058000</td>\n",
       "      <td>3.307000</td>\n",
       "      <td>0.151000</td>\n",
       "      <td>3.142800</td>\n",
       "      <td>3.520000</td>\n",
       "      <td>0.061000</td>\n",
       "      <td>9.000000</td>\n",
       "      <td>2016.000000</td>\n",
       "    </tr>\n",
       "    <tr>\n",
       "      <th>max</th>\n",
       "      <td>4167.000000</td>\n",
       "      <td>99.357000</td>\n",
       "      <td>10.748000</td>\n",
       "      <td>90.000000</td>\n",
       "      <td>120.000000</td>\n",
       "      <td>36.847000</td>\n",
       "      <td>0.262000</td>\n",
       "      <td>83.137000</td>\n",
       "      <td>18.385000</td>\n",
       "      <td>83.000000</td>\n",
       "      <td>94.500000</td>\n",
       "      <td>0.780000</td>\n",
       "      <td>12.000000</td>\n",
       "      <td>2019.000000</td>\n",
       "    </tr>\n",
       "  </tbody>\n",
       "</table>\n",
       "</div>"
      ],
      "text/plain": [
       "       NÚMERO DE POSTOS PESQUISADOS  PREÇO MÉDIO REVENDA  \\\n",
       "count                 103392.000000        103392.000000   \n",
       "mean                     240.511935            10.784472   \n",
       "std                      408.039174            17.685852   \n",
       "min                        1.000000             0.766000   \n",
       "25%                       47.000000             2.073000   \n",
       "50%                      108.000000             2.723000   \n",
       "75%                      251.000000             3.745000   \n",
       "max                     4167.000000            99.357000   \n",
       "\n",
       "       DESVIO PADRÃO REVENDA  PREÇO MÍNIMO REVENDA  PREÇO MÁXIMO REVENDA  \\\n",
       "count          103392.000000         103392.000000         103392.000000   \n",
       "mean                0.652589              9.334931             12.458686   \n",
       "std                 1.346422             15.024383             20.801190   \n",
       "min                 0.000000              0.590000              0.999000   \n",
       "25%                 0.073000              1.900000              2.330000   \n",
       "50%                 0.115000              2.509000              3.000000   \n",
       "75%                 0.190000              3.490000              4.150000   \n",
       "max                10.748000             90.000000            120.000000   \n",
       "\n",
       "       MARGEM MÉDIA REVENDA  COEF DE VARIAÇÃO REVENDA  \\\n",
       "count         103392.000000             103392.000000   \n",
       "mean               2.225151                  0.045749   \n",
       "std                4.375085                  0.024488   \n",
       "min                0.001000                  0.000000   \n",
       "25%                0.282000                  0.030000   \n",
       "50%                0.383000                  0.042000   \n",
       "75%                0.560000                  0.058000   \n",
       "max               36.847000                  0.262000   \n",
       "\n",
       "       PREÇO MÉDIO DISTRIBUIÇÃO  DESVIO PADRÃO DISTRIBUIÇÃO  \\\n",
       "count             103392.000000               103392.000000   \n",
       "mean                   8.559322                    0.559441   \n",
       "std                   13.603686                    1.256914   \n",
       "min                    0.506000                    0.000000   \n",
       "25%                    1.795000                    0.047000   \n",
       "50%                    2.335000                    0.077000   \n",
       "75%                    3.307000                    0.151000   \n",
       "max                   83.137000                   18.385000   \n",
       "\n",
       "       PREÇO MÍNIMO DISTRIBUIÇÃO  PREÇO MÁXIMO DISTRIBUIÇÃO  \\\n",
       "count              103392.000000              103392.000000   \n",
       "mean                    7.414814                   9.805621   \n",
       "std                    11.681366                  15.933999   \n",
       "min                     0.325700                   0.599200   \n",
       "25%                     1.674400                   1.945600   \n",
       "50%                     2.220000                   2.507050   \n",
       "75%                     3.142800                   3.520000   \n",
       "max                    83.000000                  94.500000   \n",
       "\n",
       "       COEF DE VARIAÇÃO DISTRIBUIÇÃO            MÊS            ANO  \n",
       "count                  103392.000000  103392.000000  103392.000000  \n",
       "mean                        0.046640       6.485067    2011.737001  \n",
       "std                         0.042114       3.442155       4.410491  \n",
       "min                         0.000000       1.000000    2004.000000  \n",
       "25%                         0.021000       4.000000    2008.000000  \n",
       "50%                         0.031000       6.000000    2012.000000  \n",
       "75%                         0.061000       9.000000    2016.000000  \n",
       "max                         0.780000      12.000000    2019.000000  "
      ]
     },
     "execution_count": 16,
     "metadata": {},
     "output_type": "execute_result"
    }
   ],
   "source": [
    "data.describe()"
   ]
  },
  {
   "cell_type": "markdown",
   "id": "infinite-joining",
   "metadata": {},
   "source": [
    "<br/>\n",
    "\n",
    "O dataset possui **103392** registros/observações/linhas e **20** atributos/variáveis/colunas.\n",
    "Não há nenhum valor null nas colunas (uma checagem mais rigorosa foi feita no curso [\"Pandas Essencial\"](https://www.youtube.com/playlist?list=PL3ZslI15yo2pfkf7EGNR14xTwe-wZ2bNX))."
   ]
  },
  {
   "cell_type": "markdown",
   "id": "lovely-complexity",
   "metadata": {},
   "source": [
    "<h2>2. Análise Exploratória de Dados</h2>\n",
    "<hr/>"
   ]
  },
  {
   "cell_type": "markdown",
   "id": "suspended-government",
   "metadata": {},
   "source": [
    "### 2.1 Como os preços da Gasolina Comum em São Paulo variaram em 2018?"
   ]
  },
  {
   "cell_type": "code",
   "execution_count": 27,
   "id": "canadian-explanation",
   "metadata": {},
   "outputs": [
    {
     "data": {
      "text/plain": [
       "DATA INICIAL                     52\n",
       "DATA FINAL                       52\n",
       "REGIÃO                           52\n",
       "ESTADO                           52\n",
       "PRODUTO                          52\n",
       "NÚMERO DE POSTOS PESQUISADOS     52\n",
       "UNIDADE DE MEDIDA                52\n",
       "PREÇO MÉDIO REVENDA              52\n",
       "DESVIO PADRÃO REVENDA            52\n",
       "PREÇO MÍNIMO REVENDA             52\n",
       "PREÇO MÁXIMO REVENDA             52\n",
       "MARGEM MÉDIA REVENDA             52\n",
       "COEF DE VARIAÇÃO REVENDA         52\n",
       "PREÇO MÉDIO DISTRIBUIÇÃO         52\n",
       "DESVIO PADRÃO DISTRIBUIÇÃO       52\n",
       "PREÇO MÍNIMO DISTRIBUIÇÃO        52\n",
       "PREÇO MÁXIMO DISTRIBUIÇÃO        52\n",
       "COEF DE VARIAÇÃO DISTRIBUIÇÃO    52\n",
       "MÊS                              52\n",
       "ANO                              52\n",
       "dtype: int64"
      ]
     },
     "execution_count": 27,
     "metadata": {},
     "output_type": "execute_result"
    }
   ],
   "source": [
    "gascomum_sp_2018 = data[(data['PRODUTO'] == 'GASOLINA COMUM') & (data['ESTADO'] == 'SAO PAULO') & (data['ANO'] == 2018)]\n",
    "gascomum_sp_2018.count()"
   ]
  },
  {
   "cell_type": "markdown",
   "id": "running-poland",
   "metadata": {},
   "source": [
    "#### **Estatísticas Descritivas**"
   ]
  },
  {
   "cell_type": "code",
   "execution_count": 28,
   "id": "indian-auckland",
   "metadata": {},
   "outputs": [
    {
     "data": {
      "text/html": [
       "<div>\n",
       "<style scoped>\n",
       "    .dataframe tbody tr th:only-of-type {\n",
       "        vertical-align: middle;\n",
       "    }\n",
       "\n",
       "    .dataframe tbody tr th {\n",
       "        vertical-align: top;\n",
       "    }\n",
       "\n",
       "    .dataframe thead th {\n",
       "        text-align: right;\n",
       "    }\n",
       "</style>\n",
       "<table border=\"1\" class=\"dataframe\">\n",
       "  <thead>\n",
       "    <tr style=\"text-align: right;\">\n",
       "      <th></th>\n",
       "      <th>NÚMERO DE POSTOS PESQUISADOS</th>\n",
       "      <th>PREÇO MÉDIO REVENDA</th>\n",
       "      <th>DESVIO PADRÃO REVENDA</th>\n",
       "      <th>PREÇO MÍNIMO REVENDA</th>\n",
       "      <th>PREÇO MÁXIMO REVENDA</th>\n",
       "      <th>MARGEM MÉDIA REVENDA</th>\n",
       "      <th>COEF DE VARIAÇÃO REVENDA</th>\n",
       "      <th>PREÇO MÉDIO DISTRIBUIÇÃO</th>\n",
       "      <th>DESVIO PADRÃO DISTRIBUIÇÃO</th>\n",
       "      <th>PREÇO MÍNIMO DISTRIBUIÇÃO</th>\n",
       "      <th>PREÇO MÁXIMO DISTRIBUIÇÃO</th>\n",
       "      <th>COEF DE VARIAÇÃO DISTRIBUIÇÃO</th>\n",
       "      <th>MÊS</th>\n",
       "      <th>ANO</th>\n",
       "    </tr>\n",
       "  </thead>\n",
       "  <tbody>\n",
       "    <tr>\n",
       "      <th>count</th>\n",
       "      <td>52.000000</td>\n",
       "      <td>52.000000</td>\n",
       "      <td>52.000000</td>\n",
       "      <td>52.000000</td>\n",
       "      <td>52.000000</td>\n",
       "      <td>52.000000</td>\n",
       "      <td>52.000000</td>\n",
       "      <td>52.000000</td>\n",
       "      <td>52.000000</td>\n",
       "      <td>52.00000</td>\n",
       "      <td>52.000000</td>\n",
       "      <td>52.000000</td>\n",
       "      <td>52.000000</td>\n",
       "      <td>52.0</td>\n",
       "    </tr>\n",
       "    <tr>\n",
       "      <th>mean</th>\n",
       "      <td>1610.211538</td>\n",
       "      <td>4.202769</td>\n",
       "      <td>0.175500</td>\n",
       "      <td>3.671500</td>\n",
       "      <td>4.975750</td>\n",
       "      <td>0.442481</td>\n",
       "      <td>0.041750</td>\n",
       "      <td>3.760288</td>\n",
       "      <td>0.109654</td>\n",
       "      <td>3.31295</td>\n",
       "      <td>4.139454</td>\n",
       "      <td>0.029096</td>\n",
       "      <td>6.615385</td>\n",
       "      <td>2018.0</td>\n",
       "    </tr>\n",
       "    <tr>\n",
       "      <th>std</th>\n",
       "      <td>213.627432</td>\n",
       "      <td>0.180672</td>\n",
       "      <td>0.017955</td>\n",
       "      <td>0.163808</td>\n",
       "      <td>0.211198</td>\n",
       "      <td>0.063271</td>\n",
       "      <td>0.003965</td>\n",
       "      <td>0.163664</td>\n",
       "      <td>0.010712</td>\n",
       "      <td>0.26684</td>\n",
       "      <td>0.195897</td>\n",
       "      <td>0.002460</td>\n",
       "      <td>3.470627</td>\n",
       "      <td>0.0</td>\n",
       "    </tr>\n",
       "    <tr>\n",
       "      <th>min</th>\n",
       "      <td>102.000000</td>\n",
       "      <td>3.970000</td>\n",
       "      <td>0.150000</td>\n",
       "      <td>3.369000</td>\n",
       "      <td>4.499000</td>\n",
       "      <td>0.366000</td>\n",
       "      <td>0.034000</td>\n",
       "      <td>3.563000</td>\n",
       "      <td>0.087000</td>\n",
       "      <td>2.92400</td>\n",
       "      <td>3.887500</td>\n",
       "      <td>0.023000</td>\n",
       "      <td>1.000000</td>\n",
       "      <td>2018.0</td>\n",
       "    </tr>\n",
       "    <tr>\n",
       "      <th>25%</th>\n",
       "      <td>1639.000000</td>\n",
       "      <td>4.008000</td>\n",
       "      <td>0.159750</td>\n",
       "      <td>3.499000</td>\n",
       "      <td>4.899000</td>\n",
       "      <td>0.404500</td>\n",
       "      <td>0.039000</td>\n",
       "      <td>3.620250</td>\n",
       "      <td>0.102000</td>\n",
       "      <td>2.99000</td>\n",
       "      <td>3.965775</td>\n",
       "      <td>0.028000</td>\n",
       "      <td>4.000000</td>\n",
       "      <td>2018.0</td>\n",
       "    </tr>\n",
       "    <tr>\n",
       "      <th>50%</th>\n",
       "      <td>1642.000000</td>\n",
       "      <td>4.202000</td>\n",
       "      <td>0.173000</td>\n",
       "      <td>3.679000</td>\n",
       "      <td>4.999000</td>\n",
       "      <td>0.421500</td>\n",
       "      <td>0.040000</td>\n",
       "      <td>3.756500</td>\n",
       "      <td>0.108000</td>\n",
       "      <td>3.35000</td>\n",
       "      <td>4.095500</td>\n",
       "      <td>0.029000</td>\n",
       "      <td>7.000000</td>\n",
       "      <td>2018.0</td>\n",
       "    </tr>\n",
       "    <tr>\n",
       "      <th>75%</th>\n",
       "      <td>1644.000000</td>\n",
       "      <td>4.336250</td>\n",
       "      <td>0.189000</td>\n",
       "      <td>3.784000</td>\n",
       "      <td>5.099000</td>\n",
       "      <td>0.470250</td>\n",
       "      <td>0.044000</td>\n",
       "      <td>3.862250</td>\n",
       "      <td>0.116250</td>\n",
       "      <td>3.53250</td>\n",
       "      <td>4.259000</td>\n",
       "      <td>0.030000</td>\n",
       "      <td>9.250000</td>\n",
       "      <td>2018.0</td>\n",
       "    </tr>\n",
       "    <tr>\n",
       "      <th>max</th>\n",
       "      <td>1649.000000</td>\n",
       "      <td>4.512000</td>\n",
       "      <td>0.216000</td>\n",
       "      <td>3.969000</td>\n",
       "      <td>5.299000</td>\n",
       "      <td>0.640000</td>\n",
       "      <td>0.051000</td>\n",
       "      <td>4.085000</td>\n",
       "      <td>0.144000</td>\n",
       "      <td>3.76000</td>\n",
       "      <td>4.551000</td>\n",
       "      <td>0.037000</td>\n",
       "      <td>12.000000</td>\n",
       "      <td>2018.0</td>\n",
       "    </tr>\n",
       "  </tbody>\n",
       "</table>\n",
       "</div>"
      ],
      "text/plain": [
       "       NÚMERO DE POSTOS PESQUISADOS  PREÇO MÉDIO REVENDA  \\\n",
       "count                     52.000000            52.000000   \n",
       "mean                    1610.211538             4.202769   \n",
       "std                      213.627432             0.180672   \n",
       "min                      102.000000             3.970000   \n",
       "25%                     1639.000000             4.008000   \n",
       "50%                     1642.000000             4.202000   \n",
       "75%                     1644.000000             4.336250   \n",
       "max                     1649.000000             4.512000   \n",
       "\n",
       "       DESVIO PADRÃO REVENDA  PREÇO MÍNIMO REVENDA  PREÇO MÁXIMO REVENDA  \\\n",
       "count              52.000000             52.000000             52.000000   \n",
       "mean                0.175500              3.671500              4.975750   \n",
       "std                 0.017955              0.163808              0.211198   \n",
       "min                 0.150000              3.369000              4.499000   \n",
       "25%                 0.159750              3.499000              4.899000   \n",
       "50%                 0.173000              3.679000              4.999000   \n",
       "75%                 0.189000              3.784000              5.099000   \n",
       "max                 0.216000              3.969000              5.299000   \n",
       "\n",
       "       MARGEM MÉDIA REVENDA  COEF DE VARIAÇÃO REVENDA  \\\n",
       "count             52.000000                 52.000000   \n",
       "mean               0.442481                  0.041750   \n",
       "std                0.063271                  0.003965   \n",
       "min                0.366000                  0.034000   \n",
       "25%                0.404500                  0.039000   \n",
       "50%                0.421500                  0.040000   \n",
       "75%                0.470250                  0.044000   \n",
       "max                0.640000                  0.051000   \n",
       "\n",
       "       PREÇO MÉDIO DISTRIBUIÇÃO  DESVIO PADRÃO DISTRIBUIÇÃO  \\\n",
       "count                 52.000000                   52.000000   \n",
       "mean                   3.760288                    0.109654   \n",
       "std                    0.163664                    0.010712   \n",
       "min                    3.563000                    0.087000   \n",
       "25%                    3.620250                    0.102000   \n",
       "50%                    3.756500                    0.108000   \n",
       "75%                    3.862250                    0.116250   \n",
       "max                    4.085000                    0.144000   \n",
       "\n",
       "       PREÇO MÍNIMO DISTRIBUIÇÃO  PREÇO MÁXIMO DISTRIBUIÇÃO  \\\n",
       "count                   52.00000                  52.000000   \n",
       "mean                     3.31295                   4.139454   \n",
       "std                      0.26684                   0.195897   \n",
       "min                      2.92400                   3.887500   \n",
       "25%                      2.99000                   3.965775   \n",
       "50%                      3.35000                   4.095500   \n",
       "75%                      3.53250                   4.259000   \n",
       "max                      3.76000                   4.551000   \n",
       "\n",
       "       COEF DE VARIAÇÃO DISTRIBUIÇÃO        MÊS     ANO  \n",
       "count                      52.000000  52.000000    52.0  \n",
       "mean                        0.029096   6.615385  2018.0  \n",
       "std                         0.002460   3.470627     0.0  \n",
       "min                         0.023000   1.000000  2018.0  \n",
       "25%                         0.028000   4.000000  2018.0  \n",
       "50%                         0.029000   7.000000  2018.0  \n",
       "75%                         0.030000   9.250000  2018.0  \n",
       "max                         0.037000  12.000000  2018.0  "
      ]
     },
     "execution_count": 28,
     "metadata": {},
     "output_type": "execute_result"
    }
   ],
   "source": [
    "gascomum_sp_2018.describe()"
   ]
  },
  {
   "cell_type": "markdown",
   "id": "false-wallpaper",
   "metadata": {},
   "source": [
    "#### **Tendência Central dos Preços**"
   ]
  },
  {
   "cell_type": "code",
   "execution_count": 39,
   "id": "bde1b8e7-f6e0-4250-91f4-95a6b9d2cc08",
   "metadata": {},
   "outputs": [
    {
     "data": {
      "text/html": [
       "<div>\n",
       "<style scoped>\n",
       "    .dataframe tbody tr th:only-of-type {\n",
       "        vertical-align: middle;\n",
       "    }\n",
       "\n",
       "    .dataframe tbody tr th {\n",
       "        vertical-align: top;\n",
       "    }\n",
       "\n",
       "    .dataframe thead th {\n",
       "        text-align: right;\n",
       "    }\n",
       "</style>\n",
       "<table border=\"1\" class=\"dataframe\">\n",
       "  <thead>\n",
       "    <tr style=\"text-align: right;\">\n",
       "      <th></th>\n",
       "      <th>PREÇO MÉDIO REVENDA</th>\n",
       "      <th>PREÇO MÍNIMO REVENDA</th>\n",
       "      <th>PREÇO MÁXIMO REVENDA</th>\n",
       "      <th>PREÇO MÉDIO DISTRIBUIÇÃO</th>\n",
       "      <th>PREÇO MÍNIMO DISTRIBUIÇÃO</th>\n",
       "      <th>PREÇO MÁXIMO DISTRIBUIÇÃO</th>\n",
       "    </tr>\n",
       "  </thead>\n",
       "  <tbody>\n",
       "    <tr>\n",
       "      <th>99698</th>\n",
       "      <td>4.113</td>\n",
       "      <td>3.599</td>\n",
       "      <td>4.999</td>\n",
       "      <td>3.61</td>\n",
       "      <td>3.35</td>\n",
       "      <td>3.9585</td>\n",
       "    </tr>\n",
       "  </tbody>\n",
       "</table>\n",
       "</div>"
      ],
      "text/plain": [
       "       PREÇO MÉDIO REVENDA  PREÇO MÍNIMO REVENDA  PREÇO MÁXIMO REVENDA  \\\n",
       "99698                4.113                 3.599                 4.999   \n",
       "\n",
       "       PREÇO MÉDIO DISTRIBUIÇÃO  PREÇO MÍNIMO DISTRIBUIÇÃO  \\\n",
       "99698                      3.61                       3.35   \n",
       "\n",
       "       PREÇO MÁXIMO DISTRIBUIÇÃO  \n",
       "99698                     3.9585  "
      ]
     },
     "execution_count": 39,
     "metadata": {},
     "output_type": "execute_result"
    }
   ],
   "source": [
    "precos = gascomum_sp_2018.filter(regex=('.*PRE(Ç|C)O.*'))\n",
    "precos.sample()"
   ]
  },
  {
   "cell_type": "code",
   "execution_count": 40,
   "id": "410f67ed-5c38-4957-b9aa-f3a508f028af",
   "metadata": {},
   "outputs": [
    {
     "name": "stdout",
     "output_type": "stream",
     "text": [
      "Média dos preços\n"
     ]
    },
    {
     "data": {
      "text/plain": [
       "PREÇO MÉDIO REVENDA          4.202769\n",
       "PREÇO MÍNIMO REVENDA         3.671500\n",
       "PREÇO MÁXIMO REVENDA         4.975750\n",
       "PREÇO MÉDIO DISTRIBUIÇÃO     3.760288\n",
       "PREÇO MÍNIMO DISTRIBUIÇÃO    3.312950\n",
       "PREÇO MÁXIMO DISTRIBUIÇÃO    4.139454\n",
       "dtype: float64"
      ]
     },
     "execution_count": 40,
     "metadata": {},
     "output_type": "execute_result"
    }
   ],
   "source": [
    "print(\"Média dos preços\")\n",
    "precos.mean()"
   ]
  },
  {
   "cell_type": "code",
   "execution_count": 41,
   "id": "f6e0ddaa-14e1-4d4c-b33c-9fd741b11c85",
   "metadata": {},
   "outputs": [
    {
     "name": "stdout",
     "output_type": "stream",
     "text": [
      "Mediana dos preços\n"
     ]
    },
    {
     "data": {
      "text/plain": [
       "PREÇO MÉDIO REVENDA          4.2020\n",
       "PREÇO MÍNIMO REVENDA         3.6790\n",
       "PREÇO MÁXIMO REVENDA         4.9990\n",
       "PREÇO MÉDIO DISTRIBUIÇÃO     3.7565\n",
       "PREÇO MÍNIMO DISTRIBUIÇÃO    3.3500\n",
       "PREÇO MÁXIMO DISTRIBUIÇÃO    4.0955\n",
       "dtype: float64"
      ]
     },
     "execution_count": 41,
     "metadata": {},
     "output_type": "execute_result"
    }
   ],
   "source": [
    "print(\"Mediana dos preços\")\n",
    "precos.median()"
   ]
  },
  {
   "cell_type": "markdown",
   "id": "preliminary-fetish",
   "metadata": {},
   "source": [
    "### **Variabilidade**"
   ]
  },
  {
   "cell_type": "markdown",
   "id": "atmospheric-acrobat",
   "metadata": {},
   "source": [
    "#### Histograma com número de bins padrão:"
   ]
  },
  {
   "cell_type": "code",
   "execution_count": 51,
   "id": "chubby-programming",
   "metadata": {},
   "outputs": [
    {
     "data": {
      "text/plain": [
       "array([[<AxesSubplot:title={'center':'PREÇO MÉDIO REVENDA'}>,\n",
       "        <AxesSubplot:title={'center':'PREÇO MÍNIMO REVENDA'}>],\n",
       "       [<AxesSubplot:title={'center':'PREÇO MÁXIMO REVENDA'}>,\n",
       "        <AxesSubplot:title={'center':'PREÇO MÉDIO DISTRIBUIÇÃO'}>],\n",
       "       [<AxesSubplot:title={'center':'PREÇO MÍNIMO DISTRIBUIÇÃO'}>,\n",
       "        <AxesSubplot:title={'center':'PREÇO MÁXIMO DISTRIBUIÇÃO'}>]],\n",
       "      dtype=object)"
      ]
     },
     "execution_count": 51,
     "metadata": {},
     "output_type": "execute_result"
    },
    {
     "data": {
      "image/png": "[encoded data removed]",
      "text/plain": [
       "<Figure size 720x720 with 6 Axes>"
      ]
     },
     "metadata": {
      "needs_background": "light"
     },
     "output_type": "display_data"
    }
   ],
   "source": [
    "precos.hist(figsize=(10,10))"
   ]
  },
  {
   "cell_type": "markdown",
   "id": "dutch-nomination",
   "metadata": {},
   "source": [
    "#### Alterando o **número de bins** do Histograma."
   ]
  },
  {
   "cell_type": "code",
   "execution_count": 52,
   "id": "terminal-stationery",
   "metadata": {},
   "outputs": [
    {
     "data": {
      "text/plain": [
       "array([[<AxesSubplot:title={'center':'PREÇO MÉDIO REVENDA'}>,\n",
       "        <AxesSubplot:title={'center':'PREÇO MÍNIMO REVENDA'}>],\n",
       "       [<AxesSubplot:title={'center':'PREÇO MÁXIMO REVENDA'}>,\n",
       "        <AxesSubplot:title={'center':'PREÇO MÉDIO DISTRIBUIÇÃO'}>],\n",
       "       [<AxesSubplot:title={'center':'PREÇO MÍNIMO DISTRIBUIÇÃO'}>,\n",
       "        <AxesSubplot:title={'center':'PREÇO MÁXIMO DISTRIBUIÇÃO'}>]],\n",
       "      dtype=object)"
      ]
     },
     "execution_count": 52,
     "metadata": {},
     "output_type": "execute_result"
    },
    {
     "data": {
      "image/png": "[encoded data removed]",
      "text/plain": [
       "<Figure size 720x720 with 6 Axes>"
      ]
     },
     "metadata": {
      "needs_background": "light"
     },
     "output_type": "display_data"
    }
   ],
   "source": [
    "precos.hist(bins=20, figsize=(10,10))"
   ]
  },
  {
   "cell_type": "markdown",
   "id": "contained-hydrogen",
   "metadata": {},
   "source": [
    "#### Checando a variabilidade usando **BoxPlots**"
   ]
  },
  {
   "cell_type": "code",
   "execution_count": 61,
   "id": "timely-offset",
   "metadata": {},
   "outputs": [
    {
     "data": {
      "text/plain": [
       "<AxesSubplot:>"
      ]
     },
     "execution_count": 61,
     "metadata": {},
     "output_type": "execute_result"
    },
    {
     "data": {
      "image/png": "[encoded data removed]",
      "text/plain": [
       "<Figure size 1440x720 with 1 Axes>"
      ]
     },
     "metadata": {
      "needs_background": "light"
     },
     "output_type": "display_data"
    }
   ],
   "source": [
    "precos.boxplot(figsize=(20,10))"
   ]
  },
  {
   "cell_type": "markdown",
   "id": "imported-tobago",
   "metadata": {},
   "source": [
    "#### Checando a variabilidade usando **Violin Plot**"
   ]
  },
  {
   "cell_type": "code",
   "execution_count": null,
   "id": "posted-douglas",
   "metadata": {},
   "outputs": [],
   "source": []
  },
  {
   "cell_type": "markdown",
   "id": "cheap-concord",
   "metadata": {},
   "source": [
    "### 2.2 Como os preços da Gasolina Comum e do Etanol em São Paulo variaram em 2018?"
   ]
  },
  {
   "cell_type": "code",
   "execution_count": null,
   "id": "heated-trick",
   "metadata": {},
   "outputs": [],
   "source": []
  },
  {
   "cell_type": "markdown",
   "id": "cleared-rogers",
   "metadata": {},
   "source": [
    "#### Computando as estatísticas descritivas"
   ]
  },
  {
   "cell_type": "code",
   "execution_count": null,
   "id": "equal-broadcasting",
   "metadata": {},
   "outputs": [],
   "source": []
  },
  {
   "cell_type": "markdown",
   "id": "lasting-grocery",
   "metadata": {},
   "source": [
    "#### Gráfico de Barras"
   ]
  },
  {
   "cell_type": "code",
   "execution_count": null,
   "id": "australian-arbor",
   "metadata": {},
   "outputs": [],
   "source": []
  },
  {
   "cell_type": "markdown",
   "id": "fossil-qualification",
   "metadata": {},
   "source": [
    "#### Histogramas"
   ]
  },
  {
   "cell_type": "code",
   "execution_count": null,
   "id": "viral-athletics",
   "metadata": {},
   "outputs": [],
   "source": []
  },
  {
   "cell_type": "markdown",
   "id": "shared-ranking",
   "metadata": {},
   "source": [
    "#### BoxPlot"
   ]
  },
  {
   "cell_type": "code",
   "execution_count": null,
   "id": "unsigned-portal",
   "metadata": {},
   "outputs": [],
   "source": []
  },
  {
   "cell_type": "markdown",
   "id": "handy-genesis",
   "metadata": {},
   "source": [
    "#### Violin Plot"
   ]
  },
  {
   "cell_type": "code",
   "execution_count": null,
   "id": "shaped-agenda",
   "metadata": {},
   "outputs": [],
   "source": []
  },
  {
   "cell_type": "markdown",
   "id": "brilliant-azerbaijan",
   "metadata": {},
   "source": [
    "### 2.3 Como os preços da Gasolina Comum e Etanol variaram no estado de SP ao longo dos anos?"
   ]
  },
  {
   "cell_type": "code",
   "execution_count": null,
   "id": "advance-evans",
   "metadata": {},
   "outputs": [],
   "source": []
  },
  {
   "cell_type": "markdown",
   "id": "occasional-black",
   "metadata": {},
   "source": [
    "#### Lineplot"
   ]
  },
  {
   "cell_type": "code",
   "execution_count": null,
   "id": "honey-proceeding",
   "metadata": {},
   "outputs": [],
   "source": []
  },
  {
   "cell_type": "markdown",
   "id": "viral-fitting",
   "metadata": {},
   "source": [
    "#### Boxplots"
   ]
  },
  {
   "cell_type": "code",
   "execution_count": null,
   "id": "neural-habitat",
   "metadata": {},
   "outputs": [],
   "source": []
  },
  {
   "cell_type": "markdown",
   "id": "bronze-chicken",
   "metadata": {},
   "source": [
    "#### Violin Plot"
   ]
  },
  {
   "cell_type": "code",
   "execution_count": null,
   "id": "specialized-testament",
   "metadata": {},
   "outputs": [],
   "source": []
  },
  {
   "cell_type": "markdown",
   "id": "authorized-welsh",
   "metadata": {},
   "source": [
    "### 2.4 Há correlação entre os os preços da Gasolina Comum e do Etanol do estado de São Paulo de 2018?"
   ]
  },
  {
   "cell_type": "code",
   "execution_count": null,
   "id": "institutional-elite",
   "metadata": {},
   "outputs": [],
   "source": []
  },
  {
   "cell_type": "markdown",
   "id": "supreme-conservative",
   "metadata": {},
   "source": [
    "### 2.5 Como os preços da Gasolina Comum e Etanol variaram no estado de SP ao longo dos anos e meses?"
   ]
  },
  {
   "cell_type": "code",
   "execution_count": null,
   "id": "worldwide-official",
   "metadata": {},
   "outputs": [],
   "source": []
  },
  {
   "cell_type": "markdown",
   "id": "married-taste",
   "metadata": {},
   "source": [
    "#### Correlação entre os Preços da Gasolina e Etanol no Estado de SP"
   ]
  },
  {
   "cell_type": "code",
   "execution_count": null,
   "id": "rational-belize",
   "metadata": {},
   "outputs": [],
   "source": []
  },
  {
   "cell_type": "markdown",
   "id": "comparative-abuse",
   "metadata": {},
   "source": [
    "### 2.6 Preços dos Combustíveis por Região ao longo dos anos e meses?"
   ]
  },
  {
   "cell_type": "markdown",
   "id": "charitable-adjustment",
   "metadata": {},
   "source": [
    "#### UMA ALTERNATIVA"
   ]
  },
  {
   "cell_type": "code",
   "execution_count": null,
   "id": "grateful-insured",
   "metadata": {},
   "outputs": [],
   "source": []
  },
  {
   "cell_type": "markdown",
   "id": "wanted-litigation",
   "metadata": {},
   "source": [
    "No geral, a região **Norte** é a que apresenta os maiores preços de combustíveis do país."
   ]
  },
  {
   "cell_type": "markdown",
   "id": "smaller-gauge",
   "metadata": {},
   "source": [
    "#### OUTRA ALTERNATIVA"
   ]
  },
  {
   "cell_type": "code",
   "execution_count": null,
   "id": "fiscal-german",
   "metadata": {},
   "outputs": [],
   "source": []
  },
  {
   "cell_type": "markdown",
   "id": "basic-likelihood",
   "metadata": {},
   "source": [
    "Como o preço do GLP é muito discrepante do preço dos outros combustíveis, nossa análise fica totalmente prejudicada. <br/>\n",
    "Podemos ignorar o GLP neste momento e comparar os preços entre os outros combustíveis."
   ]
  },
  {
   "cell_type": "code",
   "execution_count": null,
   "id": "signed-calibration",
   "metadata": {},
   "outputs": [],
   "source": []
  },
  {
   "cell_type": "markdown",
   "id": "saved-crown",
   "metadata": {},
   "source": [
    "### 2.7 Comportamento dos Preços dos Combustíveis dos Estados do Norte?"
   ]
  },
  {
   "cell_type": "code",
   "execution_count": null,
   "id": "painful-reporter",
   "metadata": {},
   "outputs": [],
   "source": []
  },
  {
   "cell_type": "code",
   "execution_count": null,
   "id": "religious-gender",
   "metadata": {},
   "outputs": [],
   "source": []
  },
  {
   "cell_type": "code",
   "execution_count": null,
   "id": "political-indianapolis",
   "metadata": {},
   "outputs": [],
   "source": []
  },
  {
   "cell_type": "markdown",
   "id": "sustained-skating",
   "metadata": {},
   "source": [
    "Na média, o estado do **ACRE** apresentou **os preços mais caros** para a _Gasolina Comum_ e _Etanol_ considerando os anos de 2004 a 2018"
   ]
  },
  {
   "cell_type": "markdown",
   "id": "dutch-strengthening",
   "metadata": {},
   "source": [
    "##### **ANALISANDO OS PREÇOS ANO A ANO**"
   ]
  },
  {
   "cell_type": "code",
   "execution_count": null,
   "id": "collectible-oxide",
   "metadata": {},
   "outputs": [],
   "source": []
  },
  {
   "cell_type": "markdown",
   "id": "clinical-ultimate",
   "metadata": {},
   "source": [
    "### 2.8 Há correlação entre os Preços de Distribuição e o Preço de Revenda dos combustíveis?"
   ]
  },
  {
   "cell_type": "code",
   "execution_count": null,
   "id": "complicated-click",
   "metadata": {},
   "outputs": [],
   "source": []
  },
  {
   "cell_type": "code",
   "execution_count": null,
   "id": "abroad-hazard",
   "metadata": {},
   "outputs": [],
   "source": []
  }
 ],
 "metadata": {
  "kernelspec": {
   "display_name": "Python 3",
   "language": "python",
   "name": "python3"
  },
  "language_info": {
   "codemirror_mode": {
    "name": "ipython",
    "version": 3
   },
   "file_extension": ".py",
   "mimetype": "text/x-python",
   "name": "python",
   "nbconvert_exporter": "python",
   "pygments_lexer": "ipython3",
   "version": "3.8.8"
  }
 },
 "nbformat": 4,
 "nbformat_minor": 5
}
