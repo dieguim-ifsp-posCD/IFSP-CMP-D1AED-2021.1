{
 "cells": [
  {
   "cell_type": "markdown",
   "id": "external-eleven",
   "metadata": {},
   "source": [
    "**D1DAE: Análise Estatística para Ciência de Dados (2021.1)** <br/>\n",
    "IFSP Campinas\n",
    "\n",
    "Profs: Ricardo Sovat, Samuel Martins <br/><br/>\n",
    "\n",
    "<a rel=\"license\" href=\"http://creativecommons.org/licenses/by-nc-sa/4.0/\"><img alt=\"Creative Commons License\" style=\"border-width:0\" src=\"https://i.creativecommons.org/l/by-nc-sa/4.0/88x31.png\" /></a><br />This work is licensed under a <a rel=\"license\" href=\"http://creativecommons.org/licenses/by-nc-sa/4.0/\">Creative Commons Attribution-NonCommercial-ShareAlike 4.0 International License</a>."
   ]
  },
  {
   "cell_type": "code",
   "execution_count": 1,
   "id": "moving-planet",
   "metadata": {},
   "outputs": [],
   "source": [
    "# pacotes usados neste notebook\n",
    "import pandas as pd\n",
    "import seaborn as sns\n",
    "import matplotlib.pyplot as plt\n",
    "import numpy as np\n",
    "\n",
    "# estilos padrão para os plots/visualizações\n",
    "sns.set_theme(style=\"whitegrid\")\n",
    "plt.rcParams['figure.figsize'] = (10, 6)\n",
    "plt.rcParams['axes.labelsize'] = 14\n",
    "plt.rcParams['xtick.labelsize'] = 14\n",
    "plt.rcParams['xtick.labelsize'] = 14\n",
    "plt.rcParams['ytick.labelsize'] = 14"
   ]
  },
  {
   "cell_type": "markdown",
   "id": "answering-estate",
   "metadata": {},
   "source": [
    "<h1>Especificação</h1><hr/>"
   ]
  },
  {
   "cell_type": "markdown",
   "id": "accessible-draft",
   "metadata": {},
   "source": [
    "Note notebook, realizaremos uma **Análise Exploratória de Dados** em um conjunto de dados sobre aplicativos da Google Play Store. <br/>\n",
    "Nosso objetivo é responder alguns perguntas e hipóteses sobre o dataset. Para isso, analisaremos as variáveis do dataset em diferentes cenários, utilizando um ferramental que envolve a manipulação de dados, estatísticas descritivas e visualizações. <br/>\n",
    "Focaremos mais nas estratégias de como responder às perguntas do que necessariamente no código para checar nisso. Deixamos a cargo de vocês o entendimento do ferramental. <br/>\n",
    "\n",
    "Outro detalhe é que a apresentação das respostas neste notebook é _crua_. Você deveria escolher quais gráficos ou elementos é mais interessante para cada caso e, então, contar uma história: _Storytelling with Data_. \n",
    "\n",
    "Como suporte para visualização:\n",
    "- https://datavizcatalogue.com/\n",
    "- https://www.python-graph-gallery.com/"
   ]
  },
  {
   "cell_type": "markdown",
   "id": "pressed-wilson",
   "metadata": {},
   "source": [
    "<h1>1. Dataset</h1>\n",
    "<hr/>"
   ]
  },
  {
   "cell_type": "markdown",
   "id": "surrounded-powell",
   "metadata": {},
   "source": [
    "**Dataset**: Google Play Store Apps: https://www.kaggle.com/lava18/google-play-store-apps <br/>\n",
    "\n",
    "Este dataset contém dados sobre aplicativos da Google Play Store (2010 até agosto de 2018). <br/>\n",
    "Cada *observação (registro/linha)* consiste de informações de um app, tais como categoria, avaliação, tamanho, entre outros. <br/>\n",
    "Cada app possui uma avaliação (coluna 'Rating') que consiste da nota média de um conjunto de avaliações (coluna 'Reviews')."
   ]
  },
  {
   "cell_type": "markdown",
   "id": "minimal-ontario",
   "metadata": {},
   "source": [
    "## 1.1 Importando o Dataset"
   ]
  },
  {
   "cell_type": "code",
   "execution_count": null,
   "id": "korean-metro",
   "metadata": {},
   "outputs": [],
   "source": []
  },
  {
   "cell_type": "markdown",
   "id": "intimate-victory",
   "metadata": {},
   "source": [
    "## 1.2 Informações básicas"
   ]
  },
  {
   "cell_type": "code",
   "execution_count": null,
   "id": "architectural-breeding",
   "metadata": {},
   "outputs": [],
   "source": []
  },
  {
   "cell_type": "markdown",
   "id": "formal-peninsula",
   "metadata": {},
   "source": [
    "<br/>\n",
    "\n",
    "O dataset pré-processado possui **8194** registros/observações/linhas e **13** atributos/variáveis/colunas.\n",
    "Nenhum atributo possui valores NaN."
   ]
  },
  {
   "cell_type": "markdown",
   "id": "attempted-tutorial",
   "metadata": {},
   "source": [
    "<h1>2. Análise Exploratória de Dados</h1>\n",
    "<hr/>"
   ]
  },
  {
   "cell_type": "markdown",
   "id": "stuffed-powder",
   "metadata": {},
   "source": [
    "### **Estatísticas descritivas básicas**"
   ]
  },
  {
   "cell_type": "code",
   "execution_count": null,
   "id": "reserved-channel",
   "metadata": {},
   "outputs": [],
   "source": []
  },
  {
   "cell_type": "markdown",
   "id": "independent-cross",
   "metadata": {},
   "source": [
    "## 2.1 Quais são os 10 Apps mais baixados?"
   ]
  },
  {
   "cell_type": "code",
   "execution_count": null,
   "id": "adjustable-footage",
   "metadata": {},
   "outputs": [],
   "source": []
  },
  {
   "cell_type": "markdown",
   "id": "amateur-reality",
   "metadata": {},
   "source": [
    "## 2.2 Qual a quantidade de aplicativos por categoria?"
   ]
  },
  {
   "cell_type": "code",
   "execution_count": null,
   "id": "noble-october",
   "metadata": {},
   "outputs": [],
   "source": []
  },
  {
   "cell_type": "code",
   "execution_count": null,
   "id": "interracial-terrain",
   "metadata": {},
   "outputs": [],
   "source": []
  },
  {
   "cell_type": "markdown",
   "id": "caring-package",
   "metadata": {},
   "source": [
    "A distribuição das barras não está **ordenada**. Para ordená-las:"
   ]
  },
  {
   "cell_type": "code",
   "execution_count": null,
   "id": "weighted-buffalo",
   "metadata": {},
   "outputs": [],
   "source": []
  },
  {
   "cell_type": "markdown",
   "id": "respiratory-magnitude",
   "metadata": {},
   "source": [
    "As cores ilustradas no plot _não tem quaisquer significado_ (nenhuma variável foi codificado usando cor)."
   ]
  },
  {
   "cell_type": "markdown",
   "id": "occupied-tobacco",
   "metadata": {},
   "source": [
    "## 2.3 Como se comportam as avaliações dos aplicativos? (tendências centrais, distribuição, etc)"
   ]
  },
  {
   "cell_type": "code",
   "execution_count": null,
   "id": "graphic-proxy",
   "metadata": {},
   "outputs": [],
   "source": []
  },
  {
   "cell_type": "code",
   "execution_count": null,
   "id": "delayed-dominant",
   "metadata": {},
   "outputs": [],
   "source": []
  },
  {
   "cell_type": "code",
   "execution_count": null,
   "id": "impressed-receiver",
   "metadata": {},
   "outputs": [],
   "source": []
  },
  {
   "cell_type": "markdown",
   "id": "august-blame",
   "metadata": {},
   "source": [
    "Note que a **média** e a **mediana** não estão muito longe e que o **desvio padrão** não é tão alto. Tudo isso indica (em números) que a dispersão de notas/avaliações dos aplitativos não é tão grande."
   ]
  },
  {
   "cell_type": "markdown",
   "id": "square-debate",
   "metadata": {},
   "source": [
    "### HISTOGRAMA"
   ]
  },
  {
   "cell_type": "code",
   "execution_count": null,
   "id": "local-roommate",
   "metadata": {},
   "outputs": [],
   "source": []
  },
  {
   "cell_type": "markdown",
   "id": "hidden-integration",
   "metadata": {},
   "source": [
    "A **distribuição das avaliações** tem semelhanças com um _distribuição normal_ enviesada para à esquerda (skewed left distribution). <br/>\n",
    "\n",
    "Apenas olhando este gráfico podemos notar que a grande maioria das avaliações estão no intervalo entre 4.0 e 5.0."
   ]
  },
  {
   "cell_type": "markdown",
   "id": "assisted-gabriel",
   "metadata": {},
   "source": [
    "### BOXPLOT"
   ]
  },
  {
   "cell_type": "code",
   "execution_count": null,
   "id": "green-functionality",
   "metadata": {},
   "outputs": [],
   "source": []
  },
  {
   "cell_type": "code",
   "execution_count": null,
   "id": "incorporate-stake",
   "metadata": {},
   "outputs": [],
   "source": []
  },
  {
   "cell_type": "markdown",
   "id": "genuine-money",
   "metadata": {},
   "source": [
    "Pelo boxplot, é possível enxergar que 50% dos dados estão entre as avaliações 4.0 (Q1) e 4.5 (Q3), confirmando os resultados vindos do método `.describe()`.\n",
    "\n",
    "Por outro lado, ele interpretou que os aplicativos com avaliações _menores do que 3.25_ são ***outliers*** da distribuição. <br/>\n",
    "Entretanto, é comum termos aplicativos mal avaliados (na média). Assim sendo, a inclusão destes aplicativos na análise é relevante."
   ]
  },
  {
   "cell_type": "code",
   "execution_count": null,
   "id": "adjustable-roberts",
   "metadata": {},
   "outputs": [],
   "source": []
  },
  {
   "cell_type": "code",
   "execution_count": null,
   "id": "pursuant-nurse",
   "metadata": {},
   "outputs": [],
   "source": []
  },
  {
   "cell_type": "markdown",
   "id": "engaged-promotion",
   "metadata": {},
   "source": [
    "<br/>\n",
    "\n",
    "O boxplot do seaborn identifica outliers usando o método de detecção via IQR. Para tanto, ele considera como **outlier** qualquer valor fora do intervalo **\\[Q1 - 1.5\\*IQR, Q3 + 1.5\\*IQR\\]**. Podemos controlar o fator **1.5** alterando o parâmetro `whis`. <br/>\n",
    "\n",
    "Se quisermos, por exemplo, que o boxplot não tenha _outliers_, basta passar um valor alto para o `whis`."
   ]
  },
  {
   "cell_type": "code",
   "execution_count": null,
   "id": "immediate-wells",
   "metadata": {},
   "outputs": [],
   "source": []
  },
  {
   "cell_type": "markdown",
   "id": "weighted-aggregate",
   "metadata": {},
   "source": [
    "### VIOLIN PLOT"
   ]
  },
  {
   "cell_type": "code",
   "execution_count": null,
   "id": "wireless-pierce",
   "metadata": {},
   "outputs": [],
   "source": []
  },
  {
   "cell_type": "markdown",
   "id": "legislative-chest",
   "metadata": {},
   "source": [
    "O _violin plot_ nos dá uma noção mais precisa de como os dados estão distribuídos, principalmente, entre os quartis."
   ]
  },
  {
   "cell_type": "markdown",
   "id": "reverse-chester",
   "metadata": {},
   "source": [
    "## 2.4 Qual categoria é a melhor avaliada?"
   ]
  },
  {
   "cell_type": "code",
   "execution_count": null,
   "id": "thousand-forge",
   "metadata": {},
   "outputs": [],
   "source": []
  },
  {
   "cell_type": "markdown",
   "id": "played-wedding",
   "metadata": {},
   "source": [
    "Ao computar a _média das avaliações por categoria_ e ordenar pela maior média, constatamos que a categoria \"EVENTS\" possui a maior média. <br/>\n",
    "Mas, **não** é possível afirmar que essa é a _categoria melhor avaliada **apenas olhando para estes resultados**_, pois **o tamanho de cada amostra/grupo** (i.e., a quantidade de aplicativos por categoria) é diferente. Além disso, o **desvio padrão** também muda de categoria para categoria.<br/>\n",
    "\n",
    "P. ex., a categoria \"EVENTS\" possui 45 apps, enquanto \"BOOKS_AND_REFERENCE\" possui 169.\n",
    "\n",
    "Precisaríamos rodar algum **teste estatístico específico**, p. ex., para ter essa certeza. <br/>"
   ]
  },
  {
   "cell_type": "markdown",
   "id": "tender-adams",
   "metadata": {},
   "source": [
    "Outra meneira (mais simples), é garantir **a mesma quantidade de observações para cada grupo** (mesmo tamanho de amostra). <br/>\n",
    "Para isso, assumiríamos o tamanho do menor grupo, suponha N, e, para cada grupo restante, selecionaríamos _aleatoriamente_ N observações. <br/>\n",
    "Mas, e se, **ao acaso**, selecionamos apenas observações com uma dada característica que não, necessariamente, representasse bem nossa distribuição original? <br/>\n",
    "Uma alternativa, é realizar essa seleção múltiplas vezes. Mas este é um assunto para depois.\n",
    "\n",
    "Algumas discussões interessantes sobre o assunto: <br/>\n",
    "- https://www.researchgate.net/post/Is_there_any_way_to_compare_two_datasets_with_drastically_different_sample_sizes#:~:text=Most%20recent%20answer&text=One%20way%20to%20compare%20the,the%20single%204%20sample%20set.\n",
    "- https://stackoverflow.com/a/63099989\n",
    "- https://www.statisticshowto.com/unequal-sample-sizes/\n",
    "- https://www.graphpad.com/support/faq/how-to-compare-two-means-when-the-groups-have-different-standard-deviations/\n"
   ]
  },
  {
   "cell_type": "markdown",
   "id": "later-momentum",
   "metadata": {},
   "source": [
    "Por ora, vamos simplificar e assumir que apenas analisar esses resultados é suficiente para decidimos quais são as categorias melhores avaliadas."
   ]
  },
  {
   "cell_type": "code",
   "execution_count": null,
   "id": "ecological-andorra",
   "metadata": {},
   "outputs": [],
   "source": []
  },
  {
   "cell_type": "code",
   "execution_count": null,
   "id": "generous-lawsuit",
   "metadata": {},
   "outputs": [],
   "source": []
  },
  {
   "cell_type": "code",
   "execution_count": null,
   "id": "opened-dubai",
   "metadata": {},
   "outputs": [],
   "source": []
  },
  {
   "cell_type": "code",
   "execution_count": null,
   "id": "sustainable-sierra",
   "metadata": {},
   "outputs": [],
   "source": []
  },
  {
   "cell_type": "markdown",
   "id": "above-lease",
   "metadata": {},
   "source": [
    "## 2.5 Como as avaliações se distribuem em cada categoria?\n",
    "_Variável Numérica_ x _Variável Categórica_."
   ]
  },
  {
   "cell_type": "code",
   "execution_count": null,
   "id": "breeding-flour",
   "metadata": {},
   "outputs": [],
   "source": []
  },
  {
   "cell_type": "code",
   "execution_count": null,
   "id": "distinguished-universe",
   "metadata": {},
   "outputs": [],
   "source": []
  },
  {
   "cell_type": "code",
   "execution_count": null,
   "id": "hungarian-night",
   "metadata": {},
   "outputs": [],
   "source": []
  },
  {
   "cell_type": "markdown",
   "id": "french-wisdom",
   "metadata": {},
   "source": [
    "Para obter uma análise visual mais interessante, podemos ordenar os boxplots (ou violion plots) de acordo com algum critério. <br/>\n",
    "Por exemplo, podemos ordená-los pela mediana de cada categoria a fim de analisar, p. ex., como estão distribuídos a metade dos apps mais bem avaliados de cada categoria."
   ]
  },
  {
   "cell_type": "code",
   "execution_count": null,
   "id": "searching-europe",
   "metadata": {},
   "outputs": [],
   "source": []
  },
  {
   "cell_type": "code",
   "execution_count": null,
   "id": "accomplished-warning",
   "metadata": {},
   "outputs": [],
   "source": []
  },
  {
   "cell_type": "markdown",
   "id": "internal-concert",
   "metadata": {},
   "source": [
    "Ao analisar os boxplots, vemos que, por que as categorias *BOOKS_AND_REFERENCE* e *HEALTH_AND_FITNESS* possuam uma quantidade considerável de apps muito bem avaliados --- ~50% de seus apps possuem avaliação >- 4.5 --- a **dispersão** de suas avaliações é **muito alta**. <br/>\n",
    "\n",
    "Vamos olhar o mesmo gráfico mas agora com as categorias organizadas pela **média**."
   ]
  },
  {
   "cell_type": "code",
   "execution_count": null,
   "id": "maritime-ambassador",
   "metadata": {},
   "outputs": [],
   "source": []
  },
  {
   "cell_type": "markdown",
   "id": "unavailable-burton",
   "metadata": {},
   "source": [
    "## 2.6 Qual a média e distribuição de downloads/instalações dos apps em geral?"
   ]
  },
  {
   "cell_type": "markdown",
   "id": "automated-cream",
   "metadata": {},
   "source": [
    "### **CONSIDERANDO OS APPS MAIS POPULATES (_\"OUTLIERS\"_)**\n",
    "Mais popular ==> mais instalado"
   ]
  },
  {
   "cell_type": "code",
   "execution_count": null,
   "id": "light-divorce",
   "metadata": {},
   "outputs": [],
   "source": []
  },
  {
   "cell_type": "code",
   "execution_count": null,
   "id": "intimate-proposal",
   "metadata": {},
   "outputs": [],
   "source": []
  },
  {
   "cell_type": "markdown",
   "id": "infectious-superior",
   "metadata": {},
   "source": [
    "Note como o **desvio padrão** é altíssimo, o indica que a _distribuição de instalações é bem espalhada_."
   ]
  },
  {
   "cell_type": "code",
   "execution_count": null,
   "id": "faced-michigan",
   "metadata": {},
   "outputs": [],
   "source": []
  },
  {
   "cell_type": "markdown",
   "id": "excessive-polyester",
   "metadata": {},
   "source": [
    "Comparado com a distribuição total de instalações, temos _uma pequena quantidade de apps_ que possuem uma **quantidade muito alta** de instalações ==> _outliers_. <br/>"
   ]
  },
  {
   "cell_type": "code",
   "execution_count": null,
   "id": "assumed-jurisdiction",
   "metadata": {},
   "outputs": [],
   "source": []
  },
  {
   "cell_type": "markdown",
   "id": "severe-dividend",
   "metadata": {},
   "source": [
    "De fato, os outliers são aplicativos extremamente populares e baixados."
   ]
  },
  {
   "cell_type": "markdown",
   "id": "opening-lightning",
   "metadata": {},
   "source": [
    "Podemos então fazer alguns tipos de análise frente a esta situação:\n",
    "- Analisamos como os outliers (apps mais instalados) se comportam\n",
    "- Analisamos os apps menos instalados (desconsideramos os outliers)"
   ]
  },
  {
   "cell_type": "markdown",
   "id": "active-apparel",
   "metadata": {},
   "source": [
    "Para descobrir os outliers, poderíamos analisar o _boxplot_ e simplesmente \"chutar\" qual é o intervalo de valores que os outliers se encontram. <br/>\n",
    "Porém, uma forma mais interessante é utilizar, inicialmente, o **método de detecçao de outliers pelo IQR**, que é justamente o método utilizado pelo boxplot acima."
   ]
  },
  {
   "cell_type": "code",
   "execution_count": null,
   "id": "noted-publication",
   "metadata": {},
   "outputs": [],
   "source": []
  },
  {
   "cell_type": "markdown",
   "id": "complete-conversion",
   "metadata": {},
   "source": [
    "Como o número mínimo de instalações é 0, nosso **intervalo sem outliers real** é **[0, 2485000]**. <br/>\n",
    "Assim, os apps mais populares, com mais de 2485000 instalações, são considerados _outliers_."
   ]
  },
  {
   "cell_type": "code",
   "execution_count": null,
   "id": "bound-graduation",
   "metadata": {},
   "outputs": [],
   "source": []
  },
  {
   "cell_type": "markdown",
   "id": "permanent-sussex",
   "metadata": {},
   "source": [
    "### **Analisando os apps mais populares**"
   ]
  },
  {
   "cell_type": "code",
   "execution_count": null,
   "id": "photographic-eleven",
   "metadata": {},
   "outputs": [],
   "source": []
  },
  {
   "cell_type": "code",
   "execution_count": null,
   "id": "auburn-differential",
   "metadata": {},
   "outputs": [],
   "source": []
  },
  {
   "cell_type": "markdown",
   "id": "nuclear-collection",
   "metadata": {},
   "source": [
    "O **desvio padrão** dos _apps mais populares_ continua bem alto, o que indica uma **alta dispersão** do número de instalações. <br/>\n",
    "Além disso, note que a **média** e **mediana** do número de instalações é _muito diferente_."
   ]
  },
  {
   "cell_type": "code",
   "execution_count": null,
   "id": "approved-vertical",
   "metadata": {},
   "outputs": [],
   "source": []
  },
  {
   "cell_type": "markdown",
   "id": "employed-contents",
   "metadata": {},
   "source": [
    "Note que, mesmo entre os aplicativos mais populares -- aqueles que possuem **número de instalações maior que 2485000** -- há alguns que estrapolam (**_outliers_**). <br/>\n",
    "Pelo boxplot, é possível chutar que qualquer app com mais do que 50M (0.05e9) são de fato **_outliers_**. <br/>\n",
    "\n",
    "Vamos analisar o **histograma** dos apps mais populares."
   ]
  },
  {
   "cell_type": "code",
   "execution_count": null,
   "id": "crucial-determination",
   "metadata": {},
   "outputs": [],
   "source": []
  },
  {
   "cell_type": "markdown",
   "id": "regular-whale",
   "metadata": {},
   "source": [
    "De fato, vemos que a maior parte dos apps mais populares possuem número de instalações inferior a 50M (0.05e9). <br/>\n",
    "\n",
    "Poderíamos estabelecer um novo intervalo de instalações para detectar outliers (apps mais populares). O novo intervalo seria **[0, 50000000]**, ao invés de [0, 2485000]. <br/>\n",
    "Consequentemente, diminuiríamos o número de apps considerados outliers e aumentaríamos a quantidade dos apps \"normais\" (menos populares). <br/>\n",
    "\n",
    "O problema é que, provavelmente, estes _apps removidos dos outliers_ serão **outliers** na amostra de apps \"normais\". <br/>\n",
    "Analisemos o boxplot deste conjunto:"
   ]
  },
  {
   "cell_type": "code",
   "execution_count": null,
   "id": "unknown-tutorial",
   "metadata": {},
   "outputs": [],
   "source": []
  },
  {
   "cell_type": "markdown",
   "id": "seeing-indonesia",
   "metadata": {},
   "source": [
    "Note que os **novos _outliers_** mostrados dentro do conjunto de _apps \"normais\" (menos populares)_. <br/>"
   ]
  },
  {
   "cell_type": "markdown",
   "id": "municipal-terminal",
   "metadata": {},
   "source": [
    "Dado este dilema, vamos adotar a seguinte estratégia: <br/>\n",
    "Como o conjunto de apps mais populares (outliers iniciais) continuam com **alta disperção** no _número de instalações_, independente se removermos seus apps com menos de 50M instalações, manteremos o conjunto originalmente obtidos como está. <br/>\n",
    "Isso porque, neste momento, estamos instereçados _apenas_ na análise de uma **única variável: _Installs_**. <br/>\n",
    "Desta forma, mantemos um conjunto de apps de fato _sem outliers_ (apps menos populares) para uma análise menos \"ruidosa\".\n",
    "\n",
    "Uma estratégia mais interessante ao querer confrontar/analisar **o número de instalações** com outra variável é agrupar os apps, de acordo com suas quantidades de downloads, em uma **nova variável categórica**. <br/>\n",
    "Isso tende _a facilitar nossa análise_, p. ex., isolando grupos de apps com números exorbitantes de instalação. <br/>\n",
    "Veremos isso jajá!"
   ]
  },
  {
   "cell_type": "markdown",
   "id": "proprietary-granny",
   "metadata": {},
   "source": [
    "### **Analisando a quantidade de instalação dos apps menos populares (menos instalados)**"
   ]
  },
  {
   "cell_type": "code",
   "execution_count": null,
   "id": "economic-assault",
   "metadata": {},
   "outputs": [],
   "source": []
  },
  {
   "cell_type": "code",
   "execution_count": null,
   "id": "equal-thousand",
   "metadata": {},
   "outputs": [],
   "source": []
  },
  {
   "cell_type": "code",
   "execution_count": null,
   "id": "organized-portfolio",
   "metadata": {},
   "outputs": [],
   "source": []
  },
  {
   "cell_type": "code",
   "execution_count": null,
   "id": "supported-prefix",
   "metadata": {},
   "outputs": [],
   "source": []
  },
  {
   "cell_type": "markdown",
   "id": "vanilla-stone",
   "metadata": {},
   "source": [
    "O **desvio padrão** das instalações ainda continua alto, mas bem menor do que para os _apps mais instalados_. <br/>\n",
    "A diferença entre a **média** e a **mediana** das instalações é _menor_ do que para os _apps mais instalados_. <br/>\n",
    "\n",
    "Apenas analisando estas estatísticas descritivas, percebemos que tal conjunto de apps ainda alta dispersão do número de instalações, mas em um intervalo bem menor do que para _apps mais instalados_."
   ]
  },
  {
   "cell_type": "code",
   "execution_count": null,
   "id": "tracked-mouse",
   "metadata": {},
   "outputs": [],
   "source": []
  },
  {
   "cell_type": "markdown",
   "id": "whole-advisory",
   "metadata": {},
   "source": [
    "Dos apps menos populares:\n",
    "- **25% (Q1)** possuem apps com número de instalações **<= 5000** (veja a tabela de describe)\n",
    "- **50% (Q2 - mediana)** possuem apps com número de instalações **<= 50000** (veja a tabela de describe)\n",
    "- **75% (Q3)** possuem apps com número de instalações **<= 500000** (veja a tabela de describe)\n",
    "- **25%** possuem apps com número de instalações **> 500000 e <= 1M**\n",
    "\n",
    "- **25%** possuem apps com número de instalações espalhados no intervalo de **[Q1, Q2] ==> [5000, 50000]**\n",
    "- **25%** possuem apps com número de instalações espalhados no intervalo de **[Q2, Q3] ==> [50000, 500000]**\n",
    "  + **maior dispersão** dos dados do que o caso anterior"
   ]
  },
  {
   "cell_type": "code",
   "execution_count": null,
   "id": "premium-arbor",
   "metadata": {},
   "outputs": [],
   "source": []
  },
  {
   "cell_type": "markdown",
   "id": "incorporated-vegetable",
   "metadata": {},
   "source": [
    "Dos **25% de apps mais instalados**, a maioria deles possuem número de instalações perto de **1M**."
   ]
  },
  {
   "cell_type": "markdown",
   "id": "geological-privilege",
   "metadata": {},
   "source": [
    "## 2.7 Criando grupos para a quantidade de instalações \n",
    "Vamos agrupar os aplicativos de acordo com seus **números de instalações**. <br/>\n",
    "Este processo é conhecido como **segmentação**: criaremos intervalores de valores (bins) para representar cada grupo. <br/>\n",
    "Em outras palavras, segmentaremos o intervalo original, de modo que cada grupo terá um segmento (sub-intervalo).\n",
    "\n",
    "Vamos adotar as seguintes categorias/grupos para o **número de instalações**:\n",
    "- **Muito Baixo**: [0, 1k] instalações\n",
    "- **Baixo**: (1k, 10k] instalações\n",
    "- **Médio**: (10k, 100k] installações \n",
    "- **Alto**: (100k, 1M]\n",
    "- **Muito Alto**: (1M, 100M]\n",
    "- **Extremamente Alto**: (100M,)\n",
    "\n",
    "PS: esta é apenas uma sugestão de segmentação. Outras opções poderiam ser levadas em conta."
   ]
  },
  {
   "cell_type": "code",
   "execution_count": null,
   "id": "smoking-decimal",
   "metadata": {},
   "outputs": [],
   "source": []
  },
  {
   "cell_type": "code",
   "execution_count": null,
   "id": "expired-truck",
   "metadata": {},
   "outputs": [],
   "source": []
  },
  {
   "cell_type": "code",
   "execution_count": null,
   "id": "republican-dinner",
   "metadata": {},
   "outputs": [],
   "source": []
  },
  {
   "cell_type": "code",
   "execution_count": null,
   "id": "educated-sierra",
   "metadata": {},
   "outputs": [],
   "source": []
  },
  {
   "cell_type": "code",
   "execution_count": null,
   "id": "brilliant-aerospace",
   "metadata": {},
   "outputs": [],
   "source": []
  },
  {
   "cell_type": "markdown",
   "id": "bottom-saint",
   "metadata": {},
   "source": [
    "Após a segmentação/agrupamento, conseguimos notar que a maior parte dos apps possuem um número **alto** ou **muito alto** de instalações, enquanto apenas um pequeno número possui um valor **extremamente alto** de instalações. <br/>\n",
    "Mais quais são esses números?"
   ]
  },
  {
   "cell_type": "code",
   "execution_count": null,
   "id": "accurate-westminster",
   "metadata": {},
   "outputs": [],
   "source": []
  },
  {
   "cell_type": "markdown",
   "id": "metropolitan-firewall",
   "metadata": {},
   "source": [
    "### Pie plot"
   ]
  },
  {
   "cell_type": "code",
   "execution_count": null,
   "id": "vocational-poverty",
   "metadata": {},
   "outputs": [],
   "source": []
  },
  {
   "cell_type": "code",
   "execution_count": null,
   "id": "structured-sector",
   "metadata": {},
   "outputs": [],
   "source": []
  },
  {
   "cell_type": "markdown",
   "id": "wrong-facing",
   "metadata": {},
   "source": [
    "O uso do gráfico de pizza é um pouco _controverso_, uma vez que a **percepção de diferenças entre áreas** não é tão perceptível do que a **diferença entre alturas** em um gráfico de barras. <br/>\n",
    "P. ex., por este gráfico, como saber qual área é maior: _Alto_ ou _Muito Alto_??? _Médio_ ou _Baixo_? <br/>\n",
    "Desta maneira, no geral o **gráfico de pizza** é preferível.\n",
    "\n",
    "Mas, podemos tentar melhorar o gráfico de pizza adicionando os números de cada fatia:"
   ]
  },
  {
   "cell_type": "code",
   "execution_count": null,
   "id": "minor-bandwidth",
   "metadata": {},
   "outputs": [],
   "source": []
  },
  {
   "cell_type": "markdown",
   "id": "blind-horizontal",
   "metadata": {},
   "source": [
    "## 2.8 Qual é a proporção de apps Free e Paid?"
   ]
  },
  {
   "cell_type": "code",
   "execution_count": null,
   "id": "infrared-crowd",
   "metadata": {},
   "outputs": [],
   "source": []
  },
  {
   "cell_type": "code",
   "execution_count": null,
   "id": "amateur-plymouth",
   "metadata": {},
   "outputs": [],
   "source": []
  },
  {
   "cell_type": "code",
   "execution_count": null,
   "id": "expected-growth",
   "metadata": {},
   "outputs": [],
   "source": []
  },
  {
   "cell_type": "code",
   "execution_count": null,
   "id": "bulgarian-prototype",
   "metadata": {},
   "outputs": [],
   "source": []
  },
  {
   "cell_type": "code",
   "execution_count": null,
   "id": "protecting-washer",
   "metadata": {},
   "outputs": [],
   "source": []
  },
  {
   "cell_type": "markdown",
   "id": "sustainable-fifteen",
   "metadata": {},
   "source": [
    "## 2.9 Qual é avaliação média de cada tipo de aplicativo?\n",
    "Variável numérica x Variável Categórica."
   ]
  },
  {
   "cell_type": "code",
   "execution_count": null,
   "id": "patent-budget",
   "metadata": {},
   "outputs": [],
   "source": []
  },
  {
   "cell_type": "code",
   "execution_count": null,
   "id": "adaptive-pendant",
   "metadata": {},
   "outputs": [],
   "source": []
  },
  {
   "cell_type": "code",
   "execution_count": null,
   "id": "injured-glance",
   "metadata": {},
   "outputs": [],
   "source": []
  },
  {
   "cell_type": "code",
   "execution_count": null,
   "id": "fatty-swiss",
   "metadata": {},
   "outputs": [],
   "source": []
  },
  {
   "cell_type": "code",
   "execution_count": null,
   "id": "plain-theater",
   "metadata": {},
   "outputs": [],
   "source": []
  },
  {
   "cell_type": "markdown",
   "id": "indirect-consideration",
   "metadata": {},
   "source": [
    "##### RIDGE LINE"
   ]
  },
  {
   "cell_type": "code",
   "execution_count": null,
   "id": "religious-avatar",
   "metadata": {},
   "outputs": [],
   "source": []
  },
  {
   "cell_type": "markdown",
   "id": "talented-shell",
   "metadata": {},
   "source": [
    "Por mais que a **proporção** de apps gratuitos e pagos seja bem diferentes, ao analisar as estatísticas descritivas e os plots, conseguimos afirmar que a _distribuição de avaliações_ de cada tipo é aproximadamente similar, sendo os aplicativos pagos ligeiramente melhor avaliados do que os apps gratuitos."
   ]
  },
  {
   "cell_type": "markdown",
   "id": "affecting-technician",
   "metadata": {},
   "source": [
    "## 2.10 Qual é distribuição de avaliações de cada tipo de aplicativo de acordo com a quantidade de instalações?\n",
    "Comparação de 3 variáveis: uma numérica e duas categóricas."
   ]
  },
  {
   "cell_type": "code",
   "execution_count": null,
   "id": "breathing-skating",
   "metadata": {},
   "outputs": [],
   "source": []
  },
  {
   "cell_type": "markdown",
   "id": "understood-suspension",
   "metadata": {},
   "source": [
    "Alguns insights/conlusões:\n",
    "- No geral, a grande maioria dos apps gratuitos e pagos (~75%) possui avaliações próximas de 4 para cima, independente do número de instalações.\n",
    "- Não temos apps pagos que foram **extremamente baixados** (> 100M)\n",
    "- Não temos a escala de preços, mas faz sentido pensar que quanto maior o preço do app, menor o número de instalações (vejamos isso depois)\n",
    "- Apps com número de instalação 'Alta' e 'Muito Alta' possuem menor dispersão entre as avaliações, ou seja, a percepção dos usuários é parecida.\n",
    "- Apps com número _'Muito Baixo' de instalações ([0, 1k]) possuem opiniões mais diversas"
   ]
  },
  {
   "cell_type": "markdown",
   "id": "educational-azerbaijan",
   "metadata": {},
   "source": [
    "## 2.11 Qual é avaliação média de cada categoria para cada tipo de aplicativo?\n",
    "Comparação de 3 variáveis: uma numérica e duas categóricas."
   ]
  },
  {
   "cell_type": "code",
   "execution_count": null,
   "id": "dental-conspiracy",
   "metadata": {},
   "outputs": [],
   "source": []
  },
  {
   "cell_type": "code",
   "execution_count": null,
   "id": "trying-insider",
   "metadata": {},
   "outputs": [],
   "source": []
  },
  {
   "cell_type": "markdown",
   "id": "relevant-priority",
   "metadata": {},
   "source": [
    "Analisando este gráfico, podemos identificar algumas categorias cujas as **avaliações** médias **são bem discrepantes** para cada tipo:\n",
    "P. ex: 'Parenting'.\n",
    "\n",
    "Você pode querer analisar esta categoria específica para então tentar entender ou buscar insights das causas destas discrepâncias."
   ]
  },
  {
   "cell_type": "code",
   "execution_count": null,
   "id": "responsible-smoke",
   "metadata": {},
   "outputs": [],
   "source": []
  },
  {
   "cell_type": "code",
   "execution_count": null,
   "id": "palestinian-monitor",
   "metadata": {},
   "outputs": [],
   "source": []
  },
  {
   "cell_type": "code",
   "execution_count": null,
   "id": "super-islam",
   "metadata": {},
   "outputs": [],
   "source": []
  },
  {
   "cell_type": "code",
   "execution_count": null,
   "id": "mature-tournament",
   "metadata": {},
   "outputs": [],
   "source": []
  },
  {
   "cell_type": "markdown",
   "id": "corresponding-rings",
   "metadata": {},
   "source": [
    "Note que a quantidade de apps **pagos** da category 'Parenting' (2 apps - 4%) é _muito menor_ do que de apps **gratuitos** (96%). Além do problema do desbalanceamento, 2 observações é muito pouco para analisarmos. <br/>\n",
    "Dados tudo isso, **TOME CUIDADO**, pois podemos tirar conclusões precipitadas em situações como essa."
   ]
  },
  {
   "cell_type": "markdown",
   "id": "genuine-update",
   "metadata": {},
   "source": [
    "### Population Pyramid\n",
    "A Population Pyramid is a pair of back-to-back Histograms (for each sex) that displays the distribution of a population in all age groups and in both sexes. The X-axis is used to plot population numbers and the Y-axis lists all age groups"
   ]
  },
  {
   "cell_type": "code",
   "execution_count": null,
   "id": "revolutionary-implement",
   "metadata": {},
   "outputs": [],
   "source": []
  },
  {
   "cell_type": "markdown",
   "id": "advised-burden",
   "metadata": {},
   "source": [
    "_Não levando em consideração o tamanho de cada grupo neste momento_, podemos ver que a média das avaliações dos apps **gratuitos** é relativamente similar em todas as categorias. <br/>\n",
    "Já para os aplicativos pagos, a dispersão entre as avaliações médias das categorias é maior é maior."
   ]
  },
  {
   "cell_type": "markdown",
   "id": "absent-basis",
   "metadata": {},
   "source": [
    "## 2.12 Existe correlação entre os preços dos aplicativos e suas avaliações?"
   ]
  },
  {
   "cell_type": "code",
   "execution_count": null,
   "id": "laughing-federation",
   "metadata": {},
   "outputs": [],
   "source": []
  },
  {
   "cell_type": "code",
   "execution_count": null,
   "id": "excessive-unemployment",
   "metadata": {},
   "outputs": [],
   "source": []
  },
  {
   "cell_type": "code",
   "execution_count": null,
   "id": "humanitarian-formula",
   "metadata": {},
   "outputs": [],
   "source": []
  },
  {
   "cell_type": "code",
   "execution_count": null,
   "id": "nuclear-religious",
   "metadata": {},
   "outputs": [],
   "source": []
  },
  {
   "cell_type": "code",
   "execution_count": null,
   "id": "enclosed-horror",
   "metadata": {},
   "outputs": [],
   "source": []
  },
  {
   "cell_type": "code",
   "execution_count": null,
   "id": "hungarian-session",
   "metadata": {},
   "outputs": [],
   "source": []
  },
  {
   "cell_type": "code",
   "execution_count": null,
   "id": "waiting-remains",
   "metadata": {},
   "outputs": [],
   "source": []
  },
  {
   "cell_type": "code",
   "execution_count": null,
   "id": "local-religious",
   "metadata": {},
   "outputs": [],
   "source": []
  },
  {
   "cell_type": "markdown",
   "id": "express-lawyer",
   "metadata": {},
   "source": [
    "### **CORRELAÇÃO DO PREÇOS COM AS DEMAIS VARIÁVEIS NÚMERICAS PARA OS APPS PAGOS**"
   ]
  },
  {
   "cell_type": "code",
   "execution_count": null,
   "id": "welsh-boulder",
   "metadata": {},
   "outputs": [],
   "source": []
  },
  {
   "cell_type": "markdown",
   "id": "consecutive-anime",
   "metadata": {},
   "source": [
    "Analisando os **coeficientes de correlação**, vemos que não há nenhuma correlação forte entre o preço e outra variável numérica.<br/>\n",
    "Isso é interessante, pois tínhamos a impressão que _quanto mais caro o app_ **menor** o _número de instalações_. Vamos analisar esse cenário com mais cuidado na próxima pergunta."
   ]
  },
  {
   "cell_type": "code",
   "execution_count": null,
   "id": "viral-blade",
   "metadata": {},
   "outputs": [],
   "source": []
  },
  {
   "cell_type": "markdown",
   "id": "mathematical-thriller",
   "metadata": {},
   "source": [
    "Ignore os os plots de outras variáveis sem considerar o preço, por este momento.\n",
    "\n",
    "Olhando para os scatterplots com Preço (última coluna), confirmamos, visualmente, que não há correlações fortes entre o **preço** e as demais variáveis númericas. <br/>\n",
    "O que notamos é que parece haver uma _correlação (não necessariamente causalidade)_ entre as **avaliações** dos _apps pagos_ com seus **tamanhos**. <br/>"
   ]
  },
  {
   "cell_type": "code",
   "execution_count": null,
   "id": "antique-morocco",
   "metadata": {},
   "outputs": [],
   "source": []
  },
  {
   "cell_type": "code",
   "execution_count": null,
   "id": "increasing-festival",
   "metadata": {},
   "outputs": [],
   "source": []
  },
  {
   "cell_type": "markdown",
   "id": "reduced-foster",
   "metadata": {},
   "source": [
    "Mas, ao analisarmos com calma, percebemos que é foi uma percepção errada."
   ]
  },
  {
   "cell_type": "markdown",
   "id": "dependent-cause",
   "metadata": {},
   "source": [
    "## 2.13 O número de instalações está correlacionado com o preço dos apps?"
   ]
  },
  {
   "cell_type": "code",
   "execution_count": null,
   "id": "premium-permission",
   "metadata": {},
   "outputs": [],
   "source": []
  },
  {
   "cell_type": "markdown",
   "id": "rolled-product",
   "metadata": {},
   "source": [
    "Pelo coeficiente de correlação, **NÃO**."
   ]
  },
  {
   "cell_type": "code",
   "execution_count": null,
   "id": "theoretical-hardware",
   "metadata": {},
   "outputs": [],
   "source": []
  },
  {
   "cell_type": "markdown",
   "id": "adjustable-diabetes",
   "metadata": {},
   "source": [
    "Vemos que há alguns **outliers** que dificultam a visualização. Vamos removê-los \"no olho\"."
   ]
  },
  {
   "cell_type": "code",
   "execution_count": null,
   "id": "three-temperature",
   "metadata": {},
   "outputs": [],
   "source": []
  },
  {
   "cell_type": "code",
   "execution_count": null,
   "id": "lonely-beauty",
   "metadata": {},
   "outputs": [],
   "source": []
  },
  {
   "cell_type": "markdown",
   "id": "resistant-genre",
   "metadata": {},
   "source": [
    "Realmente, parece não haver correlação entre o número de instalações e os preços dos apps, pois há apps caros ($ 400.0) médio de instalações. Vejamos quem são eles (o que comem, onde moram, ...) =D"
   ]
  },
  {
   "cell_type": "code",
   "execution_count": null,
   "id": "labeled-adrian",
   "metadata": {},
   "outputs": [],
   "source": []
  },
  {
   "cell_type": "markdown",
   "id": "digital-korea",
   "metadata": {},
   "source": [
    "Os dois primeiros apps custam +- $ 400.0 e foram muito baixados. Após uma pesquisa simples no google: https://www.techtudo.com.br/artigos/noticia/2012/03/aplicativos-de-celular-que-servem-apenas-para-mostrar-o-quanto-voce-e-rico.html"
   ]
  },
  {
   "cell_type": "markdown",
   "id": "cellular-sandwich",
   "metadata": {},
   "source": [
    "### **Analisando apenas apps com preço <= $100**"
   ]
  },
  {
   "cell_type": "code",
   "execution_count": null,
   "id": "aboriginal-honolulu",
   "metadata": {},
   "outputs": [],
   "source": []
  },
  {
   "cell_type": "code",
   "execution_count": null,
   "id": "greatest-guess",
   "metadata": {},
   "outputs": [],
   "source": []
  },
  {
   "cell_type": "code",
   "execution_count": null,
   "id": "checked-client",
   "metadata": {},
   "outputs": [],
   "source": []
  },
  {
   "cell_type": "markdown",
   "id": "behavioral-eating",
   "metadata": {},
   "source": [
    "Bem, mesmo removendo \"outliers\" e analisando apena uma faixa de preço, **não há correlação** entre o **preço dos apps** e o **número de ĩnstalações** (ao menos para este problema e dataset)."
   ]
  },
  {
   "cell_type": "markdown",
   "id": "exempt-forest",
   "metadata": {},
   "source": [
    "## 2.14 Qual a correlação entre as variáveis numéricas?"
   ]
  },
  {
   "cell_type": "code",
   "execution_count": null,
   "id": "fossil-advertising",
   "metadata": {},
   "outputs": [],
   "source": []
  },
  {
   "cell_type": "markdown",
   "id": "informative-consistency",
   "metadata": {},
   "source": [
    "Apenas analisando os **coeficientes de correlação**, vemos que as únicas variáveis numéricas que apresentam alguma correlação são **Installs** (número de instalações) e **Reviews** (número de revisões), o que é meio óbvio, pensando bem =D"
   ]
  },
  {
   "cell_type": "code",
   "execution_count": null,
   "id": "binary-antibody",
   "metadata": {},
   "outputs": [],
   "source": []
  },
  {
   "cell_type": "code",
   "execution_count": null,
   "id": "sacred-setting",
   "metadata": {},
   "outputs": [],
   "source": []
  },
  {
   "cell_type": "code",
   "execution_count": null,
   "id": "amino-curve",
   "metadata": {},
   "outputs": [],
   "source": []
  },
  {
   "cell_type": "code",
   "execution_count": null,
   "id": "vietnamese-course",
   "metadata": {},
   "outputs": [],
   "source": []
  },
  {
   "cell_type": "markdown",
   "id": "italic-stereo",
   "metadata": {},
   "source": [
    "Note que a quantidade de instalações e de reviews são bem baixas para os apps pagos."
   ]
  },
  {
   "cell_type": "markdown",
   "id": "dying-resolution",
   "metadata": {},
   "source": [
    "## 2.15 Como estão distribuídas as categorias de acordo com a classificação de conteúdo?"
   ]
  },
  {
   "cell_type": "code",
   "execution_count": null,
   "id": "living-treat",
   "metadata": {},
   "outputs": [],
   "source": []
  },
  {
   "cell_type": "code",
   "execution_count": null,
   "id": "special-jason",
   "metadata": {},
   "outputs": [],
   "source": []
  },
  {
   "cell_type": "code",
   "execution_count": null,
   "id": "casual-mexican",
   "metadata": {},
   "outputs": [],
   "source": []
  },
  {
   "cell_type": "code",
   "execution_count": null,
   "id": "liberal-hydrogen",
   "metadata": {},
   "outputs": [],
   "source": []
  },
  {
   "cell_type": "code",
   "execution_count": null,
   "id": "analyzed-tower",
   "metadata": {},
   "outputs": [],
   "source": []
  },
  {
   "cell_type": "markdown",
   "id": "included-strike",
   "metadata": {},
   "source": [
    "## Continue a análise\n",
    "**Sugestões**:\n",
    "- Analisar as categorias e gêneros\n",
    "- Analisar os gêneros e tipos de apps\n",
    "- Analisar as avaliações e números de instalações por gênero\n",
    "- Relacionar a indicação de conteúdo com o número de instalações\n",
    "- Organize todos os achados e conclusões deste notebook em uma apresentação que conte uma história"
   ]
  },
  {
   "cell_type": "code",
   "execution_count": null,
   "id": "lyric-expansion",
   "metadata": {},
   "outputs": [],
   "source": []
  }
 ],
 "metadata": {
  "kernelspec": {
   "display_name": "Python 3",
   "language": "python",
   "name": "python3"
  },
  "language_info": {
   "codemirror_mode": {
    "name": "ipython",
    "version": 3
   },
   "file_extension": ".py",
   "mimetype": "text/x-python",
   "name": "python",
   "nbconvert_exporter": "python",
   "pygments_lexer": "ipython3",
   "version": "3.8.5"
  }
 },
 "nbformat": 4,
 "nbformat_minor": 5
}
