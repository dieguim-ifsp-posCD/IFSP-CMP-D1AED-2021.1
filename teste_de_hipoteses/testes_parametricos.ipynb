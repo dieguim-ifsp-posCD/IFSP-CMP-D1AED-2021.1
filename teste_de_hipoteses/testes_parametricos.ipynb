{
 "cells": [
  {
   "cell_type": "markdown",
   "metadata": {},
   "source": [
    "**D1DAE: Análise Estatística para Ciência de Dados (2021.1)** <br/>\n",
    "IFSP Campinas\n",
    "\n",
    "Profs: Ricardo Sovat, Samuel Martins <br/><br/>\n",
    "\n",
    "<a rel=\"license\" href=\"http://creativecommons.org/licenses/by-nc-sa/4.0/\"><img alt=\"Creative Commons License\" style=\"border-width:0\" src=\"https://i.creativecommons.org/l/by-nc-sa/4.0/88x31.png\" /></a><br />This work is licensed under a <a rel=\"license\" href=\"http://creativecommons.org/licenses/by-nc-sa/4.0/\">Creative Commons Attribution-NonCommercial-ShareAlike 4.0 International License</a>."
   ]
  },
  {
   "cell_type": "code",
   "execution_count": null,
   "metadata": {},
   "outputs": [],
   "source": [
    "import numpy as np"
   ]
  },
  {
   "cell_type": "markdown",
   "metadata": {},
   "source": [
    "# Testes de Hipóteses - Paramétricos"
   ]
  },
  {
   "cell_type": "markdown",
   "metadata": {},
   "source": [
    "<img src='./imgs/z-test_or_t-test.png' width=800 style='border: 1px solid gray'/>"
   ]
  },
  {
   "cell_type": "markdown",
   "metadata": {},
   "source": [
    "<img src='./imgs/resumao.png' width=800 style='border: 1px solid gray'/>"
   ]
  },
  {
   "cell_type": "markdown",
   "metadata": {},
   "source": [
    "## Problema 1: Refrigerantes\n",
    "Uma fábrica produtos **refrigerantes em latas de 350 ml**. De vez em quando, há falhas no processo de envazamento o que resulta em latas com menos ou mais refrigerante do que o prometido. <br/>\n",
    "Quando o volume médio ultrapassa os 350ml, a fábrica obtém prejuízos na produção.\n",
    "Por outro lado, quando o volume médio fica abaixo de 350 ml, a fábrica pode ter problemas com fiscalização.\n",
    "\n",
    "A fim de monitorar e garantir a qualidade de sua produção, a empresa frequentemente obtém amostras de **50 latas** para inspeção.\n",
    "O departamento de controle de qualidade realiza então um **teste de hipótese** para avaliar se o maquinário está com defeito, assumindo um <b style='color: #ed7d31'>nível de significância de 5%</b>.\n",
    "\n",
    "Ao analisar um dada amostra, a equipe de qualiidade observou um **volume médio de 352.56 ml** com **desvio padrão de 5.64 ml**.\n",
    "\n",
    "É possível <b style='color: #ea4239'>rejeitar a hipótese</b> de que o **volume médio da produção é de 350ml**?<br/>\n",
    "Ou seja, e possivel afirmar que o maquinário está com defeito? <br/><br/>"
   ]
  },
  {
   "cell_type": "code",
   "execution_count": null,
   "metadata": {},
   "outputs": [],
   "source": [
    "amostra = np.array([348.81, 358.24, 361.24, 354.95, 349.92, 346.63, 351.36, 344.48, 358.59, 354.27, 353.67, 353.97, 355.17, 344.79, 346.36, 361.34, 357.75, 343.83, 345.87, 351.77, 348.8 , 356.38, 354.78, 361.71, 352.67, 356.47, 361.12, 347.25, 343.91, 351.3 , 352.66, 354.06, 349.87, 351.58, 355.81, 357.11, 339.64, 350.73, 350.83, 354.94, 349.48, 357.81, 354.07, 344.8 , 341.21, 354.03, 366.14, 352.87, 357.03, 356.35])"
   ]
  },
  {
   "cell_type": "code",
   "execution_count": null,
   "metadata": {},
   "outputs": [],
   "source": [
    "media_populacao = 350\n",
    "media_populacao"
   ]
  },
  {
   "cell_type": "code",
   "execution_count": null,
   "metadata": {},
   "outputs": [],
   "source": [
    "n = amostra.size  # tamanho da amostra\n",
    "n"
   ]
  },
  {
   "cell_type": "code",
   "execution_count": null,
   "metadata": {},
   "outputs": [],
   "source": [
    "media_amostra = amostra.mean()\n",
    "media_amostra"
   ]
  },
  {
   "cell_type": "code",
   "execution_count": null,
   "metadata": {},
   "outputs": [],
   "source": [
    "desvio_padrao_amostra = amostra.std()\n",
    "desvio_padrao_amostra"
   ]
  },
  {
   "cell_type": "markdown",
   "metadata": {},
   "source": [
    "### ➜ Solução _manual_"
   ]
  },
  {
   "cell_type": "markdown",
   "metadata": {},
   "source": [
    "#### 1) Formular hipóteses"
   ]
  },
  {
   "cell_type": "markdown",
   "metadata": {},
   "source": [
    "<span style='font-size: 14pt'>\n",
    "$$\n",
    "H_0: \\mu = 350 \\\\\n",
    "H_a: \\mu \\neq 350\n",
    "$$\n",
    "</span>"
   ]
  },
  {
   "cell_type": "markdown",
   "metadata": {},
   "source": [
    "<img src='./imgs/teste-bicaudal.png' width=800 style='border: 1px solid gray'/>"
   ]
  },
  {
   "cell_type": "markdown",
   "metadata": {},
   "source": [
    "#### 2) Escolher o Teste e Critérios adequados"
   ]
  },
  {
   "cell_type": "markdown",
   "metadata": {},
   "source": [
    "**Teste escolhido:** Z-test com desvio padrão amostral."
   ]
  },
  {
   "cell_type": "code",
   "execution_count": null,
   "metadata": {},
   "outputs": [],
   "source": [
    "nivel_significancia = 0.05\n",
    "nivel_significancia"
   ]
  },
  {
   "cell_type": "code",
   "execution_count": null,
   "metadata": {},
   "outputs": [],
   "source": [
    "nivel_confianca = 1 - nivel_significancia\n",
    "nivel_confianca"
   ]
  },
  {
   "cell_type": "code",
   "execution_count": null,
   "metadata": {},
   "outputs": [],
   "source": [
    "# computando os valores críticos do teste\n",
    "from scipy.stats import norm\n",
    "\n",
    "# valor crítico - z_alpha/2\n",
    "z_inf = norm.ppf(nivel_significancia / 2)\n",
    "\n",
    "# valor crítico - z_(1 - alpha/2)\n",
    "z_sup = norm.ppf(1 - (nivel_significancia / 2))\n",
    "\n",
    "# note que os valores são os mesmos, apenas com sinal trocado\n",
    "print(f'z_inf = {z_inf}, z_sup = {z_sup}')"
   ]
  },
  {
   "cell_type": "markdown",
   "metadata": {},
   "source": [
    "#### 3) Executar o Teste"
   ]
  },
  {
   "cell_type": "markdown",
   "metadata": {},
   "source": [
    "##### **3.1) Computando a estatística de teste**"
   ]
  },
  {
   "cell_type": "code",
   "execution_count": null,
   "metadata": {},
   "outputs": [],
   "source": [
    "z = (media_amostra - media_populacao) / (desvio_padrao_amostra / np.sqrt(n))"
   ]
  },
  {
   "cell_type": "code",
   "execution_count": null,
   "metadata": {},
   "outputs": [],
   "source": [
    "print(f'z-statistic = {z}')"
   ]
  },
  {
   "cell_type": "markdown",
   "metadata": {},
   "source": [
    "##### **3.2) Computando o p-value**\n",
    "Não precisaríamos fazer esta etapa, uma vez que, para o Z-test, apenas a estatística de teste é suficiente para tomarmos a decisão."
   ]
  },
  {
   "cell_type": "markdown",
   "metadata": {},
   "source": [
    "<img src='./imgs/p_value_teste_bicaudal.png' width=800 style='border: 1px solid gray'/>"
   ]
  },
  {
   "cell_type": "code",
   "execution_count": null,
   "metadata": {},
   "outputs": [],
   "source": [
    "p_value = 2 * norm.cdf(-z)\n",
    "\n",
    "print(f'p_value = {p_value}')"
   ]
  },
  {
   "cell_type": "code",
   "execution_count": null,
   "metadata": {},
   "outputs": [],
   "source": [
    "# alternativamente\n",
    "p_value = 2 * (1 - norm.cdf(z))\n",
    "\n",
    "print(f'p_value = {p_value}')"
   ]
  },
  {
   "cell_type": "markdown",
   "metadata": {},
   "source": [
    "#### 4) Tomar uma decisão"
   ]
  },
  {
   "cell_type": "markdown",
   "metadata": {},
   "source": [
    "##### **4.1) Usando a estatística de teste**"
   ]
  },
  {
   "cell_type": "code",
   "execution_count": null,
   "metadata": {},
   "outputs": [],
   "source": [
    "if z <= z_inf or z >= z_sup:\n",
    "    print('Rejeitar H0')\n",
    "else:\n",
    "    print('Manter H0')"
   ]
  },
  {
   "cell_type": "markdown",
   "metadata": {},
   "source": [
    "##### **4.2) Usando o p-value**"
   ]
  },
  {
   "cell_type": "code",
   "execution_count": null,
   "metadata": {},
   "outputs": [],
   "source": [
    "if p_value <= nivel_significancia:\n",
    "    print('Rejeitar H0')\n",
    "else:\n",
    "    print('Manter H0')"
   ]
  },
  {
   "cell_type": "markdown",
   "metadata": {},
   "source": [
    "### ➜ Usando o _ztest_ do statsmodels\n",
    "https://www.statsmodels.org/dev/generated/statsmodels.stats.weightstats.ztest.html"
   ]
  },
  {
   "cell_type": "code",
   "execution_count": null,
   "metadata": {},
   "outputs": [],
   "source": [
    "from statsmodels.stats.weightstats import ztest"
   ]
  },
  {
   "cell_type": "code",
   "execution_count": null,
   "metadata": {},
   "outputs": [],
   "source": [
    "media_populacao"
   ]
  },
  {
   "cell_type": "code",
   "execution_count": null,
   "metadata": {},
   "outputs": [],
   "source": [
    "# atribuímos 0 para os graus de liberdade.\n",
    "# Caso contrário, o cômputo do desvio padrão consideraria n-1\n",
    "\n",
    "ztest(x1=amostra, value=media_populacao, alternative='two-sided', ddof=0)"
   ]
  },
  {
   "cell_type": "code",
   "execution_count": null,
   "metadata": {},
   "outputs": [],
   "source": [
    "print(f'z-statistic computado manualmente = {z}')\n",
    "print(f'p-value computado manualmente = {p_value}')"
   ]
  },
  {
   "cell_type": "markdown",
   "metadata": {},
   "source": [
    "### ➜ Usando o _DescrStatsW_ do statsmodels"
   ]
  },
  {
   "cell_type": "markdown",
   "metadata": {},
   "source": [
    "https://www.statsmodels.org/stable/generated/statsmodels.stats.weightstats.DescrStatsW.html"
   ]
  },
  {
   "cell_type": "code",
   "execution_count": null,
   "metadata": {},
   "outputs": [],
   "source": [
    "from statsmodels.stats.weightstats import DescrStatsW"
   ]
  },
  {
   "cell_type": "code",
   "execution_count": null,
   "metadata": {},
   "outputs": [],
   "source": [
    "test = DescrStatsW(amostra)"
   ]
  },
  {
   "cell_type": "code",
   "execution_count": null,
   "metadata": {},
   "outputs": [],
   "source": [
    "# considera uma correção de 1 para obter graus de liberdade = n - 1\n",
    "test.ztest_mean(value=media_populacao, alternative='two-sided')"
   ]
  }
 ],
 "metadata": {
  "colab": {
   "authorship_tag": "ABX9TyP1VVwrQU8S68bmX5lftYWC",
   "name": "Simple Linear Regression",
   "provenance": [],
   "toc_visible": true
  },
  "kernelspec": {
   "display_name": "Python 3",
   "language": "python",
   "name": "python3"
  },
  "language_info": {
   "codemirror_mode": {
    "name": "ipython",
    "version": 3
   },
   "file_extension": ".py",
   "mimetype": "text/x-python",
   "name": "python",
   "nbconvert_exporter": "python",
   "pygments_lexer": "ipython3",
   "version": "3.8.5"
  }
 },
 "nbformat": 4,
 "nbformat_minor": 4
}
